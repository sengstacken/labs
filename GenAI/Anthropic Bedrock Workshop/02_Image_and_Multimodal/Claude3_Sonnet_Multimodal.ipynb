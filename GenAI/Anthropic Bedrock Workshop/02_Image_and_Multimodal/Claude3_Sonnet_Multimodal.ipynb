{
 "cells": [
  {
   "cell_type": "markdown",
   "id": "ec56a512-a37b-48f8-8b71-a4532c90eb15",
   "metadata": {},
   "source": [
    "# Interacting with Claude 3-Sonnet with images\n",
    "\n",
    "## Context\n",
    "\n",
    "Claude 3 now includes the ability to pass an image along with text to the model. This allows you to ask questions about an image opening up a another dimension of interactivity. With Claude 3, the new Messages API body format is required. The following is an example of a multimodal in the Messages API format.\n",
    "\n",
    "Please see [Claude Vision](https://docs.anthropic.com/claude/docs/vision) for more details on Claude 3 multimodal capabilties and [Amazon Bedrock Claude Messages API](https://docs.aws.amazon.com/bedrock/latest/userguide/model-parameters-anthropic-claude-messages.html) for working with the new Messages API on Bedrock\n"
   ]
  },
  {
   "cell_type": "code",
   "execution_count": null,
   "id": "08f659d9-4e24-40af-8336-da1fd50406b3",
   "metadata": {
    "tags": []
   },
   "outputs": [],
   "source": [
    "!pip3 install -qU boto3"
   ]
  },
  {
   "cell_type": "code",
   "execution_count": null,
   "id": "6e54ef3a-7414-40e8-9bbf-d16c0ac36305",
   "metadata": {
    "scrolled": true,
    "tags": []
   },
   "outputs": [],
   "source": [
    "{\n",
    "  \"modelId\": \"anthropic.claude-3-sonnet-20240229-v1:0\",\n",
    "  \"contentType\": \"application/json\",\n",
    "  \"accept\": \"application/json\",\n",
    "  \"body\": {\n",
    "    \"anthropic_version\": \"bedrock-2023-05-31\",\n",
    "    \"max_tokens\": 1000,\n",
    "    \"messages\": {\n",
    "      \"role\": \"user\",\n",
    "      \"content\": [\n",
    "        {\n",
    "          \"type\": \"image\",\n",
    "          \"source\": {\n",
    "            \"type\": \"base64\",\n",
    "            \"media_type\": \"image/jpeg\",\n",
    "            \"data\": \"iVBORw...\"\n",
    "          }\n",
    "        },\n",
    "        {\n",
    "          \"type\": \"text\",\n",
    "          \"text\": \"What's in this image?\"\n",
    "        }\n",
    "      ]\n",
    "    }\n",
    "  }\n",
    "}"
   ]
  },
  {
   "cell_type": "markdown",
   "id": "23a72dd8-25d9-440f-8521-8aeb3f714120",
   "metadata": {},
   "source": [
    "## Notebook Walkthrough\n",
    "\n",
    "In this notebook, we will provide an image to the Claude 3-Sonnet model with model identifier __\"anthropic.claude-3-sonnet-20240229-v1:0\"__ together with a text query asking about what is in the image. To do this, we will package the image and text into the __MessagesAPI__ format and utilize the __invoke_model__ function from __bedrock-runtime__ within our helper function defined below to generate a response from Claude 3."
   ]
  },
  {
   "cell_type": "markdown",
   "id": "c6792e17-8ac6-474c-86d0-5f6f18a8b418",
   "metadata": {},
   "source": [
    "## Setup\n",
    "\n",
    "### Here we install some of the required libraries needed in this notebook."
   ]
  },
  {
   "cell_type": "code",
   "execution_count": null,
   "id": "aca2b880-69a8-48d9-8365-a79bd37dca67",
   "metadata": {
    "scrolled": true,
    "tags": []
   },
   "outputs": [],
   "source": [
    "%pip install --upgrade pip\n",
    "%pip install boto3>=1.33.2 --force-reinstall --quiet\n",
    "%pip install botocore>=1.33.2 --force-reinstall --quiet\n"
   ]
  },
  {
   "cell_type": "markdown",
   "id": "7a6a6e6d-0a90-4c60-86af-68bd1f948d76",
   "metadata": {},
   "source": [
    "### Restart the kernel with the updated packages that are installed through the dependencies above"
   ]
  },
  {
   "cell_type": "code",
   "execution_count": null,
   "id": "b0042677-d6dd-4e51-ad08-8d781c8bbaeb",
   "metadata": {
    "scrolled": true,
    "tags": []
   },
   "outputs": [],
   "source": [
    "# restart kernel\n",
    "from IPython.core.display import HTML\n",
    "HTML(\"<script>Jupyter.notebook.kernel.restart()</script>\")"
   ]
  },
  {
   "cell_type": "markdown",
   "id": "e71af75c-e88f-43e8-b08b-a483c5df1e4c",
   "metadata": {},
   "source": [
    "### Follow the steps below to set up necessary packages\n",
    "1. Import the necessary libraries for creating the __bedrock-runtime__ needed to invoke foundation models, formatting our JSON bodies, and converting our images into base64 encoding"
   ]
  },
  {
   "cell_type": "code",
   "execution_count": null,
   "id": "8ac0f48c-d3e7-44d0-8894-5e67f6201c34",
   "metadata": {
    "tags": []
   },
   "outputs": [],
   "source": [
    "import boto3\n",
    "import json\n",
    "import base64\n",
    "\n",
    "bedrock_client = boto3.client('bedrock-runtime',region_name='us-east-1')\n"
   ]
  },
  {
   "cell_type": "markdown",
   "id": "84869434-1fcb-4991-82f4-bf456519904a",
   "metadata": {},
   "source": [
    "### Define helper function to pass our models, messages, and inference parameters"
   ]
  },
  {
   "cell_type": "code",
   "execution_count": null,
   "id": "3a9903d6-cd27-4cdd-9e23-19603822e944",
   "metadata": {
    "tags": []
   },
   "outputs": [],
   "source": [
    "def generate_message(bedrock_runtime, model_id, messages, max_tokens,top_p,temp):\n",
    "\n",
    "    body=json.dumps(\n",
    "        {\n",
    "            \"anthropic_version\": \"bedrock-2023-05-31\",\n",
    "            \"max_tokens\": max_tokens,\n",
    "            \"messages\": messages,\n",
    "            \"temperature\": temp,\n",
    "            \"top_p\": top_p\n",
    "        }  \n",
    "    )  \n",
    "    \n",
    "    response = bedrock_runtime.invoke_model(body=body, modelId=model_id)\n",
    "    response_body = json.loads(response.get('body').read())\n",
    "\n",
    "    return response_body"
   ]
  },
  {
   "cell_type": "markdown",
   "id": "a81fbcc5-74e8-4bb6-9f3e-2ec84fcc20bc",
   "metadata": {},
   "source": [
    "## Example use case: Extract information from an image\n",
    "\n",
    "The following image __\"calendar_screenshot.jpg\"__ will be used in the demo"
   ]
  },
  {
   "cell_type": "markdown",
   "id": "575f2456-634a-4033-8c54-1a846dd6eda9",
   "metadata": {},
   "source": [
    "![./images/calendar_screenshot.png](./images/calendar_screenshot.png)"
   ]
  },
  {
   "cell_type": "markdown",
   "id": "48fd8bc3-3e24-4c64-ae99-c94be8602aea",
   "metadata": {},
   "source": [
    "### Process the image\n",
    "\n",
    "Here we process the image into b64 encoding. The result will be used as the image component of the message given to Claude 3. For further details on processing of the images for use in an API call please see [Claude Vision](https://docs.anthropic.com/claude/docs/vision)"
   ]
  },
  {
   "cell_type": "code",
   "execution_count": null,
   "id": "5ac13612-809a-4c48-a6c3-082bf818f255",
   "metadata": {
    "tags": []
   },
   "outputs": [],
   "source": [
    "# Read reference image from file and encode as base64 strings.\n",
    "with open('./images/calendar_screenshot.png', \"rb\") as image_file:\n",
    "    content_image = base64.b64encode(image_file.read()).decode('utf8')"
   ]
  },
  {
   "cell_type": "markdown",
   "id": "8265b337-0c89-4037-a301-a6d69c45430e",
   "metadata": {},
   "source": [
    "### Create message payload that incorporates text and image input\n",
    "\n",
    "Here we create the multimodal content message for our input to Claude 3 with seperate JSON objects for the text component and the image component."
   ]
  },
  {
   "cell_type": "code",
   "execution_count": null,
   "id": "c854879f",
   "metadata": {
    "tags": []
   },
   "outputs": [],
   "source": [
    "prompt = \"\"\"\n",
    "Extract the following information from the image in JSON format. Use the provided field names and include the field descriptions as specified:\n",
    "\n",
    "- \"title\": The title of the session.\n",
    "- \"time\": The time of the event in EDT.\n",
    "- \"duration\": The duration of the session in minutes.\n",
    "- \"speakers\": A list of objects, each containing:\n",
    "  - \"name\": The name of the person.\n",
    "  - \"title\": The title or position of the person.\n",
    "  - \"organization\": The organization the person is associated with.\n",
    "  - \"role\": The role the person has for the session - Example: speaker, moderator, panelist \n",
    "\n",
    "Ensure that events without speakers are not included in the output (example - Lunch).\n",
    "\"\"\""
   ]
  },
  {
   "cell_type": "code",
   "execution_count": null,
   "id": "ef6e4813-5a02-4740-bf91-81c329d03aa3",
   "metadata": {
    "tags": []
   },
   "outputs": [],
   "source": [
    "message_mm=[\n",
    "\n",
    "    { \"role\": \"user\",\n",
    "      \"content\": [\n",
    "      {\"type\": \"image\",\"source\": { \"type\": \"base64\",\"media_type\":\"image/jpeg\",\"data\": content_image}},\n",
    "      {\"type\": \"text\",\"text\":prompt}\n",
    "      ]\n",
    "    }\n",
    "]\n"
   ]
  },
  {
   "cell_type": "markdown",
   "id": "0a8ab7b6-23ac-4b5a-9ccb-0c69cbc3e8f2",
   "metadata": {},
   "source": [
    "### Generate the response from Claude 3\n",
    "\n",
    "Finally, we can see the multimodal capabilities in action, asking Claude 3 about what is in the image. The model identifier we are using for this example is __\"anthropic.claude-3-sonnet-20240229-v1:0\"__."
   ]
  },
  {
   "cell_type": "code",
   "execution_count": null,
   "id": "342255dc-4835-475e-a4b3-c6daa2e5756b",
   "metadata": {
    "scrolled": true,
    "tags": []
   },
   "outputs": [],
   "source": [
    "response = generate_message(bedrock_client, model_id = \"anthropic.claude-3-sonnet-20240229-v1:0\",messages=message_mm,max_tokens=1024,temp=0.5,top_p=0.9)\n",
    "response"
   ]
  },
  {
   "cell_type": "code",
   "execution_count": null,
   "id": "60f05a31-88da-45a2-b7ef-a81dc95aaa36",
   "metadata": {
    "tags": []
   },
   "outputs": [],
   "source": [
    "print(response['content'][0]['text'])"
   ]
  },
  {
   "cell_type": "markdown",
   "id": "e9a83f4d-18e7-4bcf-8fcf-50d9fd2cee87",
   "metadata": {},
   "source": [
    "## Next Steps\n",
    "\n",
    "Now that we have seen how to incorporate multi-modal capabilities of Claude 3-Sonnet on Amazon Bedrock, try asking a different question about the image."
   ]
  },
  {
   "cell_type": "markdown",
   "id": "4aa752a8-0873-44b5-8e92-340118356750",
   "metadata": {},
   "source": [
    "# Function Calling"
   ]
  },
  {
   "cell_type": "code",
   "execution_count": null,
   "id": "782fe396-9621-4252-bdec-270c69ccc0a9",
   "metadata": {
    "tags": []
   },
   "outputs": [],
   "source": [
    "# Read reference image from file and encode as base64 strings.\n",
    "with open('./images/FINCIN-105.png', \"rb\") as image_file:\n",
    "    content_image = image_file.read()"
   ]
  },
  {
   "cell_type": "code",
   "execution_count": null,
   "id": "0c6cb3d8-cac6-4211-8d06-898989f91a2c",
   "metadata": {
    "tags": []
   },
   "outputs": [],
   "source": [
    "tools =[\n",
    "    {\n",
    "            \"toolSpec\": {\n",
    "                \"name\": \"extract\",\n",
    "                \"description\": \"Accurately extract the information from the form provided\",\n",
    "                \"inputSchema\": {\n",
    "                    \"json\": {\n",
    "                        \"type\": \"object\",\n",
    "                        \"properties\": {\n",
    "                            \"formType\": {\n",
    "                                \"type\": \"string\",\n",
    "                                \"description\": \"The type or name of the form.\"\n",
    "                            },\n",
    "                            \"formAgency\": {\n",
    "                                \"type\": \"string\",\n",
    "                                \"description\": \"The agency responsible for the form\"\n",
    "                            },\n",
    "                            \"formDate\": {\n",
    "                                \"type\": \"string\",\n",
    "                                \"description\": \"The date of the form in MM/YYYY format\"\n",
    "                            },\n",
    "                            \"PartI\": {\n",
    "                                \"type\": \"object\",\n",
    "                                \"properties\": {\n",
    "                                    \"nameOfPerson\": {\n",
    "                                        \"type\": \"string\",\n",
    "                                        \"description\": \"The name of the person\"\n",
    "                                    },\n",
    "                                    \"identificationNumber\": {\n",
    "                                        \"type\": \"string\",\n",
    "                                        \"description\": \"The personal identification number\"\n",
    "                                    },\n",
    "                                    \"dateOfBirth\": {\n",
    "                                        \"type\": \"string\",\n",
    "                                        \"description\": \"The date of birth of the person in MM/DD/YYYY format\"\n",
    "                                    },\n",
    "                                    \"permanentAddress\": {\n",
    "                                        \"type\": \"string\",\n",
    "                                        \"description\": \"The permanent address in the united states or abroad\"\n",
    "                                    },\n",
    "                                    \"countryCitizenship\": {\n",
    "                                        \"type\": \"string\",\n",
    "                                        \"description\": \"The country or countries of citizenship\"\n",
    "                                    },\n",
    "                                    \"addressWhileInUS\": {\n",
    "                                        \"type\": \"string\",\n",
    "                                        \"description\": \"The address of the person while in the United States\"\n",
    "                                    },\n",
    "                                    \"PassportNo\": {\n",
    "                                        \"type\": \"string\",\n",
    "                                        \"description\": \"The passport number\"\n",
    "                                    },\n",
    "                                    \"passportCountry\": {\n",
    "                                        \"type\": \"string\",\n",
    "                                        \"description\": \"The passport country in English\"\n",
    "                                    },\n",
    "                                    \"usVisaDate\": {\n",
    "                                        \"type\": \"string\",\n",
    "                                        \"description\": \"The US Visa Date in MM/DD/YYYY format\"\n",
    "                                    },\n",
    "                                    \"usVisaIssuedAt\": {\n",
    "                                        \"type\": \"string\",\n",
    "                                        \"description\": \"The place in the untied states visa was issued\"\n",
    "                                    },\n",
    "                                    \"usViasNo\": {\n",
    "                                        \"type\": \"string\",\n",
    "                                        \"description\": \"The immigration alien number or visa number\"\n",
    "                                    },\n",
    "                                    \"exportedFromCity\": {\n",
    "                                        \"type\": \"string\",\n",
    "                                        \"description\": \"The US port or city that departed from for export from the US\"\n",
    "                                    },\n",
    "                                    \"exportedToCity\": {\n",
    "                                        \"type\": \"string\",\n",
    "                                        \"description\": \"The foreign city or country that arrived for export from the US\"\n",
    "                                    },\n",
    "                                    \"importedFromCity\": {\n",
    "                                        \"type\": \"string\",\n",
    "                                        \"description\": \"The foreign city or country that departed from for import to the US\"\n",
    "                                    },\n",
    "                                    \"importedToCity\": {\n",
    "                                        \"type\": \"string\",\n",
    "                                        \"description\": \"The US port or city that imported into the US\"\n",
    "                                    },\n",
    "                                    \"dateShipped\": {\n",
    "                                        \"type\": \"string\",\n",
    "                                        \"description\": \"The date that the currency was mailed or shipped in MM/DD/YYYY format\"\n",
    "                                    },\n",
    "                                    \"dateReceived\": {\n",
    "                                        \"type\": \"string\",\n",
    "                                        \"description\": \"The date that the currency was mailed or shipped was received in MM/DD/YYYY format\"\n",
    "                                    },\n",
    "                                    \"methodShipped\": {\n",
    "                                        \"type\": \"string\",\n",
    "                                        \"description\": \"The method of shipment\"\n",
    "                                    },\n",
    "                                    \"carrier\": {\n",
    "                                        \"type\": \"string\",\n",
    "                                        \"description\": \"The name of the carrier for shipment\"\n",
    "                                    },\n",
    "                                    \"shippedTo\": {\n",
    "                                        \"type\": \"string\",\n",
    "                                        \"description\": \"The name and address that the currency was mailed or shipped to\"\n",
    "                                    },\n",
    "                                    \"receivedFrom\": {\n",
    "                                        \"type\": \"string\",\n",
    "                                        \"description\": \"The name and address that the currency was mailed or shipped from.\"\n",
    "                                    }\n",
    "                                },\n",
    "                                \"required\": [\n",
    "                                    \"nameOfPerson\",\n",
    "                                    \"identificationNumber\",\n",
    "                                    \"dateOfBirth\",\n",
    "                                    \"permanentAddress\",\n",
    "                                    \"countryCitizenship\",\n",
    "                                    \"addressWhileInUS\",\n",
    "                                    \"PassportNo\",\n",
    "                                    \"passportCountry\",\n",
    "                                    \"usVisaDate\",\n",
    "                                    \"usVisaIssuedAt\",\n",
    "                                    \"usViasNo\",\n",
    "                                    \"exportedFromCity\",\n",
    "                                    \"exportedToCity\",\n",
    "                                    \"importedFromCity\",\n",
    "                                    \"importedToCity\",\n",
    "                                    \"dateShipped\",\n",
    "                                    \"dateReceived\",\n",
    "                                    \"methodShipped\",\n",
    "                                    \"carrier\",\n",
    "                                    \"shippedTo\",\n",
    "                                    \"receivedFrom\"\n",
    "                                ]\n",
    "                            },\n",
    "                            \"PartII\": {\n",
    "                                \"type\": \"object\",\n",
    "                                \"properties\": {\n",
    "                                    \"nameOnWhoseBehalf\": {\n",
    "                                        \"type\": \"string\",\n",
    "                                        \"description\": \"The name of person(s) or business on whose behalf import or export was conducted\"\n",
    "                                    },\n",
    "                                    \"addressOnWhoseBehalf\": {\n",
    "                                        \"type\": \"string\",\n",
    "                                        \"description\": \"The permanent address in US or abroad on whose behalf import or export was conducted\"\n",
    "                                    },\n",
    "                                    \"typeOfActivity\": {\n",
    "                                        \"type\": \"string\",\n",
    "                                        \"description\": \"The type of business activity, occupation, or profession\"\n",
    "                                    },\n",
    "                                    \"isBusinessABank\": {\n",
    "                                        \"type\": \"string\",\n",
    "                                        \"description\": \"Yes or No, is the business a bank?\"\n",
    "                                    }\n",
    "                                },\n",
    "                                \"required\": [\n",
    "                                    \"nameOnWhoseBehalf\",\n",
    "                                    \"addressOnWhoseBehalf\",\n",
    "                                    \"typeOfActivity\",\n",
    "                                    \"isBusinessABank\"\n",
    "                                ]\n",
    "                            },\n",
    "                            \"PartIII\": {\n",
    "                                \"type\": \"object\",\n",
    "                                \"properties\": {\n",
    "                                    \"currencyAndCoinsAmount\": {\n",
    "                                        \"type\": \"string\",\n",
    "                                        \"description\": \"amount of currency and coins\"\n",
    "                                    },\n",
    "                                    \"otherMonetaryInstruments\": {\n",
    "                                        \"type\": \"string\",\n",
    "                                        \"description\": \"amount of other monetary instruments\"\n",
    "                                    },\n",
    "                                    \"totalAmount\": {\n",
    "                                        \"type\": \"string\",\n",
    "                                        \"description\": \"The total amount of currency and monetary instruments\"\n",
    "                                    },\n",
    "                                    \"otherCurrency\": {\n",
    "                                        \"type\": \"string\",\n",
    "                                        \"description\": \"Currency name if other an US currency\"\n",
    "                                    },\n",
    "                                    \"otherCountry\": {\n",
    "                                        \"type\": \"string\",\n",
    "                                        \"description\": \"Name of country of other currency\"\n",
    "                                    }\n",
    "                                },\n",
    "                                \"required\": [\n",
    "                                    \"currencyAndCoinsAmount\",\n",
    "                                    \"otherMonetaryInstruments\",\n",
    "                                    \"totalAmount\",\n",
    "                                    \"otherCurrency\",\n",
    "                                    \"otherCountry\"\n",
    "                                ]\n",
    "                            },\n",
    "                            \"PartIV\": {\n",
    "                                \"type\": \"object\",\n",
    "                                \"properties\": {\n",
    "                                    \"nameAndTitle\": {\n",
    "                                        \"type\": \"string\",\n",
    "                                        \"description\": \"The name and title of the person completing this form\"\n",
    "                                    },\n",
    "                                    \"signature\": {\n",
    "                                        \"type\": \"string\",\n",
    "                                        \"description\": \"the signature of the person completing this form\"\n",
    "                                    },\n",
    "                                    \"dateOfReport\": {\n",
    "                                        \"type\": \"string\",\n",
    "                                        \"description\": \"The date of the completion of this report in MM/DD/YYYY format\"\n",
    "                                    }\n",
    "                                },\n",
    "                                \"required\": [\n",
    "                                    \"nameAndTitle\",\n",
    "                                    \"signature\",\n",
    "                                    \"dateOfReport\"\n",
    "                                ]\n",
    "                            }\n",
    "                        },\n",
    "                        \"required\": [\n",
    "                            \"formType\",\n",
    "                            \"formAgency\",\n",
    "                            \"formDate\",\n",
    "                            \"PartI\",\n",
    "                            \"PartII\",\n",
    "                            \"PartIII\",\n",
    "                            \"PartIv\"\n",
    "                        ]\n",
    "                    }\n",
    "                }\n",
    "            }\n",
    "\n",
    "    }\n",
    "]\n"
   ]
  },
  {
   "cell_type": "markdown",
   "id": "f79dd4a9-56db-4baf-a52f-ce39534f0323",
   "metadata": {},
   "source": [
    "### Create message payload that incorporates text and image input\n",
    "\n",
    "Here we create the multimodal content message for our input to Claude 3 with seperate JSON objects for the text component and the image component."
   ]
  },
  {
   "cell_type": "code",
   "execution_count": null,
   "id": "f9b37a85-e645-4d3c-81f4-94095acdb5e5",
   "metadata": {
    "tags": []
   },
   "outputs": [],
   "source": [
    "prompt = \"\"\"\n",
    "Extract information from this document in JSON.  Be very detailed and accurate.  Ensure you extract all of the information.  The fields do not have information mark the value as UNKNOWN.\n",
    "\n",
    "Use the extract tool\n",
    "\"\"\""
   ]
  },
  {
   "cell_type": "markdown",
   "id": "216e6a06-9472-4c18-86ed-649d2893c0ca",
   "metadata": {},
   "source": [
    "### Generate the response from Claude 3\n",
    "\n",
    "Finally, we can see the multimodal capabilities in action, asking Claude 3 about what is in the image. The model identifier we are using for this example is __\"anthropic.claude-3-sonnet-20240229-v1:0\"__."
   ]
  },
  {
   "cell_type": "code",
   "execution_count": null,
   "id": "c3827668-eee6-4f49-9209-4d7958370b39",
   "metadata": {
    "tags": []
   },
   "outputs": [],
   "source": [
    "message_mm = [\n",
    "    {\n",
    "        \"role\": \"user\",\n",
    "        \"content\": [\n",
    "            {\n",
    "                \"text\": prompt\n",
    "            },\n",
    "            {\n",
    "                    \"image\": {\n",
    "                        \"format\": 'png',\n",
    "                        \"source\": {\n",
    "                            \"bytes\": content_image\n",
    "                        }\n",
    "                    }\n",
    "            }\n",
    "        ]\n",
    "    }\n",
    "]"
   ]
  },
  {
   "cell_type": "code",
   "execution_count": null,
   "id": "eef1d967-bf0e-44fa-8d42-44601d01eee7",
   "metadata": {
    "tags": []
   },
   "outputs": [],
   "source": [
    "response = bedrock_client.converse(\n",
    "    modelId=\"anthropic.claude-3-sonnet-20240229-v1:0\",\n",
    "    inferenceConfig={\n",
    "        \"temperature\": 1.0,\n",
    "        \"maxTokens\": 2048\n",
    "    },\n",
    "    messages=message_mm,\n",
    "    toolConfig={\"tools\": tools}\n",
    ")"
   ]
  },
  {
   "cell_type": "code",
   "execution_count": null,
   "id": "611fe111-43f9-42db-8ea9-9eb53ca58b90",
   "metadata": {
    "tags": []
   },
   "outputs": [],
   "source": [
    "print(json.dumps(response['output']['message']['content'][0]['toolUse']['input'],indent=2))"
   ]
  },
  {
   "cell_type": "code",
   "execution_count": null,
   "id": "d3adc2a8-7c5f-4048-80ff-8e1bdaf04ef9",
   "metadata": {
    "tags": []
   },
   "outputs": [],
   "source": [
    "ocr_text = \"\"\"\n",
    "FINANCIAL GENERAL\n",
    "DEPARTMENT OF THE TREASURY\n",
    "OMB NO 1506-0014\n",
    "FinCEN Form\n",
    "105\n",
    "FINANCIAL CRIMES ENFORCEMENT NETWORK\n",
    "To be filed with the Bureau of\n",
    "July 2017\n",
    "REPORT OF INTERNATIONAL\n",
    "Customs and Border Protection\n",
    "For Paperwork Reduction Act\n",
    "Department of the Treasury\n",
    "TRANSPORTATION OF CURRENCY\n",
    "Notice and Privacy Act Notice,\n",
    "FinCEN\n",
    "OR MONETARY INSTRUMENTS\n",
    "see back of form.\n",
    "Please type or print.\n",
    "31 U.S.C. 5316; 31 CFR 1010.340 and 1010.306\n",
    "PART I\n",
    "FOR A PERSON DEPARTING OR ENTERING THE UNITED STATES, OR A PERSON SHIPPING MAILING OR RECEIVING CURRENCY OR\n",
    "MONETARY INSTRUMENTS (IF ACTING FOR ANYONE ELSE, ALSO COMPLETE PART II BELOW.)\n",
    "1. NAME (Last or family, first, and middle)\n",
    "2. IDENTIFICATION NO. (See instructions)\n",
    "3. DATE OF BIRTH (Mo/Day/Yr.)\n",
    "John SMITH\n",
    "123-45-6789\n",
    "04 01 1980\n",
    "4. PERMANENT ADDRESS IN UNITED STATES OR ABROAD\n",
    "5. YOUR COUNTRY OR COUNTRIES OF\n",
    "CITIZENSHIP\n",
    "Ziegelhutten weg 37, 60598 Frankfurt\n",
    "6. ADDRESS WHILE IN THE UNITED STATES\n",
    "Germany\n",
    "7. PASSPORT NO. & COUNTRY\n",
    "123 S. 50TH\n",
    "KANSAS CITY, MO\n",
    "87654321 - DE\n",
    "8. U.S. VISA DATE (Mo./Day/Yr.)\n",
    "9. PLACE UNITED STATES VISA WAS ISSUED\n",
    "10. IMMIGRATION ALIEN NO.\n",
    "01\n",
    "01\n",
    "2022\n",
    "NEW YORK\n",
    "N/A\n",
    "11. IF CURRENCY OR MONETARY INSTRUMENT IS ACCOMPANIED BY A PERSON, COMPLETE 11a OR 11b. not both\n",
    "A. EXPORTED FROM THE UNITED STATES\n",
    "COMPLETE \"A\" OR \"B\" NOT BOTH\n",
    "B. IMPORTED INTO THE UNITED STATES\n",
    "Departed From: (U.S. Port/City in U.S.)\n",
    "Arrived At (Foreign City/Country)\n",
    "Departed From: (Foreign City/Country)\n",
    "Arrived At: (City in U.S.)\n",
    "12. IF CURRENCY OR MONETARY INSTRUMENT WAS MAILED OR OTHERWISE SHIPPED, COMPLETE 12a THROUGH 12f\n",
    "12a. DATE SHIPPED (Mo/Day/Yr.)\n",
    "12b. DATE RECEIVED (Mo/Day/Yr.)\n",
    "12c. METHOD OF SHIPMENT (e.g. U.S. Mail, Public Carrier, etc.)\n",
    "12d. NAME OF CARRIER\n",
    "12e SHIPPED TO (Name and Address)\n",
    "12f. RECEIVED FROM (Name and Address)\n",
    "PART II INFORMATION ABOUT PERSON(S) OR BUSINESS ON WHOSE BEHALF IMPORTATION OR EXPORTATION WAS CONDUCTED\n",
    "13. NAME (Last or family, first, and middle or Business Name)\n",
    "JANE DOE\n",
    "14. PERMANENT ADDRESS IN UNITED STATES OR ABROAD\n",
    "456 N Ozark Rd.\n",
    "15. TYPE OF BUSINESS ACTIVITY, OCCUPATION, OR PROFESSION\n",
    "15a. IS THE BUSINESS A BANK?\n",
    "PERSONAL\n",
    "Yes\n",
    "No\n",
    "PART III CURRENCY AND MONETARY INSTRUMENT INFORMATION (SEE INSTRUCTIONS ON REVERSE)(To be completed by everyone)\n",
    "17. IF OTHER THAN U.S. CURRENCY\n",
    "16. TYPE AND AMOUNT OF CURRENCY/MONETARY INSTRUMENTS\n",
    "IS INVOLVED, PLEASE COMPLETE\n",
    "Currency and Coins\n",
    "$ 100,000\n",
    "BLOCKS AAND B.\n",
    "A. Currency Name\n",
    "Other Monetary Instruments\n",
    "$\n",
    "(Specify type, issuing entity and date, and serial or other identifying number.)\n",
    "B. Country\n",
    "(TOTAL)\n",
    "$ 100,000\n",
    "PARTIV\n",
    "SIGNATURE OF PERSON COMPLETING THIS REPORT\n",
    "Under penalties of perjury, I declare that have examined this report, and to the best of my knowledge and belief it is true, correct and complete.\n",
    "18. NAME AND TITLE (Print)\n",
    "19. SIGNATURE\n",
    "20. DATE OF REPORT (Mo./Day/Yr.)\n",
    "John Smith - Owner\n",
    "J.South\n",
    "08 15 2023\n",
    "CUSTOMS AND BORDER PROTECTION USE ONLY\n",
    "PORT CODE\n",
    "CBP QUERY?\n",
    "COUNT VERIFIED\n",
    "VOLUNTARY\n",
    "THIS SHIPMENT IS\n",
    "INBOUND\n",
    "OUTBOUND\n",
    "REPORT\n",
    "Yes\n",
    "No\n",
    "Yes\n",
    "No\n",
    "Yes\n",
    "No\n",
    "DATE\n",
    "AIRLINE/FLIGHT/VESSEL\n",
    "LICENSE PLATE\n",
    "INSPECTOR (Name and Badge Number)\n",
    "STATE/COUNTRY\n",
    "NUMBER\n",
    "FinCEN FORM 105\n",
    "\"\"\""
   ]
  },
  {
   "cell_type": "code",
   "execution_count": null,
   "id": "30e445d4-cd45-496e-a895-2423c64c035b",
   "metadata": {
    "tags": []
   },
   "outputs": [],
   "source": [
    "prompt = f\"\"\"\n",
    "Extract information from this image in JSON.  Be very detailed and accurate.  Ensure you extract all of the information.  The fields do not have information mark the value as UNKNOWN.\n",
    "\n",
    "Here is the raw text from the document to improve the results\n",
    "<text>\n",
    "{ocr_text}\n",
    "</text>\n",
    "\n",
    "Use the extract tool\n",
    "\"\"\""
   ]
  },
  {
   "cell_type": "code",
   "execution_count": null,
   "id": "6f635086-1397-42ab-a70e-c38548ee3382",
   "metadata": {
    "tags": []
   },
   "outputs": [],
   "source": [
    "message_mm = [\n",
    "    {\n",
    "        \"role\": \"user\",\n",
    "        \"content\": [\n",
    "            {\n",
    "                \"text\": prompt\n",
    "            },\n",
    "            {\n",
    "                    \"image\": {\n",
    "                        \"format\": 'png',\n",
    "                        \"source\": {\n",
    "                            \"bytes\": content_image\n",
    "                        }\n",
    "                    }\n",
    "            }\n",
    "        ]\n",
    "    }\n",
    "]"
   ]
  },
  {
   "cell_type": "code",
   "execution_count": null,
   "id": "bbce468f-f744-4dd2-9b94-e8c571e57166",
   "metadata": {
    "tags": []
   },
   "outputs": [],
   "source": [
    "response = bedrock_client.converse(\n",
    "    modelId=\"anthropic.claude-3-sonnet-20240229-v1:0\",\n",
    "    inferenceConfig={\n",
    "        \"temperature\": 1.0,\n",
    "        \"maxTokens\": 2048\n",
    "    },\n",
    "    messages=message_mm,\n",
    "    toolConfig={\"tools\": tools}\n",
    ")\n",
    "\n",
    "print(json.dumps(response['output']['message']['content'][0]['toolUse']['input'],indent=2))"
   ]
  },
  {
   "cell_type": "code",
   "execution_count": null,
   "id": "fe60caab-bffa-41b8-a9b8-af590ed32541",
   "metadata": {
    "tags": []
   },
   "outputs": [],
   "source": [
    "response['usage']"
   ]
  },
  {
   "cell_type": "code",
   "execution_count": null,
   "id": "4ae23289-5ed4-4f80-8c1c-9cc0733289ab",
   "metadata": {
    "tags": []
   },
   "outputs": [],
   "source": [
    "print(f\"Total Cost: ${response['usage']['inputTokens']*0.003/1000 + response['usage']['outputTokens']*0.015/1000}\")"
   ]
  },
  {
   "cell_type": "code",
   "execution_count": null,
   "id": "27fe0e0d-b0d8-4be5-91f0-4676dd4d41ec",
   "metadata": {},
   "outputs": [],
   "source": [
    "# tables + forms + signatures + layout is 65.00 per 1000 pages.  Or 6.5 cents per page"
   ]
  }
 ],
 "metadata": {
  "availableInstances": [
   {
    "_defaultOrder": 0,
    "_isFastLaunch": true,
    "category": "General purpose",
    "gpuNum": 0,
    "hideHardwareSpecs": false,
    "memoryGiB": 4,
    "name": "ml.t3.medium",
    "vcpuNum": 2
   },
   {
    "_defaultOrder": 1,
    "_isFastLaunch": false,
    "category": "General purpose",
    "gpuNum": 0,
    "hideHardwareSpecs": false,
    "memoryGiB": 8,
    "name": "ml.t3.large",
    "vcpuNum": 2
   },
   {
    "_defaultOrder": 2,
    "_isFastLaunch": false,
    "category": "General purpose",
    "gpuNum": 0,
    "hideHardwareSpecs": false,
    "memoryGiB": 16,
    "name": "ml.t3.xlarge",
    "vcpuNum": 4
   },
   {
    "_defaultOrder": 3,
    "_isFastLaunch": false,
    "category": "General purpose",
    "gpuNum": 0,
    "hideHardwareSpecs": false,
    "memoryGiB": 32,
    "name": "ml.t3.2xlarge",
    "vcpuNum": 8
   },
   {
    "_defaultOrder": 4,
    "_isFastLaunch": true,
    "category": "General purpose",
    "gpuNum": 0,
    "hideHardwareSpecs": false,
    "memoryGiB": 8,
    "name": "ml.m5.large",
    "vcpuNum": 2
   },
   {
    "_defaultOrder": 5,
    "_isFastLaunch": false,
    "category": "General purpose",
    "gpuNum": 0,
    "hideHardwareSpecs": false,
    "memoryGiB": 16,
    "name": "ml.m5.xlarge",
    "vcpuNum": 4
   },
   {
    "_defaultOrder": 6,
    "_isFastLaunch": false,
    "category": "General purpose",
    "gpuNum": 0,
    "hideHardwareSpecs": false,
    "memoryGiB": 32,
    "name": "ml.m5.2xlarge",
    "vcpuNum": 8
   },
   {
    "_defaultOrder": 7,
    "_isFastLaunch": false,
    "category": "General purpose",
    "gpuNum": 0,
    "hideHardwareSpecs": false,
    "memoryGiB": 64,
    "name": "ml.m5.4xlarge",
    "vcpuNum": 16
   },
   {
    "_defaultOrder": 8,
    "_isFastLaunch": false,
    "category": "General purpose",
    "gpuNum": 0,
    "hideHardwareSpecs": false,
    "memoryGiB": 128,
    "name": "ml.m5.8xlarge",
    "vcpuNum": 32
   },
   {
    "_defaultOrder": 9,
    "_isFastLaunch": false,
    "category": "General purpose",
    "gpuNum": 0,
    "hideHardwareSpecs": false,
    "memoryGiB": 192,
    "name": "ml.m5.12xlarge",
    "vcpuNum": 48
   },
   {
    "_defaultOrder": 10,
    "_isFastLaunch": false,
    "category": "General purpose",
    "gpuNum": 0,
    "hideHardwareSpecs": false,
    "memoryGiB": 256,
    "name": "ml.m5.16xlarge",
    "vcpuNum": 64
   },
   {
    "_defaultOrder": 11,
    "_isFastLaunch": false,
    "category": "General purpose",
    "gpuNum": 0,
    "hideHardwareSpecs": false,
    "memoryGiB": 384,
    "name": "ml.m5.24xlarge",
    "vcpuNum": 96
   },
   {
    "_defaultOrder": 12,
    "_isFastLaunch": false,
    "category": "General purpose",
    "gpuNum": 0,
    "hideHardwareSpecs": false,
    "memoryGiB": 8,
    "name": "ml.m5d.large",
    "vcpuNum": 2
   },
   {
    "_defaultOrder": 13,
    "_isFastLaunch": false,
    "category": "General purpose",
    "gpuNum": 0,
    "hideHardwareSpecs": false,
    "memoryGiB": 16,
    "name": "ml.m5d.xlarge",
    "vcpuNum": 4
   },
   {
    "_defaultOrder": 14,
    "_isFastLaunch": false,
    "category": "General purpose",
    "gpuNum": 0,
    "hideHardwareSpecs": false,
    "memoryGiB": 32,
    "name": "ml.m5d.2xlarge",
    "vcpuNum": 8
   },
   {
    "_defaultOrder": 15,
    "_isFastLaunch": false,
    "category": "General purpose",
    "gpuNum": 0,
    "hideHardwareSpecs": false,
    "memoryGiB": 64,
    "name": "ml.m5d.4xlarge",
    "vcpuNum": 16
   },
   {
    "_defaultOrder": 16,
    "_isFastLaunch": false,
    "category": "General purpose",
    "gpuNum": 0,
    "hideHardwareSpecs": false,
    "memoryGiB": 128,
    "name": "ml.m5d.8xlarge",
    "vcpuNum": 32
   },
   {
    "_defaultOrder": 17,
    "_isFastLaunch": false,
    "category": "General purpose",
    "gpuNum": 0,
    "hideHardwareSpecs": false,
    "memoryGiB": 192,
    "name": "ml.m5d.12xlarge",
    "vcpuNum": 48
   },
   {
    "_defaultOrder": 18,
    "_isFastLaunch": false,
    "category": "General purpose",
    "gpuNum": 0,
    "hideHardwareSpecs": false,
    "memoryGiB": 256,
    "name": "ml.m5d.16xlarge",
    "vcpuNum": 64
   },
   {
    "_defaultOrder": 19,
    "_isFastLaunch": false,
    "category": "General purpose",
    "gpuNum": 0,
    "hideHardwareSpecs": false,
    "memoryGiB": 384,
    "name": "ml.m5d.24xlarge",
    "vcpuNum": 96
   },
   {
    "_defaultOrder": 20,
    "_isFastLaunch": false,
    "category": "General purpose",
    "gpuNum": 0,
    "hideHardwareSpecs": true,
    "memoryGiB": 0,
    "name": "ml.geospatial.interactive",
    "supportedImageNames": [
     "sagemaker-geospatial-v1-0"
    ],
    "vcpuNum": 0
   },
   {
    "_defaultOrder": 21,
    "_isFastLaunch": true,
    "category": "Compute optimized",
    "gpuNum": 0,
    "hideHardwareSpecs": false,
    "memoryGiB": 4,
    "name": "ml.c5.large",
    "vcpuNum": 2
   },
   {
    "_defaultOrder": 22,
    "_isFastLaunch": false,
    "category": "Compute optimized",
    "gpuNum": 0,
    "hideHardwareSpecs": false,
    "memoryGiB": 8,
    "name": "ml.c5.xlarge",
    "vcpuNum": 4
   },
   {
    "_defaultOrder": 23,
    "_isFastLaunch": false,
    "category": "Compute optimized",
    "gpuNum": 0,
    "hideHardwareSpecs": false,
    "memoryGiB": 16,
    "name": "ml.c5.2xlarge",
    "vcpuNum": 8
   },
   {
    "_defaultOrder": 24,
    "_isFastLaunch": false,
    "category": "Compute optimized",
    "gpuNum": 0,
    "hideHardwareSpecs": false,
    "memoryGiB": 32,
    "name": "ml.c5.4xlarge",
    "vcpuNum": 16
   },
   {
    "_defaultOrder": 25,
    "_isFastLaunch": false,
    "category": "Compute optimized",
    "gpuNum": 0,
    "hideHardwareSpecs": false,
    "memoryGiB": 72,
    "name": "ml.c5.9xlarge",
    "vcpuNum": 36
   },
   {
    "_defaultOrder": 26,
    "_isFastLaunch": false,
    "category": "Compute optimized",
    "gpuNum": 0,
    "hideHardwareSpecs": false,
    "memoryGiB": 96,
    "name": "ml.c5.12xlarge",
    "vcpuNum": 48
   },
   {
    "_defaultOrder": 27,
    "_isFastLaunch": false,
    "category": "Compute optimized",
    "gpuNum": 0,
    "hideHardwareSpecs": false,
    "memoryGiB": 144,
    "name": "ml.c5.18xlarge",
    "vcpuNum": 72
   },
   {
    "_defaultOrder": 28,
    "_isFastLaunch": false,
    "category": "Compute optimized",
    "gpuNum": 0,
    "hideHardwareSpecs": false,
    "memoryGiB": 192,
    "name": "ml.c5.24xlarge",
    "vcpuNum": 96
   },
   {
    "_defaultOrder": 29,
    "_isFastLaunch": true,
    "category": "Accelerated computing",
    "gpuNum": 1,
    "hideHardwareSpecs": false,
    "memoryGiB": 16,
    "name": "ml.g4dn.xlarge",
    "vcpuNum": 4
   },
   {
    "_defaultOrder": 30,
    "_isFastLaunch": false,
    "category": "Accelerated computing",
    "gpuNum": 1,
    "hideHardwareSpecs": false,
    "memoryGiB": 32,
    "name": "ml.g4dn.2xlarge",
    "vcpuNum": 8
   },
   {
    "_defaultOrder": 31,
    "_isFastLaunch": false,
    "category": "Accelerated computing",
    "gpuNum": 1,
    "hideHardwareSpecs": false,
    "memoryGiB": 64,
    "name": "ml.g4dn.4xlarge",
    "vcpuNum": 16
   },
   {
    "_defaultOrder": 32,
    "_isFastLaunch": false,
    "category": "Accelerated computing",
    "gpuNum": 1,
    "hideHardwareSpecs": false,
    "memoryGiB": 128,
    "name": "ml.g4dn.8xlarge",
    "vcpuNum": 32
   },
   {
    "_defaultOrder": 33,
    "_isFastLaunch": false,
    "category": "Accelerated computing",
    "gpuNum": 4,
    "hideHardwareSpecs": false,
    "memoryGiB": 192,
    "name": "ml.g4dn.12xlarge",
    "vcpuNum": 48
   },
   {
    "_defaultOrder": 34,
    "_isFastLaunch": false,
    "category": "Accelerated computing",
    "gpuNum": 1,
    "hideHardwareSpecs": false,
    "memoryGiB": 256,
    "name": "ml.g4dn.16xlarge",
    "vcpuNum": 64
   },
   {
    "_defaultOrder": 35,
    "_isFastLaunch": false,
    "category": "Accelerated computing",
    "gpuNum": 1,
    "hideHardwareSpecs": false,
    "memoryGiB": 61,
    "name": "ml.p3.2xlarge",
    "vcpuNum": 8
   },
   {
    "_defaultOrder": 36,
    "_isFastLaunch": false,
    "category": "Accelerated computing",
    "gpuNum": 4,
    "hideHardwareSpecs": false,
    "memoryGiB": 244,
    "name": "ml.p3.8xlarge",
    "vcpuNum": 32
   },
   {
    "_defaultOrder": 37,
    "_isFastLaunch": false,
    "category": "Accelerated computing",
    "gpuNum": 8,
    "hideHardwareSpecs": false,
    "memoryGiB": 488,
    "name": "ml.p3.16xlarge",
    "vcpuNum": 64
   },
   {
    "_defaultOrder": 38,
    "_isFastLaunch": false,
    "category": "Accelerated computing",
    "gpuNum": 8,
    "hideHardwareSpecs": false,
    "memoryGiB": 768,
    "name": "ml.p3dn.24xlarge",
    "vcpuNum": 96
   },
   {
    "_defaultOrder": 39,
    "_isFastLaunch": false,
    "category": "Memory Optimized",
    "gpuNum": 0,
    "hideHardwareSpecs": false,
    "memoryGiB": 16,
    "name": "ml.r5.large",
    "vcpuNum": 2
   },
   {
    "_defaultOrder": 40,
    "_isFastLaunch": false,
    "category": "Memory Optimized",
    "gpuNum": 0,
    "hideHardwareSpecs": false,
    "memoryGiB": 32,
    "name": "ml.r5.xlarge",
    "vcpuNum": 4
   },
   {
    "_defaultOrder": 41,
    "_isFastLaunch": false,
    "category": "Memory Optimized",
    "gpuNum": 0,
    "hideHardwareSpecs": false,
    "memoryGiB": 64,
    "name": "ml.r5.2xlarge",
    "vcpuNum": 8
   },
   {
    "_defaultOrder": 42,
    "_isFastLaunch": false,
    "category": "Memory Optimized",
    "gpuNum": 0,
    "hideHardwareSpecs": false,
    "memoryGiB": 128,
    "name": "ml.r5.4xlarge",
    "vcpuNum": 16
   },
   {
    "_defaultOrder": 43,
    "_isFastLaunch": false,
    "category": "Memory Optimized",
    "gpuNum": 0,
    "hideHardwareSpecs": false,
    "memoryGiB": 256,
    "name": "ml.r5.8xlarge",
    "vcpuNum": 32
   },
   {
    "_defaultOrder": 44,
    "_isFastLaunch": false,
    "category": "Memory Optimized",
    "gpuNum": 0,
    "hideHardwareSpecs": false,
    "memoryGiB": 384,
    "name": "ml.r5.12xlarge",
    "vcpuNum": 48
   },
   {
    "_defaultOrder": 45,
    "_isFastLaunch": false,
    "category": "Memory Optimized",
    "gpuNum": 0,
    "hideHardwareSpecs": false,
    "memoryGiB": 512,
    "name": "ml.r5.16xlarge",
    "vcpuNum": 64
   },
   {
    "_defaultOrder": 46,
    "_isFastLaunch": false,
    "category": "Memory Optimized",
    "gpuNum": 0,
    "hideHardwareSpecs": false,
    "memoryGiB": 768,
    "name": "ml.r5.24xlarge",
    "vcpuNum": 96
   },
   {
    "_defaultOrder": 47,
    "_isFastLaunch": false,
    "category": "Accelerated computing",
    "gpuNum": 1,
    "hideHardwareSpecs": false,
    "memoryGiB": 16,
    "name": "ml.g5.xlarge",
    "vcpuNum": 4
   },
   {
    "_defaultOrder": 48,
    "_isFastLaunch": false,
    "category": "Accelerated computing",
    "gpuNum": 1,
    "hideHardwareSpecs": false,
    "memoryGiB": 32,
    "name": "ml.g5.2xlarge",
    "vcpuNum": 8
   },
   {
    "_defaultOrder": 49,
    "_isFastLaunch": false,
    "category": "Accelerated computing",
    "gpuNum": 1,
    "hideHardwareSpecs": false,
    "memoryGiB": 64,
    "name": "ml.g5.4xlarge",
    "vcpuNum": 16
   },
   {
    "_defaultOrder": 50,
    "_isFastLaunch": false,
    "category": "Accelerated computing",
    "gpuNum": 1,
    "hideHardwareSpecs": false,
    "memoryGiB": 128,
    "name": "ml.g5.8xlarge",
    "vcpuNum": 32
   },
   {
    "_defaultOrder": 51,
    "_isFastLaunch": false,
    "category": "Accelerated computing",
    "gpuNum": 1,
    "hideHardwareSpecs": false,
    "memoryGiB": 256,
    "name": "ml.g5.16xlarge",
    "vcpuNum": 64
   },
   {
    "_defaultOrder": 52,
    "_isFastLaunch": false,
    "category": "Accelerated computing",
    "gpuNum": 4,
    "hideHardwareSpecs": false,
    "memoryGiB": 192,
    "name": "ml.g5.12xlarge",
    "vcpuNum": 48
   },
   {
    "_defaultOrder": 53,
    "_isFastLaunch": false,
    "category": "Accelerated computing",
    "gpuNum": 4,
    "hideHardwareSpecs": false,
    "memoryGiB": 384,
    "name": "ml.g5.24xlarge",
    "vcpuNum": 96
   },
   {
    "_defaultOrder": 54,
    "_isFastLaunch": false,
    "category": "Accelerated computing",
    "gpuNum": 8,
    "hideHardwareSpecs": false,
    "memoryGiB": 768,
    "name": "ml.g5.48xlarge",
    "vcpuNum": 192
   },
   {
    "_defaultOrder": 55,
    "_isFastLaunch": false,
    "category": "Accelerated computing",
    "gpuNum": 8,
    "hideHardwareSpecs": false,
    "memoryGiB": 1152,
    "name": "ml.p4d.24xlarge",
    "vcpuNum": 96
   },
   {
    "_defaultOrder": 56,
    "_isFastLaunch": false,
    "category": "Accelerated computing",
    "gpuNum": 8,
    "hideHardwareSpecs": false,
    "memoryGiB": 1152,
    "name": "ml.p4de.24xlarge",
    "vcpuNum": 96
   },
   {
    "_defaultOrder": 57,
    "_isFastLaunch": false,
    "category": "Accelerated computing",
    "gpuNum": 0,
    "hideHardwareSpecs": false,
    "memoryGiB": 32,
    "name": "ml.trn1.2xlarge",
    "vcpuNum": 8
   },
   {
    "_defaultOrder": 58,
    "_isFastLaunch": false,
    "category": "Accelerated computing",
    "gpuNum": 0,
    "hideHardwareSpecs": false,
    "memoryGiB": 512,
    "name": "ml.trn1.32xlarge",
    "vcpuNum": 128
   },
   {
    "_defaultOrder": 59,
    "_isFastLaunch": false,
    "category": "Accelerated computing",
    "gpuNum": 0,
    "hideHardwareSpecs": false,
    "memoryGiB": 512,
    "name": "ml.trn1n.32xlarge",
    "vcpuNum": 128
   }
  ],
  "instance_type": "ml.t3.medium",
  "kernelspec": {
   "display_name": "Python 3 (Data Science 3.0)",
   "language": "python",
   "name": "python3__SAGEMAKER_INTERNAL__arn:aws:sagemaker:us-east-1:081325390199:image/sagemaker-data-science-310-v1"
  },
  "language_info": {
   "codemirror_mode": {
    "name": "ipython",
    "version": 3
   },
   "file_extension": ".py",
   "mimetype": "text/x-python",
   "name": "python",
   "nbconvert_exporter": "python",
   "pygments_lexer": "ipython3",
   "version": "3.10.6"
  }
 },
 "nbformat": 4,
 "nbformat_minor": 5
}
