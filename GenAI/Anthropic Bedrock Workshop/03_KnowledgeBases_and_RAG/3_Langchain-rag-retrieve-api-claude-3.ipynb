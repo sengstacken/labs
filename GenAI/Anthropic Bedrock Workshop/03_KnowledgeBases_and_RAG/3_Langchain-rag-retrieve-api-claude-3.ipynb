{
 "cells": [
  {
   "cell_type": "markdown",
   "metadata": {},
   "source": [
    "## Building Q&A application using Knowledge Bases for Amazon Bedrock - Retrieve API"
   ]
  },
  {
   "cell_type": "markdown",
   "metadata": {},
   "source": [
    "<div class=\"alert alert-block alert-warning\">\n",
    "<b>Note:</b> This lab uses the recently announced Claude v3, which is not available in AWS Workshop Studio yet. You may\n",
    "    continue with this lab if the account you are running this in has access to Claude V3.\n",
    "</div>"
   ]
  },
  {
   "cell_type": "markdown",
   "metadata": {},
   "source": [
    "### Context\n",
    "\n",
    "In this notebook, we will dive deep into building Q&A application using Knowledge Bases for Amazon Bedrock - Retrieve API. Here, we will query the knowledge base to get the desired number of document chunks based on similarity search. We will then augment the prompt with relevant documents and query which will go as input to Anthropic Claude V2 for generating response.\n",
    "\n",
    "With a knowledge base, you can securely connect foundation models (FMs) in Amazon Bedrock to your company\n",
    "data for Retrieval Augmented Generation (RAG). Access to additional data helps the model generate more relevant,\n",
    "context-speciﬁc, and accurate responses without continuously retraining the FM. All information retrieved from\n",
    "knowledge bases comes with source attribution to improve transparency and minimize hallucinations. For more information on creating a knowledge base using console, please refer to this [post](https://docs.aws.amazon.com/bedrock/latest/userguide/knowledge-base.html).\n",
    "We will cover 2 parts in the notebook:\n",
    "- Part 1, we will share how you can use `RetrieveAPI` with foundation models from Amazon Bedrock. We will use the `anthropic.claude-3-sonnet-20240229-v1:0` model. \n",
    "- Part 2, we will showcase the langchain integration.\n",
    "\n",
    "### Pattern\n",
    "\n",
    "We can implement the solution using Retreival Augmented Generation (RAG) pattern. RAG retrieves data from outside the language model (non-parametric) and augments the prompts by adding the relevant retrieved data in context. Here, we are performing RAG effectively on the knowledge base created using console/sdk. \n",
    "\n",
    "### Pre-requisite\n",
    "\n",
    "Before being able to answer the questions, the documents must be processed and ingested in vector database.\n",
    "\n",
    "1. Load the documents into the knowledge base by connecting your s3 bucket (data source). \n",
    "2. Ingestion - Knowledge bases will split them into smaller chunks (based on the strategy selected), generate embeddings and store it in the associated vectore store and notebook [0_create_ingest_documents_test_kb.ipynb](./0\\_create_ingest_documents_test_kb.ipynb) takes care of it for you.\n",
    "\n",
    "![data_ingestion](./images/data_ingestion.png)\n",
    "\n",
    "\n",
    "#### Notebook Walkthrough\n",
    "\n",
    "\n",
    "\n",
    "For our notebook we will use the `Retreive API` provided by Knowledge Bases for Amazon Bedrock which converts user queries into\n",
    "embeddings, searches the knowledge base, and returns the relevant results, giving you more control to build custom\n",
    "workﬂows on top of the semantic search results. The output of the `Retrieve API` includes the the `retrieved text chunks`, the `location type` and `URI` of the source data, as well as the relevance `scores` of the retrievals. \n",
    "\n",
    "\n",
    "We will then use the text chunks being generated and augment it with the original prompt and pass it through the `anthropic.claude-3-sonnet-20240229-v1:0` model using prompt engineering patterns based on your use case.\n",
    "    \n",
    "\n",
    "### USE CASE:\n",
    "\n",
    "#### Dataset\n",
    "\n",
    "In this example, you will use several years of Amazon's Letter to Shareholders as a text corpus to perform Q&A on. This data is already ingested into the Knowledge Bases for Amazon Bedrock. You will need the `knowledge base id` to run this example.\n",
    "In your specific use case, you can sync different files for different domain topics and query this notebook in the same manner to evaluate model responses using the retrieve API from knowledge bases.\n",
    "\n",
    "\n",
    "### Python 3.10\n",
    "\n",
    "⚠  For this lab we need to run the notebook based on a Python 3.10 runtime. ⚠\n",
    "\n",
    "If you carry out the workshop from your local environment outside of the Amazon SageMaker studio please make sure you are running a Python runtime > 3.10.\n",
    "\n",
    "### Setup\n",
    "\n",
    "To run this notebook you would need to install following packages.\n"
   ]
  },
  {
   "cell_type": "code",
   "execution_count": 2,
   "metadata": {
    "tags": []
   },
   "outputs": [
    {
     "name": "stdout",
     "output_type": "stream",
     "text": [
      "Requirement already satisfied: pip in /opt/conda/lib/python3.10/site-packages (24.0)\n",
      "\u001b[33mWARNING: Running pip as the 'root' user can result in broken permissions and conflicting behaviour with the system package manager. It is recommended to use a virtual environment instead: https://pip.pypa.io/warnings/venv\u001b[0m\u001b[33m\n",
      "\u001b[0mNote: you may need to restart the kernel to use updated packages.\n",
      "\u001b[31mERROR: pip's dependency resolver does not currently take into account all the packages that are installed. This behaviour is the source of the following dependency conflicts.\n",
      "awscli 1.32.84 requires botocore==1.34.84, but you have botocore 1.34.122 which is incompatible.\n",
      "opensearch-py 2.3.1 requires urllib3<2,>=1.21.1, but you have urllib3 2.2.1 which is incompatible.\n",
      "sagemaker-datawrangler 0.4.3 requires sagemaker-data-insights==0.4.0, but you have sagemaker-data-insights 0.3.3 which is incompatible.\n",
      "sphinx 7.2.6 requires docutils<0.21,>=0.18.1, but you have docutils 0.16 which is incompatible.\u001b[0m\u001b[31m\n",
      "\u001b[0m\u001b[33mWARNING: Running pip as the 'root' user can result in broken permissions and conflicting behaviour with the system package manager. It is recommended to use a virtual environment instead: https://pip.pypa.io/warnings/venv\u001b[0m\u001b[33m\n",
      "\u001b[0mNote: you may need to restart the kernel to use updated packages.\n",
      "\u001b[31mERROR: pip's dependency resolver does not currently take into account all the packages that are installed. This behaviour is the source of the following dependency conflicts.\n",
      "awscli 1.32.84 requires botocore==1.34.84, but you have botocore 1.34.122 which is incompatible.\n",
      "opensearch-py 2.3.1 requires urllib3<2,>=1.21.1, but you have urllib3 2.2.1 which is incompatible.\n",
      "sagemaker-datawrangler 0.4.3 requires sagemaker-data-insights==0.4.0, but you have sagemaker-data-insights 0.3.3 which is incompatible.\n",
      "sphinx 7.2.6 requires docutils<0.21,>=0.18.1, but you have docutils 0.16 which is incompatible.\u001b[0m\u001b[31m\n",
      "\u001b[0m\u001b[33mWARNING: Running pip as the 'root' user can result in broken permissions and conflicting behaviour with the system package manager. It is recommended to use a virtual environment instead: https://pip.pypa.io/warnings/venv\u001b[0m\u001b[33m\n",
      "\u001b[0mNote: you may need to restart the kernel to use updated packages.\n",
      "\u001b[31mERROR: pip's dependency resolver does not currently take into account all the packages that are installed. This behaviour is the source of the following dependency conflicts.\n",
      "awscli 1.32.84 requires botocore==1.34.84, but you have botocore 1.34.122 which is incompatible.\n",
      "langchain-community 0.0.38 requires langchain-core<0.2.0,>=0.1.52, but you have langchain-core 0.2.5 which is incompatible.\n",
      "opensearch-py 2.3.1 requires urllib3<2,>=1.21.1, but you have urllib3 2.2.1 which is incompatible.\n",
      "sagemaker-datawrangler 0.4.3 requires sagemaker-data-insights==0.4.0, but you have sagemaker-data-insights 0.3.3 which is incompatible.\n",
      "sphinx 7.2.6 requires docutils<0.21,>=0.18.1, but you have docutils 0.16 which is incompatible.\u001b[0m\u001b[31m\n",
      "\u001b[0m\u001b[33mWARNING: Running pip as the 'root' user can result in broken permissions and conflicting behaviour with the system package manager. It is recommended to use a virtual environment instead: https://pip.pypa.io/warnings/venv\u001b[0m\u001b[33m\n",
      "\u001b[0mNote: you may need to restart the kernel to use updated packages.\n"
     ]
    }
   ],
   "source": [
    "%pip install --upgrade pip\n",
    "%pip install boto3 --force-reinstall --quiet\n",
    "%pip install botocore --force-reinstall --quiet\n",
    "%pip install langchain --force-reinstall --quiet"
   ]
  },
  {
   "cell_type": "markdown",
   "metadata": {},
   "source": [
    "#### Restart the kernel with the updated packages that are installed through the dependencies above"
   ]
  },
  {
   "cell_type": "code",
   "execution_count": 3,
   "metadata": {
    "tags": []
   },
   "outputs": [
    {
     "data": {
      "text/html": [
       "<script>Jupyter.notebook.kernel.restart()</script>"
      ],
      "text/plain": [
       "<IPython.core.display.HTML object>"
      ]
     },
     "execution_count": 3,
     "metadata": {},
     "output_type": "execute_result"
    }
   ],
   "source": [
    "# restart kernel\n",
    "from IPython.core.display import HTML\n",
    "HTML(\"<script>Jupyter.notebook.kernel.restart()</script>\")"
   ]
  },
  {
   "cell_type": "code",
   "execution_count": 4,
   "metadata": {
    "collapsed": false,
    "jupyter": {
     "outputs_hidden": false
    },
    "tags": []
   },
   "outputs": [],
   "source": [
    "%store -r kb_id\n",
    "# kb_id = \"<knowledge base id>\" If you have already created knowledge base, comment the `store -r kb_id` and provide knowledge base id here."
   ]
  },
  {
   "cell_type": "markdown",
   "metadata": {},
   "source": [
    "### Follow the steps below to initiate the bedrock client:\n",
    "\n",
    "1. Import the necessary libraries, along with langchain for bedrock model selection, llama index to store the service context containing the llm and embedding model instances. We will use this service context later in the notebook for evaluating the responses from our Q&A application. \n",
    "\n",
    "2. Initialize `anthropic.claude-3-sonnet-20240229-v1:0` as our large language model to perform query completions using the RAG pattern with the given knowledge base, once we get all text chunk searches through the `retrieve` API."
   ]
  },
  {
   "cell_type": "code",
   "execution_count": 5,
   "metadata": {
    "tags": []
   },
   "outputs": [
    {
     "name": "stdout",
     "output_type": "stream",
     "text": [
      "us-west-2\n"
     ]
    }
   ],
   "source": [
    "import boto3\n",
    "import pprint\n",
    "from botocore.client import Config\n",
    "import json\n",
    "\n",
    "pp = pprint.PrettyPrinter(indent=2)\n",
    "session = boto3.session.Session()\n",
    "region = session.region_name\n",
    "bedrock_config = Config(connect_timeout=120, read_timeout=120, retries={'max_attempts': 0})\n",
    "bedrock_client = boto3.client('bedrock-runtime', region_name = region)\n",
    "bedrock_agent_client = boto3.client(\"bedrock-agent-runtime\",\n",
    "                              config=bedrock_config, region_name = region)\n",
    "print(region)"
   ]
  },
  {
   "cell_type": "markdown",
   "metadata": {},
   "source": [
    "### Part 1 - Retrieve API with foundation models from Amazon Bedrock\n",
    "\n",
    "Define a retrieve function that calls the `Retreive API` provided by Knowledge Bases for Amazon Bedrock which converts user queries into\n",
    "embeddings, searches the knowledge base, and returns the relevant results, giving you more control to build custom\n",
    "workﬂows on top of the semantic search results. The output of the `Retrieve API` includes the the `retrieved text chunks`, the `location type` and `URI` of the source data, as well as the relevance `scores` of the retrievals. You can also use the  `overrideSearchType` option in `retrievalConfiguration` which offers the choice to use either `HYBRID` or `SEMANTIC`. By default, it will select the right strategy for you to give you most relevant results, and if you want to override the default option to use either hybrid or semantic search, you can set the value to `HYBRID/SEMANTIC`.\n",
    "\n",
    "![retrieveAPI](./images/retrieveAPI.png)\n",
    "\n"
   ]
  },
  {
   "cell_type": "code",
   "execution_count": 6,
   "metadata": {
    "tags": []
   },
   "outputs": [],
   "source": [
    "def retrieve(query, kbId, numberOfResults=5):\n",
    "    return bedrock_agent_client.retrieve(\n",
    "        retrievalQuery= {\n",
    "            'text': query\n",
    "        },\n",
    "        knowledgeBaseId=kbId,\n",
    "        retrievalConfiguration= {\n",
    "            'vectorSearchConfiguration': {\n",
    "                'numberOfResults': numberOfResults,\n",
    "                'overrideSearchType': \"HYBRID\", # optional\n",
    "            }\n",
    "        }\n",
    "    )"
   ]
  },
  {
   "cell_type": "markdown",
   "metadata": {},
   "source": [
    "#### Initialize your Knowledge base id before querying responses from the initialized LLM"
   ]
  },
  {
   "cell_type": "markdown",
   "metadata": {},
   "source": [
    "Next, we will call the `retreive API`, and pass `knowledge base id`, `number of results` and `query` as paramters. \n",
    "\n",
    "`score`: You can view the associated score of each of the text chunk that was returned which depicts its correlation to the query in terms of how closely it matches it."
   ]
  },
  {
   "cell_type": "code",
   "execution_count": 7,
   "metadata": {
    "collapsed": false,
    "jupyter": {
     "outputs_hidden": false
    },
    "tags": []
   },
   "outputs": [
    {
     "name": "stdout",
     "output_type": "stream",
     "text": [
      "[ { 'content': { 'text': 'This shift was driven by several factors, including '\n",
      "                         'access to higher volumes of compute capacity at '\n",
      "                         'lower prices than was ever available. Amazon has '\n",
      "                         'been using machine learning extensively for 25 '\n",
      "                         'years, employing it in everything from personalized '\n",
      "                         'ecommerce recommendations, to fulfillment center '\n",
      "                         'pick paths, to drones for Prime Air, to Alexa, to '\n",
      "                         'the many machine learning services AWS offers (where '\n",
      "                         'AWS has the broadest machine learning functionality '\n",
      "                         'and customer base of any cloud provider). More '\n",
      "                         'recently, a newer form of machine learning, called '\n",
      "                         'Generative AI, has burst onto the scene and promises '\n",
      "                         'to significantly accelerate machine learning '\n",
      "                         'adoption. Generative AI is based on very Large '\n",
      "                         'Language Models (trained on up to hundreds of '\n",
      "                         'billions of parameters, and growing), across '\n",
      "                         'expansive datasets, and has radically general and '\n",
      "                         'broad recall and learning capabilities. We have been '\n",
      "                         'working on our own LLMs for a while now, believe it '\n",
      "                         'will transform and improve virtually every customer '\n",
      "                         'experience, and will continue to invest '\n",
      "                         'substantially in these models across all of our '\n",
      "                         'consumer, seller, brand, and creator experiences. '\n",
      "                         'Additionally, as we’ve done for years in AWS, we’re '\n",
      "                         'democratizing this technology so companies of all '\n",
      "                         'sizes can leverage Generative AI. AWS is offering '\n",
      "                         'the most price-performant machine learning chips in '\n",
      "                         'Trainium and Inferentia so small and large companies '\n",
      "                         'can afford to train and run their LLMs in '\n",
      "                         'production. We enable companies to choose from '\n",
      "                         'various LLMs and build applications with all of the '\n",
      "                         'AWS security, privacy and other features that '\n",
      "                         'customers are accustomed to using. And, we’re '\n",
      "                         'delivering applications like AWS’s CodeWhisperer, '\n",
      "                         'which revolutionizes        developer productivity '\n",
      "                         'by generating code suggestions in real time. I could '\n",
      "                         'write an entire letter on LLMs and Generative AI as '\n",
      "                         'I think they will be that transformative, but I’ll '\n",
      "                         'leave that for a future letter. Let’s just say that '\n",
      "                         'LLMs and Generative AI are going to be a big deal '\n",
      "                         'for customers, our shareholders, and Amazon.   So, '\n",
      "                         'in closing, I’m optimistic that we’ll emerge from '\n",
      "                         'this challenging macroeconomic time in a stronger '\n",
      "                         'position than when we entered it. There are several '\n",
      "                         'reasons for it and I’ve mentioned many of them '\n",
      "                         'above. But, there are two relatively simple '\n",
      "                         'statistics that underline our immense future '\n",
      "                         'opportunity. While we have a consumer business '\n",
      "                         'that’s $434B in 2022, the vast majority of total '\n",
      "                         'market segment share in global retail still resides '\n",
      "                         'in physical stores (roughly 80%).'},\n",
      "    'location': { 's3Location': { 'uri': 's3://bedrock-kb-us-west-2-061516707533/AMZN-2022-Shareholder-Letter.pdf'},\n",
      "                  'type': 'S3'},\n",
      "    'metadata': { 'x-amz-bedrock-kb-source-uri': 's3://bedrock-kb-us-west-2-061516707533/AMZN-2022-Shareholder-Letter.pdf'},\n",
      "    'score': 0.6181775},\n",
      "  { 'content': { 'text': 'Our Inferentia2 chip, which just launched, offers up '\n",
      "                         'to four times higher throughput and ten times lower '\n",
      "                         'latency than our first Inferentia processor. With '\n",
      "                         'the enormous upcoming growth in machine learning, '\n",
      "                         'customers will be able to get a lot more done with '\n",
      "                         'AWS’s training and inference chips at a '\n",
      "                         'significantly lower cost. We’re not close to being '\n",
      "                         'done innovating here, and this long-term investment '\n",
      "                         'should prove fruitful for both customers and AWS. '\n",
      "                         'AWS is still in the early stages of its evolution, '\n",
      "                         'and has a chance for unusual growth in the next '\n",
      "                         'decade.   Similarly high potential, Amazon’s '\n",
      "                         'Advertising business is uniquely effective for '\n",
      "                         'brands, which is part of why it continues to grow at '\n",
      "                         'a brisk clip. Akin to physical retailers’ '\n",
      "                         'advertising businesses selling shelf space, end- '\n",
      "                         'caps, and placement in their circulars, our '\n",
      "                         'sponsored products and brands offerings have been an '\n",
      "                         'integral part        of the Amazon shopping '\n",
      "                         'experience for more than a decade. However, unlike '\n",
      "                         'physical retailers, Amazon can tailor these '\n",
      "                         'sponsored products to be relevant to what customers '\n",
      "                         'are searching for given what we know about shopping '\n",
      "                         'behaviors and our very deep investment in machine '\n",
      "                         'learning algorithms. This leads to advertising '\n",
      "                         'that’s more useful for customers; and as a result, '\n",
      "                         'performs better for brands. This is part of why our '\n",
      "                         'Advertising revenue has continued to grow rapidly '\n",
      "                         '(23% YoY in Q4 2022, 25% YoY overall for 2022 on a '\n",
      "                         '$31B revenue base), even as most large '\n",
      "                         'advertising-focused businesses’ growth have slowed '\n",
      "                         'over the last several quarters.   We strive to be '\n",
      "                         'the best place for advertisers to build their '\n",
      "                         'brands. We have near and long-term opportunities '\n",
      "                         'that will help us achieve that mission. We’re '\n",
      "                         'continuing to make large investments in machine '\n",
      "                         'learning to keep honing our advertising selection '\n",
      "                         'algorithms. For the past couple of years, we’ve '\n",
      "                         'invested in building comprehensive, flexible, and '\n",
      "                         'durable planning and measurement solutions, giving '\n",
      "                         'marketers greater insight into advertising '\n",
      "                         'effectiveness. An example is Amazon Marketing Cloud '\n",
      "                         '(“AMC”). AMC is a “clean room” (i.e. secure digital '\n",
      "                         'environment) in which advertisers can run custom '\n",
      "                         'audience and campaign analytics across a range of '\n",
      "                         'first and third-party inputs, in a privacy-safe '\n",
      "                         'manner, to generate advertising and business '\n",
      "                         'insights to inform their broader marketing and sales '\n",
      "                         'strategies.'},\n",
      "    'location': { 's3Location': { 'uri': 's3://bedrock-kb-us-west-2-061516707533/AMZN-2022-Shareholder-Letter.pdf'},\n",
      "                  'type': 'S3'},\n",
      "    'metadata': { 'x-amz-bedrock-kb-source-uri': 's3://bedrock-kb-us-west-2-061516707533/AMZN-2022-Shareholder-Letter.pdf'},\n",
      "    'score': 0.5592909},\n",
      "  { 'content': { 'text': 'The list of what we’ve invented and delivered for '\n",
      "                         'customers in EC2 (and AWS in general) is pretty '\n",
      "                         'mind-boggling, and this iterative approach to '\n",
      "                         'innovation has not only given customers much more '\n",
      "                         'functionality in AWS than they can find anywhere '\n",
      "                         'else (which is a significant differentiator), but '\n",
      "                         'also allowed us to arrive at the much more '\n",
      "                         'game-changing offering that AWS is today.   Devices: '\n",
      "                         'Our first foray into devices was the Kindle, '\n",
      "                         'released in 2007. It was not the most sophisticated '\n",
      "                         'industrial design (it was creamy white in color and '\n",
      "                         'the corners were uncomfortable for some people to '\n",
      "                         'hold), but revolutionary because it offered '\n",
      "                         'customers the ability to download any of over 90,000 '\n",
      "                         'books (now millions) in 60 seconds—and we got better '\n",
      "                         'and faster at building attractive designs. Shortly '\n",
      "                         'thereafter, we launched a tablet, and then a phone '\n",
      "                         '(with the distinguishing feature of having '\n",
      "                         'front-facing cameras and a gyroscope to give '\n",
      "                         'customers a dynamic perspective along with varied 3D '\n",
      "                         'experiences). The phone was unsuccessful, and though '\n",
      "                         'we determined we were probably too late to this '\n",
      "                         'party and directed these resources elsewhere, we '\n",
      "                         'hired some fantastic long-term builders and learned '\n",
      "                         'valuable lessons from this failure that have served '\n",
      "                         'us well in devices like Echo and FireTV.   When I '\n",
      "                         'think of the first Echo device—and what Alexa could '\n",
      "                         'do for customers at that point—it was noteworthy, '\n",
      "                         'yet so much less capable than what’s possible today. '\n",
      "                         'Today, there are hundreds of millions of '\n",
      "                         'Alexa-enabled devices out there (in homes, offices, '\n",
      "                         'cars, hotel rooms, Amazon Echo devices, and '\n",
      "                         'third-party manufacturer devices); you can listen to '\n",
      "                         'music—or watch videos now; you can control your '\n",
      "                         'lights and home automation; you can create routines '\n",
      "                         'like “Start My Day” where Alexa tells you the '\n",
      "                         'weather, your estimated commute time based on '\n",
      "                         'current traffic, then plays the news; you can easily '\n",
      "                         'order retail items on Amazon; you can get general or '\n",
      "                         'customized news, updates on sporting events and '\n",
      "                         'related stats—and we’re still quite early with '\n",
      "                         'respect to what Alexa and Alexa-related devices will '\n",
      "                         'do for customers. Our goal is for Alexa to be the '\n",
      "                         'world’s most helpful and resourceful personal '\n",
      "                         'assistant, who makes people’s lives meaningfully '\n",
      "                         'easier and better. We have a lot more inventing and '\n",
      "                         'iterating to go, but customers continue to indicate '\n",
      "                         'that we’re on the right path. We have several other '\n",
      "                         'devices at varying stages of evolution (e.g.'},\n",
      "    'location': { 's3Location': { 'uri': 's3://bedrock-kb-us-west-2-061516707533/AMZN-2021-Shareholder-Letter.pdf'},\n",
      "                  'type': 'S3'},\n",
      "    'metadata': { 'x-amz-bedrock-kb-source-uri': 's3://bedrock-kb-us-west-2-061516707533/AMZN-2021-Shareholder-Letter.pdf'},\n",
      "    'score': 0.5357437},\n",
      "  { 'content': { 'text': 'But, we still have a ways to go, and we’ll approach '\n",
      "                         'it like we do other customer experiences—we’ll keep '\n",
      "                         'learning, inventing, and iterating until we have '\n",
      "                         'more transformational results. We won’t be satisfied '\n",
      "                         'until we do.   Similarly, at our scale, we have a '\n",
      "                         'significant carbon footprint. It’s a big part of why '\n",
      "                         'we created The Climate Pledge a few years ago (a '\n",
      "                         'pledge to be net-zero carbon by 2040, ten years '\n",
      "                         'ahead of the Paris Agreement). We’re making '\n",
      "                         'significant progress on this effort (we’re committed '\n",
      "                         'to powering our operations with 100% renewable '\n",
      "                         'energy by 2025—five years ahead of our original '\n",
      "                         'target of 2030, we have ordered over 100,000 '\n",
      "                         'electric vans to deliver packages, and have over 300 '\n",
      "                         'companies who’ve joined us in The Climate Pledge). '\n",
      "                         'But, we have a different challenge than most '\n",
      "                         'companies given the diversity and intensity of our '\n",
      "                         'operations (including shipping billions of packages '\n",
      "                         'per year). We’re committed to the challenge, but it '\n",
      "                         'will take relentless invention.   We also are trying '\n",
      "                         'to increase the amount of affordable housing in the '\n",
      "                         'communities in which we have a large presence. Our '\n",
      "                         'more than $2 billion Housing Equity Fund that we '\n",
      "                         'started a year ago has already allocated $1.2 '\n",
      "                         'billion toward affordable housing initiatives in the '\n",
      "                         'areas around Washington state’s Puget Sound region, '\n",
      "                         'Arlington (Virginia), and Nashville (Tennessee).   A '\n",
      "                         'final quick example is Kuiper, our low Earth orbit '\n",
      "                         'satellite network that we’re spending over $10 '\n",
      "                         'billion to build in the next several years. Kuiper '\n",
      "                         'will serve customers with minimal to no fixed '\n",
      "                         'broadband connectivity, changing access to '\n",
      "                         'information and resources for many communities '\n",
      "                         '(analysts estimate approximately 300- 400 million '\n",
      "                         'customers globally are in this category). We’re '\n",
      "                         'optimistic that there is a pretty good business '\n",
      "                         'model for us too, but we’ll see—and it’s a real game '\n",
      "                         'changer for underserved families and businesses that '\n",
      "                         'will unfold over many years as we keep evolving its '\n",
      "                         'capabilities.   This type of iterative innovation is '\n",
      "                         'pervasive across every team at Amazon. I could have '\n",
      "                         'given comparable examples in Advertising, Grocery, '\n",
      "                         'Gaming, Amazon Music, Amazon Care (our telemedicine '\n",
      "                         'offering), or Pharmacy, to name a few. All of these '\n",
      "                         'stories are still being written as we rapidly '\n",
      "                         'experiment, learn, and continue to try to make our '\n",
      "                         'customer experience better every day.   If this '\n",
      "                         'approach sounds appealing, a natural question is '\n",
      "                         'what’s required to get good at it?'},\n",
      "    'location': { 's3Location': { 'uri': 's3://bedrock-kb-us-west-2-061516707533/AMZN-2021-Shareholder-Letter.pdf'},\n",
      "                  'type': 'S3'},\n",
      "    'metadata': { 'x-amz-bedrock-kb-source-uri': 's3://bedrock-kb-us-west-2-061516707533/AMZN-2021-Shareholder-Letter.pdf'},\n",
      "    'score': 0.5219166},\n",
      "  { 'content': { 'text': 'Amazon Business launched in 2015 and today drives '\n",
      "                         'roughly $35B in annualized gross sales. More than '\n",
      "                         'six million active customers, including 96 of the '\n",
      "                         'global Fortune 100 companies, are enjoying Amazon '\n",
      "                         'Business’ one-stop shopping, real-time analytics, '\n",
      "                         'and broad selection on hundreds of millions of '\n",
      "                         'business supplies. We believe that we’ve only '\n",
      "                         'scratched the surface of what’s possible to date, '\n",
      "                         'and plan to keep building the features our business '\n",
      "                         'customers tell us they need and want.   While many '\n",
      "                         'brands and merchants successfully sell their '\n",
      "                         'products on Amazon’s marketplace, there are also a '\n",
      "                         'large number of brands and sellers who have launched '\n",
      "                         'their own direct-to-consumer websites. One of the '\n",
      "                         'challenges for these merchants is driving conversion '\n",
      "                         'from views to purchases. We invented Buy with Prime '\n",
      "                         'to help with this challenge. Buy with Prime allows '\n",
      "                         'third-party brands and sellers to offer their '\n",
      "                         'products on their own websites to our large Amazon '\n",
      "                         'Prime membership, and offer those customers fast, '\n",
      "                         'free Prime shipping and seamless checkout with their '\n",
      "                         'Amazon account. Buy with Prime provides merchants '\n",
      "                         'several additional benefits, including Amazon '\n",
      "                         'handling the product storage, picking, packing, '\n",
      "                         'delivery, payment, and any returns, all through '\n",
      "                         'Amazon Pay and Fulfillment by Amazon. Buy with Prime '\n",
      "                         'has recently been made available to all US '\n",
      "                         'merchants; and so far, Buy with Prime has increased '\n",
      "                         'shopper conversion on third-party shopping sites by '\n",
      "                         '25% on average. Merchants are excited about '\n",
      "                         'converting more sales and fulfilling these shipments '\n",
      "                         'more easily, Prime members love that they can use '\n",
      "                         'their Prime benefits on more destinations, and Buy '\n",
      "                         'with Prime allows us to improve the shopping '\n",
      "                         'experience across more of the web.   Expanding '\n",
      "                         'internationally, pursuing large retail market '\n",
      "                         'segments that are still nascent for Amazon, and '\n",
      "                         'using our unique assets to help merchants sell more '\n",
      "                         'effectively on their own websites are somewhat '\n",
      "                         'natural extensions for us. There are also a few '\n",
      "                         'investments we’re making that are further from our '\n",
      "                         'core businesses, but where we see unique '\n",
      "                         'opportunity. In 2003, AWS would have been a classic '\n",
      "                         'example. In 2023, Amazon Healthcare and Kuiper are '\n",
      "                         'potential analogues.   Our initial efforts in '\n",
      "                         'Healthcare began with pharmacy, which felt less like '\n",
      "                         'a major departure from ecommerce. For years, Amazon '\n",
      "                         'customers had asked us when we’d offer them an '\n",
      "                         'online pharmacy as their frustrations mounted with '\n",
      "                         'current providers. Launched in 2020, Amazon Pharmacy '\n",
      "                         'is a full-service, online pharmacy that offers '\n",
      "                         'transparent pricing, easy refills, and savings for '\n",
      "                         'Prime members. The business is growing quickly, and '\n",
      "                         'continues to innovate.'},\n",
      "    'location': { 's3Location': { 'uri': 's3://bedrock-kb-us-west-2-061516707533/AMZN-2022-Shareholder-Letter.pdf'},\n",
      "                  'type': 'S3'},\n",
      "    'metadata': { 'x-amz-bedrock-kb-source-uri': 's3://bedrock-kb-us-west-2-061516707533/AMZN-2022-Shareholder-Letter.pdf'},\n",
      "    'score': 0.5214082}]\n"
     ]
    }
   ],
   "source": [
    "query = \"What is Amazon doing in the field of Generative AI?\"\n",
    "response = retrieve(query, kb_id, 5)\n",
    "retrievalResults = response['retrievalResults']\n",
    "pp.pprint(retrievalResults)"
   ]
  },
  {
   "cell_type": "markdown",
   "metadata": {},
   "source": [
    "### Extract the text chunks from the retrieveAPI response\n",
    "\n",
    "In the cell below, we will fetch the context from the retrieval results."
   ]
  },
  {
   "cell_type": "code",
   "execution_count": 8,
   "metadata": {
    "tags": []
   },
   "outputs": [],
   "source": [
    "# fetch context from the response\n",
    "def get_contexts(retrievalResults):\n",
    "    contexts = []\n",
    "    for retrievedResult in retrievalResults: \n",
    "        contexts.append(retrievedResult['content']['text'])\n",
    "    return contexts"
   ]
  },
  {
   "cell_type": "code",
   "execution_count": 9,
   "metadata": {
    "tags": []
   },
   "outputs": [
    {
     "name": "stdout",
     "output_type": "stream",
     "text": [
      "[ 'This shift was driven by several factors, including access to higher '\n",
      "  'volumes of compute capacity at lower prices than was ever available. Amazon '\n",
      "  'has been using machine learning extensively for 25 years, employing it in '\n",
      "  'everything from personalized ecommerce recommendations, to fulfillment '\n",
      "  'center pick paths, to drones for Prime Air, to Alexa, to the many machine '\n",
      "  'learning services AWS offers (where AWS has the broadest machine learning '\n",
      "  'functionality and customer base of any cloud provider). More recently, a '\n",
      "  'newer form of machine learning, called Generative AI, has burst onto the '\n",
      "  'scene and promises to significantly accelerate machine learning adoption. '\n",
      "  'Generative AI is based on very Large Language Models (trained on up to '\n",
      "  'hundreds of billions of parameters, and growing), across expansive '\n",
      "  'datasets, and has radically general and broad recall and learning '\n",
      "  'capabilities. We have been working on our own LLMs for a while now, believe '\n",
      "  'it will transform and improve virtually every customer experience, and will '\n",
      "  'continue to invest substantially in these models across all of our '\n",
      "  'consumer, seller, brand, and creator experiences. Additionally, as we’ve '\n",
      "  'done for years in AWS, we’re democratizing this technology so companies of '\n",
      "  'all sizes can leverage Generative AI. AWS is offering the most '\n",
      "  'price-performant machine learning chips in Trainium and Inferentia so small '\n",
      "  'and large companies can afford to train and run their LLMs in production. '\n",
      "  'We enable companies to choose from various LLMs and build applications with '\n",
      "  'all of the AWS security, privacy and other features that customers are '\n",
      "  'accustomed to using. And, we’re delivering applications like AWS’s '\n",
      "  'CodeWhisperer, which revolutionizes        developer productivity by '\n",
      "  'generating code suggestions in real time. I could write an entire letter on '\n",
      "  'LLMs and Generative AI as I think they will be that transformative, but '\n",
      "  'I’ll leave that for a future letter. Let’s just say that LLMs and '\n",
      "  'Generative AI are going to be a big deal for customers, our shareholders, '\n",
      "  'and Amazon.   So, in closing, I’m optimistic that we’ll emerge from this '\n",
      "  'challenging macroeconomic time in a stronger position than when we entered '\n",
      "  'it. There are several reasons for it and I’ve mentioned many of them above. '\n",
      "  'But, there are two relatively simple statistics that underline our immense '\n",
      "  'future opportunity. While we have a consumer business that’s $434B in 2022, '\n",
      "  'the vast majority of total market segment share in global retail still '\n",
      "  'resides in physical stores (roughly 80%).',\n",
      "  'Our Inferentia2 chip, which just launched, offers up to four times higher '\n",
      "  'throughput and ten times lower latency than our first Inferentia processor. '\n",
      "  'With the enormous upcoming growth in machine learning, customers will be '\n",
      "  'able to get a lot more done with AWS’s training and inference chips at a '\n",
      "  'significantly lower cost. We’re not close to being done innovating here, '\n",
      "  'and this long-term investment should prove fruitful for both customers and '\n",
      "  'AWS. AWS is still in the early stages of its evolution, and has a chance '\n",
      "  'for unusual growth in the next decade.   Similarly high potential, Amazon’s '\n",
      "  'Advertising business is uniquely effective for brands, which is part of why '\n",
      "  'it continues to grow at a brisk clip. Akin to physical retailers’ '\n",
      "  'advertising businesses selling shelf space, end- caps, and placement in '\n",
      "  'their circulars, our sponsored products and brands offerings have been an '\n",
      "  'integral part        of the Amazon shopping experience for more than a '\n",
      "  'decade. However, unlike physical retailers, Amazon can tailor these '\n",
      "  'sponsored products to be relevant to what customers are searching for given '\n",
      "  'what we know about shopping behaviors and our very deep investment in '\n",
      "  'machine learning algorithms. This leads to advertising that’s more useful '\n",
      "  'for customers; and as a result, performs better for brands. This is part of '\n",
      "  'why our Advertising revenue has continued to grow rapidly (23% YoY in Q4 '\n",
      "  '2022, 25% YoY overall for 2022 on a $31B revenue base), even as most large '\n",
      "  'advertising-focused businesses’ growth have slowed over the last several '\n",
      "  'quarters.   We strive to be the best place for advertisers to build their '\n",
      "  'brands. We have near and long-term opportunities that will help us achieve '\n",
      "  'that mission. We’re continuing to make large investments in machine '\n",
      "  'learning to keep honing our advertising selection algorithms. For the past '\n",
      "  'couple of years, we’ve invested in building comprehensive, flexible, and '\n",
      "  'durable planning and measurement solutions, giving marketers greater '\n",
      "  'insight into advertising effectiveness. An example is Amazon Marketing '\n",
      "  'Cloud (“AMC”). AMC is a “clean room” (i.e. secure digital environment) in '\n",
      "  'which advertisers can run custom audience and campaign analytics across a '\n",
      "  'range of first and third-party inputs, in a privacy-safe manner, to '\n",
      "  'generate advertising and business insights to inform their broader '\n",
      "  'marketing and sales strategies.',\n",
      "  'The list of what we’ve invented and delivered for customers in EC2 (and AWS '\n",
      "  'in general) is pretty mind-boggling, and this iterative approach to '\n",
      "  'innovation has not only given customers much more functionality in AWS than '\n",
      "  'they can find anywhere else (which is a significant differentiator), but '\n",
      "  'also allowed us to arrive at the much more game-changing offering that AWS '\n",
      "  'is today.   Devices: Our first foray into devices was the Kindle, released '\n",
      "  'in 2007. It was not the most sophisticated industrial design (it was creamy '\n",
      "  'white in color and the corners were uncomfortable for some people to hold), '\n",
      "  'but revolutionary because it offered customers the ability to download any '\n",
      "  'of over 90,000 books (now millions) in 60 seconds—and we got better and '\n",
      "  'faster at building attractive designs. Shortly thereafter, we launched a '\n",
      "  'tablet, and then a phone (with the distinguishing feature of having '\n",
      "  'front-facing cameras and a gyroscope to give customers a dynamic '\n",
      "  'perspective along with varied 3D experiences). The phone was unsuccessful, '\n",
      "  'and though we determined we were probably too late to this party and '\n",
      "  'directed these resources elsewhere, we hired some fantastic long-term '\n",
      "  'builders and learned valuable lessons from this failure that have served us '\n",
      "  'well in devices like Echo and FireTV.   When I think of the first Echo '\n",
      "  'device—and what Alexa could do for customers at that point—it was '\n",
      "  'noteworthy, yet so much less capable than what’s possible today. Today, '\n",
      "  'there are hundreds of millions of Alexa-enabled devices out there (in '\n",
      "  'homes, offices, cars, hotel rooms, Amazon Echo devices, and third-party '\n",
      "  'manufacturer devices); you can listen to music—or watch videos now; you can '\n",
      "  'control your lights and home automation; you can create routines like '\n",
      "  '“Start My Day” where Alexa tells you the weather, your estimated commute '\n",
      "  'time based on current traffic, then plays the news; you can easily order '\n",
      "  'retail items on Amazon; you can get general or customized news, updates on '\n",
      "  'sporting events and related stats—and we’re still quite early with respect '\n",
      "  'to what Alexa and Alexa-related devices will do for customers. Our goal is '\n",
      "  'for Alexa to be the world’s most helpful and resourceful personal '\n",
      "  'assistant, who makes people’s lives meaningfully easier and better. We have '\n",
      "  'a lot more inventing and iterating to go, but customers continue to '\n",
      "  'indicate that we’re on the right path. We have several other devices at '\n",
      "  'varying stages of evolution (e.g.',\n",
      "  'But, we still have a ways to go, and we’ll approach it like we do other '\n",
      "  'customer experiences—we’ll keep learning, inventing, and iterating until we '\n",
      "  'have more transformational results. We won’t be satisfied until we do.   '\n",
      "  'Similarly, at our scale, we have a significant carbon footprint. It’s a big '\n",
      "  'part of why we created The Climate Pledge a few years ago (a pledge to be '\n",
      "  'net-zero carbon by 2040, ten years ahead of the Paris Agreement). We’re '\n",
      "  'making significant progress on this effort (we’re committed to powering our '\n",
      "  'operations with 100% renewable energy by 2025—five years ahead of our '\n",
      "  'original target of 2030, we have ordered over 100,000 electric vans to '\n",
      "  'deliver packages, and have over 300 companies who’ve joined us in The '\n",
      "  'Climate Pledge). But, we have a different challenge than most companies '\n",
      "  'given the diversity and intensity of our operations (including shipping '\n",
      "  'billions of packages per year). We’re committed to the challenge, but it '\n",
      "  'will take relentless invention.   We also are trying to increase the amount '\n",
      "  'of affordable housing in the communities in which we have a large presence. '\n",
      "  'Our more than $2 billion Housing Equity Fund that we started a year ago has '\n",
      "  'already allocated $1.2 billion toward affordable housing initiatives in the '\n",
      "  'areas around Washington state’s Puget Sound region, Arlington (Virginia), '\n",
      "  'and Nashville (Tennessee).   A final quick example is Kuiper, our low Earth '\n",
      "  'orbit satellite network that we’re spending over $10 billion to build in '\n",
      "  'the next several years. Kuiper will serve customers with minimal to no '\n",
      "  'fixed broadband connectivity, changing access to information and resources '\n",
      "  'for many communities (analysts estimate approximately 300- 400 million '\n",
      "  'customers globally are in this category). We’re optimistic that there is a '\n",
      "  'pretty good business model for us too, but we’ll see—and it’s a real game '\n",
      "  'changer for underserved families and businesses that will unfold over many '\n",
      "  'years as we keep evolving its capabilities.   This type of iterative '\n",
      "  'innovation is pervasive across every team at Amazon. I could have given '\n",
      "  'comparable examples in Advertising, Grocery, Gaming, Amazon Music, Amazon '\n",
      "  'Care (our telemedicine offering), or Pharmacy, to name a few. All of these '\n",
      "  'stories are still being written as we rapidly experiment, learn, and '\n",
      "  'continue to try to make our customer experience better every day.   If this '\n",
      "  'approach sounds appealing, a natural question is what’s required to get '\n",
      "  'good at it?',\n",
      "  'Amazon Business launched in 2015 and today drives roughly $35B in '\n",
      "  'annualized gross sales. More than six million active customers, including '\n",
      "  '96 of the global Fortune 100 companies, are enjoying Amazon Business’ '\n",
      "  'one-stop shopping, real-time analytics, and broad selection on hundreds of '\n",
      "  'millions of business supplies. We believe that we’ve only scratched the '\n",
      "  'surface of what’s possible to date, and plan to keep building the features '\n",
      "  'our business customers tell us they need and want.   While many brands and '\n",
      "  'merchants successfully sell their products on Amazon’s marketplace, there '\n",
      "  'are also a large number of brands and sellers who have launched their own '\n",
      "  'direct-to-consumer websites. One of the challenges for these merchants is '\n",
      "  'driving conversion from views to purchases. We invented Buy with Prime to '\n",
      "  'help with this challenge. Buy with Prime allows third-party brands and '\n",
      "  'sellers to offer their products on their own websites to our large Amazon '\n",
      "  'Prime membership, and offer those customers fast, free Prime shipping and '\n",
      "  'seamless checkout with their Amazon account. Buy with Prime provides '\n",
      "  'merchants several additional benefits, including Amazon handling the '\n",
      "  'product storage, picking, packing, delivery, payment, and any returns, all '\n",
      "  'through Amazon Pay and Fulfillment by Amazon. Buy with Prime has recently '\n",
      "  'been made available to all US merchants; and so far, Buy with Prime has '\n",
      "  'increased shopper conversion on third-party shopping sites by 25% on '\n",
      "  'average. Merchants are excited about converting more sales and fulfilling '\n",
      "  'these shipments more easily, Prime members love that they can use their '\n",
      "  'Prime benefits on more destinations, and Buy with Prime allows us to '\n",
      "  'improve the shopping experience across more of the web.   Expanding '\n",
      "  'internationally, pursuing large retail market segments that are still '\n",
      "  'nascent for Amazon, and using our unique assets to help merchants sell more '\n",
      "  'effectively on their own websites are somewhat natural extensions for us. '\n",
      "  'There are also a few investments we’re making that are further from our '\n",
      "  'core businesses, but where we see unique opportunity. In 2003, AWS would '\n",
      "  'have been a classic example. In 2023, Amazon Healthcare and Kuiper are '\n",
      "  'potential analogues.   Our initial efforts in Healthcare began with '\n",
      "  'pharmacy, which felt less like a major departure from ecommerce. For years, '\n",
      "  'Amazon customers had asked us when we’d offer them an online pharmacy as '\n",
      "  'their frustrations mounted with current providers. Launched in 2020, Amazon '\n",
      "  'Pharmacy is a full-service, online pharmacy that offers transparent '\n",
      "  'pricing, easy refills, and savings for Prime members. The business is '\n",
      "  'growing quickly, and continues to innovate.']\n"
     ]
    }
   ],
   "source": [
    "contexts = get_contexts(retrievalResults)\n",
    "pp.pprint(contexts)"
   ]
  },
  {
   "cell_type": "markdown",
   "metadata": {},
   "source": [
    "### Prompt specific to the model to personalize responses \n",
    "\n",
    "Here, we will use the specific prompt below for the model to act as a financial advisor AI system that will provide answers to questions by using fact based and statistical information when possible. We will provide the `Retrieve API` responses from above as a part of the `{contexts}` in the prompt for the model to refer to, along with the user `query`.  "
   ]
  },
  {
   "cell_type": "code",
   "execution_count": 10,
   "metadata": {
    "tags": []
   },
   "outputs": [],
   "source": [
    "prompt = f\"\"\"\n",
    "Human: You are a financial advisor AI system, and provides answers to questions by using fact based and statistical information when possible. \n",
    "Use the following pieces of information to provide a concise answer to the question enclosed in <question> tags. \n",
    "If you don't know the answer, just say that you don't know, don't try to make up an answer.\n",
    "<context>\n",
    "{contexts}\n",
    "</context>\n",
    "\n",
    "<question>\n",
    "{query}\n",
    "</question>\n",
    "\n",
    "The response should be specific and use statistics or numbers when possible.\n",
    "\n",
    "Assistant:\"\"\""
   ]
  },
  {
   "cell_type": "markdown",
   "metadata": {},
   "source": [
    "### Invoke foundation model from Amazon Bedrock\n",
    "In this example, we will use `anthropic.claude-3-sonnet-20240229-v1:0` foundation model from Amazon Bedrock. \n",
    "- It offers maximum utility at a lower price than competitors, and is engineered to be the dependable, high-endurance workhorse for scaled AI deployments. Claude 3 Sonnet can process images and return text outputs, and features a 200K context window.\n",
    "- Model attributes\n",
    "    - Image to text & code, multilingual conversation, complex reasoning & analysis"
   ]
  },
  {
   "cell_type": "code",
   "execution_count": 11,
   "metadata": {
    "tags": []
   },
   "outputs": [],
   "source": [
    "# payload with model paramters\n",
    "messages=[{ \"role\":'user', \"content\":[{'type':'text','text': prompt.format(contexts, query)}]}]\n",
    "sonnet_payload = json.dumps({\n",
    "    \"anthropic_version\": \"bedrock-2023-05-31\",\n",
    "    \"max_tokens\": 512,\n",
    "    \"messages\": messages,\n",
    "    \"temperature\": 0.5,\n",
    "    \"top_p\": 1\n",
    "        }  )"
   ]
  },
  {
   "cell_type": "code",
   "execution_count": 12,
   "metadata": {
    "tags": []
   },
   "outputs": [
    {
     "name": "stdout",
     "output_type": "stream",
     "text": [
      "('According to the provided context, Amazon has been working on its own large '\n",
      " 'language models (LLMs) for Generative AI and believes it will transform and '\n",
      " \"improve virtually every customer experience. Some key points about Amazon's \"\n",
      " 'efforts in Generative AI:\\n'\n",
      " '\\n'\n",
      " '1. Amazon has been investing substantially in developing its own large '\n",
      " 'language models trained on up to hundreds of billions of parameters across '\n",
      " 'expansive datasets.\\n'\n",
      " '\\n'\n",
      " '2. Amazon is democratizing this technology through AWS so that companies of '\n",
      " 'all sizes can leverage Generative AI. AWS is offering high-performance and '\n",
      " 'cost-effective machine learning chips like Trainium and Inferentia to enable '\n",
      " 'training and running LLMs affordably.\\n'\n",
      " '\\n'\n",
      " '3. AWS is delivering applications like CodeWhisperer, which uses Generative '\n",
      " 'AI to revolutionize developer productivity by generating code suggestions in '\n",
      " 'real-time.\\n'\n",
      " '\\n'\n",
      " '4. The context states that \"LLMs and Generative AI are going to be a big '\n",
      " 'deal for customers, our shareholders, and Amazon\" indicating Amazon\\'s '\n",
      " 'strong belief in the transformative potential of this technology.\\n'\n",
      " '\\n'\n",
      " 'However, no specific numbers or statistics are provided regarding the scale '\n",
      " \"of Amazon's investment or the performance metrics of their Generative AI \"\n",
      " 'models.')\n"
     ]
    }
   ],
   "source": [
    "modelId = 'anthropic.claude-3-sonnet-20240229-v1:0' # change this to use a different version from the model provider\n",
    "accept = 'application/json'\n",
    "contentType = 'application/json'\n",
    "response = bedrock_client.invoke_model(body=sonnet_payload, modelId=modelId, accept=accept, contentType=contentType)\n",
    "response_body = json.loads(response.get('body').read())\n",
    "response_text = response_body.get('content')[0]['text']\n",
    "\n",
    "pp.pprint(response_text)"
   ]
  },
  {
   "cell_type": "markdown",
   "metadata": {},
   "source": [
    "## Part 2 - LangChain integration\n",
    "In this notebook, we will dive deep into building Q&A application using Retrieve API provided by Knowledge Bases for Amazon Bedrock and LangChain. We will query the knowledge base to get the desired number of document chunks based on similarity search, integrate it with LangChain retriever and use `Anthropic Claude 3 Sonnet` model for answering questions."
   ]
  },
  {
   "cell_type": "code",
   "execution_count": 13,
   "metadata": {
    "tags": []
   },
   "outputs": [
    {
     "name": "stderr",
     "output_type": "stream",
     "text": [
      "/opt/conda/lib/python3.10/site-packages/langchain_core/_api/deprecation.py:119: LangChainDeprecationWarning: The class `BedrockChat` was deprecated in LangChain 0.0.34 and will be removed in 0.3. An updated version of the class exists in the langchain-aws package and should be used instead. To use it run `pip install -U langchain-aws` and import as `from langchain_aws import ChatBedrock`.\n",
      "  warn_deprecated(\n"
     ]
    }
   ],
   "source": [
    "# from langchain.llms.bedrock import Bedrock\n",
    "from langchain_community.chat_models.bedrock import BedrockChat\n",
    "from langchain.retrievers.bedrock import AmazonKnowledgeBasesRetriever\n",
    "\n",
    "llm = BedrockChat(model_id=modelId, \n",
    "                  client=bedrock_client)"
   ]
  },
  {
   "cell_type": "markdown",
   "metadata": {},
   "source": [
    "Create a `AmazonKnowledgeBasesRetriever` object from LangChain which will call the `Retreive API` provided by Knowledge Bases for Amazon Bedrock which converts user queries into embeddings, searches the knowledge base, and returns the relevant results, giving you more control to build custom workﬂows on top of the semantic search results. The output of the `Retrieve API` includes the the `retrieved text chunks`, the `location type` and `URI` of the source data, as well as the relevance `scores` of the retrievals."
   ]
  },
  {
   "cell_type": "code",
   "execution_count": 18,
   "metadata": {
    "tags": []
   },
   "outputs": [
    {
     "name": "stdout",
     "output_type": "stream",
     "text": [
      "[ Document(page_content='This shift was driven by several factors, including access to higher volumes of compute capacity at lower prices than was ever available. Amazon has been using machine learning extensively for 25 years, employing it in everything from personalized ecommerce recommendations, to fulfillment center pick paths, to drones for Prime Air, to Alexa, to the many machine learning services AWS offers (where AWS has the broadest machine learning functionality and customer base of any cloud provider). More recently, a newer form of machine learning, called Generative AI, has burst onto the scene and promises to significantly accelerate machine learning adoption. Generative AI is based on very Large Language Models (trained on up to hundreds of billions of parameters, and growing), across expansive datasets, and has radically general and broad recall and learning capabilities. We have been working on our own LLMs for a while now, believe it will transform and improve virtually every customer experience, and will continue to invest substantially in these models across all of our consumer, seller, brand, and creator experiences. Additionally, as we’ve done for years in AWS, we’re democratizing this technology so companies of all sizes can leverage Generative AI. AWS is offering the most price-performant machine learning chips in Trainium and Inferentia so small and large companies can afford to train and run their LLMs in production. We enable companies to choose from various LLMs and build applications with all of the AWS security, privacy and other features that customers are accustomed to using. And, we’re delivering applications like AWS’s CodeWhisperer, which revolutionizes        developer productivity by generating code suggestions in real time. I could write an entire letter on LLMs and Generative AI as I think they will be that transformative, but I’ll leave that for a future letter. Let’s just say that LLMs and Generative AI are going to be a big deal for customers, our shareholders, and Amazon.   So, in closing, I’m optimistic that we’ll emerge from this challenging macroeconomic time in a stronger position than when we entered it. There are several reasons for it and I’ve mentioned many of them above. But, there are two relatively simple statistics that underline our immense future opportunity. While we have a consumer business that’s $434B in 2022, the vast majority of total market segment share in global retail still resides in physical stores (roughly 80%).', metadata={'location': {'s3Location': {'uri': 's3://bedrock-kb-us-west-2-061516707533/AMZN-2022-Shareholder-Letter.pdf'}, 'type': 'S3'}, 'score': 0.6181775}),\n",
      "  Document(page_content='Our Inferentia2 chip, which just launched, offers up to four times higher throughput and ten times lower latency than our first Inferentia processor. With the enormous upcoming growth in machine learning, customers will be able to get a lot more done with AWS’s training and inference chips at a significantly lower cost. We’re not close to being done innovating here, and this long-term investment should prove fruitful for both customers and AWS. AWS is still in the early stages of its evolution, and has a chance for unusual growth in the next decade.   Similarly high potential, Amazon’s Advertising business is uniquely effective for brands, which is part of why it continues to grow at a brisk clip. Akin to physical retailers’ advertising businesses selling shelf space, end- caps, and placement in their circulars, our sponsored products and brands offerings have been an integral part        of the Amazon shopping experience for more than a decade. However, unlike physical retailers, Amazon can tailor these sponsored products to be relevant to what customers are searching for given what we know about shopping behaviors and our very deep investment in machine learning algorithms. This leads to advertising that’s more useful for customers; and as a result, performs better for brands. This is part of why our Advertising revenue has continued to grow rapidly (23% YoY in Q4 2022, 25% YoY overall for 2022 on a $31B revenue base), even as most large advertising-focused businesses’ growth have slowed over the last several quarters.   We strive to be the best place for advertisers to build their brands. We have near and long-term opportunities that will help us achieve that mission. We’re continuing to make large investments in machine learning to keep honing our advertising selection algorithms. For the past couple of years, we’ve invested in building comprehensive, flexible, and durable planning and measurement solutions, giving marketers greater insight into advertising effectiveness. An example is Amazon Marketing Cloud (“AMC”). AMC is a “clean room” (i.e. secure digital environment) in which advertisers can run custom audience and campaign analytics across a range of first and third-party inputs, in a privacy-safe manner, to generate advertising and business insights to inform their broader marketing and sales strategies.', metadata={'location': {'s3Location': {'uri': 's3://bedrock-kb-us-west-2-061516707533/AMZN-2022-Shareholder-Letter.pdf'}, 'type': 'S3'}, 'score': 0.5592909}),\n",
      "  Document(page_content='The list of what we’ve invented and delivered for customers in EC2 (and AWS in general) is pretty mind-boggling, and this iterative approach to innovation has not only given customers much more functionality in AWS than they can find anywhere else (which is a significant differentiator), but also allowed us to arrive at the much more game-changing offering that AWS is today.   Devices: Our first foray into devices was the Kindle, released in 2007. It was not the most sophisticated industrial design (it was creamy white in color and the corners were uncomfortable for some people to hold), but revolutionary because it offered customers the ability to download any of over 90,000 books (now millions) in 60 seconds—and we got better and faster at building attractive designs. Shortly thereafter, we launched a tablet, and then a phone (with the distinguishing feature of having front-facing cameras and a gyroscope to give customers a dynamic perspective along with varied 3D experiences). The phone was unsuccessful, and though we determined we were probably too late to this party and directed these resources elsewhere, we hired some fantastic long-term builders and learned valuable lessons from this failure that have served us well in devices like Echo and FireTV.   When I think of the first Echo device—and what Alexa could do for customers at that point—it was noteworthy, yet so much less capable than what’s possible today. Today, there are hundreds of millions of Alexa-enabled devices out there (in homes, offices, cars, hotel rooms, Amazon Echo devices, and third-party manufacturer devices); you can listen to music—or watch videos now; you can control your lights and home automation; you can create routines like “Start My Day” where Alexa tells you the weather, your estimated commute time based on current traffic, then plays the news; you can easily order retail items on Amazon; you can get general or customized news, updates on sporting events and related stats—and we’re still quite early with respect to what Alexa and Alexa-related devices will do for customers. Our goal is for Alexa to be the world’s most helpful and resourceful personal assistant, who makes people’s lives meaningfully easier and better. We have a lot more inventing and iterating to go, but customers continue to indicate that we’re on the right path. We have several other devices at varying stages of evolution (e.g.', metadata={'location': {'s3Location': {'uri': 's3://bedrock-kb-us-west-2-061516707533/AMZN-2021-Shareholder-Letter.pdf'}, 'type': 'S3'}, 'score': 0.5357437}),\n",
      "  Document(page_content='But, we still have a ways to go, and we’ll approach it like we do other customer experiences—we’ll keep learning, inventing, and iterating until we have more transformational results. We won’t be satisfied until we do.   Similarly, at our scale, we have a significant carbon footprint. It’s a big part of why we created The Climate Pledge a few years ago (a pledge to be net-zero carbon by 2040, ten years ahead of the Paris Agreement). We’re making significant progress on this effort (we’re committed to powering our operations with 100% renewable energy by 2025—five years ahead of our original target of 2030, we have ordered over 100,000 electric vans to deliver packages, and have over 300 companies who’ve joined us in The Climate Pledge). But, we have a different challenge than most companies given the diversity and intensity of our operations (including shipping billions of packages per year). We’re committed to the challenge, but it will take relentless invention.   We also are trying to increase the amount of affordable housing in the communities in which we have a large presence. Our more than $2 billion Housing Equity Fund that we started a year ago has already allocated $1.2 billion toward affordable housing initiatives in the areas around Washington state’s Puget Sound region, Arlington (Virginia), and Nashville (Tennessee).   A final quick example is Kuiper, our low Earth orbit satellite network that we’re spending over $10 billion to build in the next several years. Kuiper will serve customers with minimal to no fixed broadband connectivity, changing access to information and resources for many communities (analysts estimate approximately 300- 400 million customers globally are in this category). We’re optimistic that there is a pretty good business model for us too, but we’ll see—and it’s a real game changer for underserved families and businesses that will unfold over many years as we keep evolving its capabilities.   This type of iterative innovation is pervasive across every team at Amazon. I could have given comparable examples in Advertising, Grocery, Gaming, Amazon Music, Amazon Care (our telemedicine offering), or Pharmacy, to name a few. All of these stories are still being written as we rapidly experiment, learn, and continue to try to make our customer experience better every day.   If this approach sounds appealing, a natural question is what’s required to get good at it?', metadata={'location': {'s3Location': {'uri': 's3://bedrock-kb-us-west-2-061516707533/AMZN-2021-Shareholder-Letter.pdf'}, 'type': 'S3'}, 'score': 0.5219166})]\n"
     ]
    }
   ],
   "source": [
    "query = \"What is Amazon doing in the field of Generative AI?\"\n",
    "retriever = AmazonKnowledgeBasesRetriever(\n",
    "        knowledge_base_id=kb_id,\n",
    "        retrieval_config={\"vectorSearchConfiguration\": \n",
    "                          {\"numberOfResults\": 4,\n",
    "                           'overrideSearchType': \"SEMANTIC\", # optional\n",
    "                           }\n",
    "                          },\n",
    "        # endpoint_url=endpoint_url,\n",
    "        # region_name=region,\n",
    "        # credentials_profile_name=\"<profile_name>\",\n",
    "    )\n",
    "docs = retriever.invoke(\n",
    "        input=query\n",
    "    )\n",
    "pp.pprint(docs)"
   ]
  },
  {
   "cell_type": "markdown",
   "metadata": {},
   "source": [
    "## Prompt specific to the model to personalize responses\n",
    "Here, we will use the specific prompt below for the model to act as a financial advisor AI system that will provide answers to questions by using fact based and statistical information when possible. We will provide the Retrieve API responses from above as a part of the `{context}` in the prompt for the model to refer to, along with the user `query`."
   ]
  },
  {
   "cell_type": "code",
   "execution_count": 15,
   "metadata": {
    "tags": []
   },
   "outputs": [],
   "source": [
    "from langchain.prompts import PromptTemplate\n",
    "\n",
    "PROMPT_TEMPLATE = \"\"\"\n",
    "Human: You are a financial advisor AI system, and provides answers to questions by using fact based and statistical information when possible. \n",
    "Use the following pieces of information to provide a concise answer to the question enclosed in <question> tags. \n",
    "If you don't know the answer, just say that you don't know, don't try to make up an answer.\n",
    "<context>\n",
    "{context}\n",
    "</context>\n",
    "\n",
    "<question>\n",
    "{question}\n",
    "</question>\n",
    "\n",
    "The response should be specific and use statistics or numbers when possible.\n",
    "\n",
    "Assistant:\"\"\"\n",
    "claude_prompt = PromptTemplate(template=PROMPT_TEMPLATE, \n",
    "                               input_variables=[\"context\",\"question\"])"
   ]
  },
  {
   "cell_type": "markdown",
   "metadata": {},
   "source": [
    "### Integrating the retriever and the LLM defined above with RetrievalQA Chain to build the Q&A application."
   ]
  },
  {
   "cell_type": "code",
   "execution_count": 16,
   "metadata": {
    "tags": []
   },
   "outputs": [],
   "source": [
    "from langchain.chains import RetrievalQA\n",
    "\n",
    "qa = RetrievalQA.from_chain_type(\n",
    "    llm=llm,\n",
    "    chain_type=\"stuff\",\n",
    "    retriever=retriever,\n",
    "    return_source_documents=True,\n",
    "    chain_type_kwargs={\"prompt\": claude_prompt}\n",
    ")"
   ]
  },
  {
   "cell_type": "code",
   "execution_count": 17,
   "metadata": {
    "tags": []
   },
   "outputs": [
    {
     "name": "stdout",
     "output_type": "stream",
     "text": [
      "{ 'query': 'What is Amazon doing in the field of Generative AI?',\n",
      "  'result': 'According to the context provided, Amazon is investing '\n",
      "            'substantially in Generative AI and Large Language Models (LLMs). '\n",
      "            \"Some key points about Amazon's work in Generative AI:\\n\"\n",
      "            '\\n'\n",
      "            '- Amazon has been working on its own LLMs for a while and '\n",
      "            'believes Generative AI \"will transform and improve virtually '\n",
      "            'every customer experience.\"\\n'\n",
      "            '\\n'\n",
      "            '- Amazon is democratizing this technology through AWS so '\n",
      "            'companies of all sizes can leverage Generative AI. AWS is '\n",
      "            'offering machine learning chips like Trainium and Inferentia that '\n",
      "            'provide cost-effective training and running of LLMs.\\n'\n",
      "            '\\n'\n",
      "            '- Amazon is delivering applications like AWS CodeWhisperer which '\n",
      "            'uses Generative AI to provide real-time code suggestions, '\n",
      "            'improving developer productivity.\\n'\n",
      "            '\\n'\n",
      "            '- The context states \"I could write an entire letter on LLMs and '\n",
      "            'Generative AI as I think they will be that transformative\" '\n",
      "            \"highlighting Amazon's big bet on this technology.\\n\"\n",
      "            '\\n'\n",
      "            '- No specific numbers are provided on the investment amount, but '\n",
      "            'the context suggests Amazon is investing heavily across its '\n",
      "            'consumer and cloud businesses to be a leader in Generative AI.',\n",
      "  'source_documents': [ Document(page_content='This shift was driven by several factors, including access to higher volumes of compute capacity at lower prices than was ever available. Amazon has been using machine learning extensively for 25 years, employing it in everything from personalized ecommerce recommendations, to fulfillment center pick paths, to drones for Prime Air, to Alexa, to the many machine learning services AWS offers (where AWS has the broadest machine learning functionality and customer base of any cloud provider). More recently, a newer form of machine learning, called Generative AI, has burst onto the scene and promises to significantly accelerate machine learning adoption. Generative AI is based on very Large Language Models (trained on up to hundreds of billions of parameters, and growing), across expansive datasets, and has radically general and broad recall and learning capabilities. We have been working on our own LLMs for a while now, believe it will transform and improve virtually every customer experience, and will continue to invest substantially in these models across all of our consumer, seller, brand, and creator experiences. Additionally, as we’ve done for years in AWS, we’re democratizing this technology so companies of all sizes can leverage Generative AI. AWS is offering the most price-performant machine learning chips in Trainium and Inferentia so small and large companies can afford to train and run their LLMs in production. We enable companies to choose from various LLMs and build applications with all of the AWS security, privacy and other features that customers are accustomed to using. And, we’re delivering applications like AWS’s CodeWhisperer, which revolutionizes        developer productivity by generating code suggestions in real time. I could write an entire letter on LLMs and Generative AI as I think they will be that transformative, but I’ll leave that for a future letter. Let’s just say that LLMs and Generative AI are going to be a big deal for customers, our shareholders, and Amazon.   So, in closing, I’m optimistic that we’ll emerge from this challenging macroeconomic time in a stronger position than when we entered it. There are several reasons for it and I’ve mentioned many of them above. But, there are two relatively simple statistics that underline our immense future opportunity. While we have a consumer business that’s $434B in 2022, the vast majority of total market segment share in global retail still resides in physical stores (roughly 80%).', metadata={'location': {'s3Location': {'uri': 's3://bedrock-kb-us-west-2-061516707533/AMZN-2022-Shareholder-Letter.pdf'}, 'type': 'S3'}, 'score': 0.6181775}),\n",
      "                        Document(page_content='Our Inferentia2 chip, which just launched, offers up to four times higher throughput and ten times lower latency than our first Inferentia processor. With the enormous upcoming growth in machine learning, customers will be able to get a lot more done with AWS’s training and inference chips at a significantly lower cost. We’re not close to being done innovating here, and this long-term investment should prove fruitful for both customers and AWS. AWS is still in the early stages of its evolution, and has a chance for unusual growth in the next decade.   Similarly high potential, Amazon’s Advertising business is uniquely effective for brands, which is part of why it continues to grow at a brisk clip. Akin to physical retailers’ advertising businesses selling shelf space, end- caps, and placement in their circulars, our sponsored products and brands offerings have been an integral part        of the Amazon shopping experience for more than a decade. However, unlike physical retailers, Amazon can tailor these sponsored products to be relevant to what customers are searching for given what we know about shopping behaviors and our very deep investment in machine learning algorithms. This leads to advertising that’s more useful for customers; and as a result, performs better for brands. This is part of why our Advertising revenue has continued to grow rapidly (23% YoY in Q4 2022, 25% YoY overall for 2022 on a $31B revenue base), even as most large advertising-focused businesses’ growth have slowed over the last several quarters.   We strive to be the best place for advertisers to build their brands. We have near and long-term opportunities that will help us achieve that mission. We’re continuing to make large investments in machine learning to keep honing our advertising selection algorithms. For the past couple of years, we’ve invested in building comprehensive, flexible, and durable planning and measurement solutions, giving marketers greater insight into advertising effectiveness. An example is Amazon Marketing Cloud (“AMC”). AMC is a “clean room” (i.e. secure digital environment) in which advertisers can run custom audience and campaign analytics across a range of first and third-party inputs, in a privacy-safe manner, to generate advertising and business insights to inform their broader marketing and sales strategies.', metadata={'location': {'s3Location': {'uri': 's3://bedrock-kb-us-west-2-061516707533/AMZN-2022-Shareholder-Letter.pdf'}, 'type': 'S3'}, 'score': 0.5592909}),\n",
      "                        Document(page_content='The list of what we’ve invented and delivered for customers in EC2 (and AWS in general) is pretty mind-boggling, and this iterative approach to innovation has not only given customers much more functionality in AWS than they can find anywhere else (which is a significant differentiator), but also allowed us to arrive at the much more game-changing offering that AWS is today.   Devices: Our first foray into devices was the Kindle, released in 2007. It was not the most sophisticated industrial design (it was creamy white in color and the corners were uncomfortable for some people to hold), but revolutionary because it offered customers the ability to download any of over 90,000 books (now millions) in 60 seconds—and we got better and faster at building attractive designs. Shortly thereafter, we launched a tablet, and then a phone (with the distinguishing feature of having front-facing cameras and a gyroscope to give customers a dynamic perspective along with varied 3D experiences). The phone was unsuccessful, and though we determined we were probably too late to this party and directed these resources elsewhere, we hired some fantastic long-term builders and learned valuable lessons from this failure that have served us well in devices like Echo and FireTV.   When I think of the first Echo device—and what Alexa could do for customers at that point—it was noteworthy, yet so much less capable than what’s possible today. Today, there are hundreds of millions of Alexa-enabled devices out there (in homes, offices, cars, hotel rooms, Amazon Echo devices, and third-party manufacturer devices); you can listen to music—or watch videos now; you can control your lights and home automation; you can create routines like “Start My Day” where Alexa tells you the weather, your estimated commute time based on current traffic, then plays the news; you can easily order retail items on Amazon; you can get general or customized news, updates on sporting events and related stats—and we’re still quite early with respect to what Alexa and Alexa-related devices will do for customers. Our goal is for Alexa to be the world’s most helpful and resourceful personal assistant, who makes people’s lives meaningfully easier and better. We have a lot more inventing and iterating to go, but customers continue to indicate that we’re on the right path. We have several other devices at varying stages of evolution (e.g.', metadata={'location': {'s3Location': {'uri': 's3://bedrock-kb-us-west-2-061516707533/AMZN-2021-Shareholder-Letter.pdf'}, 'type': 'S3'}, 'score': 0.5357437}),\n",
      "                        Document(page_content='But, we still have a ways to go, and we’ll approach it like we do other customer experiences—we’ll keep learning, inventing, and iterating until we have more transformational results. We won’t be satisfied until we do.   Similarly, at our scale, we have a significant carbon footprint. It’s a big part of why we created The Climate Pledge a few years ago (a pledge to be net-zero carbon by 2040, ten years ahead of the Paris Agreement). We’re making significant progress on this effort (we’re committed to powering our operations with 100% renewable energy by 2025—five years ahead of our original target of 2030, we have ordered over 100,000 electric vans to deliver packages, and have over 300 companies who’ve joined us in The Climate Pledge). But, we have a different challenge than most companies given the diversity and intensity of our operations (including shipping billions of packages per year). We’re committed to the challenge, but it will take relentless invention.   We also are trying to increase the amount of affordable housing in the communities in which we have a large presence. Our more than $2 billion Housing Equity Fund that we started a year ago has already allocated $1.2 billion toward affordable housing initiatives in the areas around Washington state’s Puget Sound region, Arlington (Virginia), and Nashville (Tennessee).   A final quick example is Kuiper, our low Earth orbit satellite network that we’re spending over $10 billion to build in the next several years. Kuiper will serve customers with minimal to no fixed broadband connectivity, changing access to information and resources for many communities (analysts estimate approximately 300- 400 million customers globally are in this category). We’re optimistic that there is a pretty good business model for us too, but we’ll see—and it’s a real game changer for underserved families and businesses that will unfold over many years as we keep evolving its capabilities.   This type of iterative innovation is pervasive across every team at Amazon. I could have given comparable examples in Advertising, Grocery, Gaming, Amazon Music, Amazon Care (our telemedicine offering), or Pharmacy, to name a few. All of these stories are still being written as we rapidly experiment, learn, and continue to try to make our customer experience better every day.   If this approach sounds appealing, a natural question is what’s required to get good at it?', metadata={'location': {'s3Location': {'uri': 's3://bedrock-kb-us-west-2-061516707533/AMZN-2021-Shareholder-Letter.pdf'}, 'type': 'S3'}, 'score': 0.5219166})]}\n"
     ]
    }
   ],
   "source": [
    "answer = qa.invoke(query)\n",
    "pp.pprint(answer)"
   ]
  },
  {
   "cell_type": "markdown",
   "metadata": {},
   "source": [
    "## Conclusion\n",
    "You can use Retrieve API for customizing your RAG based application, using either `InvokeModel` API from Bedrock, or you can integrate with LangChain using `AmazonKnowledgeBaseRetriever`.\n",
    "Retrieve API provides you with the flexibility of using any foundation model provided by Amazon Bedrock, and choosing the right search type, either HYBRID or SEMANTIC, based on your use case. \n",
    "Here is the [blog](#https://aws.amazon.com/blogs/machine-learning/knowledge-bases-for-amazon-bedrock-now-supports-hybrid-search/) for Hybrid Search feature, for more details."
   ]
  }
 ],
 "metadata": {
  "availableInstances": [
   {
    "_defaultOrder": 0,
    "_isFastLaunch": true,
    "category": "General purpose",
    "gpuNum": 0,
    "hideHardwareSpecs": false,
    "memoryGiB": 4,
    "name": "ml.t3.medium",
    "vcpuNum": 2
   },
   {
    "_defaultOrder": 1,
    "_isFastLaunch": false,
    "category": "General purpose",
    "gpuNum": 0,
    "hideHardwareSpecs": false,
    "memoryGiB": 8,
    "name": "ml.t3.large",
    "vcpuNum": 2
   },
   {
    "_defaultOrder": 2,
    "_isFastLaunch": false,
    "category": "General purpose",
    "gpuNum": 0,
    "hideHardwareSpecs": false,
    "memoryGiB": 16,
    "name": "ml.t3.xlarge",
    "vcpuNum": 4
   },
   {
    "_defaultOrder": 3,
    "_isFastLaunch": false,
    "category": "General purpose",
    "gpuNum": 0,
    "hideHardwareSpecs": false,
    "memoryGiB": 32,
    "name": "ml.t3.2xlarge",
    "vcpuNum": 8
   },
   {
    "_defaultOrder": 4,
    "_isFastLaunch": true,
    "category": "General purpose",
    "gpuNum": 0,
    "hideHardwareSpecs": false,
    "memoryGiB": 8,
    "name": "ml.m5.large",
    "vcpuNum": 2
   },
   {
    "_defaultOrder": 5,
    "_isFastLaunch": false,
    "category": "General purpose",
    "gpuNum": 0,
    "hideHardwareSpecs": false,
    "memoryGiB": 16,
    "name": "ml.m5.xlarge",
    "vcpuNum": 4
   },
   {
    "_defaultOrder": 6,
    "_isFastLaunch": false,
    "category": "General purpose",
    "gpuNum": 0,
    "hideHardwareSpecs": false,
    "memoryGiB": 32,
    "name": "ml.m5.2xlarge",
    "vcpuNum": 8
   },
   {
    "_defaultOrder": 7,
    "_isFastLaunch": false,
    "category": "General purpose",
    "gpuNum": 0,
    "hideHardwareSpecs": false,
    "memoryGiB": 64,
    "name": "ml.m5.4xlarge",
    "vcpuNum": 16
   },
   {
    "_defaultOrder": 8,
    "_isFastLaunch": false,
    "category": "General purpose",
    "gpuNum": 0,
    "hideHardwareSpecs": false,
    "memoryGiB": 128,
    "name": "ml.m5.8xlarge",
    "vcpuNum": 32
   },
   {
    "_defaultOrder": 9,
    "_isFastLaunch": false,
    "category": "General purpose",
    "gpuNum": 0,
    "hideHardwareSpecs": false,
    "memoryGiB": 192,
    "name": "ml.m5.12xlarge",
    "vcpuNum": 48
   },
   {
    "_defaultOrder": 10,
    "_isFastLaunch": false,
    "category": "General purpose",
    "gpuNum": 0,
    "hideHardwareSpecs": false,
    "memoryGiB": 256,
    "name": "ml.m5.16xlarge",
    "vcpuNum": 64
   },
   {
    "_defaultOrder": 11,
    "_isFastLaunch": false,
    "category": "General purpose",
    "gpuNum": 0,
    "hideHardwareSpecs": false,
    "memoryGiB": 384,
    "name": "ml.m5.24xlarge",
    "vcpuNum": 96
   },
   {
    "_defaultOrder": 12,
    "_isFastLaunch": false,
    "category": "General purpose",
    "gpuNum": 0,
    "hideHardwareSpecs": false,
    "memoryGiB": 8,
    "name": "ml.m5d.large",
    "vcpuNum": 2
   },
   {
    "_defaultOrder": 13,
    "_isFastLaunch": false,
    "category": "General purpose",
    "gpuNum": 0,
    "hideHardwareSpecs": false,
    "memoryGiB": 16,
    "name": "ml.m5d.xlarge",
    "vcpuNum": 4
   },
   {
    "_defaultOrder": 14,
    "_isFastLaunch": false,
    "category": "General purpose",
    "gpuNum": 0,
    "hideHardwareSpecs": false,
    "memoryGiB": 32,
    "name": "ml.m5d.2xlarge",
    "vcpuNum": 8
   },
   {
    "_defaultOrder": 15,
    "_isFastLaunch": false,
    "category": "General purpose",
    "gpuNum": 0,
    "hideHardwareSpecs": false,
    "memoryGiB": 64,
    "name": "ml.m5d.4xlarge",
    "vcpuNum": 16
   },
   {
    "_defaultOrder": 16,
    "_isFastLaunch": false,
    "category": "General purpose",
    "gpuNum": 0,
    "hideHardwareSpecs": false,
    "memoryGiB": 128,
    "name": "ml.m5d.8xlarge",
    "vcpuNum": 32
   },
   {
    "_defaultOrder": 17,
    "_isFastLaunch": false,
    "category": "General purpose",
    "gpuNum": 0,
    "hideHardwareSpecs": false,
    "memoryGiB": 192,
    "name": "ml.m5d.12xlarge",
    "vcpuNum": 48
   },
   {
    "_defaultOrder": 18,
    "_isFastLaunch": false,
    "category": "General purpose",
    "gpuNum": 0,
    "hideHardwareSpecs": false,
    "memoryGiB": 256,
    "name": "ml.m5d.16xlarge",
    "vcpuNum": 64
   },
   {
    "_defaultOrder": 19,
    "_isFastLaunch": false,
    "category": "General purpose",
    "gpuNum": 0,
    "hideHardwareSpecs": false,
    "memoryGiB": 384,
    "name": "ml.m5d.24xlarge",
    "vcpuNum": 96
   },
   {
    "_defaultOrder": 20,
    "_isFastLaunch": false,
    "category": "General purpose",
    "gpuNum": 0,
    "hideHardwareSpecs": true,
    "memoryGiB": 0,
    "name": "ml.geospatial.interactive",
    "supportedImageNames": [
     "sagemaker-geospatial-v1-0"
    ],
    "vcpuNum": 0
   },
   {
    "_defaultOrder": 21,
    "_isFastLaunch": true,
    "category": "Compute optimized",
    "gpuNum": 0,
    "hideHardwareSpecs": false,
    "memoryGiB": 4,
    "name": "ml.c5.large",
    "vcpuNum": 2
   },
   {
    "_defaultOrder": 22,
    "_isFastLaunch": false,
    "category": "Compute optimized",
    "gpuNum": 0,
    "hideHardwareSpecs": false,
    "memoryGiB": 8,
    "name": "ml.c5.xlarge",
    "vcpuNum": 4
   },
   {
    "_defaultOrder": 23,
    "_isFastLaunch": false,
    "category": "Compute optimized",
    "gpuNum": 0,
    "hideHardwareSpecs": false,
    "memoryGiB": 16,
    "name": "ml.c5.2xlarge",
    "vcpuNum": 8
   },
   {
    "_defaultOrder": 24,
    "_isFastLaunch": false,
    "category": "Compute optimized",
    "gpuNum": 0,
    "hideHardwareSpecs": false,
    "memoryGiB": 32,
    "name": "ml.c5.4xlarge",
    "vcpuNum": 16
   },
   {
    "_defaultOrder": 25,
    "_isFastLaunch": false,
    "category": "Compute optimized",
    "gpuNum": 0,
    "hideHardwareSpecs": false,
    "memoryGiB": 72,
    "name": "ml.c5.9xlarge",
    "vcpuNum": 36
   },
   {
    "_defaultOrder": 26,
    "_isFastLaunch": false,
    "category": "Compute optimized",
    "gpuNum": 0,
    "hideHardwareSpecs": false,
    "memoryGiB": 96,
    "name": "ml.c5.12xlarge",
    "vcpuNum": 48
   },
   {
    "_defaultOrder": 27,
    "_isFastLaunch": false,
    "category": "Compute optimized",
    "gpuNum": 0,
    "hideHardwareSpecs": false,
    "memoryGiB": 144,
    "name": "ml.c5.18xlarge",
    "vcpuNum": 72
   },
   {
    "_defaultOrder": 28,
    "_isFastLaunch": false,
    "category": "Compute optimized",
    "gpuNum": 0,
    "hideHardwareSpecs": false,
    "memoryGiB": 192,
    "name": "ml.c5.24xlarge",
    "vcpuNum": 96
   },
   {
    "_defaultOrder": 29,
    "_isFastLaunch": true,
    "category": "Accelerated computing",
    "gpuNum": 1,
    "hideHardwareSpecs": false,
    "memoryGiB": 16,
    "name": "ml.g4dn.xlarge",
    "vcpuNum": 4
   },
   {
    "_defaultOrder": 30,
    "_isFastLaunch": false,
    "category": "Accelerated computing",
    "gpuNum": 1,
    "hideHardwareSpecs": false,
    "memoryGiB": 32,
    "name": "ml.g4dn.2xlarge",
    "vcpuNum": 8
   },
   {
    "_defaultOrder": 31,
    "_isFastLaunch": false,
    "category": "Accelerated computing",
    "gpuNum": 1,
    "hideHardwareSpecs": false,
    "memoryGiB": 64,
    "name": "ml.g4dn.4xlarge",
    "vcpuNum": 16
   },
   {
    "_defaultOrder": 32,
    "_isFastLaunch": false,
    "category": "Accelerated computing",
    "gpuNum": 1,
    "hideHardwareSpecs": false,
    "memoryGiB": 128,
    "name": "ml.g4dn.8xlarge",
    "vcpuNum": 32
   },
   {
    "_defaultOrder": 33,
    "_isFastLaunch": false,
    "category": "Accelerated computing",
    "gpuNum": 4,
    "hideHardwareSpecs": false,
    "memoryGiB": 192,
    "name": "ml.g4dn.12xlarge",
    "vcpuNum": 48
   },
   {
    "_defaultOrder": 34,
    "_isFastLaunch": false,
    "category": "Accelerated computing",
    "gpuNum": 1,
    "hideHardwareSpecs": false,
    "memoryGiB": 256,
    "name": "ml.g4dn.16xlarge",
    "vcpuNum": 64
   },
   {
    "_defaultOrder": 35,
    "_isFastLaunch": false,
    "category": "Accelerated computing",
    "gpuNum": 1,
    "hideHardwareSpecs": false,
    "memoryGiB": 61,
    "name": "ml.p3.2xlarge",
    "vcpuNum": 8
   },
   {
    "_defaultOrder": 36,
    "_isFastLaunch": false,
    "category": "Accelerated computing",
    "gpuNum": 4,
    "hideHardwareSpecs": false,
    "memoryGiB": 244,
    "name": "ml.p3.8xlarge",
    "vcpuNum": 32
   },
   {
    "_defaultOrder": 37,
    "_isFastLaunch": false,
    "category": "Accelerated computing",
    "gpuNum": 8,
    "hideHardwareSpecs": false,
    "memoryGiB": 488,
    "name": "ml.p3.16xlarge",
    "vcpuNum": 64
   },
   {
    "_defaultOrder": 38,
    "_isFastLaunch": false,
    "category": "Accelerated computing",
    "gpuNum": 8,
    "hideHardwareSpecs": false,
    "memoryGiB": 768,
    "name": "ml.p3dn.24xlarge",
    "vcpuNum": 96
   },
   {
    "_defaultOrder": 39,
    "_isFastLaunch": false,
    "category": "Memory Optimized",
    "gpuNum": 0,
    "hideHardwareSpecs": false,
    "memoryGiB": 16,
    "name": "ml.r5.large",
    "vcpuNum": 2
   },
   {
    "_defaultOrder": 40,
    "_isFastLaunch": false,
    "category": "Memory Optimized",
    "gpuNum": 0,
    "hideHardwareSpecs": false,
    "memoryGiB": 32,
    "name": "ml.r5.xlarge",
    "vcpuNum": 4
   },
   {
    "_defaultOrder": 41,
    "_isFastLaunch": false,
    "category": "Memory Optimized",
    "gpuNum": 0,
    "hideHardwareSpecs": false,
    "memoryGiB": 64,
    "name": "ml.r5.2xlarge",
    "vcpuNum": 8
   },
   {
    "_defaultOrder": 42,
    "_isFastLaunch": false,
    "category": "Memory Optimized",
    "gpuNum": 0,
    "hideHardwareSpecs": false,
    "memoryGiB": 128,
    "name": "ml.r5.4xlarge",
    "vcpuNum": 16
   },
   {
    "_defaultOrder": 43,
    "_isFastLaunch": false,
    "category": "Memory Optimized",
    "gpuNum": 0,
    "hideHardwareSpecs": false,
    "memoryGiB": 256,
    "name": "ml.r5.8xlarge",
    "vcpuNum": 32
   },
   {
    "_defaultOrder": 44,
    "_isFastLaunch": false,
    "category": "Memory Optimized",
    "gpuNum": 0,
    "hideHardwareSpecs": false,
    "memoryGiB": 384,
    "name": "ml.r5.12xlarge",
    "vcpuNum": 48
   },
   {
    "_defaultOrder": 45,
    "_isFastLaunch": false,
    "category": "Memory Optimized",
    "gpuNum": 0,
    "hideHardwareSpecs": false,
    "memoryGiB": 512,
    "name": "ml.r5.16xlarge",
    "vcpuNum": 64
   },
   {
    "_defaultOrder": 46,
    "_isFastLaunch": false,
    "category": "Memory Optimized",
    "gpuNum": 0,
    "hideHardwareSpecs": false,
    "memoryGiB": 768,
    "name": "ml.r5.24xlarge",
    "vcpuNum": 96
   },
   {
    "_defaultOrder": 47,
    "_isFastLaunch": false,
    "category": "Accelerated computing",
    "gpuNum": 1,
    "hideHardwareSpecs": false,
    "memoryGiB": 16,
    "name": "ml.g5.xlarge",
    "vcpuNum": 4
   },
   {
    "_defaultOrder": 48,
    "_isFastLaunch": false,
    "category": "Accelerated computing",
    "gpuNum": 1,
    "hideHardwareSpecs": false,
    "memoryGiB": 32,
    "name": "ml.g5.2xlarge",
    "vcpuNum": 8
   },
   {
    "_defaultOrder": 49,
    "_isFastLaunch": false,
    "category": "Accelerated computing",
    "gpuNum": 1,
    "hideHardwareSpecs": false,
    "memoryGiB": 64,
    "name": "ml.g5.4xlarge",
    "vcpuNum": 16
   },
   {
    "_defaultOrder": 50,
    "_isFastLaunch": false,
    "category": "Accelerated computing",
    "gpuNum": 1,
    "hideHardwareSpecs": false,
    "memoryGiB": 128,
    "name": "ml.g5.8xlarge",
    "vcpuNum": 32
   },
   {
    "_defaultOrder": 51,
    "_isFastLaunch": false,
    "category": "Accelerated computing",
    "gpuNum": 1,
    "hideHardwareSpecs": false,
    "memoryGiB": 256,
    "name": "ml.g5.16xlarge",
    "vcpuNum": 64
   },
   {
    "_defaultOrder": 52,
    "_isFastLaunch": false,
    "category": "Accelerated computing",
    "gpuNum": 4,
    "hideHardwareSpecs": false,
    "memoryGiB": 192,
    "name": "ml.g5.12xlarge",
    "vcpuNum": 48
   },
   {
    "_defaultOrder": 53,
    "_isFastLaunch": false,
    "category": "Accelerated computing",
    "gpuNum": 4,
    "hideHardwareSpecs": false,
    "memoryGiB": 384,
    "name": "ml.g5.24xlarge",
    "vcpuNum": 96
   },
   {
    "_defaultOrder": 54,
    "_isFastLaunch": false,
    "category": "Accelerated computing",
    "gpuNum": 8,
    "hideHardwareSpecs": false,
    "memoryGiB": 768,
    "name": "ml.g5.48xlarge",
    "vcpuNum": 192
   },
   {
    "_defaultOrder": 55,
    "_isFastLaunch": false,
    "category": "Accelerated computing",
    "gpuNum": 8,
    "hideHardwareSpecs": false,
    "memoryGiB": 1152,
    "name": "ml.p4d.24xlarge",
    "vcpuNum": 96
   },
   {
    "_defaultOrder": 56,
    "_isFastLaunch": false,
    "category": "Accelerated computing",
    "gpuNum": 8,
    "hideHardwareSpecs": false,
    "memoryGiB": 1152,
    "name": "ml.p4de.24xlarge",
    "vcpuNum": 96
   },
   {
    "_defaultOrder": 57,
    "_isFastLaunch": false,
    "category": "Accelerated computing",
    "gpuNum": 0,
    "hideHardwareSpecs": false,
    "memoryGiB": 32,
    "name": "ml.trn1.2xlarge",
    "vcpuNum": 8
   },
   {
    "_defaultOrder": 58,
    "_isFastLaunch": false,
    "category": "Accelerated computing",
    "gpuNum": 0,
    "hideHardwareSpecs": false,
    "memoryGiB": 512,
    "name": "ml.trn1.32xlarge",
    "vcpuNum": 128
   },
   {
    "_defaultOrder": 59,
    "_isFastLaunch": false,
    "category": "Accelerated computing",
    "gpuNum": 0,
    "hideHardwareSpecs": false,
    "memoryGiB": 512,
    "name": "ml.trn1n.32xlarge",
    "vcpuNum": 128
   }
  ],
  "instance_type": "ml.t3.medium",
  "kernelspec": {
   "display_name": "Python 3 (Data Science 3.0)",
   "language": "python",
   "name": "python3__SAGEMAKER_INTERNAL__arn:aws:sagemaker:us-west-2:236514542706:image/sagemaker-data-science-310-v1"
  },
  "language_info": {
   "codemirror_mode": {
    "name": "ipython",
    "version": 3
   },
   "file_extension": ".py",
   "mimetype": "text/x-python",
   "name": "python",
   "nbconvert_exporter": "python",
   "pygments_lexer": "ipython3",
   "version": "3.10.6"
  }
 },
 "nbformat": 4,
 "nbformat_minor": 4
}
