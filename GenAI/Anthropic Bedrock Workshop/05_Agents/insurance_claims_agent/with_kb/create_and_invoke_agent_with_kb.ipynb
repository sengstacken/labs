{
 "cells": [
  {
   "cell_type": "markdown",
   "id": "c55b33be-98be-4c48-99de-99e5e2ec163d",
   "metadata": {},
   "source": [
    "# Create and Invoke Agent via Boto3 SDK (Connecting Knowledge Base with Agent)\n",
    "\n",
    "> *This notebook should work well with the **`Data Science 3.0`** kernel in SageMaker Studio*"
   ]
  },
  {
   "cell_type": "markdown",
   "id": "9d7392ac-61be-4b9b-bc7b-f48de8282c7b",
   "metadata": {},
   "source": [
    "## Introduction\n",
    "\n",
    "In this notebook we show you how to use the `bedrock-agent` and the `bedrock-agent-runtime` boto3 clients to:\n",
    "- create an agent\n",
    "- create an action group\n",
    "- associate the agent with the action group and prepare the agent\n",
    "- create a knowledge base\n",
    "- associate the knowledge base with the agent\n",
    "- create an agent alias\n",
    "- invoke the agent\n",
    "\n",
    "We will use Bedrock's Claude v2 using the Boto3 API. \n",
    "\n",
    "**Note:** *This notebook can be run within or outside of AWS environment.*\n",
    "\n",
    "#### Pre-requisites\n",
    "This notebook requires permissions to: \n",
    "- create and delete Amazon IAM roles\n",
    "- create, update and invoke AWS Lambda functions \n",
    "- create, update and delete Amazon S3 buckets \n",
    "- access Amazon Bedrock \n",
    "- access to Amazon OpenSearch Serverless\n",
    "\n",
    "If running on SageMaker Studio, you should add the following managed policies to your role:\n",
    "- IAMFullAccess\n",
    "- AWSLambda_FullAccess\n",
    "- AmazonS3FullAccess\n",
    "- AmazonBedrockFullAccess\n",
    "- Custom policy for Amazon OpenSearch Serverless such as:\n",
    "```\n",
    "{\n",
    "    \"Version\": \"2012-10-17\",\n",
    "    \"Statement\": [\n",
    "        {\n",
    "            \"Effect\": \"Allow\",\n",
    "            \"Action\": \"aoss:*\",\n",
    "            \"Resource\": \"*\"\n",
    "        }\n",
    "    ]\n",
    "}\n",
    "```\n",
    "\n",
    "#### Context\n",
    "We will demonstrate how to create and invoke an agent for Bedrock using the Boto3 SDK. We will connect an Action Group and a Knowledge Base to the Agent and show how to combine the outputs of both to generate the required customer outputs\n",
    "\n",
    "#### Use case\n",
    "For this notebook, we use an insurance claimer use case to build our Agent. The agent helps the insurance provider checking the open claims, identifying the details for a specific claim, get open documents for a claim, get the document's requirements from a knowledge base and send reminders for a claim policyholder. The following diagram illustrates the sample process flow.\n",
    "\n",
    "![sequence-flow-agent](images/93-agent-workflow.png)\n",
    "\n",
    "#### Architecture\n",
    "The following diagram depicts a high-level architecture of this solution.\n",
    "\n",
    "![architecture-diagram](images/93-agent-architecture.png)\n",
    "\n",
    "The Agent created can handle the follow tasks:\n",
    "- Get Open Claims\n",
    "- Get Claim Details\n",
    "- Get Claim Outstanding Documents\n",
    "- Send Claim reminder"
   ]
  },
  {
   "cell_type": "markdown",
   "id": "5463f03b-7f8b-4a95-a7c8-0caa46d6ae4b",
   "metadata": {},
   "source": [
    "## Notebook setup\n",
    "Before starting, let's import the required packages and configure the support variables"
   ]
  },
  {
   "cell_type": "code",
   "execution_count": null,
   "id": "10cf94c1-46b9-4c56-b7a8-bea21eef3285",
   "metadata": {
    "tags": []
   },
   "outputs": [],
   "source": [
    "!pip install opensearch-py\n",
    "!pip install requests-aws4auth\n",
    "!pip install -U boto3\n",
    "!pip install -U botocore\n",
    "!pip install -U awscli"
   ]
  },
  {
   "cell_type": "code",
   "execution_count": null,
   "id": "1b5428e2-37d0-4199-a234-33521ec995ad",
   "metadata": {
    "tags": []
   },
   "outputs": [],
   "source": [
    "import logging\n",
    "import boto3\n",
    "import random\n",
    "import time\n",
    "import zipfile\n",
    "from io import BytesIO\n",
    "import json\n",
    "import uuid\n",
    "import pprint\n",
    "import os\n",
    "from opensearchpy import OpenSearch, RequestsHttpConnection\n",
    "from requests_aws4auth import AWS4Auth"
   ]
  },
  {
   "cell_type": "code",
   "execution_count": null,
   "id": "ea10158d-adb7-463e-ae3e-df72da6e850b",
   "metadata": {
    "tags": []
   },
   "outputs": [],
   "source": [
    "# setting logger\n",
    "logging.basicConfig(format='[%(asctime)s] p%(process)s {%(filename)s:%(lineno)d} %(levelname)s - %(message)s', level=logging.INFO)\n",
    "logger = logging.getLogger(__name__)"
   ]
  },
  {
   "cell_type": "code",
   "execution_count": null,
   "id": "be67a917-11f8-43a0-a8d5-1b379ec77119",
   "metadata": {
    "tags": []
   },
   "outputs": [],
   "source": [
    "# getting boto3 clients for required AWS services\n",
    "sts_client = boto3.client('sts')\n",
    "iam_client = boto3.client('iam')\n",
    "s3_client = boto3.client('s3')\n",
    "lambda_client = boto3.client('lambda')\n",
    "bedrock_agent_client = boto3.client('bedrock-agent')\n",
    "bedrock_agent_runtime_client = boto3.client('bedrock-agent-runtime')\n",
    "open_search_serverless_client = boto3.client('opensearchserverless')"
   ]
  },
  {
   "cell_type": "code",
   "execution_count": null,
   "id": "acfd85b8-4a47-4da9-bdd6-2ac38c1e3803",
   "metadata": {
    "tags": []
   },
   "outputs": [],
   "source": [
    "session = boto3.session.Session()\n",
    "region = session.region_name\n",
    "account_id = sts_client.get_caller_identity()[\"Account\"]\n",
    "region, account_id"
   ]
  },
  {
   "cell_type": "code",
   "execution_count": null,
   "id": "6501bd5f-2b77-42d6-9662-6cc5b5b5642b",
   "metadata": {
    "tags": []
   },
   "outputs": [],
   "source": [
    "# Generate random prefix for unique IAM roles, agent name and S3 Bucket and \n",
    "# assign variables\n",
    "suffix = f\"{region}-{account_id}\"\n",
    "agent_name = \"insurance-claims-agent-kb\"\n",
    "agent_alias_name = \"workshop-alias\"\n",
    "bucket_name = f'{agent_name}-{suffix}'\n",
    "bucket_arn = f\"arn:aws:s3:::{bucket_name}\"\n",
    "schema_key = f'{agent_name}-schema.json'\n",
    "schema_name = 'insurance_claims_agent_openapi_schema_with_kb.json'\n",
    "schema_arn = f'arn:aws:s3:::{bucket_name}/{schema_key}'\n",
    "bedrock_agent_bedrock_allow_policy_name = f\"ica-bedrock-allow-{suffix}\"\n",
    "bedrock_agent_s3_allow_policy_name = f\"ica-s3-allow-{suffix}\"\n",
    "bedrock_agent_kb_allow_policy_name = f\"ica-kb-allow-{suffix}\"\n",
    "lambda_role_name = f'{agent_name}-lambda-role-{suffix}'\n",
    "agent_role_name = f'AmazonBedrockExecutionRoleForAgents_ica'\n",
    "lambda_code_path = \"lambda_function.py\"\n",
    "lambda_name = f'{agent_name}-{suffix}'\n",
    "kb_name = f'insurance-claims-kb-{suffix}'\n",
    "data_source_name = f'insurance-claims-kb-docs-{suffix}'\n",
    "kb_files_path = 'kb_documents'\n",
    "kb_key = 'kb_documents'\n",
    "kb_role_name = f'AmazonBedrockExecutionRoleForKnowledgeBase_icakb'\n",
    "kb_bedrock_allow_policy_name = f\"ica-kb-bedrock-allow-{suffix}\"\n",
    "kb_aoss_allow_policy_name = f\"ica-kb-aoss-allow-{suffix}\"\n",
    "kb_s3_allow_policy_name = f\"ica-kb-s3-allow-{suffix}\"\n",
    "kb_collection_name = f'ica-kbc-{suffix}'\n",
    "# Select Amazon titan as the embedding model\n",
    "embedding_model_arn = f'arn:aws:bedrock:{region}::foundation-model/amazon.titan-embed-text-v1'\n",
    "kb_vector_index_name = \"bedrock-knowledge-base-index\"\n",
    "kb_metadataField = 'bedrock-knowledge-base-metadata'\n",
    "kb_textField = 'bedrock-knowledge-base-text'\n",
    "kb_vectorField = 'bedrock-knowledge-base-vector'"
   ]
  },
  {
   "cell_type": "markdown",
   "id": "03c964ba-6f6f-4e4b-a654-b09e54a3cd58",
   "metadata": {},
   "source": [
    "### Create S3 bucket and upload API Schema and Knowledge Base files\n",
    "\n",
    "Agents require an API Schema stored on s3. Let's create an S3 bucket to store the file and upload the necessary files to the newly created bucket"
   ]
  },
  {
   "cell_type": "code",
   "execution_count": null,
   "id": "70aac712-e1e9-4761-9ed2-92181cb65a11",
   "metadata": {
    "tags": []
   },
   "outputs": [],
   "source": [
    "# Create S3 bucket for Open API schema\n",
    "s3bucket = s3_client.create_bucket(\n",
    "    Bucket=bucket_name,\n",
    "    CreateBucketConfiguration={ 'LocationConstraint': region } \n",
    ")"
   ]
  },
  {
   "cell_type": "code",
   "execution_count": null,
   "id": "159ff709-acdc-4174-9b5a-7fab8e0408df",
   "metadata": {
    "tags": []
   },
   "outputs": [],
   "source": [
    "# Upload Open API schema to this s3 bucket\n",
    "s3_client.upload_file(schema_name, bucket_name, schema_key)"
   ]
  },
  {
   "cell_type": "code",
   "execution_count": null,
   "id": "b638dae2-e586-4cfa-ab6e-34f34956054b",
   "metadata": {
    "tags": []
   },
   "outputs": [],
   "source": [
    "# Upload Knowledge Base files to this s3 bucket\n",
    "for f in os.listdir(kb_files_path):\n",
    "    if f.endswith(\".docx\"):\n",
    "        s3_client.upload_file(kb_files_path+'/'+f, bucket_name, kb_key+'/'+f)"
   ]
  },
  {
   "cell_type": "markdown",
   "id": "ca46ab2f-f5a3-484b-9720-b3d586f47308",
   "metadata": {},
   "source": [
    "### Create Lambda function for Action Group\n",
    "Let's now create the lambda function required by the agent action group. We first need to create the lambda IAM role and it's policy. After that, we package the lambda function into a ZIP format to create the function"
   ]
  },
  {
   "cell_type": "code",
   "execution_count": null,
   "id": "55b4269a-9781-4efd-b7c6-9dcb222541ac",
   "metadata": {},
   "outputs": [],
   "source": [
    "# Create IAM Role for the Lambda function\n",
    "try:\n",
    "    assume_role_policy_document = {\n",
    "        \"Version\": \"2012-10-17\",\n",
    "        \"Statement\": [\n",
    "            {\n",
    "                \"Effect\": \"Allow\",\n",
    "                \"Action\": \"bedrock:InvokeModel\",\n",
    "                \"Principal\": {\n",
    "                    \"Service\": \"lambda.amazonaws.com\"\n",
    "                },\n",
    "                \"Action\": \"sts:AssumeRole\"\n",
    "            }\n",
    "        ]\n",
    "    }\n",
    "\n",
    "    assume_role_policy_document_json = json.dumps(assume_role_policy_document)\n",
    "\n",
    "    lambda_iam_role = iam_client.create_role(\n",
    "        RoleName=lambda_role_name,\n",
    "        AssumeRolePolicyDocument=assume_role_policy_document_json\n",
    "    )\n",
    "\n",
    "    # Pause to make sure role is created\n",
    "    time.sleep(10)\n",
    "except:\n",
    "    lambda_iam_role = iam_client.get_role(RoleName=lambda_role_name)\n",
    "\n",
    "iam_client.attach_role_policy(\n",
    "    RoleName=lambda_role_name,\n",
    "    PolicyArn='arn:aws:iam::aws:policy/service-role/AWSLambdaBasicExecutionRole'\n",
    ")"
   ]
  },
  {
   "cell_type": "code",
   "execution_count": null,
   "id": "f8b0dbc2-9c36-4f0a-8701-472f7c162a65",
   "metadata": {
    "tags": []
   },
   "outputs": [],
   "source": [
    "# Package up the lambda function code\n",
    "s = BytesIO()\n",
    "z = zipfile.ZipFile(s, 'w')\n",
    "z.write(lambda_code_path)\n",
    "z.close()\n",
    "zip_content = s.getvalue()\n",
    "\n",
    "# Create Lambda Function\n",
    "lambda_function = lambda_client.create_function(\n",
    "    FunctionName=lambda_name,\n",
    "    Runtime='python3.12',\n",
    "    Timeout=180,\n",
    "    Role=lambda_iam_role['Role']['Arn'],\n",
    "    Code={'ZipFile': zip_content},\n",
    "    Handler='lambda_function.lambda_handler'\n",
    ")"
   ]
  },
  {
   "cell_type": "markdown",
   "id": "77c8394f-7a64-4da4-a692-445b03b097f2",
   "metadata": {},
   "source": [
    "### Create Knowledge Base\n",
    "We will now create the knowledge base used by the agent to gather the outstanding documents requirements. We will use [Amazon OpenSearch Serverless](https://aws.amazon.com/opensearch-service/) as the vector databse and index the files stored on the previously created S3 bucket"
   ]
  },
  {
   "cell_type": "markdown",
   "id": "dbefcf4e-bc14-46cb-80e0-937854204332",
   "metadata": {},
   "source": [
    "#### Create Knowledge Base Role\n",
    "Let's first create IAM policies to allow our Knowledge Base to access Bedrock Titan Embedding Foundation model, Amazon OpenSearch Serverless and the S3 bucket with the Knowledge Base Files.\n",
    "\n",
    "Once the policies are ready, we will create the Knowledge Base role"
   ]
  },
  {
   "cell_type": "code",
   "execution_count": null,
   "id": "04e4e717-0f66-4aaf-89b7-f04d803017ab",
   "metadata": {
    "tags": []
   },
   "outputs": [],
   "source": [
    "# Create IAM policies for KB to invoke embedding model\n",
    "bedrock_kb_allow_fm_model_policy_statement = {\n",
    "    \"Version\": \"2012-10-17\",\n",
    "    \"Statement\": [\n",
    "        {\n",
    "            \"Sid\": \"AmazonBedrockAgentBedrockFoundationModelPolicy\",\n",
    "            \"Effect\": \"Allow\",\n",
    "            \"Action\": \"bedrock:InvokeModel\",\n",
    "            \"Resource\": [\n",
    "                embedding_model_arn\n",
    "            ]\n",
    "        }\n",
    "    ]\n",
    "}\n",
    "\n",
    "kb_bedrock_policy_json = json.dumps(bedrock_kb_allow_fm_model_policy_statement)\n",
    "\n",
    "kb_bedrock_policy = iam_client.create_policy(\n",
    "    PolicyName=kb_bedrock_allow_policy_name,\n",
    "    PolicyDocument=kb_bedrock_policy_json\n",
    ")"
   ]
  },
  {
   "cell_type": "code",
   "execution_count": null,
   "id": "94880417-2442-42e4-b359-d48b263fbc83",
   "metadata": {
    "tags": []
   },
   "outputs": [],
   "source": [
    "# Create IAM policies for KB to access OpenSearch Serverless\n",
    "bedrock_kb_allow_aoss_policy_statement = {\n",
    "    \"Version\": \"2012-10-17\",\n",
    "    \"Statement\": [\n",
    "        {\n",
    "            \"Effect\": \"Allow\",\n",
    "            \"Action\": \"aoss:APIAccessAll\",\n",
    "            \"Resource\": [\n",
    "                f\"arn:aws:aoss:{region}:{account_id}:collection/*\"\n",
    "            ]\n",
    "        }\n",
    "    ]\n",
    "}\n",
    "\n",
    "\n",
    "kb_aoss_policy_json = json.dumps(bedrock_kb_allow_aoss_policy_statement)\n",
    "\n",
    "kb_aoss_policy = iam_client.create_policy(\n",
    "    PolicyName=kb_aoss_allow_policy_name,\n",
    "    PolicyDocument=kb_aoss_policy_json\n",
    ")"
   ]
  },
  {
   "cell_type": "code",
   "execution_count": null,
   "id": "cc1cb7e5-156a-4528-94e4-eeb4f6d675a8",
   "metadata": {
    "tags": []
   },
   "outputs": [],
   "source": [
    "kb_s3_allow_policy_statement = {\n",
    "    \"Version\": \"2012-10-17\",\n",
    "    \"Statement\": [\n",
    "        {\n",
    "            \"Sid\": \"AllowKBAccessDocuments\",\n",
    "            \"Effect\": \"Allow\",\n",
    "            \"Action\": [\n",
    "                \"s3:GetObject\",\n",
    "                \"s3:ListBucket\"\n",
    "            ],\n",
    "            \"Resource\": [\n",
    "                f\"arn:aws:s3:::{bucket_name}/*\",\n",
    "                f\"arn:aws:s3:::{bucket_name}\"\n",
    "            ],\n",
    "            \"Condition\": {\n",
    "                \"StringEquals\": {\n",
    "                    \"aws:ResourceAccount\": f\"{account_id}\"\n",
    "                }\n",
    "            }\n",
    "        }\n",
    "    ]\n",
    "}\n",
    "\n",
    "\n",
    "kb_s3_json = json.dumps(kb_s3_allow_policy_statement)\n",
    "kb_s3_policy = iam_client.create_policy(\n",
    "    PolicyName=kb_s3_allow_policy_name,\n",
    "    PolicyDocument=kb_s3_json\n",
    ")"
   ]
  },
  {
   "cell_type": "code",
   "execution_count": null,
   "id": "49636b52-5890-49b3-b61c-f4558104483b",
   "metadata": {
    "tags": []
   },
   "outputs": [],
   "source": [
    "# Create IAM Role for the agent and attach IAM policies\n",
    "assume_role_policy_document = {\n",
    "    \"Version\": \"2012-10-17\",\n",
    "    \"Statement\": [{\n",
    "          \"Effect\": \"Allow\",\n",
    "          \"Principal\": {\n",
    "            \"Service\": \"bedrock.amazonaws.com\"\n",
    "          },\n",
    "          \"Action\": \"sts:AssumeRole\"\n",
    "    }]\n",
    "}\n",
    "\n",
    "assume_role_policy_document_json = json.dumps(assume_role_policy_document)\n",
    "kb_role = iam_client.create_role(\n",
    "    RoleName=kb_role_name,\n",
    "    AssumeRolePolicyDocument=assume_role_policy_document_json\n",
    ")\n",
    "\n",
    "# Pause to make sure role is created\n",
    "time.sleep(10)\n",
    "    \n",
    "iam_client.attach_role_policy(\n",
    "    RoleName=kb_role_name,\n",
    "    PolicyArn=kb_bedrock_policy['Policy']['Arn']\n",
    ")\n",
    "\n",
    "iam_client.attach_role_policy(\n",
    "    RoleName=kb_role_name,\n",
    "    PolicyArn=kb_aoss_policy['Policy']['Arn']\n",
    ")\n",
    "\n",
    "iam_client.attach_role_policy(\n",
    "    RoleName=kb_role_name,\n",
    "    PolicyArn=kb_s3_policy['Policy']['Arn']\n",
    ")"
   ]
  },
  {
   "cell_type": "code",
   "execution_count": null,
   "id": "7daaf573-cda3-4579-b3c9-ef341c9c220e",
   "metadata": {
    "tags": []
   },
   "outputs": [],
   "source": [
    "kb_role_arn = kb_role[\"Role\"][\"Arn\"]\n",
    "kb_role_arn"
   ]
  },
  {
   "cell_type": "markdown",
   "id": "b6b2efb7-281b-460a-925c-5e5f689c0053",
   "metadata": {},
   "source": [
    "#### Create Vector Data Base\n",
    "\n",
    "Firt of all we have to create a vector store. In this section we will use *Amazon OpenSerach serverless.*\n",
    "\n",
    "Amazon OpenSearch Serverless is a serverless option in Amazon OpenSearch Service. As a developer, you can use OpenSearch Serverless to run petabyte-scale workloads without configuring, managing, and scaling OpenSearch clusters. You get the same interactive millisecond response times as OpenSearch Service with the simplicity of a serverless environment. Pay only for what you use by automatically scaling resources to provide the right amount of capacity for your application—without impacting data ingestion."
   ]
  },
  {
   "cell_type": "code",
   "execution_count": null,
   "id": "7659ef92-0602-46f3-b5bd-891f163e7776",
   "metadata": {
    "tags": []
   },
   "outputs": [],
   "source": [
    "# Create OpenSearch Collection\n",
    "security_policy_json = {\n",
    "    \"Rules\": [\n",
    "        {\n",
    "            \"ResourceType\": \"collection\",\n",
    "            \"Resource\":[\n",
    "                f\"collection/{kb_collection_name}\"\n",
    "            ]\n",
    "        }\n",
    "    ],\n",
    "    \"AWSOwnedKey\": True\n",
    "}\n",
    "security_policy = open_search_serverless_client.create_security_policy(\n",
    "    description='security policy of aoss collection',\n",
    "    name=kb_collection_name,\n",
    "    policy=json.dumps(security_policy_json),\n",
    "    type='encryption'\n",
    ")"
   ]
  },
  {
   "cell_type": "code",
   "execution_count": null,
   "id": "22f43b5a-ea56-4b49-85e0-6db654cb57c5",
   "metadata": {
    "tags": []
   },
   "outputs": [],
   "source": [
    "network_policy_json = [\n",
    "  {\n",
    "    \"Rules\": [\n",
    "      {\n",
    "        \"Resource\": [\n",
    "          f\"collection/{kb_collection_name}\"\n",
    "        ],\n",
    "        \"ResourceType\": \"dashboard\"\n",
    "      },\n",
    "      {\n",
    "        \"Resource\": [\n",
    "          f\"collection/{kb_collection_name}\"\n",
    "        ],\n",
    "        \"ResourceType\": \"collection\"\n",
    "      }\n",
    "    ],\n",
    "    \"AllowFromPublic\": True\n",
    "  }\n",
    "]\n",
    "\n",
    "network_policy = open_search_serverless_client.create_security_policy(\n",
    "    description='network policy of aoss collection',\n",
    "    name=kb_collection_name,\n",
    "    policy=json.dumps(network_policy_json),\n",
    "    type='network'\n",
    ")"
   ]
  },
  {
   "cell_type": "code",
   "execution_count": null,
   "id": "ee08e811-e6a3-4def-a431-819ca86779c6",
   "metadata": {
    "tags": []
   },
   "outputs": [],
   "source": [
    "response = sts_client.get_caller_identity()\n",
    "current_role = response['Arn']\n",
    "current_role"
   ]
  },
  {
   "cell_type": "code",
   "execution_count": null,
   "id": "512075de-8f33-4c54-b50e-4e8a0813d6d8",
   "metadata": {
    "tags": []
   },
   "outputs": [],
   "source": [
    "data_policy_json = [\n",
    "  {\n",
    "    \"Rules\": [\n",
    "      {\n",
    "        \"Resource\": [\n",
    "          f\"collection/{kb_collection_name}\"\n",
    "        ],\n",
    "        \"Permission\": [\n",
    "          \"aoss:DescribeCollectionItems\",\n",
    "          \"aoss:CreateCollectionItems\",\n",
    "          \"aoss:UpdateCollectionItems\",\n",
    "          \"aoss:DeleteCollectionItems\"\n",
    "        ],\n",
    "        \"ResourceType\": \"collection\"\n",
    "      },\n",
    "      {\n",
    "        \"Resource\": [\n",
    "          f\"index/{kb_collection_name}/*\"\n",
    "        ],\n",
    "        \"Permission\": [\n",
    "            \"aoss:CreateIndex\",\n",
    "            \"aoss:DeleteIndex\",\n",
    "            \"aoss:UpdateIndex\",\n",
    "            \"aoss:DescribeIndex\",\n",
    "            \"aoss:ReadDocument\",\n",
    "            \"aoss:WriteDocument\"\n",
    "        ],\n",
    "        \"ResourceType\": \"index\"\n",
    "      }\n",
    "    ],\n",
    "    \"Principal\": [\n",
    "        kb_role_arn,\n",
    "        f\"arn:aws:sts::{account_id}:assumed-role/Admin/*\",\n",
    "        current_role\n",
    "    ],\n",
    "    \"Description\": \"\"\n",
    "  }\n",
    "]\n",
    "\n",
    "data_policy = open_search_serverless_client.create_access_policy(\n",
    "    description='data access policy for aoss collection',\n",
    "    name=kb_collection_name,\n",
    "    policy=json.dumps(data_policy_json),\n",
    "    type='data'\n",
    ")"
   ]
  },
  {
   "cell_type": "code",
   "execution_count": null,
   "id": "aa896246-eb2b-4dd4-804c-b0522ad26574",
   "metadata": {
    "tags": []
   },
   "outputs": [],
   "source": [
    "opensearch_collection_response = open_search_serverless_client.create_collection(\n",
    "    description='OpenSearch collection for Amazon Bedrock Knowledge Base',\n",
    "    name=kb_collection_name,\n",
    "    standbyReplicas='DISABLED',\n",
    "    type='VECTORSEARCH'\n",
    ")\n",
    "opensearch_collection_response"
   ]
  },
  {
   "cell_type": "code",
   "execution_count": null,
   "id": "d6803e8f-50ba-44bb-a373-d01d9133278f",
   "metadata": {
    "tags": []
   },
   "outputs": [],
   "source": [
    "collection_arn = opensearch_collection_response[\"createCollectionDetail\"][\"arn\"]\n",
    "collection_arn"
   ]
  },
  {
   "cell_type": "code",
   "execution_count": null,
   "id": "ceef3aa8-c243-41aa-bf06-b3547103ab25",
   "metadata": {
    "tags": []
   },
   "outputs": [],
   "source": [
    "# wait for collection creation\n",
    "response = open_search_serverless_client.batch_get_collection(names=[kb_collection_name])\n",
    "# Periodically check collection status\n",
    "while (response['collectionDetails'][0]['status']) == 'CREATING':\n",
    "    print('Creating collection...')\n",
    "    time.sleep(30)\n",
    "    response = open_search_serverless_client.batch_get_collection(names=[kb_collection_name])\n",
    "print('\\nCollection successfully created:')\n",
    "print(response[\"collectionDetails\"])\n",
    "# Extract the collection endpoint from the response\n",
    "host = (response['collectionDetails'][0]['collectionEndpoint'])\n",
    "final_host = host.replace(\"https://\", \"\")\n",
    "final_host"
   ]
  },
  {
   "cell_type": "markdown",
   "id": "618c4cd3-f0fd-4a45-9300-deab822eaeec",
   "metadata": {},
   "source": [
    "#### Create OpenSearch Index\n",
    "\n",
    "Let's now create a vector index to index our data"
   ]
  },
  {
   "cell_type": "code",
   "execution_count": null,
   "id": "414785c7-b1ad-40fc-92b1-27d4e042f83c",
   "metadata": {
    "tags": []
   },
   "outputs": [],
   "source": [
    "credentials = boto3.Session().get_credentials()\n",
    "service = 'aoss'\n",
    "awsauth = AWS4Auth(\n",
    "    credentials.access_key, \n",
    "    credentials.secret_key,\n",
    "    region, \n",
    "    service, \n",
    "    session_token=credentials.token\n",
    ")\n",
    "\n",
    "# Build the OpenSearch client\n",
    "open_search_client = OpenSearch(\n",
    "    hosts=[{'host': final_host, 'port': 443}],\n",
    "    http_auth=awsauth,\n",
    "    use_ssl=True,\n",
    "    verify_certs=True,\n",
    "    connection_class=RequestsHttpConnection,\n",
    "    timeout=300\n",
    ")\n",
    "# It can take up to a minute for data access rules to be enforced\n",
    "time.sleep(45)\n",
    "index_body = {\n",
    "    \"settings\": {\n",
    "        \"index.knn\": True,\n",
    "        \"number_of_shards\": 1,\n",
    "        \"knn.algo_param.ef_search\": 512,\n",
    "        \"number_of_replicas\": 0,\n",
    "    },\n",
    "    \"mappings\": {\n",
    "        \"properties\": {}\n",
    "    }\n",
    "}\n",
    "\n",
    "index_body[\"mappings\"][\"properties\"][kb_vectorField] = {\n",
    "    \"type\": \"knn_vector\",\n",
    "    \"dimension\": 1536,\n",
    "    \"method\": {\n",
    "         \"name\": \"hnsw\",\n",
    "         \"engine\": \"faiss\"\n",
    "    },\n",
    "}\n",
    "\n",
    "index_body[\"mappings\"][\"properties\"][kb_textField] = {\n",
    "    \"type\": \"text\"\n",
    "}\n",
    "\n",
    "index_body[\"mappings\"][\"properties\"][kb_metadataField] = {\n",
    "    \"type\": \"text\"\n",
    "}\n",
    "\n",
    "# Create index\n",
    "response = open_search_client.indices.create(kb_vector_index_name, body=index_body)\n",
    "print('\\nCreating index:')\n",
    "print(response)"
   ]
  },
  {
   "cell_type": "code",
   "execution_count": null,
   "id": "4c531c7e-77eb-486c-9fb6-1e6130895f3c",
   "metadata": {},
   "outputs": [],
   "source": [
    "storage_configuration = {\n",
    "    'opensearchServerlessConfiguration': {\n",
    "        'collectionArn': collection_arn, \n",
    "        'fieldMapping': {\n",
    "            'metadataField': kb_metadataField,\n",
    "            'textField': kb_textField,\n",
    "            'vectorField': kb_vectorField\n",
    "        },\n",
    "        'vectorIndexName': kb_vector_index_name\n",
    "    },\n",
    "    'type': 'OPENSEARCH_SERVERLESS'\n",
    "}"
   ]
  },
  {
   "cell_type": "code",
   "execution_count": null,
   "id": "01bb87db-13d6-4104-9100-18f9426b1205",
   "metadata": {
    "tags": []
   },
   "outputs": [],
   "source": [
    "# Creating the knowledge base\n",
    "try:\n",
    "    # ensure the index is created and available\n",
    "    time.sleep(45)\n",
    "    kb_obj = bedrock_agent_client.create_knowledge_base(\n",
    "        name=kb_name, \n",
    "        description='KB that contains information about documents requirements for insurance claims',\n",
    "        roleArn=kb_role_arn,\n",
    "        knowledgeBaseConfiguration={\n",
    "            'type': 'VECTOR',  # Corrected type\n",
    "            'vectorKnowledgeBaseConfiguration': {\n",
    "                'embeddingModelArn': embedding_model_arn\n",
    "            }\n",
    "        },\n",
    "        storageConfiguration=storage_configuration\n",
    "    )\n",
    "\n",
    "    # Pretty print the response\n",
    "    pprint.pprint(kb_obj)\n",
    "\n",
    "except Exception as e:\n",
    "    print(f\"Error occurred: {e}\")"
   ]
  },
  {
   "cell_type": "markdown",
   "id": "d0ae1287-13a7-4be7-8881-eadf6a79de6f",
   "metadata": {},
   "source": [
    "#### Create a data source that you can attach to the recently created Knowledge Base\n",
    "\n",
    "Let's create a data source for our Knowledge Base. Then we will ingest our data and convert it into embeddings."
   ]
  },
  {
   "cell_type": "code",
   "execution_count": null,
   "id": "1b1a0111-5a3d-4205-9b24-4984b84ec327",
   "metadata": {
    "tags": []
   },
   "outputs": [],
   "source": [
    "# Define the S3 configuration for your data source\n",
    "s3_configuration = {\n",
    "    'bucketArn': bucket_arn,\n",
    "    'inclusionPrefixes': [kb_key]  \n",
    "}\n",
    "\n",
    "# Define the data source configuration\n",
    "data_source_configuration = {\n",
    "    's3Configuration': s3_configuration,\n",
    "    'type': 'S3'\n",
    "}\n",
    "\n",
    "knowledge_base_id = kb_obj[\"knowledgeBase\"][\"knowledgeBaseId\"]\n",
    "knowledge_base_arn = kb_obj[\"knowledgeBase\"][\"knowledgeBaseArn\"]\n",
    "\n",
    "chunking_strategy_configuration = {\n",
    "    \"chunkingStrategy\": \"FIXED_SIZE\",\n",
    "    \"fixedSizeChunkingConfiguration\": {\n",
    "        \"maxTokens\": 512,\n",
    "        \"overlapPercentage\": 20\n",
    "    }\n",
    "}\n",
    "\n",
    "# Create the data source\n",
    "try:\n",
    "    # ensure that the KB is created and available\n",
    "    time.sleep(45)\n",
    "    data_source_response = bedrock_agent_client.create_data_source(\n",
    "        knowledgeBaseId=knowledge_base_id,\n",
    "        name=data_source_name,\n",
    "        description='DataSource for the insurance claim documents requirements',\n",
    "        dataSourceConfiguration=data_source_configuration,\n",
    "        vectorIngestionConfiguration = {\n",
    "            \"chunkingConfiguration\": chunking_strategy_configuration\n",
    "        }\n",
    "    )\n",
    "\n",
    "    # Pretty print the response\n",
    "    pprint.pprint(data_source_response)\n",
    "\n",
    "except Exception as e:\n",
    "    print(f\"Error occurred: {e}\")\n"
   ]
  },
  {
   "cell_type": "markdown",
   "id": "929a853c-7d23-419b-8f8d-8ce0c872e035",
   "metadata": {
    "tags": []
   },
   "source": [
    "#### Start ingestion job\n",
    "Once the Knowledge Base and Data Source are created, we can start the ingestion job.\n",
    "During the ingestion job, Knowledge Base will fetch the documents in the data source, pre-process it to extract text, chunk it based on the chunking size provided, create embeddings of each chunk and then write it to the vector database, in this case Amazon OpenSource Serverless."
   ]
  },
  {
   "cell_type": "code",
   "execution_count": null,
   "id": "70f20298-a5d8-4067-91e9-dbd5bec4587c",
   "metadata": {
    "tags": []
   },
   "outputs": [],
   "source": [
    "# Start an ingestion job\n",
    "data_source_id = data_source_response[\"dataSource\"][\"dataSourceId\"]\n",
    "start_job_response = bedrock_agent_client.start_ingestion_job(\n",
    "    knowledgeBaseId=knowledge_base_id, \n",
    "    dataSourceId=data_source_id\n",
    ")"
   ]
  },
  {
   "cell_type": "markdown",
   "id": "ded8e395-f8b7-4a64-9bb4-ac3f7dc8742a",
   "metadata": {},
   "source": [
    "### Create Agent\n",
    "We will now create our agent. To do so, we first need to create the agent policies that allow bedrock model invocation  and s3 bucket access. "
   ]
  },
  {
   "cell_type": "code",
   "execution_count": null,
   "id": "1d627d18-35f4-4752-9960-9d2ccf4f48f0",
   "metadata": {
    "tags": []
   },
   "outputs": [],
   "source": [
    "# Create IAM policies for agent\n",
    "bedrock_agent_bedrock_allow_policy_statement = {\n",
    "    \"Version\": \"2012-10-17\",\n",
    "    \"Statement\": [\n",
    "        {\n",
    "            \"Sid\": \"AmazonBedrockAgentBedrockFoundationModelPolicy\",\n",
    "            \"Effect\": \"Allow\",\n",
    "            \"Action\": \"bedrock:InvokeModel\",\n",
    "            \"Resource\": [\n",
    "                f\"arn:aws:bedrock:{region}::foundation-model/anthropic.claude-v2:1\"\n",
    "            ]\n",
    "        }\n",
    "    ]\n",
    "}\n",
    "\n",
    "bedrock_policy_json = json.dumps(bedrock_agent_bedrock_allow_policy_statement)\n",
    "\n",
    "agent_bedrock_policy = iam_client.create_policy(\n",
    "    PolicyName=bedrock_agent_bedrock_allow_policy_name,\n",
    "    PolicyDocument=bedrock_policy_json\n",
    ")"
   ]
  },
  {
   "cell_type": "code",
   "execution_count": null,
   "id": "55ff92f7-e525-4d28-87ca-c3b262d0ddd0",
   "metadata": {
    "tags": []
   },
   "outputs": [],
   "source": [
    "bedrock_agent_s3_allow_policy_statement = {\n",
    "    \"Version\": \"2012-10-17\",\n",
    "    \"Statement\": [\n",
    "        {\n",
    "            \"Sid\": \"AllowAgentAccessOpenAPISchema\",\n",
    "            \"Effect\": \"Allow\",\n",
    "            \"Action\": [\"s3:GetObject\"],\n",
    "            \"Resource\": [\n",
    "                schema_arn\n",
    "            ]\n",
    "        }\n",
    "    ]\n",
    "}\n",
    "\n",
    "\n",
    "bedrock_agent_s3_json = json.dumps(bedrock_agent_s3_allow_policy_statement)\n",
    "agent_s3_schema_policy = iam_client.create_policy(\n",
    "    PolicyName=bedrock_agent_s3_allow_policy_name,\n",
    "    Description=f\"Policy to allow invoke Lambda that was provisioned for it.\",\n",
    "    PolicyDocument=bedrock_agent_s3_json\n",
    ")"
   ]
  },
  {
   "cell_type": "code",
   "execution_count": null,
   "id": "0159b80a-3a70-4232-8889-fb68cc473397",
   "metadata": {
    "tags": []
   },
   "outputs": [],
   "source": [
    "bedrock_agent_kb_retrival_policy_statement = {\n",
    "    \"Version\": \"2012-10-17\",\n",
    "    \"Statement\": [\n",
    "        {\n",
    "            \"Effect\": \"Allow\",\n",
    "            \"Action\": [\n",
    "                \"bedrock:Retrieve\"\n",
    "            ],\n",
    "            \"Resource\": [\n",
    "                knowledge_base_arn\n",
    "            ]\n",
    "        }\n",
    "    ]\n",
    "}\n",
    "bedrock_agent_kb_json = json.dumps(bedrock_agent_kb_retrival_policy_statement)\n",
    "agent_kb_schema_policy = iam_client.create_policy(\n",
    "    PolicyName=bedrock_agent_kb_allow_policy_name,\n",
    "    Description=f\"Policy to allow agent to retrieve documents from knowledge base.\",\n",
    "    PolicyDocument=bedrock_agent_kb_json\n",
    ")"
   ]
  },
  {
   "cell_type": "code",
   "execution_count": null,
   "id": "f1148115-bcc3-4e5b-ba58-f8946679036d",
   "metadata": {
    "tags": []
   },
   "outputs": [],
   "source": [
    "# Create IAM Role for the agent and attach IAM policies\n",
    "assume_role_policy_document = {\n",
    "    \"Version\": \"2012-10-17\",\n",
    "    \"Statement\": [{\n",
    "          \"Effect\": \"Allow\",\n",
    "          \"Principal\": {\n",
    "            \"Service\": \"bedrock.amazonaws.com\"\n",
    "          },\n",
    "          \"Action\": \"sts:AssumeRole\"\n",
    "    }]\n",
    "}\n",
    "\n",
    "assume_role_policy_document_json = json.dumps(assume_role_policy_document)\n",
    "agent_role = iam_client.create_role(\n",
    "    RoleName=agent_role_name,\n",
    "    AssumeRolePolicyDocument=assume_role_policy_document_json\n",
    ")\n",
    "\n",
    "# Pause to make sure role is created\n",
    "time.sleep(10)\n",
    "    \n",
    "iam_client.attach_role_policy(\n",
    "    RoleName=agent_role_name,\n",
    "    PolicyArn=agent_bedrock_policy['Policy']['Arn']\n",
    ")\n",
    "\n",
    "iam_client.attach_role_policy(\n",
    "    RoleName=agent_role_name,\n",
    "    PolicyArn=agent_s3_schema_policy['Policy']['Arn']\n",
    ")\n",
    "\n",
    "iam_client.attach_role_policy(\n",
    "    RoleName=agent_role_name,\n",
    "    PolicyArn=agent_kb_schema_policy['Policy']['Arn']\n",
    ")"
   ]
  },
  {
   "cell_type": "markdown",
   "id": "96b86215-bc3d-47f6-a98c-6f96c513d886",
   "metadata": {},
   "source": [
    "#### Creating Agent\n",
    "Once the needed IAM role is created, we can use the bedrock agent client to create a new agent. To do so we use the `create_agent` function. It requires an agent name, underline foundation model and instruction. You can also provide an agent description. Note that the agent created is not yet prepared. We will focus on preparing the agent and then using it to invoke actions and use other APIs"
   ]
  },
  {
   "cell_type": "code",
   "execution_count": null,
   "id": "e1d7c63b-6bc0-4b48-a5c0-2db24fa5a21e",
   "metadata": {},
   "outputs": [],
   "source": [
    "# Create Agent\n",
    "agent_instruction = \"\"\"\n",
    "You are an agent that can handle various tasks related to insurance claims, including looking up claim \n",
    "details, finding what paperwork is outstanding, and sending reminders. Only send reminders if you have been \n",
    "explicitly requested to do so. If an user asks about your functionality, provide guidance in natural language \n",
    "and do not include function names on the output.\"\"\"\n",
    "\n",
    "response = bedrock_agent_client.create_agent(\n",
    "    agentName=agent_name,\n",
    "    agentResourceRoleArn=agent_role['Role']['Arn'],\n",
    "    description=\"Agent for handling insurance claims.\",\n",
    "    idleSessionTTLInSeconds=1800,\n",
    "    foundationModel=\"anthropic.claude-v2:1\",\n",
    "    instruction=agent_instruction,\n",
    ")"
   ]
  },
  {
   "cell_type": "markdown",
   "id": "aa89ac0d-b1af-4efa-bbb8-59a8f486a622",
   "metadata": {},
   "source": [
    "Looking at the created agent, we can see its status and agent id"
   ]
  },
  {
   "cell_type": "code",
   "execution_count": null,
   "id": "0eef5588-1f7f-4d94-8a10-3eb8ecf316d1",
   "metadata": {
    "tags": []
   },
   "outputs": [],
   "source": [
    "response"
   ]
  },
  {
   "cell_type": "markdown",
   "id": "780ce247-ff4c-4ecf-8558-222581d2ea52",
   "metadata": {},
   "source": [
    "Let's now store the agent id in a local variable to use it on the next steps"
   ]
  },
  {
   "cell_type": "code",
   "execution_count": null,
   "id": "4d2bf0ea-5c5c-4afc-9b4d-19158b48bb50",
   "metadata": {
    "tags": []
   },
   "outputs": [],
   "source": [
    "agent_id = response['agent']['agentId']\n",
    "agent_id"
   ]
  },
  {
   "cell_type": "markdown",
   "id": "32158234-b474-4bfa-8efd-afe5aa087df8",
   "metadata": {},
   "source": [
    "### Create Agent Action Group\n",
    "We will now create and agent action group that uses the lambda function and API schema files created before.\n",
    "The `create_agent_action_group` function provides this functionality. We will use `DRAFT` as the agent version since we haven't yet create an agent version or alias. To inform the agent about the action group functionalities, we will provide an action group description containing the functionalities of the action group."
   ]
  },
  {
   "cell_type": "code",
   "execution_count": null,
   "id": "2b8ef041-3273-44c4-93ef-8a4a28987c0d",
   "metadata": {
    "tags": []
   },
   "outputs": [],
   "source": [
    "bucket_name, schema_key"
   ]
  },
  {
   "cell_type": "code",
   "execution_count": null,
   "id": "ca4dd6c1-5151-4846-ac75-e8b23e299a90",
   "metadata": {
    "tags": []
   },
   "outputs": [],
   "source": [
    "# Pause to make sure agent is created\n",
    "time.sleep(30)\n",
    "# Now, we can configure and create an action group here:\n",
    "agent_action_group_response = bedrock_agent_client.create_agent_action_group(\n",
    "    agentId=agent_id,\n",
    "    agentVersion='DRAFT',\n",
    "    actionGroupExecutor={\n",
    "        'lambda': lambda_function['FunctionArn']\n",
    "    },\n",
    "    actionGroupName='ClaimManagementActionGroup',\n",
    "    apiSchema={\n",
    "        's3': {\n",
    "            's3BucketName': bucket_name,\n",
    "            's3ObjectKey': schema_key\n",
    "        }\n",
    "    },\n",
    "    description='Actions for listing claims, identifying missing paperwork, sending reminders'\n",
    ")"
   ]
  },
  {
   "cell_type": "code",
   "execution_count": null,
   "id": "74945f90-4777-40da-bc5e-ca0b31fdbb6b",
   "metadata": {
    "tags": []
   },
   "outputs": [],
   "source": [
    "agent_action_group_response"
   ]
  },
  {
   "cell_type": "markdown",
   "id": "04586a08-764b-499a-a52a-5b199b061890",
   "metadata": {},
   "source": [
    "### Allowing Agent to invoke Action Group Lambda\n",
    "Before using our action group, we need to allow our agent to invoke the lambda function associated to the action group. This is done via resource-based policy. Let's add the resource-based policy to the lambda function created"
   ]
  },
  {
   "cell_type": "code",
   "execution_count": null,
   "id": "33555ead-bc3c-420b-b0fd-ee644863ce57",
   "metadata": {
    "tags": []
   },
   "outputs": [],
   "source": [
    "# Create allow invoke permission on lambda\n",
    "response = lambda_client.add_permission(\n",
    "    FunctionName=lambda_name,\n",
    "    StatementId='allow_bedrock',\n",
    "    Action='lambda:InvokeFunction',\n",
    "    Principal='bedrock.amazonaws.com',\n",
    "    SourceArn=f\"arn:aws:bedrock:{region}:{account_id}:agent/{agent_id}\",\n",
    ")"
   ]
  },
  {
   "cell_type": "markdown",
   "id": "7cae86e5-de02-430a-a094-86ae25957998",
   "metadata": {},
   "source": [
    "### Associating the agent to a Knowledge Base\n"
   ]
  },
  {
   "cell_type": "code",
   "execution_count": null,
   "id": "951e3c5d-27c7-4a4f-9519-41984559367c",
   "metadata": {
    "tags": []
   },
   "outputs": [],
   "source": [
    "agent_kb_description = bedrock_agent_client.associate_agent_knowledge_base(\n",
    "    agentId=agent_id,\n",
    "    agentVersion='DRAFT',\n",
    "    description=f'Use the information in the {kb_name} knowledge base to provide accurate responses to detail the requirements of each missing document in a insurance claim.',\n",
    "    knowledgeBaseId=knowledge_base_id \n",
    ")"
   ]
  },
  {
   "cell_type": "markdown",
   "id": "c449b466-3d92-49e7-aef2-168c8f669c40",
   "metadata": {},
   "source": [
    "### Preparing Agent\n",
    "Let's create a DRAFT version of the agent that can be used for internal testing."
   ]
  },
  {
   "cell_type": "code",
   "execution_count": null,
   "id": "37a8d75d-9661-4b4f-95af-c3ab05e00b75",
   "metadata": {
    "tags": []
   },
   "outputs": [],
   "source": [
    "agent_prepare = bedrock_agent_client.prepare_agent(agentId=agent_id)\n",
    "agent_prepare"
   ]
  },
  {
   "cell_type": "markdown",
   "id": "092dc0d0-3597-4ec2-8959-e1c968c9670b",
   "metadata": {},
   "source": [
    "### Create Agent alias\n",
    "We will now create an alias of the agent that can be used to deploy the agent."
   ]
  },
  {
   "cell_type": "code",
   "execution_count": null,
   "id": "3f93af07-ac4b-45a0-89b5-7a90929df6f5",
   "metadata": {
    "tags": []
   },
   "outputs": [],
   "source": [
    "# Pause to make sure agent is prepared\n",
    "time.sleep(30)\n",
    "agent_alias = bedrock_agent_client.create_agent_alias(\n",
    "    agentId=agent_id,\n",
    "    agentAliasName=agent_alias_name\n",
    ")\n",
    "# Pause to make sure agent alias is ready\n",
    "time.sleep(30)"
   ]
  },
  {
   "cell_type": "code",
   "execution_count": null,
   "id": "35de5613-638c-4f04-88e0-6fc9689b5f5d",
   "metadata": {
    "tags": []
   },
   "outputs": [],
   "source": [
    "agent_alias"
   ]
  },
  {
   "cell_type": "markdown",
   "id": "ada2844c-04fd-4dfc-a87d-0a668afb8f82",
   "metadata": {},
   "source": [
    "### Invoke Agent\n",
    "Now that we've created the agent, let's use the `bedrock-agent-runtime` client to invoke this agent and perform some tasks."
   ]
  },
  {
   "cell_type": "code",
   "execution_count": null,
   "id": "fb174c5e-6cbc-4314-8b0b-a51123a0386a",
   "metadata": {
    "tags": []
   },
   "outputs": [],
   "source": [
    "# Extract the agentAliasId from the response\n",
    "agent_alias_id = agent_alias['agentAlias']['agentAliasId']\n",
    "\n",
    "## create a random id for session initiator id\n",
    "session_id:str = str(uuid.uuid1())\n",
    "enable_trace:bool = True\n",
    "end_session:bool = False\n",
    "\n",
    "# invoke the agent API\n",
    "agentResponse = bedrock_agent_runtime_client.invoke_agent(\n",
    "    inputText=\"send reminder to claim-006. Include the missing documents and their requirements\",\n",
    "    agentId=agent_id,\n",
    "    agentAliasId=agent_alias_id, \n",
    "    sessionId=session_id,\n",
    "    enableTrace=enable_trace, \n",
    "    endSession= end_session\n",
    ")\n",
    "\n",
    "logger.info(pprint.pprint(agentResponse))"
   ]
  },
  {
   "cell_type": "code",
   "execution_count": null,
   "id": "3df9a35c-f07b-4640-b07b-686f9ee20e77",
   "metadata": {
    "tags": []
   },
   "outputs": [],
   "source": [
    "%%time\n",
    "event_stream = agentResponse['completion']\n",
    "try:\n",
    "    for event in event_stream:        \n",
    "        if 'chunk' in event:\n",
    "            data = event['chunk']['bytes']\n",
    "            logger.info(f\"Final answer ->\\n{data.decode('utf8')}\")\n",
    "            agent_answer = data.decode('utf8')\n",
    "            end_event_received = True\n",
    "            # End event indicates that the request finished successfully\n",
    "        elif 'trace' in event:\n",
    "            logger.info(json.dumps(event['trace'], indent=2))\n",
    "        else:\n",
    "            raise Exception(\"unexpected event.\", event)\n",
    "except Exception as e:\n",
    "    raise Exception(\"unexpected event.\", e)"
   ]
  },
  {
   "cell_type": "code",
   "execution_count": null,
   "id": "72fbe3c9-c32f-44a6-8579-1d432a15036e",
   "metadata": {
    "tags": []
   },
   "outputs": [],
   "source": [
    "# And here is the response if you just want to see agent's reply\n",
    "print(agent_answer)"
   ]
  },
  {
   "cell_type": "markdown",
   "id": "cc47a158-34d0-436f-832f-774482a5275d",
   "metadata": {},
   "source": [
    "### Clean up (optional)\n",
    "The next steps are optional and demonstrate how to delete our agent. To delete the agent we need to:\n",
    "1. update the action group to disable it\n",
    "2. delete agent action group\n",
    "3. delete agent alias\n",
    "4. delete agent\n",
    "5. delete lambda function\n",
    "6. empty created s3 bucket\n",
    "7. delete s3 bucket"
   ]
  },
  {
   "cell_type": "code",
   "execution_count": null,
   "id": "0d06b9fa-9510-4702-8321-e3c3a8a161f6",
   "metadata": {
    "tags": []
   },
   "outputs": [],
   "source": [
    " # This is not needed, you can delete agent successfully after deleting alias only\n",
    "# Additionaly, you need to disable it first\n",
    "\n",
    "action_group_id = agent_action_group_response['agentActionGroup']['actionGroupId']\n",
    "action_group_name = agent_action_group_response['agentActionGroup']['actionGroupName']\n",
    "\n",
    "response = bedrock_agent_client.update_agent_action_group(\n",
    "    agentId=agent_id,\n",
    "    agentVersion='DRAFT',\n",
    "    actionGroupId= action_group_id,\n",
    "    actionGroupName=action_group_name,\n",
    "    actionGroupExecutor={\n",
    "        'lambda': lambda_function['FunctionArn']\n",
    "    },\n",
    "    apiSchema={\n",
    "        's3': {\n",
    "            's3BucketName': bucket_name,\n",
    "            's3ObjectKey': schema_key\n",
    "        }\n",
    "    },\n",
    "    actionGroupState='DISABLED',\n",
    ")\n",
    "\n",
    "action_group_deletion = bedrock_agent_client.delete_agent_action_group(\n",
    "    agentId=agent_id,\n",
    "    agentVersion='DRAFT',\n",
    "    actionGroupId= action_group_id\n",
    ")"
   ]
  },
  {
   "cell_type": "code",
   "execution_count": null,
   "id": "f5f9dfae-aae2-4384-b2af-747a4a553e76",
   "metadata": {
    "tags": []
   },
   "outputs": [],
   "source": [
    " agent_alias_deletion = bedrock_agent_client.delete_agent_alias(\n",
    "    agentId=agent_id,\n",
    "    agentAliasId=agent_alias['agentAlias']['agentAliasId']\n",
    ")"
   ]
  },
  {
   "cell_type": "code",
   "execution_count": null,
   "id": "6ada8823-cfc2-4e41-9e20-90a88705bcf5",
   "metadata": {
    "tags": []
   },
   "outputs": [],
   "source": [
    " agent_deletion = bedrock_agent_client.delete_agent(\n",
    "    agentId=agent_id\n",
    ")"
   ]
  },
  {
   "cell_type": "code",
   "execution_count": null,
   "id": "f023d291-220d-48f9-8e5d-0d9e3f93861e",
   "metadata": {
    "tags": []
   },
   "outputs": [],
   "source": [
    "# Delete Lambda function\n",
    "lambda_client.delete_function(\n",
    "    FunctionName=lambda_name\n",
    ")"
   ]
  },
  {
   "cell_type": "code",
   "execution_count": null,
   "id": "a33a1470-0927-4217-bb5e-4a5fb9abdaf1",
   "metadata": {
    "tags": []
   },
   "outputs": [],
   "source": [
    "# Empty and delete S3 Bucket\n",
    "\n",
    "objects = s3_client.list_objects(Bucket=bucket_name)  \n",
    "if 'Contents' in objects:\n",
    "    for obj in objects['Contents']:\n",
    "        s3_client.delete_object(Bucket=bucket_name, Key=obj['Key']) \n",
    "s3_client.delete_bucket(Bucket=bucket_name)"
   ]
  },
  {
   "cell_type": "code",
   "execution_count": null,
   "id": "ddc93d4d-8d57-4a6d-9121-8cbe9b2b09ff",
   "metadata": {
    "tags": []
   },
   "outputs": [],
   "source": [
    "agent_s3_schema_policy"
   ]
  },
  {
   "cell_type": "code",
   "execution_count": null,
   "id": "d50707a8-afd9-4af8-9ee3-1927afde9ce6",
   "metadata": {
    "tags": []
   },
   "outputs": [],
   "source": [
    "# Delete IAM Roles and policies\n",
    "for policy in [\n",
    "    agent_bedrock_policy, \n",
    "    agent_s3_schema_policy, \n",
    "    agent_kb_schema_policy,\n",
    "    kb_bedrock_policy,\n",
    "    kb_aoss_policy,\n",
    "    kb_s3_policy\n",
    "]:\n",
    "    response = iam_client.list_entities_for_policy(\n",
    "        PolicyArn=policy['Policy']['Arn'],\n",
    "        EntityFilter='Role'\n",
    "    )\n",
    "\n",
    "    for role in response['PolicyRoles']:\n",
    "        iam_client.detach_role_policy(\n",
    "            RoleName=role['RoleName'], \n",
    "            PolicyArn=policy['Policy']['Arn']\n",
    "        )\n",
    "\n",
    "    iam_client.delete_policy(\n",
    "        PolicyArn=policy['Policy']['Arn']\n",
    "    )\n",
    "\n",
    "    \n",
    "iam_client.detach_role_policy(RoleName=lambda_role_name, PolicyArn='arn:aws:iam::aws:policy/service-role/AWSLambdaBasicExecutionRole')\n",
    "\n",
    "for role_name in [\n",
    "    agent_role_name, \n",
    "    lambda_role_name, \n",
    "    kb_role_name\n",
    "]:\n",
    "    try: \n",
    "        iam_client.delete_role(\n",
    "            RoleName=role_name\n",
    "        )\n",
    "    except Exception as e:\n",
    "        print(e)\n",
    "        print(\"couldn't delete role\", role_name)\n",
    "        \n",
    "    \n",
    "try:\n",
    "\n",
    "    open_search_serverless_client.delete_collection(\n",
    "        id=opensearch_collection_response[\"createCollectionDetail\"][\"id\"]\n",
    "    )\n",
    "\n",
    "    open_search_serverless_client.delete_access_policy(\n",
    "          name=kb_collection_name,\n",
    "          type='data'\n",
    "    )    \n",
    "\n",
    "    open_search_serverless_client.delete_security_policy(\n",
    "          name=kb_collection_name,\n",
    "          type='network'\n",
    "    )   \n",
    "\n",
    "    open_search_serverless_client.delete_security_policy(\n",
    "          name=kb_collection_name,\n",
    "          type='encryption'\n",
    "    )    \n",
    "    bedrock_agent_client.delete_knowledge_base(\n",
    "        knowledgeBaseId=knowledge_base_id\n",
    "    )\n",
    "except Exception as e:\n",
    "    print(e)"
   ]
  },
  {
   "cell_type": "markdown",
   "id": "47ce5c54-3e54-40fc-aa10-d7ec785ea832",
   "metadata": {},
   "source": [
    "## Conclusion\n",
    "We have now experimented with using `boto3` SDK to create, invoke and delete an agent.\n",
    "\n",
    "### Take aways\n",
    "- Adapt this notebook to create new agents for your application\n",
    "\n",
    "## Thank You"
   ]
  }
 ],
 "metadata": {
  "availableInstances": [
   {
    "_defaultOrder": 0,
    "_isFastLaunch": true,
    "category": "General purpose",
    "gpuNum": 0,
    "hideHardwareSpecs": false,
    "memoryGiB": 4,
    "name": "ml.t3.medium",
    "vcpuNum": 2
   },
   {
    "_defaultOrder": 1,
    "_isFastLaunch": false,
    "category": "General purpose",
    "gpuNum": 0,
    "hideHardwareSpecs": false,
    "memoryGiB": 8,
    "name": "ml.t3.large",
    "vcpuNum": 2
   },
   {
    "_defaultOrder": 2,
    "_isFastLaunch": false,
    "category": "General purpose",
    "gpuNum": 0,
    "hideHardwareSpecs": false,
    "memoryGiB": 16,
    "name": "ml.t3.xlarge",
    "vcpuNum": 4
   },
   {
    "_defaultOrder": 3,
    "_isFastLaunch": false,
    "category": "General purpose",
    "gpuNum": 0,
    "hideHardwareSpecs": false,
    "memoryGiB": 32,
    "name": "ml.t3.2xlarge",
    "vcpuNum": 8
   },
   {
    "_defaultOrder": 4,
    "_isFastLaunch": true,
    "category": "General purpose",
    "gpuNum": 0,
    "hideHardwareSpecs": false,
    "memoryGiB": 8,
    "name": "ml.m5.large",
    "vcpuNum": 2
   },
   {
    "_defaultOrder": 5,
    "_isFastLaunch": false,
    "category": "General purpose",
    "gpuNum": 0,
    "hideHardwareSpecs": false,
    "memoryGiB": 16,
    "name": "ml.m5.xlarge",
    "vcpuNum": 4
   },
   {
    "_defaultOrder": 6,
    "_isFastLaunch": false,
    "category": "General purpose",
    "gpuNum": 0,
    "hideHardwareSpecs": false,
    "memoryGiB": 32,
    "name": "ml.m5.2xlarge",
    "vcpuNum": 8
   },
   {
    "_defaultOrder": 7,
    "_isFastLaunch": false,
    "category": "General purpose",
    "gpuNum": 0,
    "hideHardwareSpecs": false,
    "memoryGiB": 64,
    "name": "ml.m5.4xlarge",
    "vcpuNum": 16
   },
   {
    "_defaultOrder": 8,
    "_isFastLaunch": false,
    "category": "General purpose",
    "gpuNum": 0,
    "hideHardwareSpecs": false,
    "memoryGiB": 128,
    "name": "ml.m5.8xlarge",
    "vcpuNum": 32
   },
   {
    "_defaultOrder": 9,
    "_isFastLaunch": false,
    "category": "General purpose",
    "gpuNum": 0,
    "hideHardwareSpecs": false,
    "memoryGiB": 192,
    "name": "ml.m5.12xlarge",
    "vcpuNum": 48
   },
   {
    "_defaultOrder": 10,
    "_isFastLaunch": false,
    "category": "General purpose",
    "gpuNum": 0,
    "hideHardwareSpecs": false,
    "memoryGiB": 256,
    "name": "ml.m5.16xlarge",
    "vcpuNum": 64
   },
   {
    "_defaultOrder": 11,
    "_isFastLaunch": false,
    "category": "General purpose",
    "gpuNum": 0,
    "hideHardwareSpecs": false,
    "memoryGiB": 384,
    "name": "ml.m5.24xlarge",
    "vcpuNum": 96
   },
   {
    "_defaultOrder": 12,
    "_isFastLaunch": false,
    "category": "General purpose",
    "gpuNum": 0,
    "hideHardwareSpecs": false,
    "memoryGiB": 8,
    "name": "ml.m5d.large",
    "vcpuNum": 2
   },
   {
    "_defaultOrder": 13,
    "_isFastLaunch": false,
    "category": "General purpose",
    "gpuNum": 0,
    "hideHardwareSpecs": false,
    "memoryGiB": 16,
    "name": "ml.m5d.xlarge",
    "vcpuNum": 4
   },
   {
    "_defaultOrder": 14,
    "_isFastLaunch": false,
    "category": "General purpose",
    "gpuNum": 0,
    "hideHardwareSpecs": false,
    "memoryGiB": 32,
    "name": "ml.m5d.2xlarge",
    "vcpuNum": 8
   },
   {
    "_defaultOrder": 15,
    "_isFastLaunch": false,
    "category": "General purpose",
    "gpuNum": 0,
    "hideHardwareSpecs": false,
    "memoryGiB": 64,
    "name": "ml.m5d.4xlarge",
    "vcpuNum": 16
   },
   {
    "_defaultOrder": 16,
    "_isFastLaunch": false,
    "category": "General purpose",
    "gpuNum": 0,
    "hideHardwareSpecs": false,
    "memoryGiB": 128,
    "name": "ml.m5d.8xlarge",
    "vcpuNum": 32
   },
   {
    "_defaultOrder": 17,
    "_isFastLaunch": false,
    "category": "General purpose",
    "gpuNum": 0,
    "hideHardwareSpecs": false,
    "memoryGiB": 192,
    "name": "ml.m5d.12xlarge",
    "vcpuNum": 48
   },
   {
    "_defaultOrder": 18,
    "_isFastLaunch": false,
    "category": "General purpose",
    "gpuNum": 0,
    "hideHardwareSpecs": false,
    "memoryGiB": 256,
    "name": "ml.m5d.16xlarge",
    "vcpuNum": 64
   },
   {
    "_defaultOrder": 19,
    "_isFastLaunch": false,
    "category": "General purpose",
    "gpuNum": 0,
    "hideHardwareSpecs": false,
    "memoryGiB": 384,
    "name": "ml.m5d.24xlarge",
    "vcpuNum": 96
   },
   {
    "_defaultOrder": 20,
    "_isFastLaunch": false,
    "category": "General purpose",
    "gpuNum": 0,
    "hideHardwareSpecs": true,
    "memoryGiB": 0,
    "name": "ml.geospatial.interactive",
    "supportedImageNames": [
     "sagemaker-geospatial-v1-0"
    ],
    "vcpuNum": 0
   },
   {
    "_defaultOrder": 21,
    "_isFastLaunch": true,
    "category": "Compute optimized",
    "gpuNum": 0,
    "hideHardwareSpecs": false,
    "memoryGiB": 4,
    "name": "ml.c5.large",
    "vcpuNum": 2
   },
   {
    "_defaultOrder": 22,
    "_isFastLaunch": false,
    "category": "Compute optimized",
    "gpuNum": 0,
    "hideHardwareSpecs": false,
    "memoryGiB": 8,
    "name": "ml.c5.xlarge",
    "vcpuNum": 4
   },
   {
    "_defaultOrder": 23,
    "_isFastLaunch": false,
    "category": "Compute optimized",
    "gpuNum": 0,
    "hideHardwareSpecs": false,
    "memoryGiB": 16,
    "name": "ml.c5.2xlarge",
    "vcpuNum": 8
   },
   {
    "_defaultOrder": 24,
    "_isFastLaunch": false,
    "category": "Compute optimized",
    "gpuNum": 0,
    "hideHardwareSpecs": false,
    "memoryGiB": 32,
    "name": "ml.c5.4xlarge",
    "vcpuNum": 16
   },
   {
    "_defaultOrder": 25,
    "_isFastLaunch": false,
    "category": "Compute optimized",
    "gpuNum": 0,
    "hideHardwareSpecs": false,
    "memoryGiB": 72,
    "name": "ml.c5.9xlarge",
    "vcpuNum": 36
   },
   {
    "_defaultOrder": 26,
    "_isFastLaunch": false,
    "category": "Compute optimized",
    "gpuNum": 0,
    "hideHardwareSpecs": false,
    "memoryGiB": 96,
    "name": "ml.c5.12xlarge",
    "vcpuNum": 48
   },
   {
    "_defaultOrder": 27,
    "_isFastLaunch": false,
    "category": "Compute optimized",
    "gpuNum": 0,
    "hideHardwareSpecs": false,
    "memoryGiB": 144,
    "name": "ml.c5.18xlarge",
    "vcpuNum": 72
   },
   {
    "_defaultOrder": 28,
    "_isFastLaunch": false,
    "category": "Compute optimized",
    "gpuNum": 0,
    "hideHardwareSpecs": false,
    "memoryGiB": 192,
    "name": "ml.c5.24xlarge",
    "vcpuNum": 96
   },
   {
    "_defaultOrder": 29,
    "_isFastLaunch": true,
    "category": "Accelerated computing",
    "gpuNum": 1,
    "hideHardwareSpecs": false,
    "memoryGiB": 16,
    "name": "ml.g4dn.xlarge",
    "vcpuNum": 4
   },
   {
    "_defaultOrder": 30,
    "_isFastLaunch": false,
    "category": "Accelerated computing",
    "gpuNum": 1,
    "hideHardwareSpecs": false,
    "memoryGiB": 32,
    "name": "ml.g4dn.2xlarge",
    "vcpuNum": 8
   },
   {
    "_defaultOrder": 31,
    "_isFastLaunch": false,
    "category": "Accelerated computing",
    "gpuNum": 1,
    "hideHardwareSpecs": false,
    "memoryGiB": 64,
    "name": "ml.g4dn.4xlarge",
    "vcpuNum": 16
   },
   {
    "_defaultOrder": 32,
    "_isFastLaunch": false,
    "category": "Accelerated computing",
    "gpuNum": 1,
    "hideHardwareSpecs": false,
    "memoryGiB": 128,
    "name": "ml.g4dn.8xlarge",
    "vcpuNum": 32
   },
   {
    "_defaultOrder": 33,
    "_isFastLaunch": false,
    "category": "Accelerated computing",
    "gpuNum": 4,
    "hideHardwareSpecs": false,
    "memoryGiB": 192,
    "name": "ml.g4dn.12xlarge",
    "vcpuNum": 48
   },
   {
    "_defaultOrder": 34,
    "_isFastLaunch": false,
    "category": "Accelerated computing",
    "gpuNum": 1,
    "hideHardwareSpecs": false,
    "memoryGiB": 256,
    "name": "ml.g4dn.16xlarge",
    "vcpuNum": 64
   },
   {
    "_defaultOrder": 35,
    "_isFastLaunch": false,
    "category": "Accelerated computing",
    "gpuNum": 1,
    "hideHardwareSpecs": false,
    "memoryGiB": 61,
    "name": "ml.p3.2xlarge",
    "vcpuNum": 8
   },
   {
    "_defaultOrder": 36,
    "_isFastLaunch": false,
    "category": "Accelerated computing",
    "gpuNum": 4,
    "hideHardwareSpecs": false,
    "memoryGiB": 244,
    "name": "ml.p3.8xlarge",
    "vcpuNum": 32
   },
   {
    "_defaultOrder": 37,
    "_isFastLaunch": false,
    "category": "Accelerated computing",
    "gpuNum": 8,
    "hideHardwareSpecs": false,
    "memoryGiB": 488,
    "name": "ml.p3.16xlarge",
    "vcpuNum": 64
   },
   {
    "_defaultOrder": 38,
    "_isFastLaunch": false,
    "category": "Accelerated computing",
    "gpuNum": 8,
    "hideHardwareSpecs": false,
    "memoryGiB": 768,
    "name": "ml.p3dn.24xlarge",
    "vcpuNum": 96
   },
   {
    "_defaultOrder": 39,
    "_isFastLaunch": false,
    "category": "Memory Optimized",
    "gpuNum": 0,
    "hideHardwareSpecs": false,
    "memoryGiB": 16,
    "name": "ml.r5.large",
    "vcpuNum": 2
   },
   {
    "_defaultOrder": 40,
    "_isFastLaunch": false,
    "category": "Memory Optimized",
    "gpuNum": 0,
    "hideHardwareSpecs": false,
    "memoryGiB": 32,
    "name": "ml.r5.xlarge",
    "vcpuNum": 4
   },
   {
    "_defaultOrder": 41,
    "_isFastLaunch": false,
    "category": "Memory Optimized",
    "gpuNum": 0,
    "hideHardwareSpecs": false,
    "memoryGiB": 64,
    "name": "ml.r5.2xlarge",
    "vcpuNum": 8
   },
   {
    "_defaultOrder": 42,
    "_isFastLaunch": false,
    "category": "Memory Optimized",
    "gpuNum": 0,
    "hideHardwareSpecs": false,
    "memoryGiB": 128,
    "name": "ml.r5.4xlarge",
    "vcpuNum": 16
   },
   {
    "_defaultOrder": 43,
    "_isFastLaunch": false,
    "category": "Memory Optimized",
    "gpuNum": 0,
    "hideHardwareSpecs": false,
    "memoryGiB": 256,
    "name": "ml.r5.8xlarge",
    "vcpuNum": 32
   },
   {
    "_defaultOrder": 44,
    "_isFastLaunch": false,
    "category": "Memory Optimized",
    "gpuNum": 0,
    "hideHardwareSpecs": false,
    "memoryGiB": 384,
    "name": "ml.r5.12xlarge",
    "vcpuNum": 48
   },
   {
    "_defaultOrder": 45,
    "_isFastLaunch": false,
    "category": "Memory Optimized",
    "gpuNum": 0,
    "hideHardwareSpecs": false,
    "memoryGiB": 512,
    "name": "ml.r5.16xlarge",
    "vcpuNum": 64
   },
   {
    "_defaultOrder": 46,
    "_isFastLaunch": false,
    "category": "Memory Optimized",
    "gpuNum": 0,
    "hideHardwareSpecs": false,
    "memoryGiB": 768,
    "name": "ml.r5.24xlarge",
    "vcpuNum": 96
   },
   {
    "_defaultOrder": 47,
    "_isFastLaunch": false,
    "category": "Accelerated computing",
    "gpuNum": 1,
    "hideHardwareSpecs": false,
    "memoryGiB": 16,
    "name": "ml.g5.xlarge",
    "vcpuNum": 4
   },
   {
    "_defaultOrder": 48,
    "_isFastLaunch": false,
    "category": "Accelerated computing",
    "gpuNum": 1,
    "hideHardwareSpecs": false,
    "memoryGiB": 32,
    "name": "ml.g5.2xlarge",
    "vcpuNum": 8
   },
   {
    "_defaultOrder": 49,
    "_isFastLaunch": false,
    "category": "Accelerated computing",
    "gpuNum": 1,
    "hideHardwareSpecs": false,
    "memoryGiB": 64,
    "name": "ml.g5.4xlarge",
    "vcpuNum": 16
   },
   {
    "_defaultOrder": 50,
    "_isFastLaunch": false,
    "category": "Accelerated computing",
    "gpuNum": 1,
    "hideHardwareSpecs": false,
    "memoryGiB": 128,
    "name": "ml.g5.8xlarge",
    "vcpuNum": 32
   },
   {
    "_defaultOrder": 51,
    "_isFastLaunch": false,
    "category": "Accelerated computing",
    "gpuNum": 1,
    "hideHardwareSpecs": false,
    "memoryGiB": 256,
    "name": "ml.g5.16xlarge",
    "vcpuNum": 64
   },
   {
    "_defaultOrder": 52,
    "_isFastLaunch": false,
    "category": "Accelerated computing",
    "gpuNum": 4,
    "hideHardwareSpecs": false,
    "memoryGiB": 192,
    "name": "ml.g5.12xlarge",
    "vcpuNum": 48
   },
   {
    "_defaultOrder": 53,
    "_isFastLaunch": false,
    "category": "Accelerated computing",
    "gpuNum": 4,
    "hideHardwareSpecs": false,
    "memoryGiB": 384,
    "name": "ml.g5.24xlarge",
    "vcpuNum": 96
   },
   {
    "_defaultOrder": 54,
    "_isFastLaunch": false,
    "category": "Accelerated computing",
    "gpuNum": 8,
    "hideHardwareSpecs": false,
    "memoryGiB": 768,
    "name": "ml.g5.48xlarge",
    "vcpuNum": 192
   },
   {
    "_defaultOrder": 55,
    "_isFastLaunch": false,
    "category": "Accelerated computing",
    "gpuNum": 8,
    "hideHardwareSpecs": false,
    "memoryGiB": 1152,
    "name": "ml.p4d.24xlarge",
    "vcpuNum": 96
   },
   {
    "_defaultOrder": 56,
    "_isFastLaunch": false,
    "category": "Accelerated computing",
    "gpuNum": 8,
    "hideHardwareSpecs": false,
    "memoryGiB": 1152,
    "name": "ml.p4de.24xlarge",
    "vcpuNum": 96
   },
   {
    "_defaultOrder": 57,
    "_isFastLaunch": false,
    "category": "Accelerated computing",
    "gpuNum": 0,
    "hideHardwareSpecs": false,
    "memoryGiB": 32,
    "name": "ml.trn1.2xlarge",
    "vcpuNum": 8
   },
   {
    "_defaultOrder": 58,
    "_isFastLaunch": false,
    "category": "Accelerated computing",
    "gpuNum": 0,
    "hideHardwareSpecs": false,
    "memoryGiB": 512,
    "name": "ml.trn1.32xlarge",
    "vcpuNum": 128
   },
   {
    "_defaultOrder": 59,
    "_isFastLaunch": false,
    "category": "Accelerated computing",
    "gpuNum": 0,
    "hideHardwareSpecs": false,
    "memoryGiB": 512,
    "name": "ml.trn1n.32xlarge",
    "vcpuNum": 128
   }
  ],
  "instance_type": "ml.t3.medium",
  "kernelspec": {
   "display_name": "Python 3 (Data Science 3.0)",
   "language": "python",
   "name": "python3__SAGEMAKER_INTERNAL__arn:aws:sagemaker:us-east-1:081325390199:image/sagemaker-data-science-310-v1"
  },
  "language_info": {
   "codemirror_mode": {
    "name": "ipython",
    "version": 3
   },
   "file_extension": ".py",
   "mimetype": "text/x-python",
   "name": "python",
   "nbconvert_exporter": "python",
   "pygments_lexer": "ipython3",
   "version": "3.10.6"
  }
 },
 "nbformat": 4,
 "nbformat_minor": 5
}
