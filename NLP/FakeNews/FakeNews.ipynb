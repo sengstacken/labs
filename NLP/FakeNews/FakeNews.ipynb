{
 "cells": [
  {
   "cell_type": "markdown",
   "id": "987d3fd5-25aa-45a7-9a79-8b118f4b0e1f",
   "metadata": {},
   "source": [
    "# Fake News Detection\n",
    "\n",
    "Using a kaggle competition dataset from 2018\n",
    "https://www.kaggle.com/competitions/fake-news/overview"
   ]
  },
  {
   "cell_type": "code",
   "execution_count": 2,
   "id": "c13303ed-c9b8-4394-8e11-3265f8897802",
   "metadata": {
    "tags": []
   },
   "outputs": [
    {
     "name": "stdout",
     "output_type": "stream",
     "text": [
      "Requirement already satisfied: transformers in /opt/conda/lib/python3.8/site-packages (4.26.1)\n",
      "Requirement already satisfied: evaluate in /opt/conda/lib/python3.8/site-packages (0.4.0)\n",
      "Requirement already satisfied: tokenizers!=0.11.3,<0.14,>=0.11.1 in /opt/conda/lib/python3.8/site-packages (from transformers) (0.13.2)\n",
      "Requirement already satisfied: filelock in /opt/conda/lib/python3.8/site-packages (from transformers) (3.9.0)\n",
      "Requirement already satisfied: requests in /opt/conda/lib/python3.8/site-packages (from transformers) (2.28.2)\n",
      "Requirement already satisfied: regex!=2019.12.17 in /opt/conda/lib/python3.8/site-packages (from transformers) (2022.10.31)\n",
      "Requirement already satisfied: pyyaml>=5.1 in /opt/conda/lib/python3.8/site-packages (from transformers) (5.4.1)\n",
      "Requirement already satisfied: packaging>=20.0 in /opt/conda/lib/python3.8/site-packages (from transformers) (23.0)\n",
      "Requirement already satisfied: numpy>=1.17 in /opt/conda/lib/python3.8/site-packages (from transformers) (1.23.5)\n",
      "Requirement already satisfied: tqdm>=4.27 in /opt/conda/lib/python3.8/site-packages (from transformers) (4.64.1)\n",
      "Requirement already satisfied: huggingface-hub<1.0,>=0.11.0 in /opt/conda/lib/python3.8/site-packages (from transformers) (0.12.1)\n",
      "Requirement already satisfied: xxhash in /opt/conda/lib/python3.8/site-packages (from evaluate) (3.2.0)\n",
      "Requirement already satisfied: fsspec[http]>=2021.05.0 in /opt/conda/lib/python3.8/site-packages (from evaluate) (2023.1.0)\n",
      "Requirement already satisfied: dill in /opt/conda/lib/python3.8/site-packages (from evaluate) (0.3.6)\n",
      "Requirement already satisfied: multiprocess in /opt/conda/lib/python3.8/site-packages (from evaluate) (0.70.14)\n",
      "Requirement already satisfied: pandas in /opt/conda/lib/python3.8/site-packages (from evaluate) (1.5.3)\n",
      "Requirement already satisfied: datasets>=2.0.0 in /opt/conda/lib/python3.8/site-packages (from evaluate) (2.10.1)\n",
      "Requirement already satisfied: responses<0.19 in /opt/conda/lib/python3.8/site-packages (from evaluate) (0.18.0)\n",
      "Requirement already satisfied: pyarrow>=6.0.0 in /opt/conda/lib/python3.8/site-packages (from datasets>=2.0.0->evaluate) (11.0.0)\n",
      "Requirement already satisfied: aiohttp in /opt/conda/lib/python3.8/site-packages (from datasets>=2.0.0->evaluate) (3.8.4)\n",
      "Requirement already satisfied: typing-extensions>=3.7.4.3 in /opt/conda/lib/python3.8/site-packages (from huggingface-hub<1.0,>=0.11.0->transformers) (4.4.0)\n",
      "Requirement already satisfied: certifi>=2017.4.17 in /opt/conda/lib/python3.8/site-packages (from requests->transformers) (2022.12.7)\n",
      "Requirement already satisfied: charset-normalizer<4,>=2 in /opt/conda/lib/python3.8/site-packages (from requests->transformers) (2.1.1)\n",
      "Requirement already satisfied: urllib3<1.27,>=1.21.1 in /opt/conda/lib/python3.8/site-packages (from requests->transformers) (1.26.14)\n",
      "Requirement already satisfied: idna<4,>=2.5 in /opt/conda/lib/python3.8/site-packages (from requests->transformers) (3.4)\n",
      "Requirement already satisfied: python-dateutil>=2.8.1 in /opt/conda/lib/python3.8/site-packages (from pandas->evaluate) (2.8.2)\n",
      "Requirement already satisfied: pytz>=2020.1 in /opt/conda/lib/python3.8/site-packages (from pandas->evaluate) (2022.7.1)\n",
      "Requirement already satisfied: async-timeout<5.0,>=4.0.0a3 in /opt/conda/lib/python3.8/site-packages (from aiohttp->datasets>=2.0.0->evaluate) (4.0.2)\n",
      "Requirement already satisfied: frozenlist>=1.1.1 in /opt/conda/lib/python3.8/site-packages (from aiohttp->datasets>=2.0.0->evaluate) (1.3.3)\n",
      "Requirement already satisfied: yarl<2.0,>=1.0 in /opt/conda/lib/python3.8/site-packages (from aiohttp->datasets>=2.0.0->evaluate) (1.8.2)\n",
      "Requirement already satisfied: aiosignal>=1.1.2 in /opt/conda/lib/python3.8/site-packages (from aiohttp->datasets>=2.0.0->evaluate) (1.3.1)\n",
      "Requirement already satisfied: attrs>=17.3.0 in /opt/conda/lib/python3.8/site-packages (from aiohttp->datasets>=2.0.0->evaluate) (22.2.0)\n",
      "Requirement already satisfied: multidict<7.0,>=4.5 in /opt/conda/lib/python3.8/site-packages (from aiohttp->datasets>=2.0.0->evaluate) (6.0.4)\n",
      "Requirement already satisfied: six>=1.5 in /opt/conda/lib/python3.8/site-packages (from python-dateutil>=2.8.1->pandas->evaluate) (1.16.0)\n",
      "\u001b[33mWARNING: Running pip as the 'root' user can result in broken permissions and conflicting behaviour with the system package manager. It is recommended to use a virtual environment instead: https://pip.pypa.io/warnings/venv\u001b[0m\u001b[33m\n",
      "\u001b[0m\n",
      "\u001b[1m[\u001b[0m\u001b[34;49mnotice\u001b[0m\u001b[1;39;49m]\u001b[0m\u001b[39;49m A new release of pip is available: \u001b[0m\u001b[31;49m23.0\u001b[0m\u001b[39;49m -> \u001b[0m\u001b[32;49m23.0.1\u001b[0m\n",
      "\u001b[1m[\u001b[0m\u001b[34;49mnotice\u001b[0m\u001b[1;39;49m]\u001b[0m\u001b[39;49m To update, run: \u001b[0m\u001b[32;49mpip install --upgrade pip\u001b[0m\n",
      "Note: you may need to restart the kernel to use updated packages.\n"
     ]
    }
   ],
   "source": [
    "%pip install transformers evaluate"
   ]
  },
  {
   "cell_type": "code",
   "execution_count": 3,
   "id": "425f7e84-615e-4feb-96a7-8d0e39f4dd16",
   "metadata": {
    "tags": []
   },
   "outputs": [
    {
     "name": "stderr",
     "output_type": "stream",
     "text": [
      "/opt/conda/lib/python3.8/site-packages/tqdm/auto.py:22: TqdmWarning: IProgress not found. Please update jupyter and ipywidgets. See https://ipywidgets.readthedocs.io/en/stable/user_install.html\n",
      "  from .autonotebook import tqdm as notebook_tqdm\n"
     ]
    }
   ],
   "source": [
    "import numpy as np\n",
    "import pandas as pd\n",
    "import matplotlib.pyplot as plt\n",
    "import transformers"
   ]
  },
  {
   "cell_type": "markdown",
   "id": "82c290c0-ce75-4b90-b1a2-60e7a6c08b6f",
   "metadata": {},
   "source": [
    "## Data"
   ]
  },
  {
   "cell_type": "code",
   "execution_count": 4,
   "id": "0aa5d1e4-2c61-4049-bf28-cf7bdae298c0",
   "metadata": {
    "tags": []
   },
   "outputs": [],
   "source": [
    "# read in data\n",
    "train_df = pd.read_csv('./data/train.csv')\n",
    "test_df = pd.read_csv('./data/test.csv')"
   ]
  },
  {
   "cell_type": "code",
   "execution_count": 5,
   "id": "fe37a4ad-1350-48f4-a68c-c46c654a0016",
   "metadata": {
    "tags": []
   },
   "outputs": [
    {
     "data": {
      "text/html": [
       "<div>\n",
       "<style scoped>\n",
       "    .dataframe tbody tr th:only-of-type {\n",
       "        vertical-align: middle;\n",
       "    }\n",
       "\n",
       "    .dataframe tbody tr th {\n",
       "        vertical-align: top;\n",
       "    }\n",
       "\n",
       "    .dataframe thead th {\n",
       "        text-align: right;\n",
       "    }\n",
       "</style>\n",
       "<table border=\"1\" class=\"dataframe\">\n",
       "  <thead>\n",
       "    <tr style=\"text-align: right;\">\n",
       "      <th></th>\n",
       "      <th>id</th>\n",
       "      <th>title</th>\n",
       "      <th>author</th>\n",
       "      <th>text</th>\n",
       "      <th>label</th>\n",
       "    </tr>\n",
       "  </thead>\n",
       "  <tbody>\n",
       "    <tr>\n",
       "      <th>0</th>\n",
       "      <td>0</td>\n",
       "      <td>House Dem Aide: We Didn’t Even See Comey’s Let...</td>\n",
       "      <td>Darrell Lucus</td>\n",
       "      <td>House Dem Aide: We Didn’t Even See Comey’s Let...</td>\n",
       "      <td>1</td>\n",
       "    </tr>\n",
       "    <tr>\n",
       "      <th>1</th>\n",
       "      <td>1</td>\n",
       "      <td>FLYNN: Hillary Clinton, Big Woman on Campus - ...</td>\n",
       "      <td>Daniel J. Flynn</td>\n",
       "      <td>Ever get the feeling your life circles the rou...</td>\n",
       "      <td>0</td>\n",
       "    </tr>\n",
       "    <tr>\n",
       "      <th>2</th>\n",
       "      <td>2</td>\n",
       "      <td>Why the Truth Might Get You Fired</td>\n",
       "      <td>Consortiumnews.com</td>\n",
       "      <td>Why the Truth Might Get You Fired October 29, ...</td>\n",
       "      <td>1</td>\n",
       "    </tr>\n",
       "    <tr>\n",
       "      <th>3</th>\n",
       "      <td>3</td>\n",
       "      <td>15 Civilians Killed In Single US Airstrike Hav...</td>\n",
       "      <td>Jessica Purkiss</td>\n",
       "      <td>Videos 15 Civilians Killed In Single US Airstr...</td>\n",
       "      <td>1</td>\n",
       "    </tr>\n",
       "    <tr>\n",
       "      <th>4</th>\n",
       "      <td>4</td>\n",
       "      <td>Iranian woman jailed for fictional unpublished...</td>\n",
       "      <td>Howard Portnoy</td>\n",
       "      <td>Print \\nAn Iranian woman has been sentenced to...</td>\n",
       "      <td>1</td>\n",
       "    </tr>\n",
       "    <tr>\n",
       "      <th>...</th>\n",
       "      <td>...</td>\n",
       "      <td>...</td>\n",
       "      <td>...</td>\n",
       "      <td>...</td>\n",
       "      <td>...</td>\n",
       "    </tr>\n",
       "    <tr>\n",
       "      <th>20795</th>\n",
       "      <td>20795</td>\n",
       "      <td>Rapper T.I.: Trump a ’Poster Child For White S...</td>\n",
       "      <td>Jerome Hudson</td>\n",
       "      <td>Rapper T. I. unloaded on black celebrities who...</td>\n",
       "      <td>0</td>\n",
       "    </tr>\n",
       "    <tr>\n",
       "      <th>20796</th>\n",
       "      <td>20796</td>\n",
       "      <td>N.F.L. Playoffs: Schedule, Matchups and Odds -...</td>\n",
       "      <td>Benjamin Hoffman</td>\n",
       "      <td>When the Green Bay Packers lost to the Washing...</td>\n",
       "      <td>0</td>\n",
       "    </tr>\n",
       "    <tr>\n",
       "      <th>20797</th>\n",
       "      <td>20797</td>\n",
       "      <td>Macy’s Is Said to Receive Takeover Approach by...</td>\n",
       "      <td>Michael J. de la Merced and Rachel Abrams</td>\n",
       "      <td>The Macy’s of today grew from the union of sev...</td>\n",
       "      <td>0</td>\n",
       "    </tr>\n",
       "    <tr>\n",
       "      <th>20798</th>\n",
       "      <td>20798</td>\n",
       "      <td>NATO, Russia To Hold Parallel Exercises In Bal...</td>\n",
       "      <td>Alex Ansary</td>\n",
       "      <td>NATO, Russia To Hold Parallel Exercises In Bal...</td>\n",
       "      <td>1</td>\n",
       "    </tr>\n",
       "    <tr>\n",
       "      <th>20799</th>\n",
       "      <td>20799</td>\n",
       "      <td>What Keeps the F-35 Alive</td>\n",
       "      <td>David Swanson</td>\n",
       "      <td>David Swanson is an author, activist, journa...</td>\n",
       "      <td>1</td>\n",
       "    </tr>\n",
       "  </tbody>\n",
       "</table>\n",
       "<p>20800 rows × 5 columns</p>\n",
       "</div>"
      ],
      "text/plain": [
       "          id                                              title  \\\n",
       "0          0  House Dem Aide: We Didn’t Even See Comey’s Let...   \n",
       "1          1  FLYNN: Hillary Clinton, Big Woman on Campus - ...   \n",
       "2          2                  Why the Truth Might Get You Fired   \n",
       "3          3  15 Civilians Killed In Single US Airstrike Hav...   \n",
       "4          4  Iranian woman jailed for fictional unpublished...   \n",
       "...      ...                                                ...   \n",
       "20795  20795  Rapper T.I.: Trump a ’Poster Child For White S...   \n",
       "20796  20796  N.F.L. Playoffs: Schedule, Matchups and Odds -...   \n",
       "20797  20797  Macy’s Is Said to Receive Takeover Approach by...   \n",
       "20798  20798  NATO, Russia To Hold Parallel Exercises In Bal...   \n",
       "20799  20799                          What Keeps the F-35 Alive   \n",
       "\n",
       "                                          author  \\\n",
       "0                                  Darrell Lucus   \n",
       "1                                Daniel J. Flynn   \n",
       "2                             Consortiumnews.com   \n",
       "3                                Jessica Purkiss   \n",
       "4                                 Howard Portnoy   \n",
       "...                                          ...   \n",
       "20795                              Jerome Hudson   \n",
       "20796                           Benjamin Hoffman   \n",
       "20797  Michael J. de la Merced and Rachel Abrams   \n",
       "20798                                Alex Ansary   \n",
       "20799                              David Swanson   \n",
       "\n",
       "                                                    text  label  \n",
       "0      House Dem Aide: We Didn’t Even See Comey’s Let...      1  \n",
       "1      Ever get the feeling your life circles the rou...      0  \n",
       "2      Why the Truth Might Get You Fired October 29, ...      1  \n",
       "3      Videos 15 Civilians Killed In Single US Airstr...      1  \n",
       "4      Print \\nAn Iranian woman has been sentenced to...      1  \n",
       "...                                                  ...    ...  \n",
       "20795  Rapper T. I. unloaded on black celebrities who...      0  \n",
       "20796  When the Green Bay Packers lost to the Washing...      0  \n",
       "20797  The Macy’s of today grew from the union of sev...      0  \n",
       "20798  NATO, Russia To Hold Parallel Exercises In Bal...      1  \n",
       "20799    David Swanson is an author, activist, journa...      1  \n",
       "\n",
       "[20800 rows x 5 columns]"
      ]
     },
     "execution_count": 5,
     "metadata": {},
     "output_type": "execute_result"
    }
   ],
   "source": [
    "train_df"
   ]
  },
  {
   "cell_type": "code",
   "execution_count": 63,
   "id": "209bd347-608a-4385-bc73-f4748e10abf0",
   "metadata": {
    "tags": []
   },
   "outputs": [
    {
     "data": {
      "text/plain": [
       "'[AUTHOR] Alex Ansary [TITLE] NATO, Russia To Hold Parallel Exercises In Balkans [TEXT] NATO, Russia To Hold Parallel Exercises In Balkans 11/02/2016 \\nPRESS TV \\nRussia’s military and NATO forces are holding parallel military exercises in two neighboring Balkan countries. \\nRussian troops will participate in war games in Serbia while NATO is conducting military drills in Montenegro, media reported on Monday. \\nRussian forces’ 13-day military exercise in Serbia is named “The Slavic Brotherhood 2016” and begins on Wednesday. \\nIt will include 150 Russian paratroopers, 50 air force staffers, three transport planes and an unspecified number of troops from Serbia and Belarus, Russia’s Defense Ministry said. \\nThe five-day NATO drill in Montenegro started on Monday and involves responding to floods and chemical attacks. It will involve 680 unarmed personnel from seven NATO countries and 10 partner states. \\nIn the past both Serbia and Montenegro were constitutional republics of the Socialist Federal Republic of Yugoslavia. \\nBoth countries are socialist republics and traditional Russian Christian Orthodox allies. In 2003 this state union was re-formed into Serbia and Montenegro, and in 2006 the two became independent states. \\nSince their split, the two Balkan neighbors seem to have headed in different directions strategically. \\nMontenegro has taken a pro-Western stance which has been awarded by NATO with an offer to join the Northern Atlantic Alliance. \\nThe NATO invitation to Montenegro has met strong opposition from Russia. \\nMeanwhile, Montenegrin officials have accused Russia of staging an alleged coup in October to topple its pro-Western government because of the NATO accession bid. \\nSerbia, a NATO partner, has held exercises with the Western alliance, but not such a large one or with foreign troops and equipment participating on its soil.'"
      ]
     },
     "execution_count": 63,
     "metadata": {},
     "output_type": "execute_result"
    }
   ],
   "source": [
    "train_df.iloc[20798]['text']"
   ]
  },
  {
   "cell_type": "code",
   "execution_count": 6,
   "id": "c673292c-e36f-400e-97da-fd1bfc73c1b2",
   "metadata": {
    "tags": []
   },
   "outputs": [
    {
     "data": {
      "text/plain": [
       "id           0\n",
       "title      558\n",
       "author    1957\n",
       "text        39\n",
       "label        0\n",
       "dtype: int64"
      ]
     },
     "execution_count": 6,
     "metadata": {},
     "output_type": "execute_result"
    }
   ],
   "source": [
    "# counting the number of missing values in the dataset\n",
    "train_df.isnull().sum()"
   ]
  },
  {
   "cell_type": "code",
   "execution_count": 7,
   "id": "22aee24b-71cd-4b51-9919-82ea7a16cc09",
   "metadata": {
    "tags": []
   },
   "outputs": [],
   "source": [
    "# replacing the null values with empty string\n",
    "train_df.fillna('',inplace=True)"
   ]
  },
  {
   "cell_type": "code",
   "execution_count": 8,
   "id": "795872fd-90a4-47ef-b4e1-a73561f853f4",
   "metadata": {
    "tags": []
   },
   "outputs": [
    {
     "name": "stdout",
     "output_type": "stream",
     "text": [
      "<class 'pandas.core.frame.DataFrame'>\n",
      "RangeIndex: 20800 entries, 0 to 20799\n",
      "Data columns (total 5 columns):\n",
      " #   Column  Non-Null Count  Dtype \n",
      "---  ------  --------------  ----- \n",
      " 0   id      20800 non-null  int64 \n",
      " 1   title   20800 non-null  object\n",
      " 2   author  20800 non-null  object\n",
      " 3   text    20800 non-null  object\n",
      " 4   label   20800 non-null  int64 \n",
      "dtypes: int64(2), object(3)\n",
      "memory usage: 812.6+ KB\n"
     ]
    }
   ],
   "source": [
    "# concatenate to AUTHOR TITLE TEXT\n",
    "train_df.info()"
   ]
  },
  {
   "cell_type": "code",
   "execution_count": 9,
   "id": "ab16b81d-babe-48d3-a680-2dadb1435d03",
   "metadata": {
    "tags": []
   },
   "outputs": [],
   "source": [
    "train_df['content'] = '[AUTHOR] ' +  train_df['author'] + ' [TITLE] ' + train_df['title'] + ' [TEXT] ' + train_df['text']"
   ]
  },
  {
   "cell_type": "code",
   "execution_count": 10,
   "id": "3d77f223-3e3f-45fc-9389-4450349a8b0d",
   "metadata": {
    "tags": []
   },
   "outputs": [
    {
     "data": {
      "text/html": [
       "<div>\n",
       "<style scoped>\n",
       "    .dataframe tbody tr th:only-of-type {\n",
       "        vertical-align: middle;\n",
       "    }\n",
       "\n",
       "    .dataframe tbody tr th {\n",
       "        vertical-align: top;\n",
       "    }\n",
       "\n",
       "    .dataframe thead th {\n",
       "        text-align: right;\n",
       "    }\n",
       "</style>\n",
       "<table border=\"1\" class=\"dataframe\">\n",
       "  <thead>\n",
       "    <tr style=\"text-align: right;\">\n",
       "      <th></th>\n",
       "      <th>id</th>\n",
       "      <th>title</th>\n",
       "      <th>author</th>\n",
       "      <th>text</th>\n",
       "      <th>label</th>\n",
       "      <th>content</th>\n",
       "    </tr>\n",
       "  </thead>\n",
       "  <tbody>\n",
       "    <tr>\n",
       "      <th>0</th>\n",
       "      <td>0</td>\n",
       "      <td>House Dem Aide: We Didn’t Even See Comey’s Let...</td>\n",
       "      <td>Darrell Lucus</td>\n",
       "      <td>House Dem Aide: We Didn’t Even See Comey’s Let...</td>\n",
       "      <td>1</td>\n",
       "      <td>[AUTHOR] Darrell Lucus [TITLE] House Dem Aide:...</td>\n",
       "    </tr>\n",
       "    <tr>\n",
       "      <th>1</th>\n",
       "      <td>1</td>\n",
       "      <td>FLYNN: Hillary Clinton, Big Woman on Campus - ...</td>\n",
       "      <td>Daniel J. Flynn</td>\n",
       "      <td>Ever get the feeling your life circles the rou...</td>\n",
       "      <td>0</td>\n",
       "      <td>[AUTHOR] Daniel J. Flynn [TITLE] FLYNN: Hillar...</td>\n",
       "    </tr>\n",
       "    <tr>\n",
       "      <th>2</th>\n",
       "      <td>2</td>\n",
       "      <td>Why the Truth Might Get You Fired</td>\n",
       "      <td>Consortiumnews.com</td>\n",
       "      <td>Why the Truth Might Get You Fired October 29, ...</td>\n",
       "      <td>1</td>\n",
       "      <td>[AUTHOR] Consortiumnews.com [TITLE] Why the Tr...</td>\n",
       "    </tr>\n",
       "    <tr>\n",
       "      <th>3</th>\n",
       "      <td>3</td>\n",
       "      <td>15 Civilians Killed In Single US Airstrike Hav...</td>\n",
       "      <td>Jessica Purkiss</td>\n",
       "      <td>Videos 15 Civilians Killed In Single US Airstr...</td>\n",
       "      <td>1</td>\n",
       "      <td>[AUTHOR] Jessica Purkiss [TITLE] 15 Civilians ...</td>\n",
       "    </tr>\n",
       "    <tr>\n",
       "      <th>4</th>\n",
       "      <td>4</td>\n",
       "      <td>Iranian woman jailed for fictional unpublished...</td>\n",
       "      <td>Howard Portnoy</td>\n",
       "      <td>Print \\nAn Iranian woman has been sentenced to...</td>\n",
       "      <td>1</td>\n",
       "      <td>[AUTHOR] Howard Portnoy [TITLE] Iranian woman ...</td>\n",
       "    </tr>\n",
       "    <tr>\n",
       "      <th>...</th>\n",
       "      <td>...</td>\n",
       "      <td>...</td>\n",
       "      <td>...</td>\n",
       "      <td>...</td>\n",
       "      <td>...</td>\n",
       "      <td>...</td>\n",
       "    </tr>\n",
       "    <tr>\n",
       "      <th>20795</th>\n",
       "      <td>20795</td>\n",
       "      <td>Rapper T.I.: Trump a ’Poster Child For White S...</td>\n",
       "      <td>Jerome Hudson</td>\n",
       "      <td>Rapper T. I. unloaded on black celebrities who...</td>\n",
       "      <td>0</td>\n",
       "      <td>[AUTHOR] Jerome Hudson [TITLE] Rapper T.I.: Tr...</td>\n",
       "    </tr>\n",
       "    <tr>\n",
       "      <th>20796</th>\n",
       "      <td>20796</td>\n",
       "      <td>N.F.L. Playoffs: Schedule, Matchups and Odds -...</td>\n",
       "      <td>Benjamin Hoffman</td>\n",
       "      <td>When the Green Bay Packers lost to the Washing...</td>\n",
       "      <td>0</td>\n",
       "      <td>[AUTHOR] Benjamin Hoffman [TITLE] N.F.L. Playo...</td>\n",
       "    </tr>\n",
       "    <tr>\n",
       "      <th>20797</th>\n",
       "      <td>20797</td>\n",
       "      <td>Macy’s Is Said to Receive Takeover Approach by...</td>\n",
       "      <td>Michael J. de la Merced and Rachel Abrams</td>\n",
       "      <td>The Macy’s of today grew from the union of sev...</td>\n",
       "      <td>0</td>\n",
       "      <td>[AUTHOR] Michael J. de la Merced and Rachel Ab...</td>\n",
       "    </tr>\n",
       "    <tr>\n",
       "      <th>20798</th>\n",
       "      <td>20798</td>\n",
       "      <td>NATO, Russia To Hold Parallel Exercises In Bal...</td>\n",
       "      <td>Alex Ansary</td>\n",
       "      <td>NATO, Russia To Hold Parallel Exercises In Bal...</td>\n",
       "      <td>1</td>\n",
       "      <td>[AUTHOR] Alex Ansary [TITLE] NATO, Russia To H...</td>\n",
       "    </tr>\n",
       "    <tr>\n",
       "      <th>20799</th>\n",
       "      <td>20799</td>\n",
       "      <td>What Keeps the F-35 Alive</td>\n",
       "      <td>David Swanson</td>\n",
       "      <td>David Swanson is an author, activist, journa...</td>\n",
       "      <td>1</td>\n",
       "      <td>[AUTHOR] David Swanson [TITLE] What Keeps the ...</td>\n",
       "    </tr>\n",
       "  </tbody>\n",
       "</table>\n",
       "<p>20800 rows × 6 columns</p>\n",
       "</div>"
      ],
      "text/plain": [
       "          id                                              title  \\\n",
       "0          0  House Dem Aide: We Didn’t Even See Comey’s Let...   \n",
       "1          1  FLYNN: Hillary Clinton, Big Woman on Campus - ...   \n",
       "2          2                  Why the Truth Might Get You Fired   \n",
       "3          3  15 Civilians Killed In Single US Airstrike Hav...   \n",
       "4          4  Iranian woman jailed for fictional unpublished...   \n",
       "...      ...                                                ...   \n",
       "20795  20795  Rapper T.I.: Trump a ’Poster Child For White S...   \n",
       "20796  20796  N.F.L. Playoffs: Schedule, Matchups and Odds -...   \n",
       "20797  20797  Macy’s Is Said to Receive Takeover Approach by...   \n",
       "20798  20798  NATO, Russia To Hold Parallel Exercises In Bal...   \n",
       "20799  20799                          What Keeps the F-35 Alive   \n",
       "\n",
       "                                          author  \\\n",
       "0                                  Darrell Lucus   \n",
       "1                                Daniel J. Flynn   \n",
       "2                             Consortiumnews.com   \n",
       "3                                Jessica Purkiss   \n",
       "4                                 Howard Portnoy   \n",
       "...                                          ...   \n",
       "20795                              Jerome Hudson   \n",
       "20796                           Benjamin Hoffman   \n",
       "20797  Michael J. de la Merced and Rachel Abrams   \n",
       "20798                                Alex Ansary   \n",
       "20799                              David Swanson   \n",
       "\n",
       "                                                    text  label  \\\n",
       "0      House Dem Aide: We Didn’t Even See Comey’s Let...      1   \n",
       "1      Ever get the feeling your life circles the rou...      0   \n",
       "2      Why the Truth Might Get You Fired October 29, ...      1   \n",
       "3      Videos 15 Civilians Killed In Single US Airstr...      1   \n",
       "4      Print \\nAn Iranian woman has been sentenced to...      1   \n",
       "...                                                  ...    ...   \n",
       "20795  Rapper T. I. unloaded on black celebrities who...      0   \n",
       "20796  When the Green Bay Packers lost to the Washing...      0   \n",
       "20797  The Macy’s of today grew from the union of sev...      0   \n",
       "20798  NATO, Russia To Hold Parallel Exercises In Bal...      1   \n",
       "20799    David Swanson is an author, activist, journa...      1   \n",
       "\n",
       "                                                 content  \n",
       "0      [AUTHOR] Darrell Lucus [TITLE] House Dem Aide:...  \n",
       "1      [AUTHOR] Daniel J. Flynn [TITLE] FLYNN: Hillar...  \n",
       "2      [AUTHOR] Consortiumnews.com [TITLE] Why the Tr...  \n",
       "3      [AUTHOR] Jessica Purkiss [TITLE] 15 Civilians ...  \n",
       "4      [AUTHOR] Howard Portnoy [TITLE] Iranian woman ...  \n",
       "...                                                  ...  \n",
       "20795  [AUTHOR] Jerome Hudson [TITLE] Rapper T.I.: Tr...  \n",
       "20796  [AUTHOR] Benjamin Hoffman [TITLE] N.F.L. Playo...  \n",
       "20797  [AUTHOR] Michael J. de la Merced and Rachel Ab...  \n",
       "20798  [AUTHOR] Alex Ansary [TITLE] NATO, Russia To H...  \n",
       "20799  [AUTHOR] David Swanson [TITLE] What Keeps the ...  \n",
       "\n",
       "[20800 rows x 6 columns]"
      ]
     },
     "execution_count": 10,
     "metadata": {},
     "output_type": "execute_result"
    }
   ],
   "source": [
    "train_df"
   ]
  },
  {
   "cell_type": "code",
   "execution_count": 11,
   "id": "70210054-a67a-4138-a951-185bd5807fc0",
   "metadata": {
    "tags": []
   },
   "outputs": [
    {
     "data": {
      "text/plain": [
       "1    10413\n",
       "0    10387\n",
       "Name: label, dtype: int64"
      ]
     },
     "execution_count": 11,
     "metadata": {},
     "output_type": "execute_result"
    }
   ],
   "source": [
    "train_df['label'].value_counts()"
   ]
  },
  {
   "cell_type": "code",
   "execution_count": 12,
   "id": "944693c7-6ccf-4abf-a003-7097021dfa52",
   "metadata": {
    "tags": []
   },
   "outputs": [],
   "source": [
    "train_df['words'] = train_df['content'].str.split().apply(len)"
   ]
  },
  {
   "cell_type": "code",
   "execution_count": 13,
   "id": "21aaf7f5-9557-42de-afb2-3c584f95e668",
   "metadata": {
    "tags": []
   },
   "outputs": [
    {
     "data": {
      "image/png": "[encoded data removed]",
      "text/plain": [
       "<Figure size 432x288 with 1 Axes>"
      ]
     },
     "metadata": {
      "needs_background": "light"
     },
     "output_type": "display_data"
    }
   ],
   "source": [
    "plt.hist(train_df['words'].values,bins=50)\n",
    "plt.show()"
   ]
  },
  {
   "cell_type": "code",
   "execution_count": 14,
   "id": "98ec2582-da15-4187-b3b9-07671fa84150",
   "metadata": {
    "tags": []
   },
   "outputs": [
    {
     "data": {
      "text/plain": [
       "count    20800.000000\n",
       "mean       776.128606\n",
       "std        870.249799\n",
       "min          5.000000\n",
       "25%        284.000000\n",
       "50%        572.000000\n",
       "75%       1069.000000\n",
       "90%       1484.000000\n",
       "95%       1890.050000\n",
       "99%       4066.020000\n",
       "max      24248.000000\n",
       "Name: words, dtype: float64"
      ]
     },
     "execution_count": 14,
     "metadata": {},
     "output_type": "execute_result"
    }
   ],
   "source": [
    "train_df['words'].describe(percentiles=[.25,.50,.75,.90,.95,.99])"
   ]
  },
  {
   "cell_type": "code",
   "execution_count": 15,
   "id": "bbbf1098-865d-4976-94d3-c7cbff24f8ac",
   "metadata": {
    "tags": []
   },
   "outputs": [],
   "source": [
    "train_df.drop(['id','title','author','text','words'],axis=1,inplace=True)"
   ]
  },
  {
   "cell_type": "code",
   "execution_count": 22,
   "id": "e118cf73-ed5f-4c43-8477-c2d521c98775",
   "metadata": {
    "tags": []
   },
   "outputs": [],
   "source": [
    "train_df = train_df.rename(columns={'content':'text'})"
   ]
  },
  {
   "cell_type": "code",
   "execution_count": 23,
   "id": "8b278d43-5d8d-4adf-ac1a-0ee97e978bd6",
   "metadata": {
    "tags": []
   },
   "outputs": [
    {
     "data": {
      "text/html": [
       "<div>\n",
       "<style scoped>\n",
       "    .dataframe tbody tr th:only-of-type {\n",
       "        vertical-align: middle;\n",
       "    }\n",
       "\n",
       "    .dataframe tbody tr th {\n",
       "        vertical-align: top;\n",
       "    }\n",
       "\n",
       "    .dataframe thead th {\n",
       "        text-align: right;\n",
       "    }\n",
       "</style>\n",
       "<table border=\"1\" class=\"dataframe\">\n",
       "  <thead>\n",
       "    <tr style=\"text-align: right;\">\n",
       "      <th></th>\n",
       "      <th>label</th>\n",
       "      <th>text</th>\n",
       "    </tr>\n",
       "  </thead>\n",
       "  <tbody>\n",
       "    <tr>\n",
       "      <th>0</th>\n",
       "      <td>1</td>\n",
       "      <td>[AUTHOR] Darrell Lucus [TITLE] House Dem Aide:...</td>\n",
       "    </tr>\n",
       "    <tr>\n",
       "      <th>1</th>\n",
       "      <td>0</td>\n",
       "      <td>[AUTHOR] Daniel J. Flynn [TITLE] FLYNN: Hillar...</td>\n",
       "    </tr>\n",
       "    <tr>\n",
       "      <th>2</th>\n",
       "      <td>1</td>\n",
       "      <td>[AUTHOR] Consortiumnews.com [TITLE] Why the Tr...</td>\n",
       "    </tr>\n",
       "    <tr>\n",
       "      <th>3</th>\n",
       "      <td>1</td>\n",
       "      <td>[AUTHOR] Jessica Purkiss [TITLE] 15 Civilians ...</td>\n",
       "    </tr>\n",
       "    <tr>\n",
       "      <th>4</th>\n",
       "      <td>1</td>\n",
       "      <td>[AUTHOR] Howard Portnoy [TITLE] Iranian woman ...</td>\n",
       "    </tr>\n",
       "    <tr>\n",
       "      <th>...</th>\n",
       "      <td>...</td>\n",
       "      <td>...</td>\n",
       "    </tr>\n",
       "    <tr>\n",
       "      <th>20795</th>\n",
       "      <td>0</td>\n",
       "      <td>[AUTHOR] Jerome Hudson [TITLE] Rapper T.I.: Tr...</td>\n",
       "    </tr>\n",
       "    <tr>\n",
       "      <th>20796</th>\n",
       "      <td>0</td>\n",
       "      <td>[AUTHOR] Benjamin Hoffman [TITLE] N.F.L. Playo...</td>\n",
       "    </tr>\n",
       "    <tr>\n",
       "      <th>20797</th>\n",
       "      <td>0</td>\n",
       "      <td>[AUTHOR] Michael J. de la Merced and Rachel Ab...</td>\n",
       "    </tr>\n",
       "    <tr>\n",
       "      <th>20798</th>\n",
       "      <td>1</td>\n",
       "      <td>[AUTHOR] Alex Ansary [TITLE] NATO, Russia To H...</td>\n",
       "    </tr>\n",
       "    <tr>\n",
       "      <th>20799</th>\n",
       "      <td>1</td>\n",
       "      <td>[AUTHOR] David Swanson [TITLE] What Keeps the ...</td>\n",
       "    </tr>\n",
       "  </tbody>\n",
       "</table>\n",
       "<p>20800 rows × 2 columns</p>\n",
       "</div>"
      ],
      "text/plain": [
       "       label                                               text\n",
       "0          1  [AUTHOR] Darrell Lucus [TITLE] House Dem Aide:...\n",
       "1          0  [AUTHOR] Daniel J. Flynn [TITLE] FLYNN: Hillar...\n",
       "2          1  [AUTHOR] Consortiumnews.com [TITLE] Why the Tr...\n",
       "3          1  [AUTHOR] Jessica Purkiss [TITLE] 15 Civilians ...\n",
       "4          1  [AUTHOR] Howard Portnoy [TITLE] Iranian woman ...\n",
       "...      ...                                                ...\n",
       "20795      0  [AUTHOR] Jerome Hudson [TITLE] Rapper T.I.: Tr...\n",
       "20796      0  [AUTHOR] Benjamin Hoffman [TITLE] N.F.L. Playo...\n",
       "20797      0  [AUTHOR] Michael J. de la Merced and Rachel Ab...\n",
       "20798      1  [AUTHOR] Alex Ansary [TITLE] NATO, Russia To H...\n",
       "20799      1  [AUTHOR] David Swanson [TITLE] What Keeps the ...\n",
       "\n",
       "[20800 rows x 2 columns]"
      ]
     },
     "execution_count": 23,
     "metadata": {},
     "output_type": "execute_result"
    }
   ],
   "source": [
    "train_df"
   ]
  },
  {
   "cell_type": "markdown",
   "id": "640c6bcb-08ae-48fe-813e-50e8a53eada6",
   "metadata": {},
   "source": [
    "# Model"
   ]
  },
  {
   "cell_type": "code",
   "execution_count": 24,
   "id": "0183174c-72d1-4d88-a9ec-dffd0086204d",
   "metadata": {
    "tags": []
   },
   "outputs": [
    {
     "name": "stderr",
     "output_type": "stream",
     "text": [
      "Some weights of the model checkpoint at distilbert-base-uncased were not used when initializing DistilBertForSequenceClassification: ['vocab_layer_norm.weight', 'vocab_layer_norm.bias', 'vocab_transform.bias', 'vocab_transform.weight', 'vocab_projector.bias', 'vocab_projector.weight']\n",
      "- This IS expected if you are initializing DistilBertForSequenceClassification from the checkpoint of a model trained on another task or with another architecture (e.g. initializing a BertForSequenceClassification model from a BertForPreTraining model).\n",
      "- This IS NOT expected if you are initializing DistilBertForSequenceClassification from the checkpoint of a model that you expect to be exactly identical (initializing a BertForSequenceClassification model from a BertForSequenceClassification model).\n",
      "Some weights of DistilBertForSequenceClassification were not initialized from the model checkpoint at distilbert-base-uncased and are newly initialized: ['pre_classifier.bias', 'classifier.bias', 'classifier.weight', 'pre_classifier.weight']\n",
      "You should probably TRAIN this model on a down-stream task to be able to use it for predictions and inference.\n"
     ]
    }
   ],
   "source": [
    "from transformers import AutoTokenizer, AutoModelForSequenceClassification\n",
    "model_name = \"distilbert-base-uncased\"\n",
    "num_labels = 2\n",
    "model = AutoModelForSequenceClassification.from_pretrained(model_name,num_labels=num_labels)\n",
    "tokenizer = AutoTokenizer.from_pretrained(model_name)"
   ]
  },
  {
   "cell_type": "code",
   "execution_count": 25,
   "id": "5e40cbf5-97bd-4dd6-bf69-a95c8b3e9b41",
   "metadata": {
    "tags": []
   },
   "outputs": [],
   "source": [
    "from datasets import Dataset\n",
    "dataset = Dataset.from_pandas(train_df)"
   ]
  },
  {
   "cell_type": "code",
   "execution_count": 26,
   "id": "6d782d80-6789-4340-ae3c-40753ef1dcc8",
   "metadata": {
    "tags": []
   },
   "outputs": [
    {
     "data": {
      "text/plain": [
       "Dataset({\n",
       "    features: ['label', 'text'],\n",
       "    num_rows: 20800\n",
       "})"
      ]
     },
     "execution_count": 26,
     "metadata": {},
     "output_type": "execute_result"
    }
   ],
   "source": [
    "dataset"
   ]
  },
  {
   "cell_type": "code",
   "execution_count": 27,
   "id": "28caef7b-a010-4758-9a14-72d9d3c4af93",
   "metadata": {
    "tags": []
   },
   "outputs": [
    {
     "data": {
      "text/plain": [
       "DistilBertTokenizerFast(name_or_path='distilbert-base-uncased', vocab_size=30522, model_max_length=512, is_fast=True, padding_side='right', truncation_side='right', special_tokens={'unk_token': '[UNK]', 'sep_token': '[SEP]', 'pad_token': '[PAD]', 'cls_token': '[CLS]', 'mask_token': '[MASK]'})"
      ]
     },
     "execution_count": 27,
     "metadata": {},
     "output_type": "execute_result"
    }
   ],
   "source": [
    "tokenizer"
   ]
  },
  {
   "cell_type": "code",
   "execution_count": 29,
   "id": "b4184118-00c2-425a-b916-d81d9168a96d",
   "metadata": {
    "tags": []
   },
   "outputs": [
    {
     "name": "stderr",
     "output_type": "stream",
     "text": [
      "                                                                  \r"
     ]
    }
   ],
   "source": [
    "def tokenize_function(examples):\n",
    "    return tokenizer(examples[\"text\"], padding=\"max_length\", truncation=True)\n",
    "\n",
    "tokenized_datasets = dataset.map(tokenize_function, batched=True)"
   ]
  },
  {
   "cell_type": "code",
   "execution_count": 30,
   "id": "db7ffc8f-920c-4287-9ec3-015147de4eaf",
   "metadata": {
    "tags": []
   },
   "outputs": [
    {
     "name": "stderr",
     "output_type": "stream",
     "text": [
      "                                                                                        \r"
     ]
    }
   ],
   "source": [
    "tokenized_datasets = tokenized_datasets.class_encode_column('label').train_test_split(\n",
    "    test_size=0.25, \n",
    "    stratify_by_column='label',\n",
    "    shuffle=True,\n",
    "    seed=54321)"
   ]
  },
  {
   "cell_type": "code",
   "execution_count": 31,
   "id": "31f28e47-6968-4296-8fdc-fdbdbfaa1c73",
   "metadata": {
    "tags": []
   },
   "outputs": [],
   "source": [
    "from transformers import Trainer, TrainingArguments\n",
    "batch_size = 32"
   ]
  },
  {
   "cell_type": "code",
   "execution_count": 32,
   "id": "681124bd-a190-4777-bd32-d17451e5fa3d",
   "metadata": {
    "tags": []
   },
   "outputs": [],
   "source": [
    "training_args = TrainingArguments(output_dir = './output/',\n",
    "                                  num_train_epochs=2,\n",
    "                                  learning_rate=2e-5,\n",
    "                                  per_device_eval_batch_size=batch_size,\n",
    "                                  per_device_train_batch_size=batch_size,\n",
    "                                  weight_decay=0.01,\n",
    "                                  evaluation_strategy='epoch',\n",
    "                                  fp16=True)"
   ]
  },
  {
   "cell_type": "code",
   "execution_count": 33,
   "id": "c4d9f050-9d0b-4377-82db-f659bd6bab26",
   "metadata": {
    "tags": []
   },
   "outputs": [],
   "source": [
    "import evaluate\n",
    "metric = evaluate.load(\"accuracy\")"
   ]
  },
  {
   "cell_type": "code",
   "execution_count": 34,
   "id": "a892a69f-a3d8-4e2b-8bf7-c99b127263cc",
   "metadata": {
    "tags": []
   },
   "outputs": [],
   "source": [
    "def compute_metrics(eval_pred):\n",
    "    logits, labels = eval_pred\n",
    "    predictions = np.argmax(logits, axis=-1)\n",
    "    return metric.compute(predictions=predictions, references=labels)"
   ]
  },
  {
   "cell_type": "code",
   "execution_count": 35,
   "id": "812dc354-438b-404a-aceb-ea92f3e47abc",
   "metadata": {
    "tags": []
   },
   "outputs": [],
   "source": [
    "from transformers import DataCollatorWithPadding\n",
    "data_collator = DataCollatorWithPadding(tokenizer=tokenizer)"
   ]
  },
  {
   "cell_type": "code",
   "execution_count": 36,
   "id": "d39859c1-05e7-4e3d-8f9d-d4686791820b",
   "metadata": {
    "tags": []
   },
   "outputs": [
    {
     "name": "stderr",
     "output_type": "stream",
     "text": [
      "Using cuda_amp half precision backend\n"
     ]
    }
   ],
   "source": [
    "trainer = Trainer(model=model,\n",
    "                  args=training_args,\n",
    "                  train_dataset=tokenized_datasets['train'],\n",
    "                  eval_dataset=tokenized_datasets['test'],\n",
    "                  data_collator=data_collator,\n",
    "                  compute_metrics=compute_metrics,\n",
    "                  tokenizer=tokenizer)"
   ]
  },
  {
   "cell_type": "code",
   "execution_count": 37,
   "id": "aba01ab7-33d5-4153-86bc-96f2cbed2bc4",
   "metadata": {
    "tags": []
   },
   "outputs": [
    {
     "name": "stderr",
     "output_type": "stream",
     "text": [
      "The following columns in the training set don't have a corresponding argument in `DistilBertForSequenceClassification.forward` and have been ignored: text. If text are not expected by `DistilBertForSequenceClassification.forward`,  you can safely ignore this message.\n",
      "/opt/conda/lib/python3.8/site-packages/transformers/optimization.py:306: FutureWarning: This implementation of AdamW is deprecated and will be removed in a future version. Use the PyTorch implementation torch.optim.AdamW instead, or set `no_deprecation_warning=True` to disable this warning\n",
      "  warnings.warn(\n",
      "***** Running training *****\n",
      "  Num examples = 15600\n",
      "  Num Epochs = 2\n",
      "  Instantaneous batch size per device = 32\n",
      "  Total train batch size (w. parallel, distributed & accumulation) = 32\n",
      "  Gradient Accumulation steps = 1\n",
      "  Total optimization steps = 976\n",
      "  Number of trainable parameters = 66955010\n"
     ]
    },
    {
     "name": "stdout",
     "output_type": "stream",
     "text": [
      "[2023-03-02 20:45:04.501: W smdistributed/modelparallel/torch/nn/predefined_hooks.py:78] Found unsupported HuggingFace version 4.26.1 for automated tensor parallelism. HuggingFace modules will not be automatically distributed. You can use smp.tp_register_with_module API to register desired modules for tensor parallelism, or directly instantiate an smp.nn.DistributedModule. Supported HuggingFace transformers versions for automated tensor parallelism: ['4.17.0', '4.20.1', '4.21.0']\n",
      "[2023-03-02 20:45:04.591 pytorch-1-12-gpu-py-ml-g4dn-xlarge-60d67c819515f85736f0b2ea671f:291 INFO utils.py:28] RULE_JOB_STOP_SIGNAL_FILENAME: None\n",
      "[2023-03-02 20:45:04.734 pytorch-1-12-gpu-py-ml-g4dn-xlarge-60d67c819515f85736f0b2ea671f:291 INFO profiler_config_parser.py:111] Unable to find config at /opt/ml/input/config/profilerconfig.json. Profiler is disabled.\n"
     ]
    },
    {
     "name": "stderr",
     "output_type": "stream",
     "text": [
      "/opt/conda/lib/python3.8/site-packages/smdebug-1.0.24b20230214-py3.8.egg/smdebug/profiler/system_metrics_reader.py:78: SyntaxWarning: \"is not\" with a literal. Did you mean \"!=\"?\n",
      "/opt/conda/lib/python3.8/site-packages/smdebug-1.0.24b20230214-py3.8.egg/smdebug/profiler/system_metrics_reader.py:78: SyntaxWarning: \"is not\" with a literal. Did you mean \"!=\"?\n",
      "You're using a DistilBertTokenizerFast tokenizer. Please note that with a fast tokenizer, using the `__call__` method is faster than using a method to encode the text followed by a call to the `pad` method to get a padded encoding.\n"
     ]
    },
    {
     "data": {
      "text/html": [
       "\n",
       "    <div>\n",
       "      \n",
       "      <progress value='976' max='976' style='width:300px; height:20px; vertical-align: middle;'></progress>\n",
       "      [976/976 10:32, Epoch 2/2]\n",
       "    </div>\n",
       "    <table border=\"1\" class=\"dataframe\">\n",
       "  <thead>\n",
       " <tr style=\"text-align: left;\">\n",
       "      <th>Epoch</th>\n",
       "      <th>Training Loss</th>\n",
       "      <th>Validation Loss</th>\n",
       "      <th>Accuracy</th>\n",
       "    </tr>\n",
       "  </thead>\n",
       "  <tbody>\n",
       "    <tr>\n",
       "      <td>1</td>\n",
       "      <td>No log</td>\n",
       "      <td>0.006526</td>\n",
       "      <td>0.998846</td>\n",
       "    </tr>\n",
       "    <tr>\n",
       "      <td>2</td>\n",
       "      <td>0.072100</td>\n",
       "      <td>0.005124</td>\n",
       "      <td>0.999038</td>\n",
       "    </tr>\n",
       "  </tbody>\n",
       "</table><p>"
      ],
      "text/plain": [
       "<IPython.core.display.HTML object>"
      ]
     },
     "metadata": {},
     "output_type": "display_data"
    },
    {
     "name": "stderr",
     "output_type": "stream",
     "text": [
      "The following columns in the evaluation set don't have a corresponding argument in `DistilBertForSequenceClassification.forward` and have been ignored: text. If text are not expected by `DistilBertForSequenceClassification.forward`,  you can safely ignore this message.\n",
      "***** Running Evaluation *****\n",
      "  Num examples = 5200\n",
      "  Batch size = 32\n",
      "Saving model checkpoint to ./output/checkpoint-500\n",
      "Configuration saved in ./output/checkpoint-500/config.json\n",
      "Model weights saved in ./output/checkpoint-500/pytorch_model.bin\n",
      "tokenizer config file saved in ./output/checkpoint-500/tokenizer_config.json\n",
      "Special tokens file saved in ./output/checkpoint-500/special_tokens_map.json\n",
      "The following columns in the evaluation set don't have a corresponding argument in `DistilBertForSequenceClassification.forward` and have been ignored: text. If text are not expected by `DistilBertForSequenceClassification.forward`,  you can safely ignore this message.\n",
      "***** Running Evaluation *****\n",
      "  Num examples = 5200\n",
      "  Batch size = 32\n",
      "\n",
      "\n",
      "Training completed. Do not forget to share your model on huggingface.co/models =)\n",
      "\n",
      "\n"
     ]
    },
    {
     "data": {
      "text/plain": [
       "TrainOutput(global_step=976, training_loss=0.038501350117511435, metrics={'train_runtime': 636.2993, 'train_samples_per_second': 49.034, 'train_steps_per_second': 1.534, 'total_flos': 4132982838067200.0, 'train_loss': 0.038501350117511435, 'epoch': 2.0})"
      ]
     },
     "execution_count": 37,
     "metadata": {},
     "output_type": "execute_result"
    }
   ],
   "source": [
    "trainer.train()"
   ]
  },
  {
   "cell_type": "code",
   "execution_count": 38,
   "id": "7febe423-6f0f-4c3f-85b1-a8801ecbe21c",
   "metadata": {
    "tags": []
   },
   "outputs": [
    {
     "name": "stderr",
     "output_type": "stream",
     "text": [
      "The following columns in the test set don't have a corresponding argument in `DistilBertForSequenceClassification.forward` and have been ignored: text. If text are not expected by `DistilBertForSequenceClassification.forward`,  you can safely ignore this message.\n",
      "***** Running Prediction *****\n",
      "  Num examples = 5200\n",
      "  Batch size = 32\n"
     ]
    },
    {
     "data": {
      "text/html": [],
      "text/plain": [
       "<IPython.core.display.HTML object>"
      ]
     },
     "metadata": {},
     "output_type": "display_data"
    }
   ],
   "source": [
    "preds_output = trainer.predict(tokenized_datasets['test'])"
   ]
  },
  {
   "cell_type": "code",
   "execution_count": 39,
   "id": "34388cb1-5942-4622-99ee-a6167d0fcd29",
   "metadata": {
    "tags": []
   },
   "outputs": [
    {
     "data": {
      "text/plain": [
       "{'test_loss': 0.005123512353748083,\n",
       " 'test_accuracy': 0.9990384615384615,\n",
       " 'test_runtime': 31.9037,\n",
       " 'test_samples_per_second': 162.991,\n",
       " 'test_steps_per_second': 5.109}"
      ]
     },
     "execution_count": 39,
     "metadata": {},
     "output_type": "execute_result"
    }
   ],
   "source": [
    "preds_output.metrics"
   ]
  },
  {
   "cell_type": "code",
   "execution_count": 40,
   "id": "1d62440b-831c-485b-acc2-c483ffac3c71",
   "metadata": {
    "tags": []
   },
   "outputs": [
    {
     "data": {
      "text/plain": [
       "array([-4.324,  3.846], dtype=float16)"
      ]
     },
     "execution_count": 40,
     "metadata": {},
     "output_type": "execute_result"
    }
   ],
   "source": [
    "preds_output.predictions[201]"
   ]
  },
  {
   "cell_type": "code",
   "execution_count": 42,
   "id": "fe5fbb94-cefa-407f-b7d0-5c6f4206a6ec",
   "metadata": {
    "tags": []
   },
   "outputs": [
    {
     "data": {
      "text/plain": [
       "'[AUTHOR] Christian Gomez [TITLE] What to Expect From the New Congress [TEXT] Email \\nIn what Democrats and the Left hoped would be a steal reclaiming control of both the House and Senate on the coattails of a much-anticipated Clinton victory, Republicans firmly held their ground retaining control of both chambers of Congress as Donald Trump wins the presidency. \\nWith all 435 seats up for reelection in the 247-seat Republican-dominated House of Representatives, Democrats made only moderate gains picking up a net total of only five districts with only a few races remaining undecided as of Wednesday afternoon but not enough to alter the balance of power. \\nUnsurprisingly, Paul Ryan, who has been critical of his party\\'s own presidential nominee and now President-elect Donald Trump, easily won his reelection, defeating Democrat opponent Ryan Solen in a landslide with 65 percent of the vote. Although Ryan is favored to be reelected Speaker of the House for the incoming 115th Congress, he is also likely to receive opposition from both Democrats on the Left and Trump-Republicans who disagree with the speaker on his support for “free trade” agreements — namely, the Trans-Pacific Partnership. \\nIt still remains to be seen whether House conservatives or President-elect Trump will push Ryan from the speakership in favor of another Republican congressman. However, in a statement posted on Facebook, Ryan congratulated Trump on his victory and vowed to work with the president-elect. “We are eager to work hand-in-hand with the new administration to advance an agenda to improve the lives of the American people. This has been a great night for our party, and now we must turn our focus to bringing the country together,” Ryan said. \\nAmong Republican losses and Democrat gains in the House was the ouster of incumbent 12-term Florida GOP Congressman John Mica, who maintains a lackluster cumulative score of 57 percent from The New American \\'s \" Freedom Index ,\" which measures congressmen’s fidelity to the Constitution based on the votes they cast. Mica lost his reelection bid to Democrat challenger Stephanie Murphy, the first Vietnamese-American women elected to Congress. \\nAlso in Florida, former Republican governor-turned-Democrat Charlie Crist defeated incumbent freshman Republican Congressman David Jolly, who holds al Freedom Index score of 48 percent. \\nThe most disappointing race for conservatives was the defeat of seven-term New Jersey Republican Congressman Scott Garrett, who lost to Democrat challenger and former Clinton-speech writer Joshua Gottheimer. Garrett rates a cumulative Freedom Index score of 76 percent, which is the highest for any congressman from New Jersey, but far less than ideal. All constitutionalist top-tier Freedom Index score recipients in Congress easily won their reelection campaigns. \\nIn Michigan, where Trump is expected to win the state\\'s 16 electoral votes, libertarian/constitutionalist Republican Congressman Justin Amash crushed his Democrat opponent Douglas Smith 59 to 38 percent with 100 percent of precincts reporting. Amash, boasts an impressive Freedom Index score of 93 percent, second only to Thomas Massie of Kentucky who has a near-perfect score of 98 percent. Massie also blew out his Democrat opponent with an even wider electoral margin of 71 to 29 percent. Both Amash and Massie have made reputations for themselves as heirs to former Congressman Ron Paul as leaders in the liberty movement in Congress. Amash and Massie have firmly opposed reauthorization of the Patriot Act, have vigorously opposed indefinite detention and unconstitutional surveillance-state measures, and have championed pro-liberty causes such as auditing the Federal Reserve as a step towards eventually abolishing the Fed and restoring sound money, i.e. a gold-standard currency. \\nOther incumbent constitutionalists such as Congressmen Alex Mooney of West Virginia and David Brat of Virginia easily won their races against their Democrat rivals. Congressmen Amash, Bratt, Massie, and Moonie have also expressed deep reservations about and oppostition to the TPP agreement advocated by both President Obama and House Speaker Ryan. \\nIn the Senate, Rand Paul was easily reelected with 57 percent of the vote, garnering over one million votes compared to Democrat challenger Jim Gray who received only 813,224 votes, 43-percent. Looking forward, Senator Paul optimistically told Fox News on Wednesday morning, “The one thing I’m excited about in the Trump presidency is I think in the very first weeks of this next Congress, the Republican Congress is going to repeal some regulations. I hope a half a dozen regulations or more and we’ll get them onto Trump’s desk and I think he’ll sign them.” \\nIn Wisconsin, in what was a rematch and ultimately a repeat of the 2010 U.S. Senate race, incumbent Republican Senator Ron Johnson defeated Democrat opponent former Senator Russ Feingold. Johnson’s reelection victory was an upset to Democrats who hoped to unseat him as part of an effort in one of five states they sought to flip from Red to Blue in order to regain control of the Senate. \\nThe only Republican loss in the Senate, which is hardly a loss for conservatism and constitutionalist principles, was in Illinois where RINO (Republican in name only) incumbent Senator Mark Kirk lost to two-term Democrat Congresswoman Tammy Duckworth. Kirk has the lowest Freedom Index score of any Republican in the U.S. Senate with a dismal 35-percent. He was defeated by Duckworth, who received 54 percent of the vote. \\nAs far as what to expect from the new Congress, Republican Senate Majority Leader Mitch McConnell of Kentucky told reporters early Wednesday morning that repealing ObamaCare is a “pretty high item on our agenda, as you know.” McConnell went on to call President Obama’s landmark health insurance legislation the “single worst piece of legislation” from Obama’s first term. \\nTrump’s victory, coupled with Republicans maintaining control of both chambers of Congress, sends a clear anti-establishment message to Washington that Americans want a cooperative Congress to work with a President Trump and Vice President Pence to finally and fully repeal ObamaCare, nominate constitutionalist judges to the Supreme Court, and put an end to anti-sovereignty trade deals such as the TPP, Transatlantic Trade and Investment Partnership (TTIP), Trade in Services Agreement (TiSa), and the still-under-negotiation and little-known U.S.-China Bilateral Investment Treaty (BIT). Of course, none of this will happen without the same steadfast tenacity and commitment to contacting and urging Congress to take these appropriate steps as was utilized when working toward achieving these historic wins on Election Day. \\nIn a post-election message from The John Birch Society, Vice President of Communications Bill Hahn impassionedly stated: The John Birch Society has never been closer to victory as we are today. Think of the opportunity that has been afforded to us. Here we have a president that has been talking on many issues that we have called attention to, especially illegal immigration and trade agreements. When in recent memory have we had a presidential nominee even mention Americanism or advocating for scaling back our involvement within the UN? We all realize the faults that Trump has and where his views on issues differ but let’s not use that as an excuse to not get involved. If you are waiting for a better candidate or a better time in the future they do not exist. \\nHahn optimistically implored listeners and constitutionalist grassroots activists that “we have a tremendous opportunity to advance our action projects, turn the tide of globalism, and put our country back onto a track of less government, more responsibility, and with God’s help a better world.” Emphatically, Hahn urged activists to “place twice the amount of time, energy, money, and gusto into The John Birch Society than you did with this election. Your efforts paid off, so let’s double down and strike while the iron is hot.” \\nWith the obstructionist roadblock of a globalist Democrat president removed from the equation, the incoming 115th Congress has the potential of either moving in the constitutionalist direction or becoming a huge disappointment in the fight for liberty. Only time will tell whether the new Congress, in conjunction with President Donald Trump in the White House, will keep its campaign promises. One thing, however, is certain, as Hahn stressed: This is a tremendous opportunity for those seeking to roll back government and advance the cause of liberty. Please review our Comment Policy before posting a comment \\nThank you for joining the discussion at The New American. We value our readers and encourage their participation, but in order to ensure a positive experience for our readership, we have a few guidelines for commenting on articles. If your post does not follow our policy, it will be deleted. \\nNo profanity, racial slurs, direct threats, or threatening language. \\nNo product advertisements. \\nPlease post comments in English. \\nPlease keep your comments on topic with the article. If you wish to comment on another subject, you may search for a relevant article and join or start a discussion there.'"
      ]
     },
     "execution_count": 42,
     "metadata": {},
     "output_type": "execute_result"
    }
   ],
   "source": [
    "tokenized_datasets['test'][201]['text']"
   ]
  },
  {
   "cell_type": "code",
   "execution_count": 43,
   "id": "d5fc69a8-c2ba-4fd6-803b-4daf472e0243",
   "metadata": {
    "tags": []
   },
   "outputs": [
    {
     "data": {
      "text/plain": [
       "array([ 4.3 , -4.19], dtype=float16)"
      ]
     },
     "execution_count": 43,
     "metadata": {},
     "output_type": "execute_result"
    }
   ],
   "source": [
    "preds_output.predictions[203]"
   ]
  },
  {
   "cell_type": "code",
   "execution_count": 44,
   "id": "9afae73a-d30b-4cc3-8949-900d220166c2",
   "metadata": {
    "tags": []
   },
   "outputs": [
    {
     "data": {
      "text/plain": [
       "'[AUTHOR] Jennifer Steinhauer [TITLE] Democrats’ Weak Bench Undermines Hope of Taking Back Senate - The New York Times [TEXT] WASHINGTON  —   Senate Democrats, aware of the dead weight that Donald J. Trump has placed on their vulnerable Republican colleagues, can taste a reclaimed majority. But just as Senate Republicans blew their chances in 2010 and 2012 before finally taking control in 2014, Democrats find themselves hobbled by    candidates in races that could make the difference in winning a majority. In Pennsylvania, Katie McGinty, a relatively unknown former federal official who has never held elective office, is ahead in polls but lags Hillary Clinton’s large lead in the state. In Florida, a nasty primary between two flawed candidates could harm the Democrats’ chance to unseat Senator Marco Rubio. Several   Democrats turned down the chance to challenge Senator Richard Burr of North Carolina before they settled on a civil liberties lawyer, Deborah Ross, who is not necessarily a good fit for suburban voters there. Catherine Cortez Masto, a Democrat and former state attorney general now running for an open seat in Nevada, has also failed to catch fire. To challenge    Senator Charles E. Grassley of Iowa, Democrats settled on    Patty Judge. Senator Rob Portman’s Democratic challenger in Ohio, former Gov. Ted Strickland, is 75, an easy target for Mr. Portman’s taunting nickname, “Retread Ted. ” The Democrats’ problem stems from a depletion of their ranks in state legislatures and governors’ mansions over recent years and a lack of institutional support for    politicians who represent a changing base. “Democrats cannibalize each other when they lose those seats and don’t have new talent to fill them,” said Daniel A. Smith, a professor of political science at the University of Florida. “Here and in Pennsylvania and Wisconsin and North Carolina are states that should have Democratic   legislatures, and the fact that they don’t not only marginalizes Democrats, but also makes it increasingly hard to build a farm team. ” Republicans, of course, find themselves in a fundamental conflict between Mr. Trump’s populist insurgents and traditional conservatives. But Democrats are mired in their own struggle, as they try to identify future stars who can appeal to a base increasingly insistent on a progressive agenda. Florida’s Senate Democratic primary this Tuesday pits a bombastic, populist liberal, Representative Alan Grayson, against the establishment’s pick, Representative Patrick Murphy, in the kind of showdown that analysts expect to see in the party’s future. “Democrats are going to have their own Tea Party moment in 2018,” said Jennifer Duffy, a senior editor and Senate analyst for The Cook Political Report. “I don’t think they are going to put up with the party dictating who their candidates are. ” The issue was highlighted this year when Senator Bernie Sanders of Vermont found considerable success by running against the sort of incremental liberalism of President Obama and Mrs. Clinton. Mrs. Clinton followed that pattern with her selection of Senator Tim Kaine of Virginia, who is to the right of many progressives, as her running mate. While some    Democrats like Senators Cory Booker of New Jersey and Kirsten E. Gillibrand of New York had speaking spots at the party’s convention last month, none had the prominence of Mr. Obama in 2004, when he gave the keynote speech that lifted him to national prominence. “The bench is not apparent right now,” said David Axelrod, the chief strategist for Mr. Obama’s presidential campaigns. “There are some impressive young leaders, but who among them is the next presidential nominee I can’t answer. A lot of them are not there yet. ” “Democrats have done a poor job, and I take my share of responsibility here, in not being as focused as Republicans have on building at the grass roots,” Mr. Axelrod said. “Look what the G. O. P. and their related agents have done with legislative and City Council and school board races. They are building capacity, and Democrats have paid the cost. ” Many promising young Democrats in the House have been frustrated by the reluctance of Representative Nancy Pelosi, the minority leader, and her aging deputies to step aside and let new members ascend to leadership  —   one of the few rewards for a minority party in the House. “I was on the recruitment committee, and a lot of candidates decided to take a pass,” said Representative Karen Bass, Democrat of California. She added, “There are people who are new to Congress and have a difficult situation because they are not going to be there for 20 years. ” Some simply leave. “I was one of the few Democrats not to support Nancy Pelosi for leader,” said Representative Gwen Graham, Democrat of Florida, who is retiring after one term and planning to run for governor. “We need new voices. ” Representative Chris Van Hollen of Maryland, once considered a potential House speaker, is running for the Senate. Democratic ranks have also been decimated in state governments across the nation, where new leaders tend to plant roots for future higher office. After the 2008 elections, Democrats controlled 62 of the 99 state legislatures today, Republicans control 68 chambers, according to Governing magazine. Over the same time period, the number of Democrats in governor’s mansions fell from 28 to 18. In both cases, Republican control is now at or near historic highs. Democrats point out that they have strong leads in Senate races in Illinois, Indiana and Wisconsin, and that most analysts believe the party is in a strong position to retake the chamber. They also note that many of their candidates are raising more money than their Republican rivals. “Because of our recruitment work, Republicans are forced to spend money and energy in states they never dreamed would be competitive,” said Sadie Weiner, a spokeswoman for the Democratic Senatorial Campaign Committee. Mrs. Clinton, some Democrats argue, is trying to make   more of a priority by coordinating closely with   races, carrying their campaign literature when canvassing, sharing office space and helping them raise money. These efforts are particularly forceful in Nevada, where Republicans hold a narrow legislative majority, and in Colorado, where the legislature is closely divided between the two parties. “The organizing our volunteers and staff are doing in all 50 states will not only help elect Democrats in November but also build the party’s bench and infrastructure for the future,” said Lily Adams, a spokeswoman for the Clinton campaign. The rise of term limits in legislatures has hurt both parties’ efforts to create a ready pool of future senators and eventual presidential contenders. “There is a big bench out there,” said Hannah Pingree, the former speaker of the Maine House of Representatives, who lost her position to term limits and is now taking a break to raise her children. “Lots of women and young people get   out,” she said. Widely viewed as a rising star in her party  —   her mother, Chellie Pingree, is a member of Congress  —   Ms. Pingree, 39, hopes to find her way back. Democrats have also complained that the party has not worked hard enough to promote an agenda that is appealing to the party’s growing base of progressive whites, nonwhites and millennials, fearing that such policies could turn off older, more traditional Democratic voters. Stacey Abrams, the minority leader of the Georgia General Assembly, called that the “fear that is inherent in transitions. ” She is considered one of the party’s brightest young stars, in no small part because she has unseated five Republicans in the Georgia legislature. “This is a party that is comprised of what is being referred to as the new American majority,” she said. “Those are progressive whites, people of color and millennials. We have to focus our politics on turning out those voters. ”'"
      ]
     },
     "execution_count": 44,
     "metadata": {},
     "output_type": "execute_result"
    }
   ],
   "source": [
    "tokenized_datasets['test'][203]['text']"
   ]
  },
  {
   "cell_type": "code",
   "execution_count": 48,
   "id": "dd76aa37-ae78-416d-a101-f8c8c69ad140",
   "metadata": {},
   "outputs": [],
   "source": [
    "preds = np.argmax(preds_output.predictions,axis=1)"
   ]
  },
  {
   "cell_type": "code",
   "execution_count": 54,
   "id": "9575ec58-794a-4eec-805f-bb1e1fbac960",
   "metadata": {
    "tags": []
   },
   "outputs": [
    {
     "data": {
      "image/png": "[encoded data removed]",
      "text/plain": [
       "<Figure size 1080x720 with 2 Axes>"
      ]
     },
     "metadata": {
      "needs_background": "light"
     },
     "output_type": "display_data"
    }
   ],
   "source": [
    "import seaborn as sns\n",
    "from sklearn.metrics import confusion_matrix\n",
    "class_list = ['Not Fake','Fake']\n",
    "fig, ax = plt.subplots(figsize=(15,10))\n",
    "cm = confusion_matrix(tokenized_datasets['test']['label'],preds)\n",
    "normalized_cm = cm.astype('float') / cm.sum(axis=1)[:, np.newaxis]\n",
    "sns.heatmap(normalized_cm, ax=ax, annot=cm, fmt='',xticklabels=class_list,yticklabels=class_list)\n",
    "plt.xlabel('Predicted')\n",
    "plt.ylabel('Actual')\n",
    "plt.title('Confustion Matrix')\n",
    "plt.show()"
   ]
  },
  {
   "cell_type": "code",
   "execution_count": 66,
   "id": "efc0e739-31e1-4b97-8350-58c1d54b25c8",
   "metadata": {},
   "outputs": [
    {
     "name": "stdout",
     "output_type": "stream",
     "text": [
      "              precision    recall  f1-score   support\n",
      "\n",
      "           0       1.00      1.00      1.00      2597\n",
      "           1       1.00      1.00      1.00      2603\n",
      "\n",
      "    accuracy                           1.00      5200\n",
      "   macro avg       1.00      1.00      1.00      5200\n",
      "weighted avg       1.00      1.00      1.00      5200\n",
      "\n"
     ]
    }
   ],
   "source": [
    "from sklearn.metrics import classification_report\n",
    "print(classification_report(tokenized_datasets['test']['label'],preds))"
   ]
  }
 ],
 "metadata": {
  "instance_type": "ml.g4dn.xlarge",
  "kernelspec": {
   "display_name": "Python 3 (PyTorch 1.12 Python 3.8 GPU Optimized)",
   "language": "python",
   "name": "python3__SAGEMAKER_INTERNAL__arn:aws:sagemaker:us-east-1:081325390199:image/pytorch-1.12-gpu-py38"
  },
  "language_info": {
   "codemirror_mode": {
    "name": "ipython",
    "version": 3
   },
   "file_extension": ".py",
   "mimetype": "text/x-python",
   "name": "python",
   "nbconvert_exporter": "python",
   "pygments_lexer": "ipython3",
   "version": "3.8.16"
  }
 },
 "nbformat": 4,
 "nbformat_minor": 5
}
