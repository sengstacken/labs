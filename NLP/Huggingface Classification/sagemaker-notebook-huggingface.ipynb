{
 "cells": [
  {
   "cell_type": "markdown",
   "metadata": {},
   "source": [
    "# Overview\n",
    "\n",
    "This notebook is adapted from a Huggingface / Sagemaker example.  This notebook performs text classification using a Huggingface model via transfer learning on AWS SageMaker.  This includes optional code to perform training using spot instances.  "
   ]
  },
  {
   "cell_type": "markdown",
   "metadata": {},
   "source": [
    "# Huggingface Sagemaker-sdk - Spot instances example"
   ]
  },
  {
   "cell_type": "markdown",
   "metadata": {},
   "source": [
    "1. [Introduction](#Introduction)  \n",
    "2. [Development Environment and Permissions](#Development-Environment-and-Permissions)\n",
    "    1. [Installation](#Installation)  \n",
    "    2. [Development environment](#Development-environment)  \n",
    "    3. [Permissions](#Permissions)\n",
    "3. [Processing](#Preprocessing)   \n",
    "    1. [Tokenization](#Tokenization)  \n",
    "    2. [Uploading data to sagemaker_session_bucket](#Uploading-data-to-sagemaker_session_bucket)  \n",
    "4. [Fine-tuning & starting Sagemaker Training Job](#Fine-tuning-\\&-starting-Sagemaker-Training-Job)  \n",
    "    1. [Creating an Estimator and start a training job](#Creating-an-Estimator-and-start-a-training-job)  \n",
    "    2. [Estimator Parameters](#Estimator-Parameters)   \n",
    "    3. [Download fine-tuned model from s3](#Download-fine-tuned-model-from-s3)\n",
    "    3. [Attach to old training job to an estimator ](#Attach-to-old-training-job-to-an-estimator)  \n",
    "5. [_Coming soon_:Push model to the Hugging Face hub](#Push-model-to-the-Hugging-Face-hub)"
   ]
  },
  {
   "cell_type": "markdown",
   "metadata": {},
   "source": [
    "# Introduction\n",
    "\n",
    "Welcome to our end-to-end binary Text-Classification example. In this demo, we will use the Hugging Faces `transformers` and `datasets` library together with a custom Amazon sagemaker-sdk extension to fine-tune a pre-trained transformer on binary text classification. In particular, the pre-trained model will be fine-tuned using the `banking77` dataset. To get started, we need to set up the environment with a few prerequisite steps, for permissions, configurations, and so on. This demo will also show you can use spot instances and continue training.\n",
    "\n",
    "_**NOTE: You can run this demo in Sagemaker Studio, your local machine or Sagemaker Notebook Instances**_"
   ]
  },
  {
   "cell_type": "markdown",
   "metadata": {},
   "source": [
    "# Development Environment and Permissions "
   ]
  },
  {
   "cell_type": "markdown",
   "metadata": {},
   "source": [
    "## Installation\n",
    "\n",
    "_*Note:* we only install the required libraries from Hugging Face and AWS. You also need PyTorch or Tensorflow, if you haven´t it installed_"
   ]
  },
  {
   "cell_type": "code",
   "execution_count": 25,
   "metadata": {},
   "outputs": [
    {
     "name": "stdout",
     "output_type": "stream",
     "text": [
      "Requirement already satisfied: sagemaker>=2.48.0 in /home/ec2-user/anaconda3/envs/pytorch_p36/lib/python3.6/site-packages (2.63.2)\n",
      "Collecting sagemaker>=2.48.0\n",
      "  Downloading sagemaker-2.64.0.tar.gz (450 kB)\n",
      "\u001b[K     |████████████████████████████████| 450 kB 31.9 MB/s eta 0:00:01\n",
      "\u001b[?25hRequirement already satisfied: transformers==4.6.1 in /home/ec2-user/anaconda3/envs/pytorch_p36/lib/python3.6/site-packages (4.6.1)\n",
      "Requirement already satisfied: datasets[s3]==1.6.2 in /home/ec2-user/anaconda3/envs/pytorch_p36/lib/python3.6/site-packages (1.6.2)\n",
      "Requirement already satisfied: dataclasses in /home/ec2-user/anaconda3/envs/pytorch_p36/lib/python3.6/site-packages (from transformers==4.6.1) (0.8)\n",
      "Requirement already satisfied: tokenizers<0.11,>=0.10.1 in /home/ec2-user/anaconda3/envs/pytorch_p36/lib/python3.6/site-packages (from transformers==4.6.1) (0.10.3)\n",
      "Requirement already satisfied: sacremoses in /home/ec2-user/anaconda3/envs/pytorch_p36/lib/python3.6/site-packages (from transformers==4.6.1) (0.0.46)\n",
      "Requirement already satisfied: numpy>=1.17 in /home/ec2-user/anaconda3/envs/pytorch_p36/lib/python3.6/site-packages (from transformers==4.6.1) (1.19.5)\n",
      "Requirement already satisfied: packaging in /home/ec2-user/anaconda3/envs/pytorch_p36/lib/python3.6/site-packages (from transformers==4.6.1) (20.9)\n",
      "Requirement already satisfied: huggingface-hub==0.0.8 in /home/ec2-user/anaconda3/envs/pytorch_p36/lib/python3.6/site-packages (from transformers==4.6.1) (0.0.8)\n",
      "Requirement already satisfied: requests in /home/ec2-user/anaconda3/envs/pytorch_p36/lib/python3.6/site-packages (from transformers==4.6.1) (2.25.1)\n",
      "Requirement already satisfied: importlib-metadata in /home/ec2-user/anaconda3/envs/pytorch_p36/lib/python3.6/site-packages (from transformers==4.6.1) (4.5.0)\n",
      "Requirement already satisfied: regex!=2019.12.17 in /home/ec2-user/anaconda3/envs/pytorch_p36/lib/python3.6/site-packages (from transformers==4.6.1) (2021.4.4)\n",
      "Requirement already satisfied: tqdm>=4.27 in /home/ec2-user/anaconda3/envs/pytorch_p36/lib/python3.6/site-packages (from transformers==4.6.1) (4.49.0)\n",
      "Requirement already satisfied: filelock in /home/ec2-user/anaconda3/envs/pytorch_p36/lib/python3.6/site-packages (from transformers==4.6.1) (3.0.12)\n",
      "Requirement already satisfied: xxhash in /home/ec2-user/anaconda3/envs/pytorch_p36/lib/python3.6/site-packages (from datasets[s3]==1.6.2) (2.0.2)\n",
      "Requirement already satisfied: fsspec in /home/ec2-user/anaconda3/envs/pytorch_p36/lib/python3.6/site-packages (from datasets[s3]==1.6.2) (2021.4.0)\n",
      "Requirement already satisfied: pyarrow>=1.0.0<4.0.0 in /home/ec2-user/anaconda3/envs/pytorch_p36/lib/python3.6/site-packages (from datasets[s3]==1.6.2) (5.0.0)\n",
      "Requirement already satisfied: dill in /home/ec2-user/anaconda3/envs/pytorch_p36/lib/python3.6/site-packages (from datasets[s3]==1.6.2) (0.3.4)\n",
      "Requirement already satisfied: multiprocess in /home/ec2-user/anaconda3/envs/pytorch_p36/lib/python3.6/site-packages (from datasets[s3]==1.6.2) (0.70.12.2)\n",
      "Requirement already satisfied: pandas in /home/ec2-user/anaconda3/envs/pytorch_p36/lib/python3.6/site-packages (from datasets[s3]==1.6.2) (1.1.5)\n",
      "Requirement already satisfied: s3fs in /home/ec2-user/anaconda3/envs/pytorch_p36/lib/python3.6/site-packages (from datasets[s3]==1.6.2) (2021.4.0)\n",
      "Requirement already satisfied: botocore==1.19.52 in /home/ec2-user/anaconda3/envs/pytorch_p36/lib/python3.6/site-packages (from datasets[s3]==1.6.2) (1.19.52)\n",
      "Requirement already satisfied: boto3==1.16.43 in /home/ec2-user/anaconda3/envs/pytorch_p36/lib/python3.6/site-packages (from datasets[s3]==1.6.2) (1.16.43)\n",
      "Requirement already satisfied: s3transfer<0.4.0,>=0.3.0 in /home/ec2-user/anaconda3/envs/pytorch_p36/lib/python3.6/site-packages (from boto3==1.16.43->datasets[s3]==1.6.2) (0.3.7)\n",
      "Requirement already satisfied: jmespath<1.0.0,>=0.7.1 in /home/ec2-user/anaconda3/envs/pytorch_p36/lib/python3.6/site-packages (from boto3==1.16.43->datasets[s3]==1.6.2) (0.10.0)\n",
      "Requirement already satisfied: python-dateutil<3.0.0,>=2.1 in /home/ec2-user/anaconda3/envs/pytorch_p36/lib/python3.6/site-packages (from botocore==1.19.52->datasets[s3]==1.6.2) (2.8.1)\n",
      "Requirement already satisfied: urllib3<1.27,>=1.25.4 in /home/ec2-user/anaconda3/envs/pytorch_p36/lib/python3.6/site-packages (from botocore==1.19.52->datasets[s3]==1.6.2) (1.26.5)\n",
      "Requirement already satisfied: attrs in /home/ec2-user/anaconda3/envs/pytorch_p36/lib/python3.6/site-packages (from sagemaker>=2.48.0) (21.2.0)\n",
      "Requirement already satisfied: google-pasta in /home/ec2-user/anaconda3/envs/pytorch_p36/lib/python3.6/site-packages (from sagemaker>=2.48.0) (0.2.0)\n",
      "Requirement already satisfied: protobuf>=3.1 in /home/ec2-user/anaconda3/envs/pytorch_p36/lib/python3.6/site-packages (from sagemaker>=2.48.0) (3.17.2)\n",
      "Requirement already satisfied: protobuf3-to-dict>=0.1.5 in /home/ec2-user/anaconda3/envs/pytorch_p36/lib/python3.6/site-packages (from sagemaker>=2.48.0) (0.1.5)\n",
      "Requirement already satisfied: smdebug_rulesconfig==1.0.1 in /home/ec2-user/anaconda3/envs/pytorch_p36/lib/python3.6/site-packages (from sagemaker>=2.48.0) (1.0.1)\n",
      "Requirement already satisfied: pathos in /home/ec2-user/anaconda3/envs/pytorch_p36/lib/python3.6/site-packages (from sagemaker>=2.48.0) (0.2.8)\n",
      "Requirement already satisfied: typing-extensions>=3.6.4 in /home/ec2-user/anaconda3/envs/pytorch_p36/lib/python3.6/site-packages (from importlib-metadata->transformers==4.6.1) (3.10.0.0)\n",
      "Requirement already satisfied: zipp>=0.5 in /home/ec2-user/anaconda3/envs/pytorch_p36/lib/python3.6/site-packages (from importlib-metadata->transformers==4.6.1) (3.4.1)\n",
      "Requirement already satisfied: pyparsing>=2.0.2 in /home/ec2-user/anaconda3/envs/pytorch_p36/lib/python3.6/site-packages (from packaging->transformers==4.6.1) (2.4.7)\n",
      "Requirement already satisfied: six>=1.9 in /home/ec2-user/anaconda3/envs/pytorch_p36/lib/python3.6/site-packages (from protobuf>=3.1->sagemaker>=2.48.0) (1.16.0)\n",
      "Requirement already satisfied: certifi>=2017.4.17 in /home/ec2-user/anaconda3/envs/pytorch_p36/lib/python3.6/site-packages (from requests->transformers==4.6.1) (2021.5.30)\n",
      "Requirement already satisfied: idna<3,>=2.5 in /home/ec2-user/anaconda3/envs/pytorch_p36/lib/python3.6/site-packages (from requests->transformers==4.6.1) (2.10)\n",
      "Requirement already satisfied: chardet<5,>=3.0.2 in /home/ec2-user/anaconda3/envs/pytorch_p36/lib/python3.6/site-packages (from requests->transformers==4.6.1) (4.0.0)\n",
      "Requirement already satisfied: pytz>=2017.2 in /home/ec2-user/anaconda3/envs/pytorch_p36/lib/python3.6/site-packages (from pandas->datasets[s3]==1.6.2) (2021.1)\n",
      "Requirement already satisfied: pox>=0.3.0 in /home/ec2-user/anaconda3/envs/pytorch_p36/lib/python3.6/site-packages (from pathos->sagemaker>=2.48.0) (0.3.0)\n",
      "Requirement already satisfied: ppft>=1.6.6.4 in /home/ec2-user/anaconda3/envs/pytorch_p36/lib/python3.6/site-packages (from pathos->sagemaker>=2.48.0) (1.6.6.4)\n",
      "Requirement already satisfied: aiobotocore>=1.0.1 in /home/ec2-user/anaconda3/envs/pytorch_p36/lib/python3.6/site-packages (from s3fs->datasets[s3]==1.6.2) (1.2.2)\n",
      "Requirement already satisfied: wrapt>=1.10.10 in /home/ec2-user/anaconda3/envs/pytorch_p36/lib/python3.6/site-packages (from aiobotocore>=1.0.1->s3fs->datasets[s3]==1.6.2) (1.12.1)\n",
      "Requirement already satisfied: aioitertools>=0.5.1 in /home/ec2-user/anaconda3/envs/pytorch_p36/lib/python3.6/site-packages (from aiobotocore>=1.0.1->s3fs->datasets[s3]==1.6.2) (0.7.1)\n",
      "Requirement already satisfied: aiohttp>=3.3.1 in /home/ec2-user/anaconda3/envs/pytorch_p36/lib/python3.6/site-packages (from aiobotocore>=1.0.1->s3fs->datasets[s3]==1.6.2) (3.7.4.post0)\n",
      "Requirement already satisfied: async-timeout<4.0,>=3.0 in /home/ec2-user/anaconda3/envs/pytorch_p36/lib/python3.6/site-packages (from aiohttp>=3.3.1->aiobotocore>=1.0.1->s3fs->datasets[s3]==1.6.2) (3.0.1)\n",
      "Requirement already satisfied: yarl<2.0,>=1.0 in /home/ec2-user/anaconda3/envs/pytorch_p36/lib/python3.6/site-packages (from aiohttp>=3.3.1->aiobotocore>=1.0.1->s3fs->datasets[s3]==1.6.2) (1.6.3)\n",
      "Requirement already satisfied: multidict<7.0,>=4.5 in /home/ec2-user/anaconda3/envs/pytorch_p36/lib/python3.6/site-packages (from aiohttp>=3.3.1->aiobotocore>=1.0.1->s3fs->datasets[s3]==1.6.2) (5.1.0)\n",
      "Requirement already satisfied: idna-ssl>=1.0 in /home/ec2-user/anaconda3/envs/pytorch_p36/lib/python3.6/site-packages (from aiohttp>=3.3.1->aiobotocore>=1.0.1->s3fs->datasets[s3]==1.6.2) (1.1.0)\n",
      "Requirement already satisfied: click in /home/ec2-user/anaconda3/envs/pytorch_p36/lib/python3.6/site-packages (from sacremoses->transformers==4.6.1) (8.0.1)\n",
      "Requirement already satisfied: joblib in /home/ec2-user/anaconda3/envs/pytorch_p36/lib/python3.6/site-packages (from sacremoses->transformers==4.6.1) (1.0.1)\n",
      "Building wheels for collected packages: sagemaker\n",
      "  Building wheel for sagemaker (setup.py) ... \u001b[?25ldone\n",
      "\u001b[?25h  Created wheel for sagemaker: filename=sagemaker-2.64.0-py2.py3-none-any.whl size=627878 sha256=9322a049906901c60aa1bc2d9b1d8e8608e35b2fb026ac43e3b5d7b029730ff7\n",
      "  Stored in directory: /home/ec2-user/.cache/pip/wheels/04/24/d6/e1e9644895e3b8ef76185f3483beaea86ba8709689af3893fb\n",
      "Successfully built sagemaker\n",
      "Installing collected packages: sagemaker\n",
      "  Attempting uninstall: sagemaker\n",
      "    Found existing installation: sagemaker 2.63.2\n",
      "    Uninstalling sagemaker-2.63.2:\n",
      "      Successfully uninstalled sagemaker-2.63.2\n",
      "Successfully installed sagemaker-2.64.0\n",
      "\u001b[33mWARNING: You are using pip version 21.2.4; however, version 21.3 is available.\n",
      "You should consider upgrading via the '/home/ec2-user/anaconda3/envs/pytorch_p36/bin/python -m pip install --upgrade pip' command.\u001b[0m\n",
      "Note: you may need to restart the kernel to use updated packages.\n"
     ]
    }
   ],
   "source": [
    "%pip install \"sagemaker>=2.48.0\" \"transformers==4.6.1\" \"datasets[s3]==1.6.2\" --upgrade"
   ]
  },
  {
   "cell_type": "markdown",
   "metadata": {},
   "source": [
    "## Development environment "
   ]
  },
  {
   "cell_type": "markdown",
   "metadata": {},
   "source": [
    "**upgrade ipywidgets for `datasets` library and restart kernel, only needed when prerpocessing is done in the notebook**"
   ]
  },
  {
   "cell_type": "code",
   "execution_count": 2,
   "metadata": {},
   "outputs": [],
   "source": [
    "# %%capture\n",
    "# import IPython\n",
    "# !conda install -c conda-forge ipywidgets -y\n",
    "# IPython.Application.instance().kernel.do_shutdown(True) # has to restart kernel so changes are used"
   ]
  },
  {
   "cell_type": "code",
   "execution_count": 26,
   "metadata": {},
   "outputs": [
    {
     "name": "stdout",
     "output_type": "stream",
     "text": [
      "Config option `kernel_spec_manager_class` not recognized by `EnableNBExtensionApp`.\n",
      "Enabling notebook extension jupyter-js-widgets/extension...\n",
      "      - Validating: \u001b[32mOK\u001b[0m\n"
     ]
    }
   ],
   "source": [
    "!jupyter nbextension enable --py widgetsnbextension"
   ]
  },
  {
   "cell_type": "code",
   "execution_count": 27,
   "metadata": {},
   "outputs": [],
   "source": [
    "import sagemaker.huggingface"
   ]
  },
  {
   "cell_type": "markdown",
   "metadata": {},
   "source": [
    "## Permissions"
   ]
  },
  {
   "cell_type": "markdown",
   "metadata": {},
   "source": [
    "_If you are going to use Sagemaker in a local environment. You need access to an IAM Role with the required permissions for Sagemaker. You can find [here](https://docs.aws.amazon.com/sagemaker/latest/dg/sagemaker-roles.html) more about it._"
   ]
  },
  {
   "cell_type": "code",
   "execution_count": 28,
   "metadata": {},
   "outputs": [
    {
     "name": "stdout",
     "output_type": "stream",
     "text": [
      "sagemaker role arn: arn:aws:iam::431615879134:role/sagemaker-test-role\n",
      "sagemaker bucket: sagemaker-us-east-1-431615879134\n",
      "sagemaker session region: us-east-1\n"
     ]
    }
   ],
   "source": [
    "import sagemaker\n",
    "\n",
    "sess = sagemaker.Session()\n",
    "# sagemaker session bucket -> used for uploading data, models and logs\n",
    "# sagemaker will automatically create this bucket if it not exists\n",
    "sagemaker_session_bucket=None\n",
    "if sagemaker_session_bucket is None and sess is not None:\n",
    "    # set to default bucket if a bucket name is not given\n",
    "    sagemaker_session_bucket = sess.default_bucket()\n",
    "\n",
    "role = sagemaker.get_execution_role()\n",
    "sess = sagemaker.Session(default_bucket=sagemaker_session_bucket)\n",
    "\n",
    "print(f\"sagemaker role arn: {role}\")\n",
    "print(f\"sagemaker bucket: {sess.default_bucket()}\")\n",
    "print(f\"sagemaker session region: {sess.boto_region_name}\")"
   ]
  },
  {
   "cell_type": "markdown",
   "metadata": {},
   "source": [
    "# Preprocessing\n",
    "\n",
    "We are using the `datasets` library to download and preprocess the `banking77` dataset. After preprocessing, the dataset will be uploaded to our `sagemaker_session_bucket` to be used within our training job. The dataset consists of ~10000 training and ~3000 testing examples of bank requests."
   ]
  },
  {
   "cell_type": "markdown",
   "metadata": {},
   "source": [
    "## Tokenization "
   ]
  },
  {
   "cell_type": "code",
   "execution_count": 29,
   "metadata": {},
   "outputs": [],
   "source": [
    "from datasets import load_dataset\n",
    "from transformers import AutoTokenizer\n",
    "\n",
    "# tokenizer used in preprocessing\n",
    "tokenizer_name = 'distilbert-base-uncased'\n",
    "\n",
    "# dataset used\n",
    "dataset_name = 'banking77'\n",
    "\n",
    "# s3 key prefix for the data\n",
    "s3_prefix = f'samples/datasets/{dataset_name}'"
   ]
  },
  {
   "cell_type": "code",
   "execution_count": 30,
   "metadata": {},
   "outputs": [
    {
     "name": "stderr",
     "output_type": "stream",
     "text": [
      "Using custom data configuration default\n",
      "Reusing dataset banking77 (/home/ec2-user/.cache/huggingface/datasets/banking77/default/1.1.0/17ffc2ed47c2ed928bee64127ff1dbc97204cb974c2f980becae7c864007aed9)\n"
     ]
    },
    {
     "data": {
      "application/vnd.jupyter.widget-view+json": {
       "model_id": "e8042eb647254b7abebb78174c4f5710",
       "version_major": 2,
       "version_minor": 0
      },
      "text/plain": [
       "HBox(children=(FloatProgress(value=0.0, max=11.0), HTML(value='')))"
      ]
     },
     "metadata": {},
     "output_type": "display_data"
    },
    {
     "name": "stdout",
     "output_type": "stream",
     "text": [
      "\n"
     ]
    },
    {
     "data": {
      "application/vnd.jupyter.widget-view+json": {
       "model_id": "cf434d29b76443be9be48b4548c880be",
       "version_major": 2,
       "version_minor": 0
      },
      "text/plain": [
       "HBox(children=(FloatProgress(value=0.0, max=4.0), HTML(value='')))"
      ]
     },
     "metadata": {},
     "output_type": "display_data"
    },
    {
     "name": "stdout",
     "output_type": "stream",
     "text": [
      "\n"
     ]
    }
   ],
   "source": [
    "# download tokenizer\n",
    "tokenizer = AutoTokenizer.from_pretrained(tokenizer_name)\n",
    "\n",
    "# tokenizer helper function\n",
    "def tokenize(batch):\n",
    "    return tokenizer(batch['text'], padding='max_length', truncation=True)\n",
    "\n",
    "# load dataset\n",
    "train_dataset, test_dataset = load_dataset(dataset_name, split=['train', 'test'],)\n",
    "\n",
    "# tokenize dataset\n",
    "train_dataset = train_dataset.map(tokenize, batched=True)\n",
    "test_dataset = test_dataset.map(tokenize, batched=True)\n",
    "\n",
    "# set format for pytorch\n",
    "train_dataset =  train_dataset.rename_column(\"label\", \"labels\")\n",
    "train_dataset.set_format('torch', columns=['input_ids', 'attention_mask', 'labels'])\n",
    "test_dataset = test_dataset.rename_column(\"label\", \"labels\")\n",
    "test_dataset.set_format('torch', columns=['input_ids', 'attention_mask', 'labels'])"
   ]
  },
  {
   "cell_type": "code",
   "execution_count": 31,
   "metadata": {},
   "outputs": [
    {
     "data": {
      "text/plain": [
       "Dataset({\n",
       "    features: ['attention_mask', 'input_ids', 'labels', 'text'],\n",
       "    num_rows: 10003\n",
       "})"
      ]
     },
     "execution_count": 31,
     "metadata": {},
     "output_type": "execute_result"
    }
   ],
   "source": [
    "train_dataset"
   ]
  },
  {
   "cell_type": "code",
   "execution_count": 32,
   "metadata": {},
   "outputs": [
    {
     "data": {
      "text/plain": [
       "Dataset({\n",
       "    features: ['attention_mask', 'input_ids', 'labels', 'text'],\n",
       "    num_rows: 3080\n",
       "})"
      ]
     },
     "execution_count": 32,
     "metadata": {},
     "output_type": "execute_result"
    }
   ],
   "source": [
    "test_dataset"
   ]
  },
  {
   "cell_type": "code",
   "execution_count": 33,
   "metadata": {},
   "outputs": [
    {
     "data": {
      "text/plain": [
       "['How do I locate my card?',\n",
       " 'I still have not received my new card, I ordered over a week ago.',\n",
       " 'I ordered a card but it has not arrived. Help please!',\n",
       " 'Is there a way to know when my card will arrive?',\n",
       " 'My card has not arrived yet.',\n",
       " 'When will I get my card?',\n",
       " 'Do you know if there is a tracking number for the new card you sent me?',\n",
       " 'i have not received my card',\n",
       " 'still waiting on that card',\n",
       " 'Is it normal to have to wait over a week for my new card?']"
      ]
     },
     "execution_count": 33,
     "metadata": {},
     "output_type": "execute_result"
    }
   ],
   "source": [
    "test_dataset['text'][:10]"
   ]
  },
  {
   "cell_type": "code",
   "execution_count": 34,
   "metadata": {},
   "outputs": [
    {
     "data": {
      "text/plain": [
       "tensor([11, 11, 11, 11, 11, 11, 11, 11, 11, 11])"
      ]
     },
     "execution_count": 34,
     "metadata": {},
     "output_type": "execute_result"
    }
   ],
   "source": [
    "test_dataset['labels'][:10]"
   ]
  },
  {
   "cell_type": "code",
   "execution_count": 35,
   "metadata": {},
   "outputs": [
    {
     "data": {
      "text/plain": [
       "torch.Size([3080, 512])"
      ]
     },
     "execution_count": 35,
     "metadata": {},
     "output_type": "execute_result"
    }
   ],
   "source": [
    "test_dataset['input_ids'].shape"
   ]
  },
  {
   "cell_type": "code",
   "execution_count": 98,
   "metadata": {},
   "outputs": [
    {
     "data": {
      "text/plain": [
       "{'attention_mask': tensor([1, 1, 1, 1, 1, 1, 1, 1, 1, 1, 1, 1, 1, 1, 1, 1, 1, 1, 0, 0, 0, 0, 0, 0,\n",
       "         0, 0, 0, 0, 0, 0, 0, 0, 0, 0, 0, 0, 0, 0, 0, 0, 0, 0, 0, 0, 0, 0, 0, 0,\n",
       "         0, 0, 0, 0, 0, 0, 0, 0, 0, 0, 0, 0, 0, 0, 0, 0, 0, 0, 0, 0, 0, 0, 0, 0,\n",
       "         0, 0, 0, 0, 0, 0, 0, 0, 0, 0, 0, 0, 0, 0, 0, 0, 0, 0, 0, 0, 0, 0, 0, 0,\n",
       "         0, 0, 0, 0, 0, 0, 0, 0, 0, 0, 0, 0, 0, 0, 0, 0, 0, 0, 0, 0, 0, 0, 0, 0,\n",
       "         0, 0, 0, 0, 0, 0, 0, 0, 0, 0, 0, 0, 0, 0, 0, 0, 0, 0, 0, 0, 0, 0, 0, 0,\n",
       "         0, 0, 0, 0, 0, 0, 0, 0, 0, 0, 0, 0, 0, 0, 0, 0, 0, 0, 0, 0, 0, 0, 0, 0,\n",
       "         0, 0, 0, 0, 0, 0, 0, 0, 0, 0, 0, 0, 0, 0, 0, 0, 0, 0, 0, 0, 0, 0, 0, 0,\n",
       "         0, 0, 0, 0, 0, 0, 0, 0, 0, 0, 0, 0, 0, 0, 0, 0, 0, 0, 0, 0, 0, 0, 0, 0,\n",
       "         0, 0, 0, 0, 0, 0, 0, 0, 0, 0, 0, 0, 0, 0, 0, 0, 0, 0, 0, 0, 0, 0, 0, 0,\n",
       "         0, 0, 0, 0, 0, 0, 0, 0, 0, 0, 0, 0, 0, 0, 0, 0, 0, 0, 0, 0, 0, 0, 0, 0,\n",
       "         0, 0, 0, 0, 0, 0, 0, 0, 0, 0, 0, 0, 0, 0, 0, 0, 0, 0, 0, 0, 0, 0, 0, 0,\n",
       "         0, 0, 0, 0, 0, 0, 0, 0, 0, 0, 0, 0, 0, 0, 0, 0, 0, 0, 0, 0, 0, 0, 0, 0,\n",
       "         0, 0, 0, 0, 0, 0, 0, 0, 0, 0, 0, 0, 0, 0, 0, 0, 0, 0, 0, 0, 0, 0, 0, 0,\n",
       "         0, 0, 0, 0, 0, 0, 0, 0, 0, 0, 0, 0, 0, 0, 0, 0, 0, 0, 0, 0, 0, 0, 0, 0,\n",
       "         0, 0, 0, 0, 0, 0, 0, 0, 0, 0, 0, 0, 0, 0, 0, 0, 0, 0, 0, 0, 0, 0, 0, 0,\n",
       "         0, 0, 0, 0, 0, 0, 0, 0, 0, 0, 0, 0, 0, 0, 0, 0, 0, 0, 0, 0, 0, 0, 0, 0,\n",
       "         0, 0, 0, 0, 0, 0, 0, 0, 0, 0, 0, 0, 0, 0, 0, 0, 0, 0, 0, 0, 0, 0, 0, 0,\n",
       "         0, 0, 0, 0, 0, 0, 0, 0, 0, 0, 0, 0, 0, 0, 0, 0, 0, 0, 0, 0, 0, 0, 0, 0,\n",
       "         0, 0, 0, 0, 0, 0, 0, 0, 0, 0, 0, 0, 0, 0, 0, 0, 0, 0, 0, 0, 0, 0, 0, 0,\n",
       "         0, 0, 0, 0, 0, 0, 0, 0, 0, 0, 0, 0, 0, 0, 0, 0, 0, 0, 0, 0, 0, 0, 0, 0,\n",
       "         0, 0, 0, 0, 0, 0, 0, 0]),\n",
       " 'input_ids': tensor([ 101, 1045, 2145, 2031, 2025, 2363, 2026, 2047, 4003, 1010, 1045, 3641,\n",
       "         2058, 1037, 2733, 3283, 1012,  102,    0,    0,    0,    0,    0,    0,\n",
       "            0,    0,    0,    0,    0,    0,    0,    0,    0,    0,    0,    0,\n",
       "            0,    0,    0,    0,    0,    0,    0,    0,    0,    0,    0,    0,\n",
       "            0,    0,    0,    0,    0,    0,    0,    0,    0,    0,    0,    0,\n",
       "            0,    0,    0,    0,    0,    0,    0,    0,    0,    0,    0,    0,\n",
       "            0,    0,    0,    0,    0,    0,    0,    0,    0,    0,    0,    0,\n",
       "            0,    0,    0,    0,    0,    0,    0,    0,    0,    0,    0,    0,\n",
       "            0,    0,    0,    0,    0,    0,    0,    0,    0,    0,    0,    0,\n",
       "            0,    0,    0,    0,    0,    0,    0,    0,    0,    0,    0,    0,\n",
       "            0,    0,    0,    0,    0,    0,    0,    0,    0,    0,    0,    0,\n",
       "            0,    0,    0,    0,    0,    0,    0,    0,    0,    0,    0,    0,\n",
       "            0,    0,    0,    0,    0,    0,    0,    0,    0,    0,    0,    0,\n",
       "            0,    0,    0,    0,    0,    0,    0,    0,    0,    0,    0,    0,\n",
       "            0,    0,    0,    0,    0,    0,    0,    0,    0,    0,    0,    0,\n",
       "            0,    0,    0,    0,    0,    0,    0,    0,    0,    0,    0,    0,\n",
       "            0,    0,    0,    0,    0,    0,    0,    0,    0,    0,    0,    0,\n",
       "            0,    0,    0,    0,    0,    0,    0,    0,    0,    0,    0,    0,\n",
       "            0,    0,    0,    0,    0,    0,    0,    0,    0,    0,    0,    0,\n",
       "            0,    0,    0,    0,    0,    0,    0,    0,    0,    0,    0,    0,\n",
       "            0,    0,    0,    0,    0,    0,    0,    0,    0,    0,    0,    0,\n",
       "            0,    0,    0,    0,    0,    0,    0,    0,    0,    0,    0,    0,\n",
       "            0,    0,    0,    0,    0,    0,    0,    0,    0,    0,    0,    0,\n",
       "            0,    0,    0,    0,    0,    0,    0,    0,    0,    0,    0,    0,\n",
       "            0,    0,    0,    0,    0,    0,    0,    0,    0,    0,    0,    0,\n",
       "            0,    0,    0,    0,    0,    0,    0,    0,    0,    0,    0,    0,\n",
       "            0,    0,    0,    0,    0,    0,    0,    0,    0,    0,    0,    0,\n",
       "            0,    0,    0,    0,    0,    0,    0,    0,    0,    0,    0,    0,\n",
       "            0,    0,    0,    0,    0,    0,    0,    0,    0,    0,    0,    0,\n",
       "            0,    0,    0,    0,    0,    0,    0,    0,    0,    0,    0,    0,\n",
       "            0,    0,    0,    0,    0,    0,    0,    0,    0,    0,    0,    0,\n",
       "            0,    0,    0,    0,    0,    0,    0,    0,    0,    0,    0,    0,\n",
       "            0,    0,    0,    0,    0,    0,    0,    0,    0,    0,    0,    0,\n",
       "            0,    0,    0,    0,    0,    0,    0,    0,    0,    0,    0,    0,\n",
       "            0,    0,    0,    0,    0,    0,    0,    0,    0,    0,    0,    0,\n",
       "            0,    0,    0,    0,    0,    0,    0,    0,    0,    0,    0,    0,\n",
       "            0,    0,    0,    0,    0,    0,    0,    0,    0,    0,    0,    0,\n",
       "            0,    0,    0,    0,    0,    0,    0,    0,    0,    0,    0,    0,\n",
       "            0,    0,    0,    0,    0,    0,    0,    0,    0,    0,    0,    0,\n",
       "            0,    0,    0,    0,    0,    0,    0,    0,    0,    0,    0,    0,\n",
       "            0,    0,    0,    0,    0,    0,    0,    0,    0,    0,    0,    0,\n",
       "            0,    0,    0,    0,    0,    0,    0,    0,    0,    0,    0,    0,\n",
       "            0,    0,    0,    0,    0,    0,    0,    0]),\n",
       " 'labels': tensor(11)}"
      ]
     },
     "execution_count": 98,
     "metadata": {},
     "output_type": "execute_result"
    }
   ],
   "source": [
    "test_dataset[1]"
   ]
  },
  {
   "cell_type": "code",
   "execution_count": 37,
   "metadata": {},
   "outputs": [
    {
     "data": {
      "text/plain": [
       "2145"
      ]
     },
     "execution_count": 37,
     "metadata": {},
     "output_type": "execute_result"
    }
   ],
   "source": [
    "tokenizer.vocab['still']"
   ]
  },
  {
   "cell_type": "code",
   "execution_count": 70,
   "metadata": {},
   "outputs": [
    {
     "data": {
      "text/plain": [
       "['activate_my_card',\n",
       " 'age_limit',\n",
       " 'apple_pay_or_google_pay',\n",
       " 'atm_support',\n",
       " 'automatic_top_up',\n",
       " 'balance_not_updated_after_bank_transfer',\n",
       " 'balance_not_updated_after_cheque_or_cash_deposit',\n",
       " 'beneficiary_not_allowed',\n",
       " 'cancel_transfer',\n",
       " 'card_about_to_expire',\n",
       " 'card_acceptance',\n",
       " 'card_arrival',\n",
       " 'card_delivery_estimate',\n",
       " 'card_linking',\n",
       " 'card_not_working',\n",
       " 'card_payment_fee_charged',\n",
       " 'card_payment_not_recognised',\n",
       " 'card_payment_wrong_exchange_rate',\n",
       " 'card_swallowed',\n",
       " 'cash_withdrawal_charge',\n",
       " 'cash_withdrawal_not_recognised',\n",
       " 'change_pin',\n",
       " 'compromised_card',\n",
       " 'contactless_not_working',\n",
       " 'country_support',\n",
       " 'declined_card_payment',\n",
       " 'declined_cash_withdrawal',\n",
       " 'declined_transfer',\n",
       " 'direct_debit_payment_not_recognised',\n",
       " 'disposable_card_limits',\n",
       " 'edit_personal_details',\n",
       " 'exchange_charge',\n",
       " 'exchange_rate',\n",
       " 'exchange_via_app',\n",
       " 'extra_charge_on_statement',\n",
       " 'failed_transfer',\n",
       " 'fiat_currency_support',\n",
       " 'get_disposable_virtual_card',\n",
       " 'get_physical_card',\n",
       " 'getting_spare_card',\n",
       " 'getting_virtual_card',\n",
       " 'lost_or_stolen_card',\n",
       " 'lost_or_stolen_phone',\n",
       " 'order_physical_card',\n",
       " 'passcode_forgotten',\n",
       " 'pending_card_payment',\n",
       " 'pending_cash_withdrawal',\n",
       " 'pending_top_up',\n",
       " 'pending_transfer',\n",
       " 'pin_blocked',\n",
       " 'receiving_money',\n",
       " 'Refund_not_showing_up',\n",
       " 'request_refund',\n",
       " 'reverted_card_payment?',\n",
       " 'supported_cards_and_currencies',\n",
       " 'terminate_account',\n",
       " 'top_up_by_bank_transfer_charge',\n",
       " 'top_up_by_card_charge',\n",
       " 'top_up_by_cash_or_cheque',\n",
       " 'top_up_failed',\n",
       " 'top_up_limits',\n",
       " 'top_up_reverted',\n",
       " 'topping_up_by_card',\n",
       " 'transaction_charged_twice',\n",
       " 'transfer_fee_charged',\n",
       " 'transfer_into_account',\n",
       " 'transfer_not_received_by_recipient',\n",
       " 'transfer_timing',\n",
       " 'unable_to_verify_identity',\n",
       " 'verify_my_identity',\n",
       " 'verify_source_of_funds',\n",
       " 'verify_top_up',\n",
       " 'virtual_card_not_working',\n",
       " 'visa_or_mastercard',\n",
       " 'why_verify_identity',\n",
       " 'wrong_amount_of_cash_received',\n",
       " 'wrong_exchange_rate_for_cash_withdrawal']"
      ]
     },
     "execution_count": 70,
     "metadata": {},
     "output_type": "execute_result"
    }
   ],
   "source": [
    "train_dataset.features['labels'].names"
   ]
  },
  {
   "cell_type": "code",
   "execution_count": 38,
   "metadata": {},
   "outputs": [
    {
     "data": {
      "text/plain": [
       "77"
      ]
     },
     "execution_count": 38,
     "metadata": {},
     "output_type": "execute_result"
    }
   ],
   "source": [
    "train_dataset.features['labels'].num_classes"
   ]
  },
  {
   "cell_type": "markdown",
   "metadata": {},
   "source": [
    "## Uploading data to `sagemaker_session_bucket`\n",
    "\n",
    "After we processed the `datasets` we are going to use the new `FileSystem` [integration](https://huggingface.co/docs/datasets/filesystems.html) to upload our dataset to S3."
   ]
  },
  {
   "cell_type": "code",
   "execution_count": 40,
   "metadata": {},
   "outputs": [],
   "source": [
    "training_input_path = f's3://{sess.default_bucket()}/{s3_prefix}/train'\n",
    "test_input_path = f's3://{sess.default_bucket()}/{s3_prefix}/test'"
   ]
  },
  {
   "cell_type": "code",
   "execution_count": 41,
   "metadata": {},
   "outputs": [],
   "source": [
    "import botocore\n",
    "from datasets.filesystems import S3FileSystem\n",
    "\n",
    "s3 = S3FileSystem()  \n",
    "\n",
    "# save train_dataset to s3\n",
    "train_dataset.save_to_disk(training_input_path,fs=s3)\n",
    "# save test_dataset to s3\n",
    "test_dataset.save_to_disk(test_input_path,fs=s3)"
   ]
  },
  {
   "cell_type": "markdown",
   "metadata": {},
   "source": [
    "# Fine-tuning & starting Sagemaker Training Job\n",
    "\n",
    "In order to create a sagemaker training job we need an `HuggingFace` Estimator. The Estimator handles end-to-end Amazon SageMaker training and deployment tasks. In a Estimator we define, which fine-tuning script should be used as `entry_point`, which `instance_type` should be used, which `hyperparameters` are passed in .....\n",
    "\n",
    "\n",
    "\n",
    "```python\n",
    "huggingface_estimator = HuggingFace(entry_point='train.py',\n",
    "                            source_dir='./scripts',\n",
    "                            base_job_name='huggingface-sdk-extension',\n",
    "                            instance_type='ml.p3.2xlarge',\n",
    "                            instance_count=1,\n",
    "                            transformers_version='4.4',\n",
    "                            pytorch_version='1.6',\n",
    "                            py_version='py36',\n",
    "                            role=role,\n",
    "                            hyperparameters = {'epochs': 1,\n",
    "                                               'train_batch_size': 32,\n",
    "                                               'model_name':'distilbert-base-uncased'\n",
    "                                                })\n",
    "```\n",
    "\n",
    "When we create a SageMaker training job, SageMaker takes care of starting and managing all the required ec2 instances for us with the `huggingface` container, uploads the provided fine-tuning script `train.py` and downloads the data from our `sagemaker_session_bucket` into the container at `/opt/ml/input/data`. Then, it starts the training job by running. \n",
    "\n",
    "```python\n",
    "/opt/conda/bin/python train.py --epochs 1 --model_name distilbert-base-uncased --train_batch_size 32\n",
    "```\n",
    "\n",
    "The `hyperparameters` you define in the `HuggingFace` estimator are passed in as named arguments. \n",
    "\n",
    "Sagemaker is providing useful properties about the training environment through various environment variables, including the following:\n",
    "\n",
    "* `SM_MODEL_DIR`: A string that represents the path where the training job writes the model artifacts to. After training, artifacts in this directory are uploaded to S3 for model hosting.\n",
    "\n",
    "* `SM_NUM_GPUS`: An integer representing the number of GPUs available to the host.\n",
    "\n",
    "* `SM_CHANNEL_XXXX:` A string that represents the path to the directory that contains the input data for the specified channel. For example, if you specify two input channels in the HuggingFace estimator’s fit call, named `train` and `test`, the environment variables `SM_CHANNEL_TRAIN` and `SM_CHANNEL_TEST` are set.\n",
    "\n",
    "\n",
    "To run your training job locally you can define `instance_type='local'` or `instance_type='local_gpu'` for gpu usage. _Note: this does not working within SageMaker Studio_\n"
   ]
  },
  {
   "cell_type": "code",
   "execution_count": 43,
   "metadata": {},
   "outputs": [
    {
     "name": "stdout",
     "output_type": "stream",
     "text": [
      "\u001b[34mfrom\u001b[39;49;00m \u001b[04m\u001b[36mtransformers\u001b[39;49;00m \u001b[34mimport\u001b[39;49;00m AutoModelForSequenceClassification, Trainer, TrainingArguments, AutoTokenizer\n",
      "\u001b[34mfrom\u001b[39;49;00m \u001b[04m\u001b[36msklearn\u001b[39;49;00m\u001b[04m\u001b[36m.\u001b[39;49;00m\u001b[04m\u001b[36mmetrics\u001b[39;49;00m \u001b[34mimport\u001b[39;49;00m accuracy_score, precision_recall_fscore_support\n",
      "\u001b[34mfrom\u001b[39;49;00m \u001b[04m\u001b[36mdatasets\u001b[39;49;00m \u001b[34mimport\u001b[39;49;00m load_from_disk, load_metric\n",
      "\n",
      "\u001b[34mimport\u001b[39;49;00m \u001b[04m\u001b[36mrandom\u001b[39;49;00m\n",
      "\u001b[34mimport\u001b[39;49;00m \u001b[04m\u001b[36mlogging\u001b[39;49;00m\n",
      "\u001b[34mimport\u001b[39;49;00m \u001b[04m\u001b[36msys\u001b[39;49;00m\n",
      "\u001b[34mimport\u001b[39;49;00m \u001b[04m\u001b[36margparse\u001b[39;49;00m\n",
      "\u001b[34mimport\u001b[39;49;00m \u001b[04m\u001b[36mos\u001b[39;49;00m\n",
      "\u001b[34mimport\u001b[39;49;00m \u001b[04m\u001b[36mtorch\u001b[39;49;00m\n",
      "\n",
      "\u001b[34mif\u001b[39;49;00m \u001b[31m__name__\u001b[39;49;00m == \u001b[33m\"\u001b[39;49;00m\u001b[33m__main__\u001b[39;49;00m\u001b[33m\"\u001b[39;49;00m:\n",
      "\n",
      "    parser = argparse.ArgumentParser()\n",
      "\n",
      "    \u001b[37m# hyperparameters sent by the client are passed as command-line arguments to the script.\u001b[39;49;00m\n",
      "    parser.add_argument(\u001b[33m\"\u001b[39;49;00m\u001b[33m--epochs\u001b[39;49;00m\u001b[33m\"\u001b[39;49;00m, \u001b[36mtype\u001b[39;49;00m=\u001b[36mint\u001b[39;49;00m, default=\u001b[34m3\u001b[39;49;00m)\n",
      "    parser.add_argument(\u001b[33m\"\u001b[39;49;00m\u001b[33m--train_batch_size\u001b[39;49;00m\u001b[33m\"\u001b[39;49;00m, \u001b[36mtype\u001b[39;49;00m=\u001b[36mint\u001b[39;49;00m, default=\u001b[34m32\u001b[39;49;00m)\n",
      "    parser.add_argument(\u001b[33m\"\u001b[39;49;00m\u001b[33m--eval_batch_size\u001b[39;49;00m\u001b[33m\"\u001b[39;49;00m, \u001b[36mtype\u001b[39;49;00m=\u001b[36mint\u001b[39;49;00m, default=\u001b[34m64\u001b[39;49;00m)\n",
      "    parser.add_argument(\u001b[33m\"\u001b[39;49;00m\u001b[33m--warmup_steps\u001b[39;49;00m\u001b[33m\"\u001b[39;49;00m, \u001b[36mtype\u001b[39;49;00m=\u001b[36mint\u001b[39;49;00m, default=\u001b[34m500\u001b[39;49;00m)\n",
      "    parser.add_argument(\u001b[33m\"\u001b[39;49;00m\u001b[33m--model_name\u001b[39;49;00m\u001b[33m\"\u001b[39;49;00m, \u001b[36mtype\u001b[39;49;00m=\u001b[36mstr\u001b[39;49;00m)\n",
      "    parser.add_argument(\u001b[33m\"\u001b[39;49;00m\u001b[33m--learning_rate\u001b[39;49;00m\u001b[33m\"\u001b[39;49;00m, \u001b[36mtype\u001b[39;49;00m=\u001b[36mstr\u001b[39;49;00m, default=\u001b[34m3e-4\u001b[39;49;00m)\n",
      "\n",
      "    \u001b[37m# Data, model, and output directories\u001b[39;49;00m\n",
      "    parser.add_argument(\u001b[33m\"\u001b[39;49;00m\u001b[33m--output_data_dir\u001b[39;49;00m\u001b[33m\"\u001b[39;49;00m, \u001b[36mtype\u001b[39;49;00m=\u001b[36mstr\u001b[39;49;00m, default=os.environ[\u001b[33m\"\u001b[39;49;00m\u001b[33mSM_OUTPUT_DATA_DIR\u001b[39;49;00m\u001b[33m\"\u001b[39;49;00m])\n",
      "    parser.add_argument(\u001b[33m\"\u001b[39;49;00m\u001b[33m--model_dir\u001b[39;49;00m\u001b[33m\"\u001b[39;49;00m, \u001b[36mtype\u001b[39;49;00m=\u001b[36mstr\u001b[39;49;00m, default=os.environ[\u001b[33m\"\u001b[39;49;00m\u001b[33mSM_MODEL_DIR\u001b[39;49;00m\u001b[33m\"\u001b[39;49;00m])\n",
      "    parser.add_argument(\u001b[33m\"\u001b[39;49;00m\u001b[33m--n_gpus\u001b[39;49;00m\u001b[33m\"\u001b[39;49;00m, \u001b[36mtype\u001b[39;49;00m=\u001b[36mstr\u001b[39;49;00m, default=os.environ[\u001b[33m\"\u001b[39;49;00m\u001b[33mSM_NUM_GPUS\u001b[39;49;00m\u001b[33m\"\u001b[39;49;00m])\n",
      "    parser.add_argument(\u001b[33m\"\u001b[39;49;00m\u001b[33m--training_dir\u001b[39;49;00m\u001b[33m\"\u001b[39;49;00m, \u001b[36mtype\u001b[39;49;00m=\u001b[36mstr\u001b[39;49;00m, default=os.environ[\u001b[33m\"\u001b[39;49;00m\u001b[33mSM_CHANNEL_TRAIN\u001b[39;49;00m\u001b[33m\"\u001b[39;49;00m])\n",
      "    parser.add_argument(\u001b[33m\"\u001b[39;49;00m\u001b[33m--test_dir\u001b[39;49;00m\u001b[33m\"\u001b[39;49;00m, \u001b[36mtype\u001b[39;49;00m=\u001b[36mstr\u001b[39;49;00m, default=os.environ[\u001b[33m\"\u001b[39;49;00m\u001b[33mSM_CHANNEL_TEST\u001b[39;49;00m\u001b[33m\"\u001b[39;49;00m])\n",
      "\n",
      "    args, _ = parser.parse_known_args()\n",
      "\n",
      "    \u001b[37m# Set up logging\u001b[39;49;00m\n",
      "    logger = logging.getLogger(\u001b[31m__name__\u001b[39;49;00m)\n",
      "\n",
      "    logging.basicConfig(\n",
      "        level=logging.getLevelName(\u001b[33m\"\u001b[39;49;00m\u001b[33mINFO\u001b[39;49;00m\u001b[33m\"\u001b[39;49;00m),\n",
      "        handlers=[logging.StreamHandler(sys.stdout)],\n",
      "        \u001b[36mformat\u001b[39;49;00m=\u001b[33m\"\u001b[39;49;00m\u001b[33m%(asctime)s\u001b[39;49;00m\u001b[33m - \u001b[39;49;00m\u001b[33m%(name)s\u001b[39;49;00m\u001b[33m - \u001b[39;49;00m\u001b[33m%(levelname)s\u001b[39;49;00m\u001b[33m - \u001b[39;49;00m\u001b[33m%(message)s\u001b[39;49;00m\u001b[33m\"\u001b[39;49;00m,\n",
      "    )\n",
      "\n",
      "    \u001b[37m# load datasets\u001b[39;49;00m\n",
      "    train_dataset = load_from_disk(args.training_dir)\n",
      "    test_dataset = load_from_disk(args.test_dir)\n",
      "\n",
      "    logger.info(\u001b[33mf\u001b[39;49;00m\u001b[33m\"\u001b[39;49;00m\u001b[33m loaded train_dataset length is: \u001b[39;49;00m\u001b[33m{\u001b[39;49;00m\u001b[36mlen\u001b[39;49;00m(train_dataset)\u001b[33m}\u001b[39;49;00m\u001b[33m\"\u001b[39;49;00m)\n",
      "    logger.info(\u001b[33mf\u001b[39;49;00m\u001b[33m\"\u001b[39;49;00m\u001b[33m loaded test_dataset length is: \u001b[39;49;00m\u001b[33m{\u001b[39;49;00m\u001b[36mlen\u001b[39;49;00m(test_dataset)\u001b[33m}\u001b[39;49;00m\u001b[33m\"\u001b[39;49;00m)\n",
      "    \n",
      "    metric = load_metric(\u001b[33m\"\u001b[39;49;00m\u001b[33maccuracy\u001b[39;49;00m\u001b[33m\"\u001b[39;49;00m)\n",
      "\n",
      "    \u001b[34mdef\u001b[39;49;00m \u001b[32mcompute_metrics\u001b[39;49;00m(pred):\n",
      "        labels = pred.label_ids\n",
      "        preds = pred.predictions.argmax(-\u001b[34m1\u001b[39;49;00m)\n",
      "        \u001b[34mreturn\u001b[39;49;00m metric.compute(predictions=preds, references=labels)\n",
      "    \n",
      "    \u001b[36mprint\u001b[39;49;00m(\u001b[33m'\u001b[39;49;00m\u001b[33m**********   Loading Model   **********\u001b[39;49;00m\u001b[33m'\u001b[39;49;00m)\n",
      "    \u001b[37m# download model from model hub\u001b[39;49;00m\n",
      "    model = AutoModelForSequenceClassification.from_pretrained(args.model_name, num_labels=train_dataset.features[\u001b[33m'\u001b[39;49;00m\u001b[33mlabels\u001b[39;49;00m\u001b[33m'\u001b[39;49;00m].num_classes)\n",
      "    tokenizer = AutoTokenizer.from_pretrained(args.model_name)\n",
      "    \u001b[36mprint\u001b[39;49;00m(\u001b[33m'\u001b[39;49;00m\u001b[33m**********   Model Loading Complete   **********\u001b[39;49;00m\u001b[33m'\u001b[39;49;00m)\n",
      "\n",
      "    \u001b[37m# define training args\u001b[39;49;00m\n",
      "    training_args = TrainingArguments(\n",
      "        output_dir=args.model_dir,\n",
      "        num_train_epochs=args.epochs,\n",
      "        per_device_train_batch_size=args.train_batch_size,\n",
      "        per_device_eval_batch_size=args.eval_batch_size,\n",
      "        warmup_steps=args.warmup_steps,\n",
      "        evaluation_strategy=\u001b[33m\"\u001b[39;49;00m\u001b[33mepoch\u001b[39;49;00m\u001b[33m\"\u001b[39;49;00m,\n",
      "        logging_dir=\u001b[33mf\u001b[39;49;00m\u001b[33m\"\u001b[39;49;00m\u001b[33m{\u001b[39;49;00margs.output_data_dir\u001b[33m}\u001b[39;49;00m\u001b[33m/logs\u001b[39;49;00m\u001b[33m\"\u001b[39;49;00m,\n",
      "        learning_rate=\u001b[36mfloat\u001b[39;49;00m(args.learning_rate),\n",
      "    )\n",
      "\n",
      "    \u001b[37m# create Trainer instance\u001b[39;49;00m\n",
      "    trainer = Trainer(\n",
      "        model=model,\n",
      "        args=training_args,\n",
      "        compute_metrics=compute_metrics,\n",
      "        train_dataset=train_dataset,\n",
      "        eval_dataset=test_dataset,\n",
      "        tokenizer=tokenizer,\n",
      "    )\n",
      "\n",
      "    \u001b[36mprint\u001b[39;49;00m(\u001b[33m'\u001b[39;49;00m\u001b[33m**********   Training Starting   **********\u001b[39;49;00m\u001b[33m'\u001b[39;49;00m)\n",
      "    \u001b[37m# train model\u001b[39;49;00m\n",
      "    trainer.train()\n",
      "    \u001b[36mprint\u001b[39;49;00m(\u001b[33m'\u001b[39;49;00m\u001b[33m**********   Training Complete   **********\u001b[39;49;00m\u001b[33m'\u001b[39;49;00m)\n",
      "    \n",
      "    \u001b[37m# evaluate model\u001b[39;49;00m\n",
      "    eval_result = trainer.evaluate(eval_dataset=test_dataset)\n",
      "\n",
      "    \u001b[37m# writes eval result to file which can be accessed later in s3 ouput\u001b[39;49;00m\n",
      "    \u001b[34mwith\u001b[39;49;00m \u001b[36mopen\u001b[39;49;00m(os.path.join(args.output_data_dir, \u001b[33m\"\u001b[39;49;00m\u001b[33meval_results.txt\u001b[39;49;00m\u001b[33m\"\u001b[39;49;00m), \u001b[33m\"\u001b[39;49;00m\u001b[33mw\u001b[39;49;00m\u001b[33m\"\u001b[39;49;00m) \u001b[34mas\u001b[39;49;00m writer:\n",
      "        \u001b[36mprint\u001b[39;49;00m(\u001b[33mf\u001b[39;49;00m\u001b[33m\"\u001b[39;49;00m\u001b[33m***** Eval results *****\u001b[39;49;00m\u001b[33m\"\u001b[39;49;00m)\n",
      "        \u001b[34mfor\u001b[39;49;00m key, value \u001b[35min\u001b[39;49;00m \u001b[36msorted\u001b[39;49;00m(eval_result.items()):\n",
      "            writer.write(\u001b[33mf\u001b[39;49;00m\u001b[33m\"\u001b[39;49;00m\u001b[33m{\u001b[39;49;00mkey\u001b[33m}\u001b[39;49;00m\u001b[33m = \u001b[39;49;00m\u001b[33m{\u001b[39;49;00mvalue\u001b[33m}\u001b[39;49;00m\u001b[33m\\n\u001b[39;49;00m\u001b[33m\"\u001b[39;49;00m)\n",
      "\n",
      "    \u001b[37m# Saves the model to s3\u001b[39;49;00m\n",
      "    trainer.save_model(args.model_dir)\n"
     ]
    }
   ],
   "source": [
    "!pygmentize ./scripts/train.py"
   ]
  },
  {
   "cell_type": "markdown",
   "metadata": {},
   "source": [
    "## Creating an Estimator and start a training job"
   ]
  },
  {
   "cell_type": "code",
   "execution_count": 47,
   "metadata": {},
   "outputs": [],
   "source": [
    "from sagemaker.huggingface import HuggingFace\n",
    "\n",
    "# hyperparameters, which are passed into the training job\n",
    "hyperparameters={'epochs': 3,\n",
    "                 'train_batch_size': 32,\n",
    "                 'model_name':'distilbert-base-uncased',\n",
    "                 'output_dir':'/opt/ml/checkpoints'\n",
    "                 }\n",
    "\n",
    "# s3 uri where our checkpoints will be uploaded during training\n",
    "job_name = \"huggingface-text-classification\"\n",
    "checkpoint_s3_uri = f's3://{sess.default_bucket()}/{job_name}/checkpoints'"
   ]
  },
  {
   "cell_type": "code",
   "execution_count": 48,
   "metadata": {},
   "outputs": [],
   "source": [
    "huggingface_estimator = HuggingFace(entry_point='train.py',\n",
    "                            source_dir='./scripts',\n",
    "                            instance_type='ml.p3.2xlarge',\n",
    "                            instance_count=1,\n",
    "                            base_job_name=job_name,\n",
    "                            checkpoint_s3_uri=checkpoint_s3_uri,\n",
    "#                             use_spot_instances=True,\n",
    "#                             max_wait=3600, # This should be equal to or greater than max_run in seconds'\n",
    "#                             max_run=1000, # expected max run in seconds\n",
    "                            role=role,\n",
    "                            transformers_version='4.11',\n",
    "                            pytorch_version='1.9',\n",
    "                            py_version='py38',\n",
    "                            hyperparameters = hyperparameters)"
   ]
  },
  {
   "cell_type": "code",
   "execution_count": 49,
   "metadata": {},
   "outputs": [
    {
     "name": "stdout",
     "output_type": "stream",
     "text": [
      "2021-10-21 19:20:34 Starting - Starting the training job...\n",
      "2021-10-21 19:20:44 Starting - Launching requested ML instancesProfilerReport-1634844033: InProgress\n",
      ".........\n",
      "2021-10-21 19:22:27 Starting - Preparing the instances for training.........\n",
      "2021-10-21 19:23:57 Downloading - Downloading input data...\n",
      "2021-10-21 19:24:27 Training - Downloading the training image.................\u001b[34mbash: cannot set terminal process group (-1): Inappropriate ioctl for device\u001b[0m\n",
      "\u001b[34mbash: no job control in this shell\u001b[0m\n",
      "\u001b[34m2021-10-21 19:27:14,424 sagemaker-training-toolkit INFO     Imported framework sagemaker_pytorch_container.training\u001b[0m\n",
      "\u001b[34m2021-10-21 19:27:14,448 sagemaker_pytorch_container.training INFO     Block until all host DNS lookups succeed.\u001b[0m\n",
      "\u001b[34m2021-10-21 19:27:17,513 sagemaker_pytorch_container.training INFO     Invoking user training script.\u001b[0m\n",
      "\u001b[34m2021-10-21 19:27:18,079 sagemaker-training-toolkit INFO     Invoking user script\n",
      "\u001b[0m\n",
      "\u001b[34mTraining Env:\n",
      "\u001b[0m\n",
      "\u001b[34m{\n",
      "    \"additional_framework_parameters\": {},\n",
      "    \"channel_input_dirs\": {\n",
      "        \"test\": \"/opt/ml/input/data/test\",\n",
      "        \"train\": \"/opt/ml/input/data/train\"\n",
      "    },\n",
      "    \"current_host\": \"algo-1\",\n",
      "    \"framework_module\": \"sagemaker_pytorch_container.training:main\",\n",
      "    \"hosts\": [\n",
      "        \"algo-1\"\n",
      "    ],\n",
      "    \"hyperparameters\": {\n",
      "        \"train_batch_size\": 32,\n",
      "        \"model_name\": \"distilbert-base-uncased\",\n",
      "        \"output_dir\": \"/opt/ml/checkpoints\",\n",
      "        \"epochs\": 3\n",
      "    },\n",
      "    \"input_config_dir\": \"/opt/ml/input/config\",\n",
      "    \"input_data_config\": {\n",
      "        \"test\": {\n",
      "            \"TrainingInputMode\": \"File\",\n",
      "            \"S3DistributionType\": \"FullyReplicated\",\n",
      "            \"RecordWrapperType\": \"None\"\n",
      "        },\n",
      "        \"train\": {\n",
      "            \"TrainingInputMode\": \"File\",\n",
      "            \"S3DistributionType\": \"FullyReplicated\",\n",
      "            \"RecordWrapperType\": \"None\"\n",
      "        }\n",
      "    },\n",
      "    \"input_dir\": \"/opt/ml/input\",\n",
      "    \"is_master\": true,\n",
      "    \"job_name\": \"huggingface-text-classification-2021-10-21-19-20-33-661\",\n",
      "    \"log_level\": 20,\n",
      "    \"master_hostname\": \"algo-1\",\n",
      "    \"model_dir\": \"/opt/ml/model\",\n",
      "    \"module_dir\": \"s3://sagemaker-us-east-1-431615879134/huggingface-text-classification-2021-10-21-19-20-33-661/source/sourcedir.tar.gz\",\n",
      "    \"module_name\": \"train\",\n",
      "    \"network_interface_name\": \"eth0\",\n",
      "    \"num_cpus\": 8,\n",
      "    \"num_gpus\": 1,\n",
      "    \"output_data_dir\": \"/opt/ml/output/data\",\n",
      "    \"output_dir\": \"/opt/ml/output\",\n",
      "    \"output_intermediate_dir\": \"/opt/ml/output/intermediate\",\n",
      "    \"resource_config\": {\n",
      "        \"current_host\": \"algo-1\",\n",
      "        \"hosts\": [\n",
      "            \"algo-1\"\n",
      "        ],\n",
      "        \"network_interface_name\": \"eth0\"\n",
      "    },\n",
      "    \"user_entry_point\": \"train.py\"\u001b[0m\n",
      "\u001b[34m}\n",
      "\u001b[0m\n",
      "\u001b[34mEnvironment variables:\n",
      "\u001b[0m\n",
      "\u001b[34mSM_HOSTS=[\"algo-1\"]\u001b[0m\n",
      "\u001b[34mSM_NETWORK_INTERFACE_NAME=eth0\u001b[0m\n",
      "\u001b[34mSM_HPS={\"epochs\":3,\"model_name\":\"distilbert-base-uncased\",\"output_dir\":\"/opt/ml/checkpoints\",\"train_batch_size\":32}\u001b[0m\n",
      "\u001b[34mSM_USER_ENTRY_POINT=train.py\u001b[0m\n",
      "\u001b[34mSM_FRAMEWORK_PARAMS={}\u001b[0m\n",
      "\u001b[34mSM_RESOURCE_CONFIG={\"current_host\":\"algo-1\",\"hosts\":[\"algo-1\"],\"network_interface_name\":\"eth0\"}\u001b[0m\n",
      "\u001b[34mSM_INPUT_DATA_CONFIG={\"test\":{\"RecordWrapperType\":\"None\",\"S3DistributionType\":\"FullyReplicated\",\"TrainingInputMode\":\"File\"},\"train\":{\"RecordWrapperType\":\"None\",\"S3DistributionType\":\"FullyReplicated\",\"TrainingInputMode\":\"File\"}}\u001b[0m\n",
      "\u001b[34mSM_OUTPUT_DATA_DIR=/opt/ml/output/data\u001b[0m\n",
      "\u001b[34mSM_CHANNELS=[\"test\",\"train\"]\u001b[0m\n",
      "\u001b[34mSM_CURRENT_HOST=algo-1\u001b[0m\n",
      "\u001b[34mSM_MODULE_NAME=train\u001b[0m\n",
      "\u001b[34mSM_LOG_LEVEL=20\u001b[0m\n",
      "\u001b[34mSM_FRAMEWORK_MODULE=sagemaker_pytorch_container.training:main\u001b[0m\n",
      "\u001b[34mSM_INPUT_DIR=/opt/ml/input\u001b[0m\n",
      "\u001b[34mSM_INPUT_CONFIG_DIR=/opt/ml/input/config\u001b[0m\n",
      "\u001b[34mSM_OUTPUT_DIR=/opt/ml/output\u001b[0m\n",
      "\u001b[34mSM_NUM_CPUS=8\u001b[0m\n",
      "\u001b[34mSM_NUM_GPUS=1\u001b[0m\n",
      "\u001b[34mSM_MODEL_DIR=/opt/ml/model\u001b[0m\n",
      "\u001b[34mSM_MODULE_DIR=s3://sagemaker-us-east-1-431615879134/huggingface-text-classification-2021-10-21-19-20-33-661/source/sourcedir.tar.gz\u001b[0m\n",
      "\u001b[34mSM_TRAINING_ENV={\"additional_framework_parameters\":{},\"channel_input_dirs\":{\"test\":\"/opt/ml/input/data/test\",\"train\":\"/opt/ml/input/data/train\"},\"current_host\":\"algo-1\",\"framework_module\":\"sagemaker_pytorch_container.training:main\",\"hosts\":[\"algo-1\"],\"hyperparameters\":{\"epochs\":3,\"model_name\":\"distilbert-base-uncased\",\"output_dir\":\"/opt/ml/checkpoints\",\"train_batch_size\":32},\"input_config_dir\":\"/opt/ml/input/config\",\"input_data_config\":{\"test\":{\"RecordWrapperType\":\"None\",\"S3DistributionType\":\"FullyReplicated\",\"TrainingInputMode\":\"File\"},\"train\":{\"RecordWrapperType\":\"None\",\"S3DistributionType\":\"FullyReplicated\",\"TrainingInputMode\":\"File\"}},\"input_dir\":\"/opt/ml/input\",\"is_master\":true,\"job_name\":\"huggingface-text-classification-2021-10-21-19-20-33-661\",\"log_level\":20,\"master_hostname\":\"algo-1\",\"model_dir\":\"/opt/ml/model\",\"module_dir\":\"s3://sagemaker-us-east-1-431615879134/huggingface-text-classification-2021-10-21-19-20-33-661/source/sourcedir.tar.gz\",\"module_name\":\"train\",\"network_interface_name\":\"eth0\",\"num_cpus\":8,\"num_gpus\":1,\"output_data_dir\":\"/opt/ml/output/data\",\"output_dir\":\"/opt/ml/output\",\"output_intermediate_dir\":\"/opt/ml/output/intermediate\",\"resource_config\":{\"current_host\":\"algo-1\",\"hosts\":[\"algo-1\"],\"network_interface_name\":\"eth0\"},\"user_entry_point\":\"train.py\"}\u001b[0m\n",
      "\u001b[34mSM_USER_ARGS=[\"--epochs\",\"3\",\"--model_name\",\"distilbert-base-uncased\",\"--output_dir\",\"/opt/ml/checkpoints\",\"--train_batch_size\",\"32\"]\u001b[0m\n",
      "\u001b[34mSM_OUTPUT_INTERMEDIATE_DIR=/opt/ml/output/intermediate\u001b[0m\n",
      "\u001b[34mSM_CHANNEL_TEST=/opt/ml/input/data/test\u001b[0m\n",
      "\u001b[34mSM_CHANNEL_TRAIN=/opt/ml/input/data/train\u001b[0m\n",
      "\u001b[34mSM_HP_TRAIN_BATCH_SIZE=32\u001b[0m\n",
      "\u001b[34mSM_HP_MODEL_NAME=distilbert-base-uncased\u001b[0m\n",
      "\u001b[34mSM_HP_OUTPUT_DIR=/opt/ml/checkpoints\u001b[0m\n",
      "\u001b[34mSM_HP_EPOCHS=3\u001b[0m\n",
      "\u001b[34mPYTHONPATH=/opt/ml/code:/opt/conda/bin:/opt/conda/lib/python36.zip:/opt/conda/lib/python3.6:/opt/conda/lib/python3.6/lib-dynload:/opt/conda/lib/python3.6/site-packages\n",
      "\u001b[0m\n",
      "\u001b[34mInvoking script with the following command:\n",
      "\u001b[0m\n",
      "\u001b[34m/opt/conda/bin/python3.6 train.py --epochs 3 --model_name distilbert-base-uncased --output_dir /opt/ml/checkpoints --train_batch_size 32\n",
      "\n",
      "\u001b[0m\n",
      "\n",
      "2021-10-21 19:27:28 Training - Training image download completed. Training in progress.\u001b[34m2021-10-21 19:27:25,171 - __main__ - INFO -  loaded train_dataset length is: 10003\u001b[0m\n",
      "\u001b[34m2021-10-21 19:27:25,172 - __main__ - INFO -  loaded test_dataset length is: 3080\u001b[0m\n",
      "\u001b[34m**********   Loading Model   **********\u001b[0m\n",
      "\u001b[34m2021-10-21 19:27:25,495 - filelock - INFO - Lock 139871854650088 acquired on /root/.cache/huggingface/transformers/23454919702d26495337f3da04d1655c7ee010d5ec9d77bdb9e399e00302c0a1.91b885ab15d631bf9cee9dc9d25ece0afd932f2f5130eba28f2055b2220c0333.lock\u001b[0m\n",
      "\u001b[34m2021-10-21 19:27:25,517 - filelock - INFO - Lock 139871854650088 released on /root/.cache/huggingface/transformers/23454919702d26495337f3da04d1655c7ee010d5ec9d77bdb9e399e00302c0a1.91b885ab15d631bf9cee9dc9d25ece0afd932f2f5130eba28f2055b2220c0333.lock\u001b[0m\n",
      "\u001b[34m2021-10-21 19:27:25,544 - filelock - INFO - Lock 139871853468976 acquired on /root/.cache/huggingface/transformers/9c169103d7e5a73936dd2b627e42851bec0831212b677c637033ee4bce9ab5ee.126183e36667471617ae2f0835fab707baa54b731f991507ebbb55ea85adb12a.lock\u001b[0m\n",
      "\u001b[34m2021-10-21 19:27:33,280 - filelock - INFO - Lock 139871853468976 released on /root/.cache/huggingface/transformers/9c169103d7e5a73936dd2b627e42851bec0831212b677c637033ee4bce9ab5ee.126183e36667471617ae2f0835fab707baa54b731f991507ebbb55ea85adb12a.lock\u001b[0m\n",
      "\u001b[34mSome weights of the model checkpoint at distilbert-base-uncased were not used when initializing DistilBertForSequenceClassification: ['vocab_transform.bias', 'vocab_layer_norm.bias', 'vocab_layer_norm.weight', 'vocab_projector.weight', 'vocab_transform.weight', 'vocab_projector.bias']\u001b[0m\n",
      "\u001b[34m- This IS expected if you are initializing DistilBertForSequenceClassification from the checkpoint of a model trained on another task or with another architecture (e.g. initializing a BertForSequenceClassification model from a BertForPreTraining model).\u001b[0m\n",
      "\u001b[34m- This IS NOT expected if you are initializing DistilBertForSequenceClassification from the checkpoint of a model that you expect to be exactly identical (initializing a BertForSequenceClassification model from a BertForSequenceClassification model).\u001b[0m\n",
      "\u001b[34mSome weights of DistilBertForSequenceClassification were not initialized from the model checkpoint at distilbert-base-uncased and are newly initialized: ['classifier.weight', 'classifier.bias', 'pre_classifier.weight', 'pre_classifier.bias']\u001b[0m\n",
      "\u001b[34mYou should probably TRAIN this model on a down-stream task to be able to use it for predictions and inference.\u001b[0m\n",
      "\u001b[34m2021-10-21 19:27:34,073 - filelock - INFO - Lock 139868563728032 acquired on /root/.cache/huggingface/transformers/0e1bbfda7f63a99bb52e3915dcf10c3c92122b827d92eb2d34ce94ee79ba486c.d789d64ebfe299b0e416afc4a169632f903f693095b4629a7ea271d5a0cf2c99.lock\u001b[0m\n",
      "\u001b[34m2021-10-21 19:27:34,104 - filelock - INFO - Lock 139868563728032 released on /root/.cache/huggingface/transformers/0e1bbfda7f63a99bb52e3915dcf10c3c92122b827d92eb2d34ce94ee79ba486c.d789d64ebfe299b0e416afc4a169632f903f693095b4629a7ea271d5a0cf2c99.lock\u001b[0m\n",
      "\u001b[34m2021-10-21 19:27:34,127 - filelock - INFO - Lock 139871853500120 acquired on /root/.cache/huggingface/transformers/75abb59d7a06f4f640158a9bfcde005264e59e8d566781ab1415b139d2e4c603.7f2721073f19841be16f41b0a70b600ca6b880c8f3df6f3535cbc704371bdfa4.lock\u001b[0m\n",
      "\u001b[34m2021-10-21 19:27:34,171 - filelock - INFO - Lock 139871853500120 released on /root/.cache/huggingface/transformers/75abb59d7a06f4f640158a9bfcde005264e59e8d566781ab1415b139d2e4c603.7f2721073f19841be16f41b0a70b600ca6b880c8f3df6f3535cbc704371bdfa4.lock\u001b[0m\n",
      "\u001b[34m2021-10-21 19:27:34,247 - filelock - INFO - Lock 139871853501128 acquired on /root/.cache/huggingface/transformers/8c8624b8ac8aa99c60c912161f8332de003484428c47906d7ff7eb7f73eecdbb.20430bd8e10ef77a7d2977accefe796051e01bc2fc4aa146bc862997a1a15e79.lock\u001b[0m\n",
      "\u001b[34m2021-10-21 19:27:34,270 - filelock - INFO - Lock 139871853501128 released on /root/.cache/huggingface/transformers/8c8624b8ac8aa99c60c912161f8332de003484428c47906d7ff7eb7f73eecdbb.20430bd8e10ef77a7d2977accefe796051e01bc2fc4aa146bc862997a1a15e79.lock\u001b[0m\n",
      "\u001b[34m**********   Model Loading Complete   **********\u001b[0m\n",
      "\u001b[34m**********   Training Starting   **********\u001b[0m\n",
      "\u001b[34m[2021-10-21 19:27:41.650 algo-1:26 INFO utils.py:27] RULE_JOB_STOP_SIGNAL_FILENAME: None\u001b[0m\n",
      "\u001b[34m[2021-10-21 19:27:41.867 algo-1:26 INFO profiler_config_parser.py:102] User has disabled profiler.\u001b[0m\n",
      "\u001b[34m[2021-10-21 19:27:41.868 algo-1:26 INFO json_config.py:91] Creating hook from json_config at /opt/ml/input/config/debughookconfig.json.\u001b[0m\n",
      "\u001b[34m[2021-10-21 19:27:41.868 algo-1:26 INFO hook.py:201] tensorboard_dir has not been set for the hook. SMDebug will not be exporting tensorboard summaries.\u001b[0m\n",
      "\u001b[34m[2021-10-21 19:27:41.870 algo-1:26 INFO hook.py:255] Saving to /opt/ml/output/tensors\u001b[0m\n",
      "\u001b[34m[2021-10-21 19:27:41.870 algo-1:26 INFO state_store.py:77] The checkpoint config file /opt/ml/input/config/checkpointconfig.json does not exist.\u001b[0m\n",
      "\u001b[34m[2021-10-21 19:27:42.148 algo-1:26 INFO hook.py:591] name:distilbert.embeddings.word_embeddings.weight count_params:23440896\u001b[0m\n",
      "\u001b[34m[2021-10-21 19:27:42.148 algo-1:26 INFO hook.py:591] name:distilbert.embeddings.position_embeddings.weight count_params:393216\u001b[0m\n",
      "\u001b[34m[2021-10-21 19:27:42.148 algo-1:26 INFO hook.py:591] name:distilbert.embeddings.LayerNorm.weight count_params:768\u001b[0m\n",
      "\u001b[34m[2021-10-21 19:27:42.148 algo-1:26 INFO hook.py:591] name:distilbert.embeddings.LayerNorm.bias count_params:768\u001b[0m\n",
      "\u001b[34m[2021-10-21 19:27:42.148 algo-1:26 INFO hook.py:591] name:distilbert.transformer.layer.0.attention.q_lin.weight count_params:589824\u001b[0m\n",
      "\u001b[34m[2021-10-21 19:27:42.148 algo-1:26 INFO hook.py:591] name:distilbert.transformer.layer.0.attention.q_lin.bias count_params:768\u001b[0m\n",
      "\u001b[34m[2021-10-21 19:27:42.148 algo-1:26 INFO hook.py:591] name:distilbert.transformer.layer.0.attention.k_lin.weight count_params:589824\u001b[0m\n",
      "\u001b[34m[2021-10-21 19:27:42.148 algo-1:26 INFO hook.py:591] name:distilbert.transformer.layer.0.attention.k_lin.bias count_params:768\u001b[0m\n",
      "\u001b[34m[2021-10-21 19:27:42.148 algo-1:26 INFO hook.py:591] name:distilbert.transformer.layer.0.attention.v_lin.weight count_params:589824\u001b[0m\n",
      "\u001b[34m[2021-10-21 19:27:42.149 algo-1:26 INFO hook.py:591] name:distilbert.transformer.layer.0.attention.v_lin.bias count_params:768\u001b[0m\n",
      "\u001b[34m[2021-10-21 19:27:42.149 algo-1:26 INFO hook.py:591] name:distilbert.transformer.layer.0.attention.out_lin.weight count_params:589824\u001b[0m\n",
      "\u001b[34m[2021-10-21 19:27:42.149 algo-1:26 INFO hook.py:591] name:distilbert.transformer.layer.0.attention.out_lin.bias count_params:768\u001b[0m\n",
      "\u001b[34m[2021-10-21 19:27:42.149 algo-1:26 INFO hook.py:591] name:distilbert.transformer.layer.0.sa_layer_norm.weight count_params:768\u001b[0m\n",
      "\u001b[34m[2021-10-21 19:27:42.149 algo-1:26 INFO hook.py:591] name:distilbert.transformer.layer.0.sa_layer_norm.bias count_params:768\u001b[0m\n",
      "\u001b[34m[2021-10-21 19:27:42.149 algo-1:26 INFO hook.py:591] name:distilbert.transformer.layer.0.ffn.lin1.weight count_params:2359296\u001b[0m\n",
      "\u001b[34m[2021-10-21 19:27:42.149 algo-1:26 INFO hook.py:591] name:distilbert.transformer.layer.0.ffn.lin1.bias count_params:3072\u001b[0m\n",
      "\u001b[34m[2021-10-21 19:27:42.149 algo-1:26 INFO hook.py:591] name:distilbert.transformer.layer.0.ffn.lin2.weight count_params:2359296\u001b[0m\n",
      "\u001b[34m[2021-10-21 19:27:42.149 algo-1:26 INFO hook.py:591] name:distilbert.transformer.layer.0.ffn.lin2.bias count_params:768\u001b[0m\n",
      "\u001b[34m[2021-10-21 19:27:42.150 algo-1:26 INFO hook.py:591] name:distilbert.transformer.layer.0.output_layer_norm.weight count_params:768\u001b[0m\n",
      "\u001b[34m[2021-10-21 19:27:42.150 algo-1:26 INFO hook.py:591] name:distilbert.transformer.layer.0.output_layer_norm.bias count_params:768\u001b[0m\n",
      "\u001b[34m[2021-10-21 19:27:42.150 algo-1:26 INFO hook.py:591] name:distilbert.transformer.layer.1.attention.q_lin.weight count_params:589824\u001b[0m\n",
      "\u001b[34m[2021-10-21 19:27:42.150 algo-1:26 INFO hook.py:591] name:distilbert.transformer.layer.1.attention.q_lin.bias count_params:768\u001b[0m\n",
      "\u001b[34m[2021-10-21 19:27:42.150 algo-1:26 INFO hook.py:591] name:distilbert.transformer.layer.1.attention.k_lin.weight count_params:589824\u001b[0m\n",
      "\u001b[34m[2021-10-21 19:27:42.150 algo-1:26 INFO hook.py:591] name:distilbert.transformer.layer.1.attention.k_lin.bias count_params:768\u001b[0m\n",
      "\u001b[34m[2021-10-21 19:27:42.150 algo-1:26 INFO hook.py:591] name:distilbert.transformer.layer.1.attention.v_lin.weight count_params:589824\u001b[0m\n",
      "\u001b[34m[2021-10-21 19:27:42.150 algo-1:26 INFO hook.py:591] name:distilbert.transformer.layer.1.attention.v_lin.bias count_params:768\u001b[0m\n",
      "\u001b[34m[2021-10-21 19:27:42.150 algo-1:26 INFO hook.py:591] name:distilbert.transformer.layer.1.attention.out_lin.weight count_params:589824\u001b[0m\n",
      "\u001b[34m[2021-10-21 19:27:42.151 algo-1:26 INFO hook.py:591] name:distilbert.transformer.layer.1.attention.out_lin.bias count_params:768\u001b[0m\n",
      "\u001b[34m[2021-10-21 19:27:42.151 algo-1:26 INFO hook.py:591] name:distilbert.transformer.layer.1.sa_layer_norm.weight count_params:768\u001b[0m\n",
      "\u001b[34m[2021-10-21 19:27:42.151 algo-1:26 INFO hook.py:591] name:distilbert.transformer.layer.1.sa_layer_norm.bias count_params:768\u001b[0m\n",
      "\u001b[34m[2021-10-21 19:27:42.151 algo-1:26 INFO hook.py:591] name:distilbert.transformer.layer.1.ffn.lin1.weight count_params:2359296\u001b[0m\n",
      "\u001b[34m[2021-10-21 19:27:42.151 algo-1:26 INFO hook.py:591] name:distilbert.transformer.layer.1.ffn.lin1.bias count_params:3072\u001b[0m\n",
      "\u001b[34m[2021-10-21 19:27:42.151 algo-1:26 INFO hook.py:591] name:distilbert.transformer.layer.1.ffn.lin2.weight count_params:2359296\u001b[0m\n",
      "\u001b[34m[2021-10-21 19:27:42.151 algo-1:26 INFO hook.py:591] name:distilbert.transformer.layer.1.ffn.lin2.bias count_params:768\u001b[0m\n",
      "\u001b[34m[2021-10-21 19:27:42.151 algo-1:26 INFO hook.py:591] name:distilbert.transformer.layer.1.output_layer_norm.weight count_params:768\u001b[0m\n",
      "\u001b[34m[2021-10-21 19:27:42.151 algo-1:26 INFO hook.py:591] name:distilbert.transformer.layer.1.output_layer_norm.bias count_params:768\u001b[0m\n",
      "\u001b[34m[2021-10-21 19:27:42.152 algo-1:26 INFO hook.py:591] name:distilbert.transformer.layer.2.attention.q_lin.weight count_params:589824\u001b[0m\n",
      "\u001b[34m[2021-10-21 19:27:42.152 algo-1:26 INFO hook.py:591] name:distilbert.transformer.layer.2.attention.q_lin.bias count_params:768\u001b[0m\n",
      "\u001b[34m[2021-10-21 19:27:42.152 algo-1:26 INFO hook.py:591] name:distilbert.transformer.layer.2.attention.k_lin.weight count_params:589824\u001b[0m\n",
      "\u001b[34m[2021-10-21 19:27:42.152 algo-1:26 INFO hook.py:591] name:distilbert.transformer.layer.2.attention.k_lin.bias count_params:768\u001b[0m\n",
      "\u001b[34m[2021-10-21 19:27:42.152 algo-1:26 INFO hook.py:591] name:distilbert.transformer.layer.2.attention.v_lin.weight count_params:589824\u001b[0m\n",
      "\u001b[34m[2021-10-21 19:27:42.152 algo-1:26 INFO hook.py:591] name:distilbert.transformer.layer.2.attention.v_lin.bias count_params:768\u001b[0m\n",
      "\u001b[34m[2021-10-21 19:27:42.152 algo-1:26 INFO hook.py:591] name:distilbert.transformer.layer.2.attention.out_lin.weight count_params:589824\u001b[0m\n",
      "\u001b[34m[2021-10-21 19:27:42.152 algo-1:26 INFO hook.py:591] name:distilbert.transformer.layer.2.attention.out_lin.bias count_params:768\u001b[0m\n",
      "\u001b[34m[2021-10-21 19:27:42.152 algo-1:26 INFO hook.py:591] name:distilbert.transformer.layer.2.sa_layer_norm.weight count_params:768\u001b[0m\n",
      "\u001b[34m[2021-10-21 19:27:42.152 algo-1:26 INFO hook.py:591] name:distilbert.transformer.layer.2.sa_layer_norm.bias count_params:768\u001b[0m\n",
      "\u001b[34m[2021-10-21 19:27:42.153 algo-1:26 INFO hook.py:591] name:distilbert.transformer.layer.2.ffn.lin1.weight count_params:2359296\u001b[0m\n",
      "\u001b[34m[2021-10-21 19:27:42.153 algo-1:26 INFO hook.py:591] name:distilbert.transformer.layer.2.ffn.lin1.bias count_params:3072\u001b[0m\n",
      "\u001b[34m[2021-10-21 19:27:42.153 algo-1:26 INFO hook.py:591] name:distilbert.transformer.layer.2.ffn.lin2.weight count_params:2359296\u001b[0m\n",
      "\u001b[34m[2021-10-21 19:27:42.153 algo-1:26 INFO hook.py:591] name:distilbert.transformer.layer.2.ffn.lin2.bias count_params:768\u001b[0m\n",
      "\u001b[34m[2021-10-21 19:27:42.153 algo-1:26 INFO hook.py:591] name:distilbert.transformer.layer.2.output_layer_norm.weight count_params:768\u001b[0m\n",
      "\u001b[34m[2021-10-21 19:27:42.153 algo-1:26 INFO hook.py:591] name:distilbert.transformer.layer.2.output_layer_norm.bias count_params:768\u001b[0m\n",
      "\u001b[34m[2021-10-21 19:27:42.153 algo-1:26 INFO hook.py:591] name:distilbert.transformer.layer.3.attention.q_lin.weight count_params:589824\u001b[0m\n",
      "\u001b[34m[2021-10-21 19:27:42.153 algo-1:26 INFO hook.py:591] name:distilbert.transformer.layer.3.attention.q_lin.bias count_params:768\u001b[0m\n",
      "\u001b[34m[2021-10-21 19:27:42.154 algo-1:26 INFO hook.py:591] name:distilbert.transformer.layer.3.attention.k_lin.weight count_params:589824\u001b[0m\n",
      "\u001b[34m[2021-10-21 19:27:42.154 algo-1:26 INFO hook.py:591] name:distilbert.transformer.layer.3.attention.k_lin.bias count_params:768\u001b[0m\n",
      "\u001b[34m[2021-10-21 19:27:42.154 algo-1:26 INFO hook.py:591] name:distilbert.transformer.layer.3.attention.v_lin.weight count_params:589824\u001b[0m\n",
      "\u001b[34m[2021-10-21 19:27:42.154 algo-1:26 INFO hook.py:591] name:distilbert.transformer.layer.3.attention.v_lin.bias count_params:768\u001b[0m\n",
      "\u001b[34m[2021-10-21 19:27:42.154 algo-1:26 INFO hook.py:591] name:distilbert.transformer.layer.3.attention.out_lin.weight count_params:589824\u001b[0m\n",
      "\u001b[34m[2021-10-21 19:27:42.154 algo-1:26 INFO hook.py:591] name:distilbert.transformer.layer.3.attention.out_lin.bias count_params:768\u001b[0m\n",
      "\u001b[34m[2021-10-21 19:27:42.154 algo-1:26 INFO hook.py:591] name:distilbert.transformer.layer.3.sa_layer_norm.weight count_params:768\u001b[0m\n",
      "\u001b[34m[2021-10-21 19:27:42.154 algo-1:26 INFO hook.py:591] name:distilbert.transformer.layer.3.sa_layer_norm.bias count_params:768\u001b[0m\n",
      "\u001b[34m[2021-10-21 19:27:42.154 algo-1:26 INFO hook.py:591] name:distilbert.transformer.layer.3.ffn.lin1.weight count_params:2359296\u001b[0m\n",
      "\u001b[34m[2021-10-21 19:27:42.154 algo-1:26 INFO hook.py:591] name:distilbert.transformer.layer.3.ffn.lin1.bias count_params:3072\u001b[0m\n",
      "\u001b[34m[2021-10-21 19:27:42.155 algo-1:26 INFO hook.py:591] name:distilbert.transformer.layer.3.ffn.lin2.weight count_params:2359296\u001b[0m\n",
      "\u001b[34m[2021-10-21 19:27:42.155 algo-1:26 INFO hook.py:591] name:distilbert.transformer.layer.3.ffn.lin2.bias count_params:768\u001b[0m\n",
      "\u001b[34m[2021-10-21 19:27:42.155 algo-1:26 INFO hook.py:591] name:distilbert.transformer.layer.3.output_layer_norm.weight count_params:768\u001b[0m\n",
      "\u001b[34m[2021-10-21 19:27:42.155 algo-1:26 INFO hook.py:591] name:distilbert.transformer.layer.3.output_layer_norm.bias count_params:768\u001b[0m\n",
      "\u001b[34m[2021-10-21 19:27:42.155 algo-1:26 INFO hook.py:591] name:distilbert.transformer.layer.4.attention.q_lin.weight count_params:589824\u001b[0m\n",
      "\u001b[34m[2021-10-21 19:27:42.155 algo-1:26 INFO hook.py:591] name:distilbert.transformer.layer.4.attention.q_lin.bias count_params:768\u001b[0m\n",
      "\u001b[34m[2021-10-21 19:27:42.155 algo-1:26 INFO hook.py:591] name:distilbert.transformer.layer.4.attention.k_lin.weight count_params:589824\u001b[0m\n",
      "\u001b[34m[2021-10-21 19:27:42.156 algo-1:26 INFO hook.py:591] name:distilbert.transformer.layer.4.attention.k_lin.bias count_params:768\u001b[0m\n",
      "\u001b[34m[2021-10-21 19:27:42.156 algo-1:26 INFO hook.py:591] name:distilbert.transformer.layer.4.attention.v_lin.weight count_params:589824\u001b[0m\n",
      "\u001b[34m[2021-10-21 19:27:42.156 algo-1:26 INFO hook.py:591] name:distilbert.transformer.layer.4.attention.v_lin.bias count_params:768\u001b[0m\n",
      "\u001b[34m[2021-10-21 19:27:42.156 algo-1:26 INFO hook.py:591] name:distilbert.transformer.layer.4.attention.out_lin.weight count_params:589824\u001b[0m\n",
      "\u001b[34m[2021-10-21 19:27:42.156 algo-1:26 INFO hook.py:591] name:distilbert.transformer.layer.4.attention.out_lin.bias count_params:768\u001b[0m\n",
      "\u001b[34m[2021-10-21 19:27:42.156 algo-1:26 INFO hook.py:591] name:distilbert.transformer.layer.4.sa_layer_norm.weight count_params:768\u001b[0m\n",
      "\u001b[34m[2021-10-21 19:27:42.156 algo-1:26 INFO hook.py:591] name:distilbert.transformer.layer.4.sa_layer_norm.bias count_params:768\u001b[0m\n",
      "\u001b[34m[2021-10-21 19:27:42.157 algo-1:26 INFO hook.py:591] name:distilbert.transformer.layer.4.ffn.lin1.weight count_params:2359296\u001b[0m\n",
      "\u001b[34m[2021-10-21 19:27:42.157 algo-1:26 INFO hook.py:591] name:distilbert.transformer.layer.4.ffn.lin1.bias count_params:3072\u001b[0m\n",
      "\u001b[34m[2021-10-21 19:27:42.157 algo-1:26 INFO hook.py:591] name:distilbert.transformer.layer.4.ffn.lin2.weight count_params:2359296\u001b[0m\n",
      "\u001b[34m[2021-10-21 19:27:42.157 algo-1:26 INFO hook.py:591] name:distilbert.transformer.layer.4.ffn.lin2.bias count_params:768\u001b[0m\n",
      "\u001b[34m[2021-10-21 19:27:42.157 algo-1:26 INFO hook.py:591] name:distilbert.transformer.layer.4.output_layer_norm.weight count_params:768\u001b[0m\n",
      "\u001b[34m[2021-10-21 19:27:42.157 algo-1:26 INFO hook.py:591] name:distilbert.transformer.layer.4.output_layer_norm.bias count_params:768\u001b[0m\n",
      "\u001b[34m[2021-10-21 19:27:42.157 algo-1:26 INFO hook.py:591] name:distilbert.transformer.layer.5.attention.q_lin.weight count_params:589824\u001b[0m\n",
      "\u001b[34m[2021-10-21 19:27:42.157 algo-1:26 INFO hook.py:591] name:distilbert.transformer.layer.5.attention.q_lin.bias count_params:768\u001b[0m\n",
      "\u001b[34m[2021-10-21 19:27:42.157 algo-1:26 INFO hook.py:591] name:distilbert.transformer.layer.5.attention.k_lin.weight count_params:589824\u001b[0m\n",
      "\u001b[34m[2021-10-21 19:27:42.158 algo-1:26 INFO hook.py:591] name:distilbert.transformer.layer.5.attention.k_lin.bias count_params:768\u001b[0m\n",
      "\u001b[34m[2021-10-21 19:27:42.158 algo-1:26 INFO hook.py:591] name:distilbert.transformer.layer.5.attention.v_lin.weight count_params:589824\u001b[0m\n",
      "\u001b[34m[2021-10-21 19:27:42.158 algo-1:26 INFO hook.py:591] name:distilbert.transformer.layer.5.attention.v_lin.bias count_params:768\u001b[0m\n",
      "\u001b[34m[2021-10-21 19:27:42.158 algo-1:26 INFO hook.py:591] name:distilbert.transformer.layer.5.attention.out_lin.weight count_params:589824\u001b[0m\n",
      "\u001b[34m[2021-10-21 19:27:42.158 algo-1:26 INFO hook.py:591] name:distilbert.transformer.layer.5.attention.out_lin.bias count_params:768\u001b[0m\n",
      "\u001b[34m[2021-10-21 19:27:42.158 algo-1:26 INFO hook.py:591] name:distilbert.transformer.layer.5.sa_layer_norm.weight count_params:768\u001b[0m\n",
      "\u001b[34m[2021-10-21 19:27:42.158 algo-1:26 INFO hook.py:591] name:distilbert.transformer.layer.5.sa_layer_norm.bias count_params:768\u001b[0m\n",
      "\u001b[34m[2021-10-21 19:27:42.158 algo-1:26 INFO hook.py:591] name:distilbert.transformer.layer.5.ffn.lin1.weight count_params:2359296\u001b[0m\n",
      "\u001b[34m[2021-10-21 19:27:42.158 algo-1:26 INFO hook.py:591] name:distilbert.transformer.layer.5.ffn.lin1.bias count_params:3072\u001b[0m\n",
      "\u001b[34m[2021-10-21 19:27:42.158 algo-1:26 INFO hook.py:591] name:distilbert.transformer.layer.5.ffn.lin2.weight count_params:2359296\u001b[0m\n",
      "\u001b[34m[2021-10-21 19:27:42.159 algo-1:26 INFO hook.py:591] name:distilbert.transformer.layer.5.ffn.lin2.bias count_params:768\u001b[0m\n",
      "\u001b[34m[2021-10-21 19:27:42.159 algo-1:26 INFO hook.py:591] name:distilbert.transformer.layer.5.output_layer_norm.weight count_params:768\u001b[0m\n",
      "\u001b[34m[2021-10-21 19:27:42.159 algo-1:26 INFO hook.py:591] name:distilbert.transformer.layer.5.output_layer_norm.bias count_params:768\u001b[0m\n",
      "\u001b[34m[2021-10-21 19:27:42.159 algo-1:26 INFO hook.py:591] name:pre_classifier.weight count_params:589824\u001b[0m\n",
      "\u001b[34m[2021-10-21 19:27:42.159 algo-1:26 INFO hook.py:591] name:pre_classifier.bias count_params:768\u001b[0m\n",
      "\u001b[34m[2021-10-21 19:27:42.159 algo-1:26 INFO hook.py:591] name:classifier.weight count_params:59136\u001b[0m\n",
      "\u001b[34m[2021-10-21 19:27:42.159 algo-1:26 INFO hook.py:591] name:classifier.bias count_params:77\u001b[0m\n",
      "\u001b[34m[2021-10-21 19:27:42.159 algo-1:26 INFO hook.py:593] Total Trainable Params: 67012685\u001b[0m\n",
      "\u001b[34m[2021-10-21 19:27:42.159 algo-1:26 INFO hook.py:425] Monitoring the collections: losses\u001b[0m\n",
      "\u001b[34m[2021-10-21 19:27:42.163 algo-1:26 INFO hook.py:488] Hook is writing from the hook with pid: 26\n",
      "\u001b[0m\n",
      "\u001b[34m2021-10-21 19:30:55,842 - /opt/conda/lib/python3.6/site-packages/datasets/metric.py - INFO - Removing /root/.cache/huggingface/metrics/accuracy/default/default_experiment-1-0.arrow\u001b[0m\n",
      "\u001b[34m{'eval_loss': 0.6657909750938416, 'eval_accuracy': 0.8074675324675324, 'eval_runtime': 15.8592, 'eval_samples_per_second': 194.209, 'epoch': 1.0}\u001b[0m\n",
      "\u001b[34m{'loss': 1.7929, 'learning_rate': 0.0003, 'epoch': 1.6}\u001b[0m\n",
      "\u001b[34m2021-10-21 19:34:11,002 - /opt/conda/lib/python3.6/site-packages/datasets/metric.py - INFO - Removing /root/.cache/huggingface/metrics/accuracy/default/default_experiment-1-0.arrow\u001b[0m\n",
      "\u001b[34m{'eval_loss': 0.49981966614723206, 'eval_accuracy': 0.8672077922077922, 'eval_runtime': 15.8611, 'eval_samples_per_second': 194.185, 'epoch': 2.0}\u001b[0m\n",
      "\u001b[34m2021-10-21 19:37:23,373 - /opt/conda/lib/python3.6/site-packages/datasets/metric.py - INFO - Removing /root/.cache/huggingface/metrics/accuracy/default/default_experiment-1-0.arrow\u001b[0m\n",
      "\u001b[34m{'eval_loss': 0.29813727736473083, 'eval_accuracy': 0.9224025974025974, 'eval_runtime': 15.8435, 'eval_samples_per_second': 194.401, 'epoch': 3.0}\u001b[0m\n",
      "\u001b[34m{'train_runtime': 582.0425, 'train_samples_per_second': 1.613, 'epoch': 3.0}\u001b[0m\n",
      "\u001b[34m**********   Training Complete   **********\u001b[0m\n",
      "\u001b[34m2021-10-21 19:37:39,472 - /opt/conda/lib/python3.6/site-packages/datasets/metric.py - INFO - Removing /root/.cache/huggingface/metrics/accuracy/default/default_experiment-1-0.arrow\u001b[0m\n",
      "\u001b[34m***** Eval results *****\u001b[0m\n",
      "\u001b[34m#015Downloading:   0%|          | 0.00/1.36k [00:00<?, ?B/s]#015Downloading: 2.92kB [00:00, 2.39MB/s]                   \u001b[0m\n",
      "\u001b[34m#015Downloading:   0%|          | 0.00/483 [00:00<?, ?B/s]#015Downloading: 100%|██████████| 483/483 [00:00<00:00, 610kB/s]\u001b[0m\n",
      "\u001b[34m#015Downloading:   0%|          | 0.00/268M [00:00<?, ?B/s]#015Downloading:   1%|▏         | 3.66M/268M [00:00<00:07, 36.6MB/s]#015Downloading:   3%|▎         | 7.34M/268M [00:00<00:07, 36.6MB/s]#015Downloading:   4%|▎         | 10.0M/268M [00:00<00:07, 32.9MB/s]#015Downloading:   5%|▌         | 14.4M/268M [00:00<00:07, 35.5MB/s]#015Downloading:   7%|▋         | 17.9M/268M [00:00<00:07, 35.6MB/s]#015Downloading:   8%|▊         | 21.1M/268M [00:00<00:07, 34.1MB/s]#015Downloading:   9%|▉         | 25.0M/268M [00:00<00:06, 35.6MB/s]#015Downloading:  11%|█         | 28.7M/268M [00:00<00:06, 36.1MB/s]#015Downloading:  12%|█▏        | 33.1M/268M [00:00<00:06, 38.1MB/s]#015Downloading:  14%|█▍        | 36.8M/268M [00:01<00:06, 36.6MB/s]#015Downloading:  15%|█▌        | 41.2M/268M [00:01<00:05, 38.3MB/s]#015Downloading:  17%|█▋        | 45.6M/268M [00:01<00:05, 40.0MB/s]#015Downloading:  19%|█▊        | 49.7M/268M [00:01<00:05, 39.8MB/s]#015Downloading:  20%|██        | 53.8M/268M [00:01<00:05, 40.3MB/s]#015Downloading:  22%|██▏       | 57.8M/268M [00:01<00:05, 39.2MB/s]#015Downloading:  23%|██▎       | 61.7M/268M [00:01<00:05, 36.1MB/s]#015Downloading:  24%|██▍       | 65.4M/268M [00:01<00:06, 33.6MB/s]#015Downloading:  26%|██▌       | 68.8M/268M [00:01<00:06, 31.2MB/s]#015Downloading:  27%|██▋       | 72.0M/268M [00:02<00:07, 27.0MB/s]#015Downloading:  28%|██▊       | 76.2M/268M [00:02<00:06, 30.2MB/s]#015Downloading:  30%|███       | 80.9M/268M [00:02<00:05, 33.8MB/s]#015Downloading:  32%|███▏      | 85.0M/268M [00:02<00:05, 35.6MB/s]#015Downloading:  33%|███▎      | 88.8M/268M [00:02<00:05, 32.4MB/s]#015Downloading:  35%|███▍      | 93.1M/268M [00:02<00:05, 35.0MB/s]#015Downloading:  36%|███▌      | 96.8M/268M [00:02<00:05, 30.9MB/s]#015Downloading:  38%|███▊      | 101M/268M [00:02<00:04, 34.1MB/s] #015Downloading:  40%|███▉      | 106M/268M [00:02<00:04, 37.0MB/s]#015Downloading:  41%|████▏     | 111M/268M [00:03<00:03, 39.8MB/s]#015Downloading:  43%|████▎     | 115M/268M [00:03<00:04, 34.1MB/s]#015Downloading:  44%|████▍     | 119M/268M [00:03<00:04, 35.8MB/s]#015Downloading:  46%|████▌     | 123M/268M [00:03<00:03, 37.4MB/s]#015Downloading:  48%|████▊     | 128M/268M [00:03<00:03, 40.0MB/s]#015Downloading:  49%|████▉     | 132M/268M [00:03<00:04, 33.6MB/s]#015Downloading:  51%|█████     | 136M/268M [00:03<00:03, 33.8MB/s]#015Downloading:  52%|█████▏    | 140M/268M [00:03<00:03, 36.2MB/s]#015Downloading:  54%|█████▍    | 145M/268M [00:04<00:03, 38.2MB/s]#015Downloading:  55%|█████▌    | 149M/268M [00:04<00:03, 38.2MB/s]#015Downloading:  57%|█████▋    | 153M/268M [00:04<00:03, 34.8MB/s]#015Downloading:  59%|█████▊    | 157M/268M [00:04<00:03, 36.6MB/s]#015Downloading:  60%|█████▉    | 161M/268M [00:04<00:02, 36.7MB/s]#015Downloading:  61%|██████▏   | 164M/268M [00:04<00:02, 37.0MB/s]#015Downloading:  63%|██████▎   | 168M/268M [00:04<00:02, 37.0MB/s]#015Downloading:  64%|██████▍   | 172M/268M [00:04<00:02, 35.8MB/s]#015Downloading:  65%|██████▌   | 175M/268M [00:04<00:03, 28.4MB/s]#015Downloading:  67%|██████▋   | 179M/268M [00:05<00:03, 26.9MB/s]#015Downloading:  68%|██████▊   | 182M/268M [00:05<00:02, 28.9MB/s]#015Downloading:  69%|██████▉   | 186M/268M [00:05<00:03, 23.7MB/s]#015Downloading:  71%|███████   | 190M/268M [00:05<00:02, 27.9MB/s]#015Downloading:  72%|███████▏  | 194M/268M [00:05<00:03, 24.3MB/s]#015Downloading:  73%|███████▎  | 196M/268M [00:05<00:03, 23.5MB/s]#015Downloading:  75%|███████▍  | 200M/268M [00:05<00:02, 26.3MB/s]#015Downloading:  76%|███████▌  | 204M/268M [00:05<00:02, 29.2MB/s]#015Downloading:  77%|███████▋  | 207M/268M [00:06<00:01, 30.5MB/s]#015Downloading:  79%|███████▊  | 211M/268M [00:06<00:01, 30.1MB/s]#015Downloading:  80%|████████  | 215M/268M [00:06<00:01, 33.2MB/s]#015Downloading:  82%|████████▏ | 219M/268M [00:06<00:01, 35.7MB/s]#015Downloading:  83%|████████▎ | 223M/268M [00:06<00:01, 34.9MB/s]#015Downloading:  85%|████████▍ | 227M/268M [00:06<00:01, 34.7MB/s]#015Downloading:  86%|████████▌ | 230M/268M [00:06<00:01, 35.5MB/s]#015Downloading:  88%|████████▊ | 235M/268M [00:06<00:00, 36.9MB/s]#015Downloading:  89%|████████▉ | 239M/268M [00:06<00:00, 37.7MB/s]#015Downloading:  90%|█████████ | 242M/268M [00:07<00:00, 37.7MB/s]#015Downloading:  92%|█████████▏| 247M/268M [00:07<00:00, 39.2MB/s]#015Downloading:  94%|█████████▎| 251M/268M [00:07<00:00, 39.3MB/s]#015Downloading:  95%|█████████▌| 255M/268M [00:07<00:00, 37.4MB/s]#015Downloading:  97%|█████████▋| 259M/268M [00:07<00:00, 38.5MB/s]#015Downloading:  98%|█████████▊| 263M/268M [00:07<00:00, 39.2MB/s]#015Downloading: 100%|█████████▉| 267M/268M [00:07<00:00, 37.8MB/s]#015Downloading: 100%|██████████| 268M/268M [00:07<00:00, 34.8MB/s]\u001b[0m\n",
      "\u001b[34mSome weights of the model checkpoint at distilbert-base-uncased were not used when initializing DistilBertForSequenceClassification: ['vocab_transform.bias', 'vocab_layer_norm.bias', 'vocab_layer_norm.weight', 'vocab_projector.weight', 'vocab_transform.weight', 'vocab_projector.bias']\u001b[0m\n",
      "\u001b[34m- This IS expected if you are initializing DistilBertForSequenceClassification from the checkpoint of a model trained on another task or with another architecture (e.g. initializing a BertForSequenceClassification model from a BertForPreTraining model).\u001b[0m\n",
      "\u001b[34m- This IS NOT expected if you are initializing DistilBertForSequenceClassification from the checkpoint of a model that you expect to be exactly identical (initializing a BertForSequenceClassification model from a BertForSequenceClassification model).\u001b[0m\n",
      "\u001b[34mSome weights of DistilBertForSequenceClassification were not initialized from the model checkpoint at distilbert-base-uncased and are newly initialized: ['classifier.weight', 'classifier.bias', 'pre_classifier.weight', 'pre_classifier.bias']\u001b[0m\n",
      "\u001b[34mYou should probably TRAIN this model on a down-stream task to be able to use it for predictions and inference.\u001b[0m\n",
      "\u001b[34m#015Downloading:   0%|          | 0.00/232k [00:00<?, ?B/s]#015Downloading: 100%|██████████| 232k/232k [00:00<00:00, 30.4MB/s]\u001b[0m\n",
      "\u001b[34m#015Downloading:   0%|          | 0.00/466k [00:00<?, ?B/s]#015Downloading: 100%|██████████| 466k/466k [00:00<00:00, 28.1MB/s]\u001b[0m\n",
      "\u001b[34m#015Downloading:   0%|          | 0.00/28.0 [00:00<?, ?B/s]#015Downloading: 100%|██████████| 28.0/28.0 [00:00<00:00, 40.8kB/s]\u001b[0m\n",
      "\u001b[34m#015  0%|          | 0/939 [00:00<?, ?it/s]#015  0%|          | 1/939 [00:03<48:49,  3.12s/it]#015  0%|          | 2/939 [00:03<36:46,  2.35s/it]#015  0%|          | 3/939 [00:04<28:19,  1.82s/it]#015  0%|          | 4/939 [00:04<22:33,  1.45s/it]#015  1%|          | 5/939 [00:05<18:18,  1.18s/it]#015  1%|          | 6/939 [00:05<15:24,  1.01it/s]#015  1%|          | 7/939 [00:06<13:25,  1.16it/s]#015  1%|          | 8/939 [00:07<11:59,  1.29it/s]#015  1%|          | 9/939 [00:07<10:58,  1.41it/s]#015  1%|          | 10/939 [00:08<10:17,  1.51it/s]#015  1%|          | 11/939 [00:08<09:47,  1.58it/s]#015  1%|▏         | 12/939 [00:09<09:24,  1.64it/s]#015  1%|▏         | 13/939 [00:09<09:06,  1.69it/s]#015  1%|▏         | 14/939 [00:10<08:55,  1.73it/s]#015  2%|▏         | 15/939 [00:10<08:46,  1.76it/s]#015  2%|▏         | 16/939 [00:11<08:42,  1.77it/s]#015  2%|▏         | 17/939 [00:12<08:38,  1.78it/s]#015  2%|▏         | 18/939 [00:12<08:49,  1.74it/s]#015  2%|▏         | 19/939 [00:13<10:09,  1.51it/s]#015  2%|▏         | 20/939 [00:14<10:44,  1.43it/s]#015  2%|▏         | 21/939 [00:14<10:05,  1.52it/s]#015  2%|▏         | 22/939 [00:15<09:36,  1.59it/s]#015  2%|▏         | 23/939 [00:15<09:14,  1.65it/s]#015  3%|▎         | 24/939 [00:16<08:58,  1.70it/s]#015  3%|▎         | 25/939 [00:17<08:48,  1.73it/s]#015  3%|▎         | 26/939 [00:17<08:40,  1.76it/s]#015  3%|▎         | 27/939 [00:18<08:35,  1.77it/s]#015  3%|▎         | 28/939 [00:18<08:30,  1.79it/s]#015  3%|▎         | 29/939 [00:19<08:27,  1.79it/s]#015  3%|▎         | 30/939 [00:19<08:27,  1.79it/s]#015  3%|▎         | 31/939 [00:20<08:26,  1.79it/s]#015  3%|▎         | 32/939 [00:20<08:24,  1.80it/s]#015  4%|▎         | 33/939 [00:21<08:22,  1.80it/s]#015  4%|▎         | 34/939 [00:22<08:21,  1.80it/s]#015  4%|▎         | 35/939 [00:22<08:20,  1.81it/s]#015  4%|▍         | 36/939 [00:23<08:25,  1.79it/s]#015  4%|▍         | 37/939 [00:23<08:27,  1.78it/s]#015  4%|▍         | 38/939 [00:24<08:21,  1.79it/s]#015  4%|▍         | 39/939 [00:24<08:21,  1.79it/s]#015  4%|▍         | 40/939 [00:25<08:25,  1.78it/s]#015  4%|▍         | 41/939 [00:26<08:41,  1.72it/s]#015  4%|▍         | 42/939 [00:26<08:34,  1.74it/s]#015  5%|▍         | 43/939 [00:27<08:27,  1.76it/s]#015  5%|▍         | 44/939 [00:27<08:22,  1.78it/s]#015  5%|▍         | 45/939 [00:28<08:17,  1.80it/s]#015  5%|▍         | 46/939 [00:28<08:14,  1.81it/s]#015  5%|▌         | 47/939 [00:29<08:13,  1.81it/s]#015  5%|▌         | 48/939 [00:29<08:13,  1.81it/s]#015  5%|▌         | 49/939 [00:30<08:13,  1.80it/s]#015  5%|▌         | 50/939 [00:31<08:13,  1.80it/s]#015  5%|▌         | 51/939 [00:31<08:13,  1.80it/s]#015  6%|▌         | 52/939 [00:32<08:20,  1.77it/s]#015  6%|▌         | 53/939 [00:32<08:19,  1.77it/s]#015  6%|▌         | 54/939 [00:33<08:17,  1.78it/s]#015  6%|▌         | 55/939 [00:33<08:12,  1.79it/s]#015  6%|▌         | 56/939 [00:34<08:08,  1.81it/s]#015  6%|▌         | 57/939 [00:34<08:07,  1.81it/s]#015  6%|▌         | 58/939 [00:35<08:06,  1.81it/s]#015  6%|▋         | 59/939 [00:36<08:15,  1.78it/s]#015  6%|▋         | 60/939 [00:36<08:12,  1.78it/s]#015  6%|▋         | 61/939 [00:37<08:10,  1.79it/s]#015  7%|▋         | 62/939 [00:37<08:09,  1.79it/s]#015  7%|▋         | 63/939 [00:38<08:08,  1.79it/s]#015  7%|▋         | 64/939 [00:38<08:19,  1.75it/s]#015  7%|▋         | 65/939 [00:39<08:14,  1.77it/s]#015  7%|▋         | 66/939 [00:39<08:09,  1.78it/s]#015  7%|▋         | 67/939 [00:40<08:05,  1.80it/s]#015  7%|▋         | 68/939 [00:41<08:01,  1.81it/s]#015  7%|▋         | 69/939 [00:41<08:01,  1.81it/s]#015  7%|▋         | 70/939 [00:42<08:02,  1.80it/s]#015  8%|▊         | 71/939 [00:42<07:59,  1.81it/s]#015  8%|▊         | 72/939 [00:43<07:59,  1.81it/s]#015  8%|▊         | 73/939 [00:43<07:58,  1.81it/s]#015  8%|▊         | 74/939 [00:44<07:57,  1.81it/s]#015  8%|▊         | 75/939 [00:44<08:02,  1.79it/s]#015  8%|▊         | 76/939 [00:45<07:59,  1.80it/s]#015  8%|▊         | 77/939 [00:46<07:59,  1.80it/s]#015  8%|▊         | 78/939 [00:46<07:58,  1.80it/s]#015  8%|▊         | 79/939 [00:47<07:55,  1.81it/s]#015  9%|▊         | 80/939 [00:47<07:57,  1.80it/s]#015  9%|▊         | 81/939 [00:48<07:55,  1.80it/s]#015  9%|▊         | 82/939 [00:48<07:54,  1.81it/s]#015  9%|▉         | 83/939 [00:49<07:54,  1.80it/s]#015  9%|▉         | 84/939 [00:49<07:57,  1.79it/s]#015  9%|▉         | 85/939 [00:50<07:56,  1.79it/s]#015  9%|▉         | 86/939 [00:51<07:55,  1.79it/s]#015  9%|▉         | 87/939 [00:51<07:53,  1.80it/s]#015  9%|▉         | 88/939 [00:52<07:58,  1.78it/s]#015  9%|▉         | 89/939 [00:52<07:55,  1.79it/s]#015 10%|▉         | 90/939 [00:53<07:51,  1.80it/s]#015 10%|▉         | 91/939 [00:53<07:50,  1.80it/s]#015 10%|▉         | 92/939 [00:54<07:48,  1.81it/s]#015 10%|▉         | 93/939 [00:54<07:53,  1.79it/s]#015 10%|█         | 94/939 [00:55<07:52,  1.79it/s]#015 10%|█         | 95/939 [00:56<07:51,  1.79it/s]#015 10%|█         | 96/939 [00:56<07:51,  1.79it/s]#015 10%|█         | 97/939 [00:57<07:50,  1.79it/s]#015 10%|█         | 98/939 [00:57<07:49,  1.79it/s]#015 11%|█         | 99/939 [00:58<08:01,  1.74it/s]#015 11%|█         | 100/939 [00:58<07:57,  1.76it/s]#015 11%|█         | 101/939 [00:59<07:51,  1.78it/s]#015 11%|█         | 102/939 [01:00<07:49,  1.78it/s]#015 11%|█         | 103/939 [01:00<07:48,  1.78it/s]#015 11%|█         | 104/939 [01:01<07:47,  1.78it/s]#015 11%|█         | 105/939 [01:01<07:45,  1.79it/s]#015 11%|█▏        | 106/939 [01:02<07:45,  1.79it/s]#015 11%|█▏        | 107/939 [01:02<07:43,  1.79it/s]#015 12%|█▏        | 108/939 [01:03<07:42,  1.79it/s]#015 12%|█▏        | 109/939 [01:03<07:40,  1.80it/s]#015 12%|█▏        | 110/939 [01:04<07:39,  1.81it/s]#015 12%|█▏        | 111/939 [01:05<07:38,  1.81it/s]#015 12%|█▏        | 112/939 [01:05<07:38,  1.80it/s]#015 12%|█▏        | 113/939 [01:06<07:38,  1.80it/s]#015 12%|█▏        | 114/939 [01:06<07:50,  1.75it/s]#015 12%|█▏        | 115/939 [01:07<07:47,  1.76it/s]#015 12%|█▏        | 116/939 [01:07<07:43,  1.78it/s]#015 12%|█▏        | 117/939 [01:08<07:39,  1.79it/s]#015 13%|█▎        | 118/939 [01:08<07:36,  1.80it/s]#015 13%|█▎        | 119/939 [01:09<07:34,  1.80it/s]#015 13%|█▎        | 120/939 [01:10<07:35,  1.80it/s]#015 13%|█▎        | 121/939 [01:10<07:35,  1.80it/s]#015 13%|█▎        | 122/939 [01:11<07:33,  1.80it/s]#015 13%|█▎        | 123/939 [01:11<07:34,  1.79it/s]#015 13%|█▎        | 124/939 [01:12<07:32,  1.80it/s]#015 13%|█▎        | 125/939 [01:12<07:33,  1.80it/s]#015 13%|█▎        | 126/939 [01:13<07:33,  1.79it/s]#015 14%|█▎        | 127/939 [01:13<07:32,  1.79it/s]#015 14%|█▎        | 128/939 [01:14<07:40,  1.76it/s]#015 14%|█▎        | 129/939 [01:15<07:37,  1.77it/s]#015 14%|█▍        | 130/939 [01:15<07:32,  1.79it/s]#015 14%|█▍        | 131/939 [01:16<07:31,  1.79it/s]#015 14%|█▍        | 132/939 [01:16<07:30,  1.79it/s]#015 14%|█▍        | 133/939 [01:17<07:30,  1.79it/s]#015 14%|█▍        | 134/939 [01:17<07:32,  1.78it/s]#015 14%|█▍        | 135/939 [01:18<07:31,  1.78it/s]#015 14%|█▍        | 136/939 [01:19<07:30,  1.78it/s]#015 15%|█▍        | 137/939 [01:19<07:28,  1.79it/s]#015 15%|█▍        | 138/939 [01:20<07:34,  1.76it/s]#015 15%|█▍        | 139/939 [01:20<07:43,  1.73it/s]#015 15%|█▍        | 140/939 [01:21<07:41,  1.73it/s]#015 15%|█▌        | 141/939 [01:21<07:37,  1.74it/s]#015 15%|█▌        | 142/939 [01:22<07:37,  1.74it/s]#015 15%|█▌        | 143/939 [01:23<07:35,  1.75it/s]#015 15%|█▌        | 144/939 [01:23<07:31,  1.76it/s]#015 15%|█▌        | 145/939 [01:24<07:27,  1.77it/s]#015 16%|█▌        | 146/939 [01:24<07:23,  1.79it/s]#015 16%|█▌        | 147/939 [01:25<07:21,  1.79it/s]#015 16%|█▌        | 148/939 [01:25<07:20,  1.80it/s]#015 16%|█▌        | 149/939 [01:26<07:18,  1.80it/s]#015 16%|█▌        | 150/939 [01:26<07:18,  1.80it/s]#015 16%|█▌        | 151/939 [01:27<07:17,  1.80it/s]#015 16%|█▌        | 152/939 [01:28<07:17,  1.80it/s]#015 16%|█▋        | 153/939 [01:28<07:16,  1.80it/s]#015 16%|█▋        | 154/939 [01:29<07:16,  1.80it/s]#015 17%|█▋        | 155/939 [01:29<07:15,  1.80it/s]#015 17%|█▋        | 156/939 [01:30<07:16,  1.79it/s]#015 17%|█▋        | 157/939 [01:30<07:19,  1.78it/s]#015 17%|█▋        | 158/939 [01:31<07:17,  1.79it/s]#015 17%|█▋        | 159/939 [01:31<07:14,  1.79it/s]#015 17%|█▋        | 160/939 [01:32<07:14,  1.79it/s]#015 17%|█▋        | 161/939 [01:33<07:17,  1.78it/s]#015 17%|█▋        | 162/939 [01:33<07:16,  1.78it/s]#015 17%|█▋        | 163/939 [01:34<07:17,  1.77it/s]#015 17%|█▋        | 164/939 [01:34<07:14,  1.78it/s]#015 18%|█▊        | 165/939 [01:35<07:16,  1.77it/s]#015 18%|█▊        | 166/939 [01:35<07:18,  1.76it/s]#015 18%|█▊        | 167/939 [01:36<07:18,  1.76it/s]#015 18%|█▊        | 168/939 [01:37<07:15,  1.77it/s]#015 18%|█▊        | 169/939 [01:37<07:27,  1.72it/s]#015 18%|█▊        | 170/939 [01:38<07:20,  1.74it/s]#015 18%|█▊        | 171/939 [01:38<07:15,  1.76it/s]#015 18%|█▊        | 172/939 [01:39<07:12,  1.77it/s]#015 18%|█▊        | 173/939 [01:39<07:11,  1.78it/s]#015 19%|█▊        | 174/939 [01:40<07:08,  1.79it/s]#015 19%|█▊        | 175/939 [01:41<07:10,  1.77it/s]#015 19%|█▊        | 176/939 [01:41<07:09,  1.78it/s]#015 19%|█▉        | 177/939 [01:42<07:08,  1.78it/s]#015 19%|█▉        | 178/939 [01:42<07:07,  1.78it/s]#015 19%|█▉        | 179/939 [01:43<07:08,  1.77it/s]#015 19%|█▉        | 180/939 [01:43<07:07,  1.78it/s]#015 19%|█▉        | 181/939 [01:44<07:05,  1.78it/s]#015 19%|█▉        | 182/939 [01:44<07:04,  1.78it/s]#015 19%|█▉        | 183/939 [01:45<07:02,  1.79it/s]#015 20%|█▉        | 184/939 [01:46<07:09,  1.76it/s]#015 20%|█▉        | 185/939 [01:46<07:08,  1.76it/s]#015 20%|█▉        | 186/939 [01:47<07:03,  1.78it/s]#015 20%|█▉        | 187/939 [01:47<07:00,  1.79it/s]#015 20%|██        | 188/939 [01:48<07:00,  1.79it/s]#015 20%|██        | 189/939 [01:48<07:07,  1.75it/s]#015 20%|██        | 190/939 [01:49<07:06,  1.76it/s]#015 20%|██        | 191/939 [01:50<07:01,  1.77it/s]#015 20%|██        | 192/939 [01:50<06:59,  1.78it/s]#015 21%|██        | 193/939 [01:51<06:59,  1.78it/s]#015 21%|██        | 194/939 [01:51<06:57,  1.78it/s]#015 21%|██        | 195/939 [01:52<06:58,  1.78it/s]#015 21%|██        | 196/939 [01:52<06:55,  1.79it/s]#015 21%|██        | 197/939 [01:53<06:56,  1.78it/s]#015 21%|██        | 198/939 [01:53<06:55,  1.79it/s]#015 21%|██        | 199/939 [01:54<06:53,  1.79it/s]#015 21%|██▏       | 200/939 [01:55<06:52,  1.79it/s]#015 21%|██▏       | 201/939 [01:55<06:53,  1.79it/s]#015 22%|██▏       | 202/939 [01:56<06:53,  1.78it/s]#015 22%|██▏       | 203/939 [01:56<06:52,  1.79it/s]#015 22%|██▏       | 204/939 [01:57<06:51,  1.79it/s]#015 22%|██▏       | 205/939 [01:57<06:51,  1.78it/s]#015 22%|██▏       | 206/939 [01:58<06:52,  1.78it/s]#015 22%|██▏       | 207/939 [01:59<06:51,  1.78it/s]#015 22%|██▏       | 208/939 [01:59<06:48,  1.79it/s]#015 22%|██▏       | 209/939 [02:00<06:59,  1.74it/s]#015 22%|██▏       | 210/939 [02:00<06:54,  1.76it/s]#015 22%|██▏       | 211/939 [02:01<06:49,  1.78it/s]#015 23%|██▎       | 212/939 [02:01<06:47,  1.78it/s]#015 23%|██▎       | 213/939 [02:02<06:46,  1.79it/s]#015 23%|██▎       | 214/939 [02:02<06:45,  1.79it/s]#015 23%|██▎       | 215/939 [02:03<06:44,  1.79it/s]#015 23%|██▎       | 216/939 [02:04<06:44,  1.79it/s]#015 23%|██▎       | 217/939 [02:04<06:42,  1.79it/s]#015 23%|██▎       | 218/939 [02:05<06:41,  1.79it/s]#015 23%|██▎       | 219/939 [02:05<06:42,  1.79it/s]#015 23%|██▎       | 220/939 [02:06<06:41,  1.79it/s]#015 24%|██▎       | 221/939 [02:06<06:40,  1.79it/s]#015 24%|██▎       | 222/939 [02:07<06:39,  1.79it/s]#015 24%|██▎       | 223/939 [02:07<06:36,  1.80it/s]#015 24%|██▍       | 224/939 [02:08<06:35,  1.81it/s]#015 24%|██▍       | 225/939 [02:09<06:38,  1.79it/s]#015 24%|██▍       | 226/939 [02:09<06:39,  1.79it/s]#015 24%|██▍       | 227/939 [02:10<06:50,  1.74it/s]#015 24%|██▍       | 228/939 [02:10<06:47,  1.75it/s]#015 24%|██▍       | 229/939 [02:11<06:42,  1.76it/s]#015 24%|██▍       | 230/939 [02:11<06:41,  1.76it/s]#015 25%|██▍       | 231/939 [02:12<06:39,  1.77it/s]#015 25%|██▍       | 232/939 [02:13<06:37,  1.78it/s]#015 25%|██▍       | 233/939 [02:13<06:34,  1.79it/s]#015 25%|██▍       | 234/939 [02:14<06:33,  1.79it/s]#015 25%|██▌       | 235/939 [02:14<06:40,  1.76it/s]#015 25%|██▌       | 236/939 [02:15<06:37,  1.77it/s]#015 25%|██▌       | 237/939 [02:15<06:36,  1.77it/s]#015 25%|██▌       | 238/939 [02:16<06:39,  1.76it/s]#015 25%|██▌       | 239/939 [02:17<06:37,  1.76it/s]#015 26%|██▌       | 240/939 [02:17<06:34,  1.77it/s]#015 26%|██▌       | 241/939 [02:18<06:32,  1.78it/s]#015 26%|██▌       | 242/939 [02:18<06:40,  1.74it/s]#015 26%|██▌       | 243/939 [02:19<06:38,  1.75it/s]#015 26%|██▌       | 244/939 [02:19<06:34,  1.76it/s]#015 26%|██▌       | 245/939 [02:20<06:31,  1.77it/s]#015 26%|██▌       | 246/939 [02:21<06:36,  1.75it/s]#015 26%|██▋       | 247/939 [02:21<06:31,  1.77it/s]#015 26%|██▋       | 248/939 [02:22<06:29,  1.77it/s]#015 27%|██▋       | 249/939 [02:22<06:29,  1.77it/s]#015 27%|██▋       | 250/939 [02:23<06:28,  1.77it/s]#015 27%|██▋       | 251/939 [02:23<06:31,  1.76it/s]#015 27%|██▋       | 252/939 [02:24<06:27,  1.77it/s]#015 27%|██▋       | 253/939 [02:24<06:31,  1.75it/s]#015 27%|██▋       | 254/939 [02:25<06:32,  1.75it/s]#015 27%|██▋       | 255/939 [02:26<06:36,  1.73it/s]#015 27%|██▋       | 256/939 [02:26<06:40,  1.71it/s]#015 27%|██▋       | 257/939 [02:27<06:44,  1.69it/s]#015 27%|██▋       | 258/939 [02:27<06:39,  1.70it/s]#015 28%|██▊       | 259/939 [02:28<06:34,  1.72it/s]#015 28%|██▊       | 260/939 [02:29<06:29,  1.74it/s]#015 28%|██▊       | 261/939 [02:29<06:25,  1.76it/s]#015 28%|██▊       | 262/939 [02:30<06:25,  1.76it/s]#015 28%|██▊       | 263/939 [02:30<06:22,  1.77it/s]#015 28%|██▊       | 264/939 [02:31<06:21,  1.77it/s]#015 28%|██▊       | 265/939 [02:31<06:19,  1.78it/s]#015 28%|██▊       | 266/939 [02:32<06:15,  1.79it/s]#015 28%|██▊       | 267/939 [02:32<06:15,  1.79it/s]#015 29%|██▊       | 268/939 [02:33<06:14,  1.79it/s]#015 29%|██▊       | 269/939 [02:34<06:15,  1.79it/s]#015 29%|██▉       | 270/939 [02:34<06:14,  1.79it/s]#015 29%|██▉       | 271/939 [02:35<06:14,  1.78it/s]#015 29%|██▉       | 272/939 [02:35<06:14,  1.78it/s]#015 29%|██▉       | 273/939 [02:36<06:12,  1.79it/s]#015 29%|██▉       | 274/939 [02:36<06:09,  1.80it/s]#015 29%|██▉       | 275/939 [02:37<06:09,  1.80it/s]#015 29%|██▉       | 276/939 [02:37<06:07,  1.80it/s]#015 29%|██▉       | 277/939 [02:38<06:07,  1.80it/s]#015 30%|██▉       | 278/939 [02:39<06:08,  1.80it/s]#015 30%|██▉       | 279/939 [02:39<06:08,  1.79it/s]#015 30%|██▉       | 280/939 [02:40<06:06,  1.80it/s]#015 30%|██▉       | 281/939 [02:40<06:10,  1.77it/s]#015 30%|███       | 282/939 [02:41<06:09,  1.78it/s]#015 30%|███       | 283/939 [02:41<06:09,  1.78it/s]#015 30%|███       | 284/939 [02:42<06:09,  1.77it/s]#015 30%|███       | 285/939 [02:43<06:11,  1.76it/s]#015 30%|███       | 286/939 [02:43<06:09,  1.77it/s]#015 31%|███       | 287/939 [02:44<06:08,  1.77it/s]#015 31%|███       | 288/939 [02:44<06:06,  1.78it/s]#015 31%|███       | 289/939 [02:45<06:03,  1.79it/s]#015 31%|███       | 290/939 [02:45<06:04,  1.78it/s]#015 31%|███       | 291/939 [02:46<06:01,  1.79it/s]#015 31%|███       | 292/939 [02:46<06:02,  1.78it/s]#015 31%|███       | 293/939 [02:47<06:01,  1.79it/s]#015 31%|███▏      | 294/939 [02:48<06:01,  1.78it/s]#015 31%|███▏      | 295/939 [02:48<06:02,  1.78it/s]#015 32%|███▏      | 296/939 [02:49<06:04,  1.77it/s]#015 32%|███▏      | 297/939 [02:49<06:06,  1.75it/s]#015 32%|███▏      | 298/939 [02:50<06:15,  1.71it/s]#015 32%|███▏      | 299/939 [02:50<06:07,  1.74it/s]#015 32%|███▏      | 300/939 [02:51<06:02,  1.76it/s]#015 32%|███▏      | 301/939 [02:52<06:00,  1.77it/s]#015 32%|███▏      | 302/939 [02:52<05:58,  1.77it/s]#015 32%|███▏      | 303/939 [02:53<05:58,  1.78it/s]#015 32%|███▏      | 304/939 [02:53<05:55,  1.78it/s]#015 32%|███▏      | 305/939 [0\u001b[0m\n",
      "\u001b[34m2:54<05:57,  1.78it/s]#015 33%|███▎      | 306/939 [02:54<05:54,  1.79it/s]#015 33%|███▎      | 307/939 [02:55<05:54,  1.78it/s]#015 33%|███▎      | 308/939 [02:56<05:54,  1.78it/s]#015 33%|███▎      | 309/939 [02:56<05:53,  1.78it/s]#015 33%|███▎      | 310/939 [02:57<05:53,  1.78it/s]#015 33%|███▎      | 311/939 [02:57<05:50,  1.79it/s]#015 33%|███▎      | 312/939 [02:58<05:50,  1.79it/s]#015 33%|███▎      | 313/939 [02:58<05:15,  1.99it/s]\u001b[0m\n",
      "\u001b[34m#015  0%|          | 0/49 [00:00<?, ?it/s]#033[A\u001b[0m\n",
      "\u001b[34m#015  4%|▍         | 2/49 [00:00<00:07,  6.12it/s]#033[A\u001b[0m\n",
      "\u001b[34m#015  6%|▌         | 3/49 [00:00<00:09,  4.71it/s]#033[A\u001b[0m\n",
      "\u001b[34m#015  8%|▊         | 4/49 [00:00<00:11,  4.05it/s]#033[A\u001b[0m\n",
      "\u001b[34m#015 10%|█         | 5/49 [00:01<00:11,  3.70it/s]#033[A\u001b[0m\n",
      "\u001b[34m#015 12%|█▏        | 6/49 [00:01<00:12,  3.48it/s]#033[A\u001b[0m\n",
      "\u001b[34m#015 14%|█▍        | 7/49 [00:01<00:12,  3.35it/s]#033[A\u001b[0m\n",
      "\u001b[34m#015 16%|█▋        | 8/49 [00:02<00:12,  3.25it/s]#033[A\u001b[0m\n",
      "\u001b[34m#015 18%|█▊        | 9/49 [00:02<00:12,  3.19it/s]#033[A\u001b[0m\n",
      "\u001b[34m#015 20%|██        | 10/49 [00:02<00:12,  3.15it/s]#033[A\u001b[0m\n",
      "\u001b[34m#015 22%|██▏       | 11/49 [00:03<00:12,  3.12it/s]#033[A\u001b[0m\n",
      "\u001b[34m#015 24%|██▍       | 12/49 [00:03<00:11,  3.10it/s]#033[A\u001b[0m\n",
      "\u001b[34m#015 27%|██▋       | 13/49 [00:03<00:11,  3.07it/s]#033[A\u001b[0m\n",
      "\u001b[34m#015 29%|██▊       | 14/49 [00:04<00:11,  3.07it/s]#033[A\u001b[0m\n",
      "\u001b[34m#015 31%|███       | 15/49 [00:04<00:11,  3.06it/s]#033[A\u001b[0m\n",
      "\u001b[34m#015 33%|███▎      | 16/49 [00:04<00:10,  3.06it/s]#033[A\u001b[0m\n",
      "\u001b[34m#015 35%|███▍      | 17/49 [00:05<00:10,  3.07it/s]#033[A\u001b[0m\n",
      "\u001b[34m#015 37%|███▋      | 18/49 [00:05<00:10,  3.07it/s]#033[A\u001b[0m\n",
      "\u001b[34m#015 39%|███▉      | 19/49 [00:05<00:09,  3.05it/s]#033[A\u001b[0m\n",
      "\u001b[34m#015 41%|████      | 20/49 [00:06<00:09,  3.04it/s]#033[A\u001b[0m\n",
      "\u001b[34m#015 43%|████▎     | 21/49 [00:06<00:09,  3.04it/s]#033[A\u001b[0m\n",
      "\u001b[34m#015 45%|████▍     | 22/49 [00:06<00:08,  3.03it/s]#033[A\u001b[0m\n",
      "\u001b[34m#015 47%|████▋     | 23/49 [00:07<00:08,  3.03it/s]#033[A\u001b[0m\n",
      "\u001b[34m#015 49%|████▉     | 24/49 [00:07<00:08,  3.02it/s]#033[A\u001b[0m\n",
      "\u001b[34m#015 51%|█████     | 25/49 [00:07<00:07,  3.03it/s]#033[A\u001b[0m\n",
      "\u001b[34m#015 53%|█████▎    | 26/49 [00:08<00:07,  3.04it/s]#033[A\u001b[0m\n",
      "\u001b[34m#015 55%|█████▌    | 27/49 [00:08<00:07,  3.05it/s]#033[A\u001b[0m\n",
      "\u001b[34m#015 57%|█████▋    | 28/49 [00:08<00:06,  3.05it/s]#033[A\u001b[0m\n",
      "\u001b[34m#015 59%|█████▉    | 29/49 [00:09<00:06,  3.06it/s]#033[A\u001b[0m\n",
      "\u001b[34m#015 61%|██████    | 30/49 [00:09<00:06,  3.06it/s]#033[A\u001b[0m\n",
      "\u001b[34m#015 63%|██████▎   | 31/49 [00:09<00:05,  3.05it/s]#033[A\u001b[0m\n",
      "\u001b[34m#015 65%|██████▌   | 32/49 [00:10<00:05,  3.05it/s]#033[A\u001b[0m\n",
      "\u001b[34m#015 67%|██████▋   | 33/49 [00:10<00:05,  3.05it/s]#033[A\u001b[0m\n",
      "\u001b[34m#015 69%|██████▉   | 34/49 [00:10<00:04,  3.04it/s]#033[A\u001b[0m\n",
      "\u001b[34m#015 71%|███████▏  | 35/49 [00:11<00:04,  3.04it/s]#033[A\u001b[0m\n",
      "\u001b[34m#015 73%|███████▎  | 36/49 [00:11<00:04,  3.03it/s]#033[A\u001b[0m\n",
      "\u001b[34m#015 76%|███████▌  | 37/49 [00:11<00:03,  3.02it/s]#033[A\u001b[0m\n",
      "\u001b[34m#015 78%|███████▊  | 38/49 [00:12<00:03,  3.02it/s]#033[A\u001b[0m\n",
      "\u001b[34m#015 80%|███████▉  | 39/49 [00:12<00:03,  3.02it/s]#033[A\u001b[0m\n",
      "\u001b[34m#015 82%|████████▏ | 40/49 [00:12<00:02,  3.01it/s]#033[A\u001b[0m\n",
      "\u001b[34m#015 84%|████████▎ | 41/49 [00:13<00:02,  3.02it/s]#033[A\u001b[0m\n",
      "\u001b[34m#015 86%|████████▌ | 42/49 [00:13<00:02,  3.03it/s]#033[A\u001b[0m\n",
      "\u001b[34m2021-10-21 19:37:41,530 sagemaker-training-toolkit INFO     Reporting training SUCCESS\u001b[0m\n",
      "\u001b[34m#015 88%|████████▊ | 43/49 [00:13<00:01,  3.04it/s]#033[A\u001b[0m\n",
      "\u001b[34m#015 90%|████████▉ | 44/49 [00:14<00:01,  3.02it/s]#033[A\u001b[0m\n",
      "\u001b[34m#015 92%|█████████▏| 45/49 [00:14<00:01,  3.03it/s]#033[A\u001b[0m\n",
      "\u001b[34m#015 94%|█████████▍| 46/49 [00:14<00:00,  3.04it/s]#033[A\u001b[0m\n",
      "\u001b[34m#015 96%|█████████▌| 47/49 [00:15<00:00,  3.05it/s]#033[A\u001b[0m\n",
      "\u001b[34m#015 98%|█████████▊| 48/49 [00:15<00:00,  3.05it/s]#033[A#015                                                 #015\u001b[0m\n",
      "\u001b[34m#015                                               #015#033[A#015 33%|███▎      | 313/939 [03:14<05:15,  1.99it/s]\u001b[0m\n",
      "\u001b[34m#015100%|██████████| 49/49 [00:15<00:00,  3.05it/s]#033[A\u001b[0m\n",
      "\u001b[34m#015                                               #033[A#015 33%|███▎      | 314/939 [03:15<55:00,  5.28s/it]#015 34%|███▎      | 315/939 [03:15<40:13,  3.87s/it]#015 34%|███▎      | 316/939 [03:16<29:50,  2.87s/it]#015 34%|███▍      | 317/939 [03:16<22:36,  2.18s/it]#015 34%|███▍      | 318/939 [03:17<17:31,  1.69s/it]#015 34%|███▍      | 319/939 [03:17<14:01,  1.36s/it]#015 34%|███▍      | 320/939 [03:18<11:32,  1.12s/it]#015 34%|███▍      | 321/939 [03:19<09:46,  1.05it/s]#015 34%|███▍      | 322/939 [03:19<08:32,  1.20it/s]#015 34%|███▍      | 323/939 [03:20<07:43,  1.33it/s]#015 35%|███▍      | 324/939 [03:20<07:10,  1.43it/s]#015 35%|███▍      | 325/939 [03:21<06:48,  1.50it/s]#015 35%|███▍      | 326/939 [03:21<06:28,  1.58it/s]#015 35%|███▍      | 327/939 [03:22<06:19,  1.61it/s]#015 35%|███▍      | 328/939 [03:23<06:11,  1.64it/s]#015 35%|███▌      | 329/939 [03:23<06:09,  1.65it/s]#015 35%|███▌      | 330/939 [03:24<06:03,  1.68it/s]#015 35%|███▌      | 331/939 [03:24<05:57,  1.70it/s]#015 35%|███▌      | 332/939 [03:25<05:52,  1.72it/s]#015 35%|███▌      | 333/939 [03:25<05:49,  1.74it/s]#015 36%|███▌      | 334/939 [03:26<05:47,  1.74it/s]#015 36%|███▌      | 335/939 [03:27<05:43,  1.76it/s]#015 36%|███▌      | 336/939 [03:27<05:45,  1.75it/s]#015 36%|███▌      | 337/939 [03:28<05:45,  1.74it/s]#015 36%|███▌      | 338/939 [03:28<05:46,  1.73it/s]#015 36%|███▌      | 339/939 [03:29<05:44,  1.74it/s]#015 36%|███▌      | 340/939 [03:29<05:45,  1.73it/s]#015 36%|███▋      | 341/939 [03:30<05:40,  1.75it/s]#015 36%|███▋      | 342/939 [03:31<05:37,  1.77it/s]#015 37%|███▋      | 343/939 [03:31<05:36,  1.77it/s]#015 37%|███▋      | 344/939 [03:32<05:38,  1.76it/s]#015 37%|███▋      | 345/939 [03:32<05:38,  1.75it/s]#015 37%|███▋      | 346/939 [03:33<05:38,  1.75it/s]#015 37%|███▋      | 347/939 [03:33<05:36,  1.76it/s]#015 37%|███▋      | 348/939 [03:34<05:33,  1.77it/s]#015 37%|███▋      | 349/939 [03:34<05:31,  1.78it/s]#015 37%|███▋      | 350/939 [03:35<05:32,  1.77it/s]#015 37%|███▋      | 351/939 [03:36<05:30,  1.78it/s]#015 37%|███▋      | 352/939 [03:36<05:28,  1.78it/s]#015 38%|███▊      | 353/939 [03:37<05:28,  1.78it/s]#015 38%|███▊      | 354/939 [03:37<05:27,  1.79it/s]#015 38%|███▊      | 355/939 [03:38<05:27,  1.78it/s]#015 38%|███▊      | 356/939 [03:38<05:26,  1.79it/s]#015 38%|███▊      | 357/939 [03:39<05:24,  1.79it/s]#015 38%|███▊      | 358/939 [03:40<05:28,  1.77it/s]#015 38%|███▊      | 359/939 [03:40<05:27,  1.77it/s]#015 38%|███▊      | 360/939 [03:41<05:26,  1.78it/s]#015 38%|███▊      | 361/939 [03:41<05:24,  1.78it/s]#015 39%|███▊      | 362/939 [03:42<05:23,  1.78it/s]#015 39%|███▊      | 363/939 [03:42<05:22,  1.79it/s]#015 39%|███▉      | 364/939 [03:43<05:21,  1.79it/s]#015 39%|███▉      | 365/939 [03:43<05:19,  1.80it/s]#015 39%|███▉      | 366/939 [03:44<05:18,  1.80it/s]#015 39%|███▉      | 367/939 [03:45<05:19,  1.79it/s]#015 39%|███▉      | 368/939 [03:45<05:18,  1.79it/s]#015 39%|███▉      | 369/939 [03:46<05:18,  1.79it/s]#015 39%|███▉      | 370/939 [03:46<05:21,  1.77it/s]#015 40%|███▉      | 371/939 [03:47<05:19,  1.78it/s]#015 40%|███▉      | 372/939 [03:47<05:20,  1.77it/s]#015 40%|███▉      | 373/939 [03:48<05:19,  1.77it/s]#015 40%|███▉      | 374/939 [03:49<05:17,  1.78it/s]#015 40%|███▉      | 375/939 [03:49<05:15,  1.79it/s]#015 40%|████      | 376/939 [03:50<05:14,  1.79it/s]#015 40%|████      | 377/939 [03:50<05:15,  1.78it/s]#015 40%|████      | 378/939 [03:51<05:15,  1.78it/s]#015 40%|████      | 379/939 [03:51<05:14,  1.78it/s]#015 40%|████      | 380/939 [03:52<05:13,  1.78it/s]#015 41%|████      | 381/939 [03:52<05:12,  1.78it/s]#015 41%|████      | 382/939 [03:53<05:13,  1.78it/s]#015 41%|████      | 383/939 [03:54<05:13,  1.78it/s]#015 41%|████      | 384/939 [03:54<05:13,  1.77it/s]#015 41%|████      | 385/939 [03:55<05:18,  1.74it/s]#015 41%|████      | 386/939 [03:55<05:15,  1.75it/s]#015 41%|████      | 387/939 [03:56<05:13,  1.76it/s]#015 41%|████▏     | 388/939 [03:56<05:11,  1.77it/s]#015 41%|████▏     | 389/939 [03:57<05:09,  1.78it/s]#015 42%|████▏     | 390/939 [03:58<05:08,  1.78it/s]#015 42%|████▏     | 391/939 [03:58<05:14,  1.74it/s]#015 42%|████▏     | 392/939 [03:59<05:11,  1.76it/s]#015 42%|████▏     | 393/939 [03:59<05:09,  1.76it/s]#015 42%|████▏     | 394/939 [04:00<05:09,  1.76it/s]#015 42%|████▏     | 395/939 [04:00<05:08,  1.76it/s]#015 42%|████▏     | 396/939 [04:01<05:06,  1.77it/s]#015 42%|████▏     | 397/939 [04:02<05:06,  1.77it/s]#015 42%|████▏     | 398/939 [04:02<05:04,  1.78it/s]#015 42%|████▏     | 399/939 [04:03<05:03,  1.78it/s]#015 43%|████▎     | 400/939 [04:03<05:03,  1.78it/s]#015 43%|████▎     | 401/939 [04:04<05:01,  1.79it/s]#015 43%|████▎     | 402/939 [04:04<05:01,  1.78it/s]#015 43%|████▎     | 403/939 [04:05<05:02,  1.77it/s]#015 43%|████▎     | 404/939 [04:05<05:01,  1.78it/s]#015 43%|████▎     | 405/939 [04:06<05:01,  1.77it/s]#015 43%|████▎     | 406/939 [04:07<05:00,  1.78it/s]#015 43%|████▎     | 407/939 [04:07<04:58,  1.78it/s]#015 43%|████▎     | 408/939 [04:08<04:57,  1.78it/s]#015 44%|████▎     | 409/939 [04:08<04:57,  1.78it/s]#015 44%|████▎     | 410/939 [04:09<04:56,  1.78it/s]#015 44%|████▍     | 411/939 [04:09<04:55,  1.78it/s]#015 44%|████▍     | 412/939 [04:10<04:56,  1.78it/s]#015 44%|████▍     | 413/939 [04:11<04:57,  1.77it/s]#015 44%|████▍     | 414/939 [04:11<04:57,  1.76it/s]#015 44%|████▍     | 415/939 [04:12<04:54,  1.78it/s]#015 44%|████▍     | 416/939 [04:12<04:52,  1.79it/s]#015 44%|████▍     | 417/939 [04:13<04:55,  1.77it/s]#015 45%|████▍     | 418/939 [04:13<04:53,  1.78it/s]#015 45%|████▍     | 419/939 [04:14<04:58,  1.74it/s]#015 45%|████▍     | 420/939 [04:14<04:55,  1.76it/s]#015 45%|████▍     | 421/939 [04:15<04:55,  1.75it/s]#015 45%|████▍     | 422/939 [04:16<04:55,  1.75it/s]#015 45%|████▌     | 423/939 [04:16<05:00,  1.72it/s]#015 45%|████▌     | 424/939 [04:17<04:55,  1.74it/s]#015 45%|████▌     | 425/939 [04:17<04:52,  1.76it/s]#015 45%|████▌     | 426/939 [04:18<04:50,  1.77it/s]#015 45%|████▌     | 427/939 [04:18<04:49,  1.77it/s]#015 46%|████▌     | 428/939 [04:19<04:48,  1.77it/s]#015 46%|████▌     | 429/939 [04:20<04:54,  1.73it/s]#015 46%|████▌     | 430/939 [04:20<04:53,  1.73it/s]#015 46%|████▌     | 431/939 [04:21<04:51,  1.74it/s]#015 46%|████▌     | 432/939 [04:21<04:52,  1.73it/s]#015 46%|████▌     | 433/939 [04:22<04:53,  1.72it/s]#015 46%|████▌     | 434/939 [04:23<04:51,  1.73it/s]#015 46%|████▋     | 435/939 [04:23<04:51,  1.73it/s]#015 46%|████▋     | 436/939 [04:24<04:53,  1.71it/s]#015 47%|████▋     | 437/939 [04:24<04:50,  1.73it/s]#015 47%|████▋     | 438/939 [04:25<04:48,  1.74it/s]#015 47%|████▋     | 439/939 [04:25<04:44,  1.76it/s]#015 47%|████▋     | 440/939 [04:26<04:42,  1.77it/s]#015 47%|████▋     | 441/939 [04:27<04:41,  1.77it/s]#015 47%|████▋     | 442/939 [04:27<04:40,  1.77it/s]#015 47%|████▋     | 443/939 [04:28<04:39,  1.78it/s]#015 47%|████▋     | 444/939 [04:28<04:45,  1.73it/s]#015 47%|████▋     | 445/939 [04:29<04:41,  1.75it/s]#015 47%|████▋     | 446/939 [04:29<04:49,  1.70it/s]#015 48%|████▊     | 447/939 [04:30<04:46,  1.72it/s]#015 48%|████▊     | 448/939 [04:31<04:43,  1.73it/s]#015 48%|████▊     | 449/939 [04:31<04:40,  1.75it/s]#015 48%|████▊     | 450/939 [04:32<04:38,  1.75it/s]#015 48%|████▊     | 451/939 [04:32<04:37,  1.76it/s]#015 48%|████▊     | 452/939 [04:33<04:37,  1.76it/s]#015 48%|████▊     | 453/939 [04:33<04:41,  1.73it/s]#015 48%|████▊     | 454/939 [04:34<04:37,  1.75it/s]#015 48%|████▊     | 455/939 [04:35<04:34,  1.76it/s]#015 49%|████▊     | 456/939 [04:35<04:32,  1.77it/s]#015 49%|████▊     | 457/939 [04:36<04:32,  1.77it/s]#015 49%|████▉     | 458/939 [04:36<04:30,  1.78it/s]#015 49%|████▉     | 459/939 [04:37<04:35,  1.74it/s]#015 49%|████▉     | 460/939 [04:37<04:33,  1.75it/s]#015 49%|████▉     | 461/939 [04:38<04:31,  1.76it/s]#015 49%|████▉     | 462/939 [04:39<04:30,  1.76it/s]#015 49%|████▉     | 463/939 [04:39<04:29,  1.77it/s]#015 49%|████▉     | 464/939 [04:40<04:27,  1.77it/s]#015 50%|████▉     | 465/939 [04:40<04:26,  1.78it/s]#015 50%|████▉     | 466/939 [04:41<04:26,  1.78it/s]#015 50%|████▉     | 467/939 [04:41<04:25,  1.78it/s]#015 50%|████▉     | 468/939 [04:42<04:25,  1.77it/s]#015 50%|████▉     | 469/939 [04:42<04:25,  1.77it/s]#015 50%|█████     | 470/939 [04:43<04:25,  1.77it/s]#015 50%|█████     | 471/939 [04:44<04:24,  1.77it/s]#015 50%|█████     | 472/939 [04:44<04:23,  1.77it/s]#015 50%|█████     | 473/939 [04:45<04:21,  1.78it/s]#015 50%|█████     | 474/939 [04:45<04:20,  1.78it/s]#015 51%|█████     | 475/939 [04:46<04:20,  1.78it/s]#015 51%|█████     | 476/939 [04:46<04:19,  1.78it/s]#015 51%|█████     | 477/939 [04:47<04:20,  1.78it/s]#015 51%|█████     | 478/939 [04:48<04:19,  1.78it/s]#015 51%|█████     | 479/939 [04:48<04:19,  1.77it/s]#015 51%|█████     | 480/939 [04:49<04:19,  1.77it/s]#015 51%|█████     | 481/939 [04:49<04:17,  1.78it/s]#015 51%|█████▏    | 482/939 [04:50<04:17,  1.78it/s]#015 51%|█████▏    | 483/939 [04:50<04:16,  1.78it/s]#015 52%|█████▏    | 484/939 [04:51<04:15,  1.78it/s]#015 52%|█████▏    | 485/939 [04:51<04:15,  1.77it/s]#015 52%|█████▏    | 486/939 [04:52<04:15,  1.77it/s]#015 52%|█████▏    | 487/939 [04:53<04:15,  1.77it/s]#015 52%|█████▏    | 488/939 [04:53<04:13,  1.78it/s]#015 52%|█████▏    | 489/939 [04:54<04:14,  1.77it/s]#015 52%|█████▏    | 490/939 [04:54<04:12,  1.78it/s]#015 52%|█████▏    | 491/939 [04:55<04:11,  1.78it/s]#015 52%|█████▏    | 492/939 [04:55<04:11,  1.78it/s]#015 53%|█████▎    | 493/939 [04:56<04:11,  1.77it/s]#015 53%|█████▎    | 494/939 [04:57<04:11,  1.77it/s]#015 53%|█████▎    | 495/939 [04:57<04:10,  1.77it/s]#015 53%|█████▎    | 496/939 [04:58<04:09,  1.77it/s]#015 53%|█████▎    | 497/939 [04:58<04:09,  1.77it/s]#015 53%|█████▎    | 498/939 [04:59<04:10,  1.76it/s]#015 53%|█████▎    | 499/939 [04:59<04:08,  1.77it/s]#015 53%|█████▎    | 500/939 [05:00<04:07,  1.78it/s]#015                                                 #015#015 53%|█████▎    | 500/939 [05:00<04:07,  1.78it/s]#015 53%|█████▎    | 501/939 [05:03<09:04,  1.24s/it]#015 53%|█████▎    | 502/939 [05:03<07:33,  1.04s/it]#015 54%|█████▎    | 503/939 [05:04<06:34,  1.11it/s]#015 54%|█████▎    | 504/939 [05:04<05:49,  1.24it/s]#015 54%|█████▍    | 505/939 [05:05<05:17,  1.37it/s]#015 54%|█████▍    | 506/939 [05:06<04:54,  1.47it/s]#015 54%|█████▍    | 507/939 [05:06<04:38,  1.55it/s]#015 54%|█████▍    | 508/939 [05:07<04:27,  1.61it/s]#015 54%|█████▍    | 509/939 [05:07<04:19,  1.66it/s]#015 54%|█████▍    | 510/939 [05:08<04:14,  1.68it/s]#015 54%|█████▍    | 511/939 [05:08<04:09,  1.71it/s]#015 55%|█████▍    | 512/939 [05:09<04:07,  1.72it/s]#015 55%|█████▍    | 513/939 [05:10<04:05,  1.73it/s]#015 55%|█████▍    | 514/939 [05:10<04:03,  1.75it/s]#015 55%|█████▍    | 515/939 [05:11<04:00,  1.76it/s]#015 55%|█████▍    | 516/939 [05:11<03:59,  1.76it/s]#015 55%|█████▌    | 517/939 [05:12<03:57,  1.77it/s]#015 55%|█████▌    | 518/939 [05:12<03:57,  1.77it/s]#015 55%|█████▌    | 519/939 [05:13<03:58,  1.76it/s]#015 55%|█████▌    | 520/939 [05:13<03:56,  1.77it/s]#015 55%|█████▌    | 521/939 [05:14<03:58,  1.75it/s]#015 56%|█████▌    | 522/939 [05:15<03:56,  1.76it/s]#015 56%|█████▌    | 523/939 [05:15<03:54,  1.77it/s]#015 56%|█████▌    | 524/939 [05:16<03:53,  1.77it/s]#015 56%|█████▌    | 525/939 [05:16<03:52,  1.78it/s]#015 56%|█████▌    | 526/939 [05:17<03:51,  1.79it/s]#015 56%|█████▌    | 527/939 [05:17<03:50,  1.79it/s]#015 56%|█████▌    | 528/939 [05:18<03:52,  1.77it/s]#015 56%|█████▋    | 529/939 [05:19<03:51,  1.77it/s]#015 56%|█████▋    | 530/939 [05:19<03:53,  1.75it/s]#015 57%|█████▋    | 531/939 [05:20<03:53,  1.75it/s]#015 57%|█████▋    | 532/939 [05:20<03:51,  1.76it/s]#015 57%|█████▋    | 533/939 [05:21<03:50,  1.77it/s]#015 57%|█████▋    | 534/939 [05:21<03:52,  1.74it/s]#015 57%|█████▋    | 535/939 [05:22<03:51,  1.75it/s]#015 57%|█████▋    | 536/939 [05:23<03:52,  1.73it/s]#015 57%|█████▋    | 537/939 [05:23<03:51,  1.74it/s]#015 57%|█████▋    | 538/939 [05:24<03:52,  1.73it/s]#015 57%|█████▋    | 539/939 [05:24<03:50,  1.73it/s]#015 58%|█████▊    | 540/939 [05:25<03:48,  1.75it/s]#015 58%|█████▊    | 541/939 [05:25<03:50,  1.72it/s]#015 58%|█████▊    | 542/939 [05:26<03:47,  1.74it/s]#015 58%|█████▊    | 543/939 [05:27<03:45,  1.76it/s]#015 58%|█████▊    | 544/939 [05:27<03:43,  1.76it/s]#015 58%|█████▊    | 545/939 [05:28<03:43,  1.76it/s]#015 58%|█████▊    | 546/939 [05:28<03:45,  1.74it/s]#015 58%|█████▊    | 547/939 [05:29<03:43,  1.76it/s]#015 58%|█████▊    | 548/939 [05:29<03:42,  1.76it/s]#015 58%|█████▊    | 549/939 [05:30<03:40,  1.77it/s]#015 59%|█████▊    | 550/939 [05:31<03:41,  1.76it/s]#015 59%|█████▊    | 551/939 [05:31<03:39,  1.76it/s]#015 59%|█████▉    | 552/939 [05:32<03:38,  1.77it/s]#015 59%|█████▉    | 553/939 [05:32<03:37,  1.77it/s]#015 59%|█████▉    | 554/939 [05:33<03:38,  1.76it/s]#015 59%|█████▉    | 555/939 [05:33<03:45,  1.70it/s]#015 59%|█████▉    | 556/939 [05:34<03:40,  1.73it/s]#015 59%|█████▉    | 557/939 [05:35<03:38,  1.75it/s]#015 59%|█████▉    | 558/939 [05:35<03:35,  1.76it/s]#015 60%|█████▉    | 559/939 [05:36<03:37,  1.75it/s]#015 60%|█████▉    | 560/939 [05:36<03:36,  1.75it/s]#015 60%|█████▉    | 561/939 [05:37<03:33,  1.77it/s]#015 60%|█████▉    | 562/939 [05:37<03:32,  1.77it/s]#015 60%|█████▉    | 563/939 [05:38<03:31,  1.78it/s]#015 60%|██████    | 564/939 [05:39<03:29,  1.79it/s]#015 60%|██████    | 565/939 [05:39<03:29,  1.79it/s]#015 60%|██████    | 566/939 [05:40<03:29,  1.78it/s]#015 60%|██████    | 567/939 [05:40<03:28,  1.78it/s]#015 60%|██████    | 568/939 [05:41<03:27,  1.79it/s]#015 61%|██████    | 569/939 [05:41<03:27,  1.78it/s]#015 61%|██████    | 570/939 [05:42<03:27,  1.78it/s]#015 61%|██████    | 571/939 [05:42<03:27,  1.77it/s]#015 61%|██████    | 572/939 [05:43<03:26,  1.78it/s]#015 61%|██████    | 573/939 [05:44<03:24,  1.79it/s]#015 61%|██████    | 574/939 [05:44<03:23,  1.79it/s]#015 61%|██████    | 575/939 [05:45<03:24,  1.78it/s]#015 61%|██████▏   | 576/939 [05:45<03:23,  1.78it/s]#015 61%|██████▏   | 577/939 [05:46<03:25,  1.76it/s]#015 62%|██████▏   | 578/939 [05:46<03:24,  1.76it/s]#015 62%|██████▏   | 579/939 [05:47<03:23,  1.77it/s]#015 62%|██████▏   | 580/939 [05:48<03:22,  1.77it/s]#015 62%|██████▏   | 581/939 [05:48<03:22,  1.77it/s]#015 62%|██████▏   | 582/939 [05:49<03:21,  1.77it/s]#015 62%|██\u001b[0m\n",
      "\u001b[34m████▏   | 583/939 [05:49<03:20,  1.78it/s]#015 62%|██████▏   | 584/939 [05:50<03:21,  1.76it/s]#015 62%|██████▏   | 585/939 [05:50<03:20,  1.77it/s]#015 62%|██████▏   | 586/939 [05:51<03:19,  1.77it/s]#015 63%|██████▎   | 587/939 [05:51<03:18,  1.77it/s]#015 63%|██████▎   | 588/939 [05:52<03:18,  1.77it/s]#015 63%|██████▎   | 589/939 [05:53<03:17,  1.77it/s]#015 63%|██████▎   | 590/939 [05:53<03:15,  1.78it/s]#015 63%|██████▎   | 591/939 [05:54<03:15,  1.78it/s]#015 63%|██████▎   | 592/939 [05:54<03:14,  1.78it/s]#015 63%|██████▎   | 593/939 [05:55<03:15,  1.77it/s]#015 63%|██████▎   | 594/939 [05:55<03:14,  1.77it/s]#015 63%|██████▎   | 595/939 [05:56<03:14,  1.77it/s]#015 63%|██████▎   | 596/939 [05:57<03:14,  1.76it/s]#015 64%|██████▎   | 597/939 [05:57<03:13,  1.77it/s]#015 64%|██████▎   | 598/939 [05:58<03:11,  1.78it/s]#015 64%|██████▍   | 599/939 [05:58<03:10,  1.78it/s]#015 64%|██████▍   | 600/939 [05:59<03:09,  1.79it/s]#015 64%|██████▍   | 601/939 [05:59<03:08,  1.79it/s]#015 64%|██████▍   | 602/939 [06:00<03:09,  1.77it/s]#015 64%|██████▍   | 603/939 [06:01<03:13,  1.74it/s]#015 64%|██████▍   | 604/939 [06:01<03:10,  1.75it/s]#015 64%|██████▍   | 605/939 [06:02<03:09,  1.76it/s]#015 65%|██████▍   | 606/939 [06:02<03:07,  1.78it/s]#015 65%|██████▍   | 607/939 [06:03<03:07,  1.78it/s]#015 65%|██████▍   | 608/939 [06:03<03:05,  1.78it/s]#015 65%|██████▍   | 609/939 [06:04<03:04,  1.79it/s]#015 65%|██████▍   | 610/939 [06:04<03:03,  1.80it/s]#015 65%|██████▌   | 611/939 [06:05<03:04,  1.77it/s]#015 65%|██████▌   | 612/939 [06:06<03:03,  1.78it/s]#015 65%|██████▌   | 613/939 [06:06<03:03,  1.77it/s]#015 65%|██████▌   | 614/939 [06:07<03:03,  1.77it/s]#015 65%|██████▌   | 615/939 [06:07<03:02,  1.77it/s]#015 66%|██████▌   | 616/939 [06:08<03:02,  1.77it/s]#015 66%|██████▌   | 617/939 [06:08<03:01,  1.77it/s]#015 66%|██████▌   | 618/939 [06:09<03:00,  1.77it/s]#015 66%|██████▌   | 619/939 [06:10<03:00,  1.77it/s]#015 66%|██████▌   | 620/939 [06:10<03:01,  1.76it/s]#015 66%|██████▌   | 621/939 [06:11<03:02,  1.74it/s]#015 66%|██████▌   | 622/939 [06:11<03:00,  1.75it/s]#015 66%|██████▋   | 623/939 [06:12<02:59,  1.76it/s]#015 66%|██████▋   | 624/939 [06:12<02:58,  1.77it/s]#015 67%|██████▋   | 625/939 [06:13<02:56,  1.78it/s]#015 67%|██████▋   | 626/939 [06:13<02:38,  1.98it/s]\u001b[0m\n",
      "\u001b[34m#015  0%|          | 0/49 [00:00<?, ?it/s]#033[A\u001b[0m\n",
      "\u001b[34m#015  4%|▍         | 2/49 [00:00<00:07,  6.08it/s]#033[A\u001b[0m\n",
      "\u001b[34m#015  6%|▌         | 3/49 [00:00<00:09,  4.68it/s]#033[A\u001b[0m\n",
      "\u001b[34m#015  8%|▊         | 4/49 [00:00<00:11,  4.04it/s]#033[A\u001b[0m\n",
      "\u001b[34m#015 10%|█         | 5/49 [00:01<00:11,  3.68it/s]#033[A\u001b[0m\n",
      "\u001b[34m#015 12%|█▏        | 6/49 [00:01<00:12,  3.47it/s]#033[A\u001b[0m\n",
      "\u001b[34m#015 14%|█▍        | 7/49 [00:01<00:12,  3.33it/s]#033[A\u001b[0m\n",
      "\u001b[34m#015 16%|█▋        | 8/49 [00:02<00:12,  3.24it/s]#033[A\u001b[0m\n",
      "\u001b[34m#015 18%|█▊        | 9/49 [00:02<00:12,  3.18it/s]#033[A\u001b[0m\n",
      "\u001b[34m#015 20%|██        | 10/49 [00:02<00:12,  3.14it/s]#033[A\u001b[0m\n",
      "\u001b[34m#015 22%|██▏       | 11/49 [00:03<00:12,  3.12it/s]#033[A\u001b[0m\n",
      "\u001b[34m#015 24%|██▍       | 12/49 [00:03<00:11,  3.10it/s]#033[A\u001b[0m\n",
      "\u001b[34m#015 27%|██▋       | 13/49 [00:03<00:11,  3.09it/s]#033[A\u001b[0m\n",
      "\u001b[34m#015 29%|██▊       | 14/49 [00:04<00:11,  3.07it/s]#033[A\u001b[0m\n",
      "\u001b[34m#015 31%|███       | 15/49 [00:04<00:11,  3.05it/s]#033[A\u001b[0m\n",
      "\u001b[34m#015 33%|███▎      | 16/49 [00:04<00:10,  3.06it/s]#033[A\u001b[0m\n",
      "\u001b[34m#015 35%|███▍      | 17/49 [00:05<00:10,  3.06it/s]#033[A\u001b[0m\n",
      "\u001b[34m#015 37%|███▋      | 18/49 [00:05<00:10,  3.06it/s]#033[A\u001b[0m\n",
      "\u001b[34m#015 39%|███▉      | 19/49 [00:05<00:09,  3.06it/s]#033[A\u001b[0m\n",
      "\u001b[34m#015 41%|████      | 20/49 [00:06<00:09,  3.05it/s]#033[A\u001b[0m\n",
      "\u001b[34m#015 43%|████▎     | 21/49 [00:06<00:09,  3.04it/s]#033[A\u001b[0m\n",
      "\u001b[34m#015 45%|████▍     | 22/49 [00:06<00:08,  3.04it/s]#033[A\u001b[0m\n",
      "\u001b[34m#015 47%|████▋     | 23/49 [00:07<00:08,  3.04it/s]#033[A\u001b[0m\n",
      "\u001b[34m#015 49%|████▉     | 24/49 [00:07<00:08,  3.04it/s]#033[A\u001b[0m\n",
      "\u001b[34m#015 51%|█████     | 25/49 [00:07<00:07,  3.04it/s]#033[A\u001b[0m\n",
      "\u001b[34m#015 53%|█████▎    | 26/49 [00:08<00:07,  3.04it/s]#033[A\u001b[0m\n",
      "\u001b[34m#015 55%|█████▌    | 27/49 [00:08<00:07,  3.04it/s]#033[A\u001b[0m\n",
      "\u001b[34m#015 57%|█████▋    | 28/49 [00:08<00:06,  3.04it/s]#033[A\u001b[0m\n",
      "\u001b[34m#015 59%|█████▉    | 29/49 [00:09<00:06,  3.03it/s]#033[A\u001b[0m\n",
      "\u001b[34m#015 61%|██████    | 30/49 [00:09<00:06,  2.95it/s]#033[A\u001b[0m\n",
      "\u001b[34m#015 63%|██████▎   | 31/49 [00:09<00:06,  2.98it/s]#033[A\u001b[0m\n",
      "\u001b[34m#015 65%|██████▌   | 32/49 [00:10<00:05,  3.00it/s]#033[A\u001b[0m\n",
      "\u001b[34m#015 67%|██████▋   | 33/49 [00:10<00:05,  3.00it/s]#033[A\u001b[0m\n",
      "\u001b[34m#015 69%|██████▉   | 34/49 [00:10<00:04,  3.02it/s]#033[A\u001b[0m\n",
      "\u001b[34m#015 71%|███████▏  | 35/49 [00:11<00:04,  3.03it/s]#033[A\u001b[0m\n",
      "\u001b[34m#015 73%|███████▎  | 36/49 [00:11<00:04,  3.04it/s]#033[A\u001b[0m\n",
      "\u001b[34m#015 76%|███████▌  | 37/49 [00:11<00:03,  3.05it/s]#033[A\u001b[0m\n",
      "\u001b[34m#015 78%|███████▊  | 38/49 [00:12<00:03,  3.05it/s]#033[A\u001b[0m\n",
      "\u001b[34m#015 80%|███████▉  | 39/49 [00:12<00:03,  3.05it/s]#033[A\u001b[0m\n",
      "\u001b[34m#015 82%|████████▏ | 40/49 [00:12<00:02,  3.05it/s]#033[A\u001b[0m\n",
      "\u001b[34m#015 84%|████████▎ | 41/49 [00:13<00:02,  3.05it/s]#033[A\u001b[0m\n",
      "\u001b[34m#015 86%|████████▌ | 42/49 [00:13<00:02,  3.06it/s]#033[A\u001b[0m\n",
      "\u001b[34m#015 88%|████████▊ | 43/49 [00:13<00:01,  3.06it/s]#033[A\u001b[0m\n",
      "\u001b[34m#015 90%|████████▉ | 44/49 [00:14<00:01,  3.06it/s]#033[A\u001b[0m\n",
      "\u001b[34m#015 92%|█████████▏| 45/49 [00:14<00:01,  3.06it/s]#033[A\u001b[0m\n",
      "\u001b[34m#015 94%|█████████▍| 46/49 [00:14<00:00,  3.06it/s]#033[A\u001b[0m\n",
      "\u001b[34m#015 96%|█████████▌| 47/49 [00:15<00:00,  3.04it/s]#033[A\u001b[0m\n",
      "\u001b[34m#015 98%|█████████▊| 48/49 [00:15<00:00,  3.03it/s]#033[A#015                                                 #015\u001b[0m\n",
      "\u001b[34m#015                                               #015#033[A#015 67%|██████▋   | 626/939 [06:29<02:38,  1.98it/s]\u001b[0m\n",
      "\u001b[34m#015100%|██████████| 49/49 [00:15<00:00,  3.03it/s]#033[A\u001b[0m\n",
      "\u001b[34m#015                                               #033[A#015 67%|██████▋   | 627/939 [06:30<27:28,  5.28s/it]#015 67%|██████▋   | 628/939 [06:30<20:02,  3.87s/it]#015 67%|██████▋   | 629/939 [06:31<14:51,  2.87s/it]#015 67%|██████▋   | 630/939 [06:31<11:14,  2.18s/it]#015 67%|██████▋   | 631/939 [06:32<08:42,  1.70s/it]#015 67%|██████▋   | 632/939 [06:33<06:55,  1.35s/it]#015 67%|██████▋   | 633/939 [06:33<05:46,  1.13s/it]#015 68%|██████▊   | 634/939 [06:34<04:54,  1.04it/s]#015 68%|██████▊   | 635/939 [06:34<04:16,  1.19it/s]#015 68%|██████▊   | 636/939 [06:35<03:49,  1.32it/s]#015 68%|██████▊   | 637/939 [06:35<03:30,  1.43it/s]#015 68%|██████▊   | 638/939 [06:36<03:17,  1.53it/s]#015 68%|██████▊   | 639/939 [06:37<03:08,  1.59it/s]#015 68%|██████▊   | 640/939 [06:37<03:01,  1.65it/s]#015 68%|██████▊   | 641/939 [06:38<02:55,  1.70it/s]#015 68%|██████▊   | 642/939 [06:38<02:53,  1.71it/s]#015 68%|██████▊   | 643/939 [06:39<02:51,  1.73it/s]#015 69%|██████▊   | 644/939 [06:39<02:49,  1.74it/s]#015 69%|██████▊   | 645/939 [06:40<02:46,  1.76it/s]#015 69%|██████▉   | 646/939 [06:40<02:45,  1.78it/s]#015 69%|██████▉   | 647/939 [06:41<02:45,  1.77it/s]#015 69%|██████▉   | 648/939 [06:42<02:44,  1.76it/s]#015 69%|██████▉   | 649/939 [06:42<02:44,  1.76it/s]#015 69%|██████▉   | 650/939 [06:43<02:43,  1.77it/s]#015 69%|██████▉   | 651/939 [06:43<02:43,  1.76it/s]#015 69%|██████▉   | 652/939 [06:44<02:41,  1.78it/s]#015 70%|██████▉   | 653/939 [06:44<02:41,  1.78it/s]#015 70%|██████▉   | 654/939 [06:45<02:40,  1.77it/s]#015 70%|██████▉   | 655/939 [06:46<02:40,  1.77it/s]#015 70%|██████▉   | 656/939 [06:46<02:39,  1.78it/s]#015 70%|██████▉   | 657/939 [06:47<02:38,  1.78it/s]#015 70%|███████   | 658/939 [06:47<02:37,  1.78it/s]#015 70%|███████   | 659/939 [06:48<02:36,  1.79it/s]#015 70%|███████   | 660/939 [06:48<02:35,  1.79it/s]#015 70%|███████   | 661/939 [06:49<02:35,  1.79it/s]#015 71%|███████   | 662/939 [06:49<02:36,  1.77it/s]#015 71%|███████   | 663/939 [06:50<02:35,  1.77it/s]#015 71%|███████   | 664/939 [06:51<02:34,  1.78it/s]#015 71%|███████   | 665/939 [06:51<02:35,  1.77it/s]#015 71%|███████   | 666/939 [06:52<02:33,  1.78it/s]#015 71%|███████   | 667/939 [06:52<02:32,  1.78it/s]#015 71%|███████   | 668/939 [06:53<02:31,  1.79it/s]#015 71%|███████   | 669/939 [06:53<02:32,  1.77it/s]#015 71%|███████▏  | 670/939 [06:54<02:30,  1.78it/s]#015 71%|███████▏  | 671/939 [06:55<02:30,  1.79it/s]#015 72%|███████▏  | 672/939 [06:55<02:29,  1.79it/s]#015 72%|███████▏  | 673/939 [06:56<02:28,  1.79it/s]#015 72%|███████▏  | 674/939 [06:56<02:27,  1.79it/s]#015 72%|███████▏  | 675/939 [06:57<02:27,  1.79it/s]#015 72%|███████▏  | 676/939 [06:57<02:26,  1.79it/s]#015 72%|███████▏  | 677/939 [06:58<02:26,  1.79it/s]#015 72%|███████▏  | 678/939 [06:58<02:26,  1.79it/s]#015 72%|███████▏  | 679/939 [06:59<02:25,  1.79it/s]#015 72%|███████▏  | 680/939 [07:00<02:25,  1.78it/s]#015 73%|███████▎  | 681/939 [07:00<02:25,  1.77it/s]#015 73%|███████▎  | 682/939 [07:01<02:25,  1.77it/s]#015 73%|███████▎  | 683/939 [07:01<02:24,  1.77it/s]#015 73%|███████▎  | 684/939 [07:02<02:23,  1.78it/s]#015 73%|███████▎  | 685/939 [07:02<02:22,  1.78it/s]#015 73%|███████▎  | 686/939 [07:03<02:21,  1.78it/s]#015 73%|███████▎  | 687/939 [07:03<02:23,  1.76it/s]#015 73%|███████▎  | 688/939 [07:04<02:21,  1.77it/s]#015 73%|███████▎  | 689/939 [07:05<02:21,  1.77it/s]#015 73%|███████▎  | 690/939 [07:05<02:20,  1.77it/s]#015 74%|███████▎  | 691/939 [07:06<02:20,  1.77it/s]#015 74%|███████▎  | 692/939 [07:06<02:19,  1.77it/s]#015 74%|███████▍  | 693/939 [07:07<02:18,  1.77it/s]#015 74%|███████▍  | 694/939 [07:07<02:17,  1.78it/s]#015 74%|███████▍  | 695/939 [07:08<02:16,  1.78it/s]#015 74%|███████▍  | 696/939 [07:09<02:15,  1.79it/s]#015 74%|███████▍  | 697/939 [07:09<02:15,  1.78it/s]#015 74%|███████▍  | 698/939 [07:10<02:15,  1.78it/s]#015 74%|███████▍  | 699/939 [07:10<02:14,  1.78it/s]#015 75%|███████▍  | 700/939 [07:11<02:14,  1.78it/s]#015 75%|███████▍  | 701/939 [07:11<02:15,  1.75it/s]#015 75%|███████▍  | 702/939 [07:12<02:14,  1.77it/s]#015 75%|███████▍  | 703/939 [07:13<02:12,  1.78it/s]#015 75%|███████▍  | 704/939 [07:13<02:12,  1.77it/s]#015 75%|███████▌  | 705/939 [07:14<02:11,  1.78it/s]#015 75%|███████▌  | 706/939 [07:14<02:11,  1.78it/s]#015 75%|███████▌  | 707/939 [07:15<02:10,  1.78it/s]#015 75%|███████▌  | 708/939 [07:15<02:09,  1.78it/s]#015 76%|███████▌  | 709/939 [07:16<02:10,  1.77it/s]#015 76%|███████▌  | 710/939 [07:16<02:10,  1.75it/s]#015 76%|███████▌  | 711/939 [07:17<02:09,  1.77it/s]#015 76%|███████▌  | 712/939 [07:18<02:07,  1.77it/s]#015 76%|███████▌  | 713/939 [07:18<02:07,  1.77it/s]#015 76%|███████▌  | 714/939 [07:19<02:07,  1.77it/s]#015 76%|███████▌  | 715/939 [07:19<02:05,  1.78it/s]#015 76%|███████▋  | 716/939 [07:20<02:05,  1.77it/s]#015 76%|███████▋  | 717/939 [07:20<02:05,  1.76it/s]#015 76%|███████▋  | 718/939 [07:21<02:07,  1.73it/s]#015 77%|███████▋  | 719/939 [07:22<02:07,  1.72it/s]#015 77%|███████▋  | 720/939 [07:22<02:05,  1.74it/s]#015 77%|███████▋  | 721/939 [07:23<02:05,  1.74it/s]#015 77%|███████▋  | 722/939 [07:23<02:06,  1.72it/s]#015 77%|███████▋  | 723/939 [07:24<02:06,  1.71it/s]#015 77%|███████▋  | 724/939 [07:24<02:04,  1.73it/s]#015 77%|███████▋  | 725/939 [07:25<02:03,  1.74it/s]#015 77%|███████▋  | 726/939 [07:26<02:01,  1.75it/s]#015 77%|███████▋  | 727/939 [07:26<01:59,  1.77it/s]#015 78%|███████▊  | 728/939 [07:27<01:59,  1.76it/s]#015 78%|███████▊  | 729/939 [07:27<01:58,  1.77it/s]#015 78%|███████▊  | 730/939 [07:28<01:58,  1.77it/s]#015 78%|███████▊  | 731/939 [07:28<01:57,  1.77it/s]#015 78%|███████▊  | 732/939 [07:29<01:58,  1.75it/s]#015 78%|███████▊  | 733/939 [07:30<01:58,  1.74it/s]#015 78%|███████▊  | 734/939 [07:30<01:58,  1.73it/s]#015 78%|███████▊  | 735/939 [07:31<01:56,  1.75it/s]#015 78%|███████▊  | 736/939 [07:31<01:55,  1.76it/s]#015 78%|███████▊  | 737/939 [07:32<01:53,  1.78it/s]#015 79%|███████▊  | 738/939 [07:32<01:53,  1.78it/s]#015 79%|███████▊  | 739/939 [07:33<01:52,  1.78it/s]#015 79%|███████▉  | 740/939 [07:34<01:51,  1.78it/s]#015 79%|███████▉  | 741/939 [07:34<01:52,  1.76it/s]#015 79%|███████▉  | 742/939 [07:35<01:51,  1.76it/s]#015 79%|███████▉  | 743/939 [07:35<01:50,  1.77it/s]#015 79%|███████▉  | 744/939 [07:36<01:50,  1.77it/s]#015 79%|███████▉  | 745/939 [07:36<01:49,  1.77it/s]#015 79%|███████▉  | 746/939 [07:37<01:49,  1.76it/s]#015 80%|███████▉  | 747/939 [07:38<01:51,  1.72it/s]#015 80%|███████▉  | 748/939 [07:38<01:50,  1.73it/s]#015 80%|███████▉  | 749/939 [07:39<01:49,  1.74it/s]#015 80%|███████▉  | 750/939 [07:39<01:49,  1.73it/s]#015 80%|███████▉  | 751/939 [07:40<01:47,  1.74it/s]#015 80%|████████  | 752/939 [07:40<01:46,  1.75it/s]#015 80%|████████  | 753/939 [07:41<01:45,  1.76it/s]#015 80%|████████  | 754/939 [07:42<01:44,  1.78it/s]#015 80%|████████  | 755/939 [07:42<01:43,  1.77it/s]#015 81%|████████  | 756/939 [07:43<01:43,  1.77it/s]#015 81%|████████  | 757/939 [07:43<01:43,  1.76it/s]#015 81%|████████  | 758/939 [07:44<01:42,  1.77it/s]#015 81%|████████  | 759/939 [07:44<01:41,  1.77it/s]#015 81%|████████  | 760/939 [07:45<01:40,  1.78it/s]#015 81%|████████  | 761/939 [07:45<01:39,  1.79it/s]#015 81%|████████  | 762/939 [07:46<01:39,  1.78it/s]#015 81%|████████▏ | 763/939 [07:47<01:37,  1.80it/s]#015 81%|████████▏ | 764/939 [07:47<01:37,  1.79it/s]#015 81%|████████▏ | 765/939 [07:48<01:37,  1.78it/s]#015 82%|████████▏ | 766/939 [07:48<01:37,  1.77it/s]#015 82%|████████▏ | 767/939 [07:49<01:36,  1.78it/s]#015 82%|████████▏ | 768/939 [07:49<01:35,  1.79it/s]#015 82%|████████▏ | 769/939 [07:50<01:35,  1.79it/s]#015 82%|████████▏ | 770/939 [07:51<01:35,  1.78it/s]#015 82%|████████▏ | 771/939 [07:51<01:34,  1.78it/s]#015 82%|████████▏ | 772/939 [07:52<01:33,  1.78it/s]#015 82%|████████▏ | 773/939 [07:52<01:33,  1.77it/s]#015 82%|████████▏ | 774/939 [07:53<01:33,  1.77it/s]#015 83%|████████▎ | 775/939 [07:53<01:32,  1.77it/s]#015 83%|████████▎ | 776/939 [07:54<01:31,  1.77it/s]#015 83%|████████▎ | 777/939 [07:54<01:30,  1.79it/s]#015 83%|████████▎ | 778/939 [07:55<01:32,  1.73it/s]#015 83%|████████▎ | 779/939 [07:56<01:31,  1.75it/s]#015 83%|████████▎ | 780/939 [07:56<01:30,  1.76it/s]#015 83%|████████▎ | 781/939 [07:57<01:29,  1.77it/s]#015 83%|████████▎ | 782/939 [07:57<01:28,  1.77it/s]#015 83%|████████▎ | 783/939 [07:58<01:27,  1.77it/s]#015 83%|████████▎ | 784/939 [07:58<01:27,  1.77it/s]#015 84%|████████▎ | 785/939 [07:59<01:26,  1.78it/s]#015 84%|████████▎ | 786/939 [08:00<01:26,  1.78it/s]#015 84%|████████▍ | 787/939 [08:00<01:25,  1.77it/s]#015 84%|████████▍ | 788/939 [08:01<01:25,  1.77it/s]#015 84%|████████▍ | 789/939 [08:01<01:24,  1.77it/s]#015 84%|████████▍ | 790/939 [08:02<01:24,  1.77it/s]#015 84%|████████▍ | 791/939 [08:02<01:23,  1.76it/s]#015 84%|████████▍ | 792/939 [08:03<01:22,  1.77it/s]#015 84%|████████▍ | 793/939 [08:04<01:22,  1.77it/s]#015 85%|████████▍ | 794/939 [08:04<01:21,  1.78it/s]#015 85%|████████▍ | 795/939 [08:05<01:20,  1.79it/s]#015 85%|████████▍ | 796/939 [08:05<01:20,  1.79it/s]#015 85%|████████▍ | 797/939 [08:06<01:19,  1.78it/s]#015 85%|████████▍ | 798/939 [08:06<01:19,  1.77it/s]#015 85%|████████▌ | 799/939 [08:07<01:19,  1.77it/s]#015 85%|████████▌ | 800/939 [08:07<01:19,  1.75it/s]#015 85%|████████▌ | 801/939 [08:08<01:18,  1.75it/s]#015 85%|████████▌ | 802/939 [08:09<01:18,  1.75it/s]#015 86%|████████▌ | 803/939 [08:09<01:17,  1.76it/s]#015 86%|████████▌ | 804/939 [08:10<01:16,  1.77it/s]#015 86%|████████▌ | 805/939 [08:10<01:15,  1.77it/s]#015 86%|████████▌ | 806/939 [08:11<01:14,  1.78it/s]#015 86%|████████▌ | 807/939 [08:11<01:14,  1.78it/s]#015 86%|████████▌ | 808/939 [08:12<01:13,  1.79it/s]#015 86%|████████▌ | 809/939 [08:13<01:12,  1.79it/s]#015 86%|████████▋ | 810/939 [08:13<01:12,  1.77it/s]#015 86%|████████▋ | 811/939 [08:14<01:12,  1.76it/s]#015 86%|████████▋ | 812/939 [08:14<01:11,  1.78it/s]#015 87%|████████▋ | 813/939 [08:15<01:10,  1.78it/s]#015 87%|████████▋ | 814/939 [08:15<01:10,  1.77it/s]#015 87%|████████▋ | 815/939 [08:16<01:09,  1.78it/s]#015 87%|████████▋ | 816/939 [08:16<01:08,  1.79it/s]#015 87%|████████▋ | 817/939 [08:17<01:08,  1.79it/s]#015 87%|████████▋ | 818/939 [08:18<01:07,  1.79it/s]#015 87%|████████▋ | 819/939 [08:18<01:07,  1.77it/s]#015 87%|████████▋ | 820/939 [08:19<01:07,  1.76it/s]#015 87%|████████▋ | 821/939 [08:19<01:07,  1.74it/s]#015 88%|████████▊ | 822/939 [08:20<01:06,  1.75it/s]#015 88%|████████▊ | 823/939 [08:20<01:05,  1.76it/s]#015 88%|████████▊ | 824/939 [08:21<01:05,  1.77it/s]#015 88%|████████▊ | 825/939 [08:22<01:04,  1.76it/s]#015 88%|████████▊ | 826/939 [08:22<01:04,  1.75it/s]#015 88%|████████▊ | 827/939 [08:23<01:04,  1.75it/s]#015 88%|████████▊ | 828/939 [08:23<01:03,  1.75it/s]#015 88%|████████▊ | 829/939 [08:24<01:02,  1.75it/s]#015 88%|████████▊ | 830/939 [08:24<01:02,  1.76it/s]#015 88%|████████▊ | 831/939 [08:25<01:01,  1.76it/s]#015 89%|████████▊ | 832/939 [08:26<01:00,  1.77it/s]#015 89%|████████▊ | 833/939 [08:26<00:59,  1.78it/s]#015 89%|████████▉ | 834/939 [08:27<00:58,  1.78it/s]#015 89%|████████▉ | 835/939 [08:27<00:58,  1.78it/s]#015 89%|████████▉ | 836/939 [08:28<00:58,  1.77it/s]#015 89%|████████▉ | 837/939 [08:28<00:57,  1.77it/s]#015 89%|████████▉ | 838/939 [08:29<00:57,  1.77it/s]#015 89%|████████▉ | 839/939 [08:30<00:56,  1.77it/s]#015 89%|████████▉ | 840/939 [08:30<00:55,  1.78it/s]#015 90%|████████▉ | 841/939 [08:31<00:54,  1.79it/s]#015 90%|████████▉ | 842/939 [08:31<00:54,  1.79it/s]#015 90%|████████▉ | 843/939 [08:32<00:53,  1.80it/s]#015 90%|████████▉ | 844/939 [08:32<00:52,  1.79it/s]#015 90%|████████▉ | 845/939 [08:33<00:52,  1.79it/s]#015 90%|█████████ | 846/939 [08:33<00:52,  1.77it/s]#015 90%|█████████ | 847/939 [08:34<00:52,  1.77it/s]#015 90%|█████████ | 848/939 [08:35<00:51,  1.78it/s]#015 90%|█████████ | 849/939 [08:35<00:50,  1.79it/s]#015 91%|█████████ | 850/939 [08:36<00:49,  1.78it/s]#015 91%|█████████ | 851/939 [08:36<00:49,  1.79it/s]#015 91%|█████████ | 852/939 [08:37<00:48,  1.78it/s]#015 91%|█████████ | 853/939 [08:37<00:48,  1.78it/s]#015 91%|█████████ | 854/939 [08:38<00:47,  1.80it/s]#015 91%|█████████ | 855/939 [08:38<00:46,  1.79it/s]#015 91%|█████████ | 856/939 [08:39<00:46,  1.79it/s]#015 91%|█████████▏| 857/939 [08:40<00:45,  1.79it/s]#015 91%|█████████▏| 858/939 [08:40<00:45,  1.79it/s]#015 91%|█████████▏| 859/939 [08:41<00:44,  1.79it/s]#015 92%|█████████▏| 860/939 [08:41<00:44,  1.79it/s]#015 92%|█████████▏| 861/939 [08:42<00:43,  1.79it/s]#015 92%|█████████▏| 862/939 [08:42<00:43,  1.79it/s]#015 92%|█████████▏| 863/939 [08:43<00:42,  1.79it/s]#015 92%|█████████▏| 864/939 [08:44<00:41,  1.79it/s]#015 92%|█████████▏| 865/939 [08:44<00:41,  1.79it/s]#015 92%|█████████▏| 866/939 [08:45<00:40,  1.78it/s]#015 92%|█████████▏| 867/939 [08:45<00:40,  1.78it/s]#015 92%|█████████▏| 868/939 [08:46<00:39,  1.78it/s]#015 93%|█████████▎| 869/939 [08:46<00:39,  1.78it/s]#015 93%|█████████▎| 870/939 [08:47<00:38,  1.78it/s]#015 93%|█████████▎| 871/939 [08:47<00:38,  1.77it/s]#015\n",
      " 93%|█████████▎| 872/939 [08:48<00:38,  1.76it/s]#015 93%|█████████▎| 873/939 [08:49<00:37,  1.76it/s]#015 93%|█████████▎| 874/939 [08:49<00:36,  1.77it/s]#015 93%|█████████▎| 875/939 [08:50<00:36,  1.78it/s]#015 93%|█████████▎| 876/939 [08:50<00:35,  1.77it/s]#015 93%|█████████▎| 877/939 [08:51<00:35,  1.77it/s]#015 94%|█████████▎| 878/939 [08:51<00:34,  1.78it/s]#015 94%|█████████▎| 879/939 [08:52<00:33,  1.77it/s]#015 94%|█████████▎| 880/939 [08:53<00:33,  1.78it/s]#015 94%|█████████▍| 881/939 [08:53<00:32,  1.77it/s]#015 94%|█████████▍| 882/939 [08:54<00:32,  1.77it/s]#015 94%|█████████▍| 883/939 [08:54<00:31,  1.78it/s]#015 94%|█████████▍| 884/939 [08:55<00:31,  1.77it/s]#015 94%|█████████▍| 885/939 [08:55<00:30,  1.77it/s]#015 94%|█████████▍| 886/939 [08:56<00:30,  1.71it/s]#015 94%|█████████▍| 887/939 [08:57<00:30,  1.73it/s]#015 95%|█████████▍| 888/939 [08:57<00:29,  1.74it/s]#015 95%|█████████▍| 889/939 [08:58<00:28,  1.75it/s]#015 95%|█████████▍| 890/939 [08:58<00:27,  1.76it/s]#015 95%|█████████▍| 891/939 [08:59<00:27,  1.76it/s]#015 95%|█████████▍| 892/939 [08:59<00:27,  1.73it/s]#015 95%|█████████▌| 893/939 [09:00<00:26,  1.74it/s]#015 95%|█████████▌| 894/939 [09:01<00:25,  1.74it/s]#015 95%|█████████▌| 895/939 [09:01<00:25,  1.75it/s]#015 95%|█████████▌| 896/939 [09:02<00:24,  1.76it/s]#015 96%|█████████▌| 897/939 [09:02<00:23,  1.77it/s]#015 96%|█████████▌| 898/939 [09:03<00:22,  1.78it/s]#015 96%|█████████▌| 899/939 [09:03<00:22,  1.79it/s]#015 96%|█████████▌| 900/939 [09:04<00:21,  1.79it/s]#015 96%|█████████▌| 901/939 [09:04<00:21,  1.78it/s]#015 96%|█████████▌| 902/939 [09:05<00:20,  1.79it/s]#015 96%|█████████▌| 903/939 [09:06<00:20,  1.78it/s]#015 96%|█████████▋| 904/939 [09:06<00:19,  1.79it/s]#015 96%|█████████▋| 905/939 [09:07<00:18,  1.80it/s]#015 96%|█████████▋| 906/939 [09:07<00:18,  1.79it/s]#015 97%|█████████▋| 907/939 [09:08<00:17,  1.79it/s]#015 97%|█████████▋| 908/939 [09:08<00:17,  1.78it/s]#015 97%|█████████▋| 909/939 [09:09<00:16,  1.79it/s]#015 97%|█████████▋| 910/939 [09:09<00:16,  1.79it/s]#015 97%|█████████▋| 911/939 [09:10<00:15,  1.79it/s]#015 97%|█████████▋| 912/939 [09:11<00:15,  1.79it/s]#015 97%|█████████▋| 913/939 [09:11<00:14,  1.78it/s]#015 97%|█████████▋| 914/939 [09:12<00:14,  1.78it/s]#015 97%|█████████▋| 915/939 [09:12<00:13,  1.78it/s]#015 98%|█████████▊| 916/939 [09:13<00:12,  1.78it/s]#015 98%|█████████▊| 917/939 [09:13<00:12,  1.77it/s]#015 98%|█████████▊| 918/939 [09:14<00:11,  1.77it/s]#015 98%|█████████▊| 919/939 [09:15<00:11,  1.77it/s]#015 98%|█████████▊| 920/939 [09:15<00:10,  1.78it/s]#015 98%|█████████▊| 921/939 [09:16<00:10,  1.76it/s]#015 98%|█████████▊| 922/939 [09:16<00:09,  1.76it/s]#015 98%|█████████▊| 923/939 [09:17<00:09,  1.77it/s]#015 98%|█████████▊| 924/939 [09:17<00:08,  1.77it/s]#015 99%|█████████▊| 925/939 [09:18<00:07,  1.78it/s]#015 99%|█████████▊| 926/939 [09:19<00:07,  1.79it/s]#015 99%|█████████▊| 927/939 [09:19<00:06,  1.79it/s]#015 99%|█████████▉| 928/939 [09:20<00:06,  1.80it/s]#015 99%|█████████▉| 929/939 [09:20<00:05,  1.78it/s]#015 99%|█████████▉| 930/939 [09:21<00:05,  1.78it/s]#015 99%|█████████▉| 931/939 [09:21<00:04,  1.78it/s]#015 99%|█████████▉| 932/939 [09:22<00:03,  1.77it/s]#015 99%|█████████▉| 933/939 [09:22<00:03,  1.77it/s]#015 99%|█████████▉| 934/939 [09:23<00:02,  1.76it/s]#015100%|█████████▉| 935/939 [09:24<00:02,  1.75it/s]#015100%|█████████▉| 936/939 [09:24<00:01,  1.73it/s]#015100%|█████████▉| 937/939 [09:25<00:01,  1.74it/s]#015100%|█████████▉| 938/939 [09:25<00:00,  1.75it/s]#015100%|██████████| 939/939 [09:26<00:00,  1.97it/s]\u001b[0m\n",
      "\u001b[34m#015  0%|          | 0/49 [00:00<?, ?it/s]#033[A\u001b[0m\n",
      "\u001b[34m#015  4%|▍         | 2/49 [00:00<00:07,  6.09it/s]#033[A\u001b[0m\n",
      "\u001b[34m#015  6%|▌         | 3/49 [00:00<00:09,  4.70it/s]#033[A\u001b[0m\n",
      "\u001b[34m#015  8%|▊         | 4/49 [00:00<00:11,  4.05it/s]#033[A\u001b[0m\n",
      "\u001b[34m#015 10%|█         | 5/49 [00:01<00:11,  3.67it/s]#033[A\u001b[0m\n",
      "\u001b[34m#015 12%|█▏        | 6/49 [00:01<00:12,  3.44it/s]#033[A\u001b[0m\n",
      "\u001b[34m#015 14%|█▍        | 7/49 [00:01<00:12,  3.30it/s]#033[A\u001b[0m\n",
      "\u001b[34m#015 16%|█▋        | 8/49 [00:02<00:12,  3.22it/s]#033[A\u001b[0m\n",
      "\u001b[34m#015 18%|█▊        | 9/49 [00:02<00:12,  3.17it/s]#033[A\u001b[0m\n",
      "\u001b[34m#015 20%|██        | 10/49 [00:02<00:12,  3.13it/s]#033[A\u001b[0m\n",
      "\u001b[34m#015 22%|██▏       | 11/49 [00:03<00:12,  3.11it/s]#033[A\u001b[0m\n",
      "\u001b[34m#015 24%|██▍       | 12/49 [00:03<00:11,  3.09it/s]#033[A\u001b[0m\n",
      "\u001b[34m#015 27%|██▋       | 13/49 [00:03<00:11,  3.07it/s]#033[A\u001b[0m\n",
      "\u001b[34m#015 29%|██▊       | 14/49 [00:04<00:11,  3.06it/s]#033[A\u001b[0m\n",
      "\u001b[34m#015 31%|███       | 15/49 [00:04<00:11,  3.06it/s]#033[A\u001b[0m\n",
      "\u001b[34m#015 33%|███▎      | 16/49 [00:04<00:10,  3.05it/s]#033[A\u001b[0m\n",
      "\u001b[34m#015 35%|███▍      | 17/49 [00:05<00:10,  3.05it/s]#033[A\u001b[0m\n",
      "\u001b[34m#015 37%|███▋      | 18/49 [00:05<00:10,  3.05it/s]#033[A\u001b[0m\n",
      "\u001b[34m#015 39%|███▉      | 19/49 [00:05<00:09,  3.05it/s]#033[A\u001b[0m\n",
      "\u001b[34m#015 41%|████      | 20/49 [00:06<00:09,  3.05it/s]#033[A\u001b[0m\n",
      "\u001b[34m#015 43%|████▎     | 21/49 [00:06<00:09,  3.05it/s]#033[A\u001b[0m\n",
      "\u001b[34m#015 45%|████▍     | 22/49 [00:06<00:08,  3.05it/s]#033[A\u001b[0m\n",
      "\u001b[34m#015 47%|████▋     | 23/49 [00:07<00:08,  3.05it/s]#033[A\u001b[0m\n",
      "\u001b[34m#015 49%|████▉     | 24/49 [00:07<00:08,  3.05it/s]#033[A\u001b[0m\n",
      "\u001b[34m#015 51%|█████     | 25/49 [00:07<00:07,  3.04it/s]#033[A\u001b[0m\n",
      "\u001b[34m#015 53%|█████▎    | 26/49 [00:08<00:07,  3.04it/s]#033[A\u001b[0m\n",
      "\u001b[34m#015 55%|█████▌    | 27/49 [00:08<00:07,  3.04it/s]#033[A\u001b[0m\n",
      "\u001b[34m#015 57%|█████▋    | 28/49 [00:08<00:06,  3.04it/s]#033[A\u001b[0m\n",
      "\u001b[34m#015 59%|█████▉    | 29/49 [00:09<00:06,  3.05it/s]#033[A\u001b[0m\n",
      "\u001b[34m#015 61%|██████    | 30/49 [00:09<00:06,  3.04it/s]#033[A\u001b[0m\n",
      "\u001b[34m#015 63%|██████▎   | 31/49 [00:09<00:05,  3.04it/s]#033[A\u001b[0m\n",
      "\u001b[34m#015 65%|██████▌   | 32/49 [00:10<00:05,  3.04it/s]#033[A\u001b[0m\n",
      "\u001b[34m#015 67%|██████▋   | 33/49 [00:10<00:05,  3.05it/s]#033[A\u001b[0m\n",
      "\u001b[34m#015 69%|██████▉   | 34/49 [00:10<00:04,  3.05it/s]#033[A\u001b[0m\n",
      "\u001b[34m#015 71%|███████▏  | 35/49 [00:11<00:04,  3.04it/s]#033[A\u001b[0m\n",
      "\u001b[34m#015 73%|███████▎  | 36/49 [00:11<00:04,  3.04it/s]#033[A\u001b[0m\n",
      "\u001b[34m#015 76%|███████▌  | 37/49 [00:11<00:03,  3.04it/s]#033[A\u001b[0m\n",
      "\u001b[34m#015 78%|███████▊  | 38/49 [00:12<00:03,  3.04it/s]#033[A\u001b[0m\n",
      "\u001b[34m#015 80%|███████▉  | 39/49 [00:12<00:03,  3.04it/s]#033[A\u001b[0m\n",
      "\u001b[34m#015 82%|████████▏ | 40/49 [00:12<00:02,  3.04it/s]#033[A\u001b[0m\n",
      "\u001b[34m#015 84%|████████▎ | 41/49 [00:13<00:02,  3.04it/s]#033[A\u001b[0m\n",
      "\u001b[34m#015 86%|████████▌ | 42/49 [00:13<00:02,  3.04it/s]#033[A\u001b[0m\n",
      "\u001b[34m#015 88%|████████▊ | 43/49 [00:13<00:01,  3.04it/s]#033[A\u001b[0m\n",
      "\u001b[34m#015 90%|████████▉ | 44/49 [00:14<00:01,  3.04it/s]#033[A\u001b[0m\n",
      "\u001b[34m#015 92%|█████████▏| 45/49 [00:14<00:01,  3.04it/s]#033[A\u001b[0m\n",
      "\u001b[34m#015 94%|█████████▍| 46/49 [00:14<00:00,  3.05it/s]#033[A\u001b[0m\n",
      "\u001b[34m#015 96%|█████████▌| 47/49 [00:15<00:00,  3.05it/s]#033[A\u001b[0m\n",
      "\u001b[34m#015 98%|█████████▊| 48/49 [00:15<00:00,  3.05it/s]#033[A#015                                                 #015\u001b[0m\n",
      "\u001b[34m#015                                               #015#033[A#015100%|██████████| 939/939 [09:42<00:00,  1.97it/s]\u001b[0m\n",
      "\u001b[34m#015100%|██████████| 49/49 [00:15<00:00,  3.05it/s]#033[A\u001b[0m\n",
      "\u001b[34m#015                                               #033[A#015                                                 #015#015100%|██████████| 939/939 [09:42<00:00,  1.97it/s]#015100%|██████████| 939/939 [09:42<00:00,  1.61it/s]\u001b[0m\n",
      "\u001b[34m#015  0%|          | 0/49 [00:00<?, ?it/s]#015  4%|▍         | 2/49 [00:00<00:07,  6.13it/s]#015  6%|▌         | 3/49 [00:00<00:09,  4.71it/s]#015  8%|▊         | 4/49 [00:00<00:11,  4.05it/s]#015 10%|█         | 5/49 [00:01<00:11,  3.70it/s]#015 12%|█▏        | 6/49 [00:01<00:12,  3.48it/s]#015 14%|█▍        | 7/49 [00:01<00:12,  3.34it/s]#015 16%|█▋        | 8/49 [00:02<00:12,  3.25it/s]#015 18%|█▊        | 9/49 [00:02<00:12,  3.19it/s]#015 20%|██        | 10/49 [00:02<00:12,  3.15it/s]#015 22%|██▏       | 11/49 [00:03<00:12,  3.11it/s]#015 24%|██▍       | 12/49 [00:03<00:11,  3.09it/s]#015 27%|██▋       | 13/49 [00:03<00:11,  3.08it/s]#015 29%|██▊       | 14/49 [00:04<00:11,  3.07it/s]#015 31%|███       | 15/49 [00:04<00:11,  3.06it/s]#015 33%|███▎      | 16/49 [00:04<00:10,  3.06it/s]#015 35%|███▍      | 17/49 [00:05<00:10,  3.05it/s]#015 37%|███▋      | 18/49 [00:05<00:10,  3.05it/s]#015 39%|███▉      | 19/49 [00:05<00:09,  3.05it/s]#015 41%|████      | 20/49 [00:06<00:09,  3.04it/s]#015 43%|████▎     | 21/49 [00:06<00:09,  3.03it/s]#015 45%|████▍     | 22/49 [00:06<00:09,  2.99it/s]#015 47%|████▋     | 23/49 [00:07<00:08,  3.00it/s]#015 49%|████▉     | 24/49 [00:07<00:08,  3.01it/s]#015 51%|█████     | 25/49 [00:07<00:07,  3.02it/s]#015 53%|█████▎    | 26/49 [00:08<00:07,  3.03it/s]#015 55%|█████▌    | 27/49 [00:08<00:07,  3.04it/s]#015 57%|█████▋    | 28/49 [00:08<00:06,  3.04it/s]#015 59%|█████▉    | 29/49 [00:09<00:06,  3.04it/s]#015 61%|██████    | 30/49 [00:09<00:06,  3.03it/s]#015 63%|██████▎   | 31/49 [00:09<00:05,  3.04it/s]#015 65%|██████▌   | 32/49 [00:10<00:05,  3.04it/s]#015 67%|██████▋   | 33/49 [00:10<00:05,  3.05it/s]#015 69%|██████▉   | 34/49 [00:10<00:04,  3.05it/s]#015 71%|███████▏  | 35/49 [00:11<00:04,  3.05it/s]#015 73%|███████▎  | 36/49 [00:11<00:04,  3.05it/s]#015 76%|███████▌  | 37/49 [00:11<00:03,  3.05it/s]#015 78%|███████▊  | 38/49 [00:12<00:03,  3.05it/s]#015 80%|███████▉  | 39/49 [00:12<00:03,  3.05it/s]#015 82%|████████▏ | 40/49 [00:12<00:02,  3.05it/s]#015 84%|████████▎ | 41/49 [00:13<00:02,  3.05it/s]#015 86%|████████▌ | 42/49 [00:13<00:02,  3.05it/s]#015 88%|████████▊ | 43/49 [00:13<00:01,  3.05it/s]#015 90%|████████▉ | 44/49 [00:14<00:01,  3.05it/s]#015 92%|█████████▏| 45/49 [00:14<00:01,  3.05it/s]#015 94%|█████████▍| 46/49 [00:14<00:00,  3.05it/s]#015 96%|█████████▌| 47/49 [00:15<00:00,  3.03it/s]#015 98%|█████████▊| 48/49 [00:15<00:00,  3.04it/s]#015100%|██████████| 49/49 [00:15<00:00,  3.16it/s]\n",
      "\u001b[0m\n",
      "\n",
      "2021-10-21 19:37:51 Uploading - Uploading generated training model\n",
      "2021-10-21 19:39:52 Completed - Training job completed\n",
      "ProfilerReport-1634844033: IssuesFound\n",
      "Training seconds: 953\n",
      "Billable seconds: 953\n",
      "CPU times: user 2.51 s, sys: 56.4 ms, total: 2.57 s\n",
      "Wall time: 20min 7s\n"
     ]
    }
   ],
   "source": [
    "%%time\n",
    "# starting the train job with our uploaded datasets as input\n",
    "huggingface_estimator.fit({'train': training_input_path, 'test': test_input_path})\n",
    "\n",
    "# Training seconds: 874\n",
    "# Billable seconds: 262\n",
    "# Managed Spot Training savings: 70.0%"
   ]
  },
  {
   "cell_type": "markdown",
   "metadata": {},
   "source": [
    "## Deploying the endpoint\n",
    "\n",
    "To deploy our endpoint, we call `deploy()` on our HuggingFace estimator object, passing in our desired number of instances and instance type."
   ]
  },
  {
   "cell_type": "code",
   "execution_count": 53,
   "metadata": {},
   "outputs": [
    {
     "name": "stdout",
     "output_type": "stream",
     "text": [
      "--------------!"
     ]
    }
   ],
   "source": [
    "predictor = huggingface_estimator.deploy(1,\"ml.g4dn.xlarge\")"
   ]
  },
  {
   "cell_type": "markdown",
   "metadata": {},
   "source": [
    "Then, we use the returned predictor object to call the endpoint."
   ]
  },
  {
   "cell_type": "code",
   "execution_count": 66,
   "metadata": {},
   "outputs": [
    {
     "data": {
      "text/plain": [
       "[{'label': 'LABEL_41', 'score': 0.9712797403335571}]"
      ]
     },
     "execution_count": 66,
     "metadata": {},
     "output_type": "execute_result"
    }
   ],
   "source": [
    "test_string = {\"inputs\":\"I seem to have misplaced my card\"}\n",
    "pred = predictor.predict(test_string)\n",
    "pred"
   ]
  },
  {
   "cell_type": "code",
   "execution_count": 83,
   "metadata": {},
   "outputs": [],
   "source": [
    "def make_pred(input_text):\n",
    "    test_string = {\"inputs\":input_text}\n",
    "    pred = predictor.predict(test_string)\n",
    "    pred_class = train_dataset.features['labels'].int2str(int(pred[0]['label'].split('_')[-1]))\n",
    "    print(f\"{pred_class} - prob: {100*pred[0]['score']:.2f}%\")"
   ]
  },
  {
   "cell_type": "code",
   "execution_count": 86,
   "metadata": {},
   "outputs": [
    {
     "name": "stdout",
     "output_type": "stream",
     "text": [
      "card_arrival - prob: 54.86%\n"
     ]
    }
   ],
   "source": [
    "make_pred(\"How long before my credit card is delivered?\")"
   ]
  },
  {
   "cell_type": "code",
   "execution_count": 87,
   "metadata": {},
   "outputs": [
    {
     "name": "stdout",
     "output_type": "stream",
     "text": [
      "getting_spare_card - prob: 67.22%\n"
     ]
    }
   ],
   "source": [
    "make_pred(\"I think I misplaced my credit card, can you send another?\")"
   ]
  },
  {
   "cell_type": "code",
   "execution_count": 88,
   "metadata": {},
   "outputs": [
    {
     "name": "stdout",
     "output_type": "stream",
     "text": [
      "lost_or_stolen_card - prob: 39.39%\n"
     ]
    }
   ],
   "source": [
    "make_pred(\"I think I misplaced my credit card\")"
   ]
  },
  {
   "cell_type": "code",
   "execution_count": 90,
   "metadata": {},
   "outputs": [
    {
     "name": "stdout",
     "output_type": "stream",
     "text": [
      "card_delivery_estimate - prob: 76.47%\n"
     ]
    }
   ],
   "source": [
    "make_pred(\"Hello, How long does it take to ship to Italy?\")"
   ]
  },
  {
   "cell_type": "code",
   "execution_count": 96,
   "metadata": {},
   "outputs": [
    {
     "name": "stdout",
     "output_type": "stream",
     "text": [
      "declined_card_payment - prob: 70.10%\n"
     ]
    }
   ],
   "source": [
    "make_pred(\"My card was rejected at Costco, do you know why this occured?\")"
   ]
  },
  {
   "cell_type": "code",
   "execution_count": 97,
   "metadata": {},
   "outputs": [
    {
     "name": "stdout",
     "output_type": "stream",
     "text": [
      "card_swallowed - prob: 98.28%\n"
     ]
    }
   ],
   "source": [
    "make_pred(\"The ATM kept my card, what do I do now?  I need that car\")"
   ]
  },
  {
   "cell_type": "markdown",
   "metadata": {},
   "source": [
    "Finally, we delete the endpoint again."
   ]
  },
  {
   "cell_type": "code",
   "execution_count": null,
   "metadata": {},
   "outputs": [],
   "source": [
    "predictor.delete_endpoint()"
   ]
  },
  {
   "cell_type": "markdown",
   "metadata": {},
   "source": [
    "# Extras"
   ]
  },
  {
   "cell_type": "markdown",
   "metadata": {},
   "source": [
    "## Estimator Parameters"
   ]
  },
  {
   "cell_type": "code",
   "execution_count": 50,
   "metadata": {
    "scrolled": true
   },
   "outputs": [
    {
     "name": "stdout",
     "output_type": "stream",
     "text": [
      "container image used for training job: \n",
      "None\n",
      "\n",
      "s3 uri where the trained model is located: \n",
      "s3://sagemaker-us-east-1-431615879134/huggingface-text-classification-2021-10-21-19-20-33-661/output/model.tar.gz\n",
      "\n",
      "latest training job name for this estimator: \n",
      "huggingface-text-classification-2021-10-21-19-20-33-661\n",
      "\n"
     ]
    }
   ],
   "source": [
    "# container image used for training job\n",
    "print(f\"container image used for training job: \\n{huggingface_estimator.image_uri}\\n\")\n",
    "\n",
    "# s3 uri where the trained model is located\n",
    "print(f\"s3 uri where the trained model is located: \\n{huggingface_estimator.model_data}\\n\")\n",
    "\n",
    "# latest training job name for this estimator\n",
    "print(f\"latest training job name for this estimator: \\n{huggingface_estimator.latest_training_job.name}\\n\")"
   ]
  },
  {
   "cell_type": "markdown",
   "metadata": {},
   "source": [
    "## Attach to old training job to an estimator \n",
    "\n",
    "In Sagemaker you can attach an old training job to an estimator to continue training, get results etc.."
   ]
  },
  {
   "cell_type": "code",
   "execution_count": null,
   "metadata": {},
   "outputs": [],
   "source": [
    "from sagemaker.estimator import Estimator\n",
    "\n",
    "# job which is going to be attached to the estimator\n",
    "old_training_job_name=''"
   ]
  },
  {
   "cell_type": "code",
   "execution_count": null,
   "metadata": {},
   "outputs": [],
   "source": [
    "# attach old training job\n",
    "huggingface_estimator_loaded = Estimator.attach(old_training_job_name)\n",
    "\n",
    "# get model output s3 from training job\n",
    "huggingface_estimator_loaded.model_data"
   ]
  }
 ],
 "metadata": {
  "instance_type": "ml.t3.medium",
  "interpreter": {
   "hash": "c281c456f1b8161c8906f4af2c08ed2c40c50136979eaae69688b01f70e9f4a9"
  },
  "kernelspec": {
   "display_name": "conda_pytorch_p36",
   "language": "python",
   "name": "conda_pytorch_p36"
  },
  "language_info": {
   "codemirror_mode": {
    "name": "ipython",
    "version": 3
   },
   "file_extension": ".py",
   "mimetype": "text/x-python",
   "name": "python",
   "nbconvert_exporter": "python",
   "pygments_lexer": "ipython3",
   "version": "3.6.13"
  }
 },
 "nbformat": 4,
 "nbformat_minor": 4
}
